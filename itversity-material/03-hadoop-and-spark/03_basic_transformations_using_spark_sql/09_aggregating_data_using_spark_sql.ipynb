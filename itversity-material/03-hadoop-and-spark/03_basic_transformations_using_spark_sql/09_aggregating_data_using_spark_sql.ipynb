{
 "cells": [
  {
   "cell_type": "markdown",
   "metadata": {},
   "source": [
    "## Aggregating Data\n",
    "\n",
    "Let us understand how to aggregate the data."
   ]
  },
  {
   "cell_type": "markdown",
   "metadata": {},
   "source": [
    "Let us start spark context for this Notebook so that we can execute the code provided. You can sign up for our [10 node state of the art cluster/labs](https://labs.itversity.com/plans) to learn Spark SQL using our unique integrated LMS."
   ]
  },
  {
   "cell_type": "code",
   "execution_count": null,
   "metadata": {},
   "outputs": [],
   "source": [
    "val username = System.getProperty(\"user.name\")"
   ]
  },
  {
   "cell_type": "code",
   "execution_count": 1,
   "metadata": {},
   "outputs": [
    {
     "data": {
      "text/plain": [
       "username = itv002480\n",
       "spark = org.apache.spark.sql.SparkSession@715c27b\n"
      ]
     },
     "metadata": {},
     "output_type": "display_data",
     "source": "user"
    },
    {
     "data": {
      "text/plain": [
       "org.apache.spark.sql.SparkSession@715c27b"
      ]
     },
     "execution_count": 1,
     "metadata": {},
     "output_type": "execute_result"
    }
   ],
   "source": [
    "import org.apache.spark.sql.SparkSession\n",
    "\n",
    "val username = System.getProperty(\"user.name\")\n",
    "val spark = SparkSession.\n",
    "    builder.\n",
    "    config(\"spark.ui.port\", \"0\").\n",
    "    config(\"spark.sql.warehouse.dir\", s\"/user/${username}/warehouse\").\n",
    "    enableHiveSupport.\n",
    "    appName(s\"${username} | Spark SQL - Basic Transformations\").\n",
    "    master(\"yarn\").\n",
    "    getOrCreate"
   ]
  },
  {
   "cell_type": "markdown",
   "metadata": {},
   "source": [
    "If you are going to use CLIs, you can use Spark SQL using one of the 3 approaches.\n",
    "\n",
    "**Using Spark SQL**\n",
    "\n",
    "```\n",
    "spark2-sql \\\n",
    "    --master yarn \\\n",
    "    --conf spark.ui.port=0 \\\n",
    "    --conf spark.sql.warehouse.dir=/user/${USER}/warehouse\n",
    "```\n",
    "\n",
    "**Using Scala**\n",
    "\n",
    "```\n",
    "spark2-shell \\\n",
    "    --master yarn \\\n",
    "    --conf spark.ui.port=0 \\\n",
    "    --conf spark.sql.warehouse.dir=/user/${USER}/warehouse\n",
    "```\n",
    "\n",
    "**Using Pyspark**\n",
    "\n",
    "```\n",
    "pyspark2 \\\n",
    "    --master yarn \\\n",
    "    --conf spark.ui.port=0 \\\n",
    "    --conf spark.sql.warehouse.dir=/user/${USER}/warehouse\n",
    "```"
   ]
  },
  {
   "cell_type": "markdown",
   "metadata": {},
   "source": [
    "* We can perform global aggregations as well as aggregations by key.\n",
    "* Global Aggregations\n",
    "  * Get total number of orders.\n",
    "  * Get revenue for a given order id.\n",
    "  * Get number of records with order_status either COMPLETED or CLOSED.\n",
    "* Aggregations by key - using `GROUP BY`\n",
    "  * Get number of orders by date or status.\n",
    "  * Get revenue for each order_id.\n",
    "  * Get daily product revenue (using order date and product id as keys).\n",
    "* We can also use `HAVING` clause to apply filtering on top of aggregated data.\n",
    "  * Get daily product revenue where revenue is greater than $500 (using order date and product id as keys).\n",
    "* Rules while using `GROUP BY`.\n",
    "  * We can have the columns which are specified as part of `GROUP BY` in `SELECT` clause.\n",
    "  * On top of those, we can have derived columns using aggregate functions.\n",
    "  * We cannot have any other columns that are not used as part of `GROUP BY` on derived column using non aggregate functions.\n",
    "  * We will not be able to use aggregate functions or aliases used in the select clause as part of the where clause.\n",
    "  * If we want to filter based on aggregated results, then we can leverage `HAVING` on top of `GROUP BY` (specifying `WHERE` is not an option)\n",
    "* Typical query execution - FROM -> WHERE -> GROUP BY -> SELECT"
   ]
  },
  {
   "cell_type": "code",
   "execution_count": 2,
   "metadata": {},
   "outputs": [
    {
     "data": {
      "text/plain": [
       "Waiting for a Spark session to start..."
      ]
     },
     "metadata": {},
     "output_type": "display_data",
     "source": "user"
    },
    {
     "data": {
      "text/plain": [
       "++\n",
       "||\n",
       "++\n",
       "++\n",
       "\n"
      ]
     },
     "execution_count": 2,
     "metadata": {},
     "output_type": "execute_result"
    }
   ],
   "source": [
    "%%sql\n",
    "use itv002480_retail"
   ]
  },
  {
   "cell_type": "code",
   "execution_count": 3,
   "metadata": {},
   "outputs": [
    {
     "data": {
      "text/plain": [
       "+---------------+\n",
       "|count(order_id)|\n",
       "+---------------+\n",
       "|          68883|\n",
       "+---------------+\n",
       "\n"
      ]
     },
     "execution_count": 3,
     "metadata": {},
     "output_type": "execute_result"
    }
   ],
   "source": [
    "%%sql\n",
    "\n",
    "SELECT count(order_id) FROM orders"
   ]
  },
  {
   "cell_type": "code",
   "execution_count": 4,
   "metadata": {},
   "outputs": [
    {
     "data": {
      "text/plain": [
       "+--------------------------+\n",
       "|count(DISTINCT order_date)|\n",
       "+--------------------------+\n",
       "|                       364|\n",
       "+--------------------------+\n",
       "\n"
      ]
     },
     "execution_count": 4,
     "metadata": {},
     "output_type": "execute_result"
    }
   ],
   "source": [
    "%%sql\n",
    "\n",
    "SELECT count(DISTINCT order_date) FROM orders"
   ]
  },
  {
   "cell_type": "code",
   "execution_count": 5,
   "metadata": {},
   "outputs": [
    {
     "data": {
      "text/plain": [
       "+-------------+\n",
       "|order_revenue|\n",
       "+-------------+\n",
       "|       579.98|\n",
       "+-------------+\n",
       "\n"
      ]
     },
     "execution_count": 5,
     "metadata": {},
     "output_type": "execute_result"
    }
   ],
   "source": [
    "%%sql\n",
    "\n",
    "SELECT round(sum(order_item_subtotal), 2) AS order_revenue\n",
    "FROM order_items \n",
    "WHERE order_item_order_id = 2"
   ]
  },
  {
   "cell_type": "code",
   "execution_count": 6,
   "metadata": {},
   "outputs": [
    {
     "data": {
      "text/plain": [
       "+--------+\n",
       "|count(1)|\n",
       "+--------+\n",
       "|   30455|\n",
       "+--------+\n",
       "\n"
      ]
     },
     "execution_count": 6,
     "metadata": {},
     "output_type": "execute_result"
    }
   ],
   "source": [
    "%%sql\n",
    "\n",
    "SELECT count(1) \n",
    "FROM orders\n",
    "WHERE order_status IN ('COMPLETE', 'CLOSED')"
   ]
  },
  {
   "cell_type": "code",
   "execution_count": 7,
   "metadata": {},
   "outputs": [
    {
     "data": {
      "text/plain": [
       "+--------------------+--------+\n",
       "|          order_date|count(1)|\n",
       "+--------------------+--------+\n",
       "|2013-08-13 00:00:...|      73|\n",
       "|2014-03-19 00:00:...|     130|\n",
       "|2014-04-26 00:00:...|     251|\n",
       "|2013-10-12 00:00:...|     162|\n",
       "|2013-11-15 00:00:...|     135|\n",
       "|2013-09-16 00:00:...|     121|\n",
       "|2013-09-20 00:00:...|     139|\n",
       "|2013-12-31 00:00:...|     266|\n",
       "|2013-09-06 00:00:...|     276|\n",
       "|2014-06-15 00:00:...|     128|\n",
       "+--------------------+--------+\n",
       "only showing top 10 rows\n",
       "\n"
      ]
     },
     "execution_count": 7,
     "metadata": {},
     "output_type": "execute_result"
    }
   ],
   "source": [
    "%%sql\n",
    "\n",
    "SELECT order_date,\n",
    "    count(1)\n",
    "FROM orders\n",
    "GROUP BY order_date"
   ]
  },
  {
   "cell_type": "code",
   "execution_count": 8,
   "metadata": {},
   "outputs": [
    {
     "data": {
      "text/plain": [
       "+---------------+------------+\n",
       "|   order_status|status_count|\n",
       "+---------------+------------+\n",
       "|PENDING_PAYMENT|       15030|\n",
       "|       COMPLETE|       22899|\n",
       "|        ON_HOLD|        3798|\n",
       "| PAYMENT_REVIEW|         729|\n",
       "|     PROCESSING|        8275|\n",
       "|         CLOSED|        7556|\n",
       "|SUSPECTED_FRAUD|        1558|\n",
       "|        PENDING|        7610|\n",
       "|       CANCELED|        1428|\n",
       "+---------------+------------+\n",
       "\n"
      ]
     },
     "execution_count": 8,
     "metadata": {},
     "output_type": "execute_result"
    }
   ],
   "source": [
    "%%sql\n",
    "\n",
    "SELECT order_status,\n",
    "    count(1) AS status_count\n",
    "FROM orders\n",
    "GROUP BY order_status"
   ]
  },
  {
   "cell_type": "code",
   "execution_count": 9,
   "metadata": {},
   "outputs": [
    {
     "data": {
      "text/plain": [
       "+-------------------+-------------+\n",
       "|order_item_order_id|order_revenue|\n",
       "+-------------------+-------------+\n",
       "|              35450|       579.94|\n",
       "|              35654|       449.96|\n",
       "|              35800|       129.99|\n",
       "|              35868|       529.93|\n",
       "|              36106|       839.86|\n",
       "|              36312|       479.94|\n",
       "|              36655|       379.93|\n",
       "|              36706|      1399.86|\n",
       "|              36783|       824.95|\n",
       "|              36982|       559.94|\n",
       "+-------------------+-------------+\n",
       "\n"
      ]
     },
     "execution_count": 9,
     "metadata": {},
     "output_type": "execute_result"
    }
   ],
   "source": [
    "%%sql\n",
    "\n",
    "SELECT order_item_order_id,\n",
    "    round(sum(order_item_subtotal), 2) AS order_revenue\n",
    "FROM order_items\n",
    "GROUP BY order_item_order_id LIMIT 10"
   ]
  },
  {
   "cell_type": "code",
   "execution_count": 1,
   "metadata": {},
   "outputs": [
    {
     "data": {
      "text/plain": [
       "Waiting for a Spark session to start..."
      ]
     },
     "metadata": {},
     "output_type": "display_data",
     "source": "user"
    },
    {
     "data": {
      "text/plain": [
       "Magic sql failed to execute with error: \n",
       "Table or view not found: orders; line 1 pos 109"
      ]
     },
     "execution_count": 1,
     "metadata": {},
     "output_type": "execute_result"
    }
   ],
   "source": [
    "%%sql\n",
    "\n",
    "SELECT o.order_date,\n",
    "    oi.order_item_product_id,\n",
    "    round(sum(oi.order_item_subtotal), 2) AS revenue\n",
    "FROM orders o JOIN order_items oi\n",
    "    ON o.order_id = oi.order_item_order_id\n",
    "WHERE o.order_status IN ('COMPLETE', 'CLOSED')\n",
    "GROUP BY o.order_date,\n",
    "    oi.order_item_product_id\n",
    "LIMIT 10"
   ]
  },
  {
   "cell_type": "code",
   "execution_count": 11,
   "metadata": {},
   "outputs": [
    {
     "data": {
      "text/plain": [
       "            :  +- SubqueryAlias...\n"
      ]
     },
     "metadata": {},
     "output_type": "display_data",
     "source": "user"
    },
    {
     "data": {
      "text/plain": [
       "Magic sql failed to execute with error: \n",
       "cannot resolve '`revenue`' given input columns: [oi.order_item_product_price, oi.order_item_quantity, o.order_status, o.order_date, oi.order_item_subtotal, oi.order_item_product_id, o.order_customer_id, o.order_id, oi.order_item_id, oi.order_item_order_id]; line 1 pos 236;\n",
       "'GlobalLimit 10\n",
       "+- 'LocalLimit 10\n",
       "   +- 'Aggregate ['o.order_date, 'oi.order_item_product_id], ['o.order_date, 'oi.order_item_product_id, 'round('sum('oi.order_item_subtotal), 2) AS revenue#137]\n",
       "      +- 'Filter (order_status#141 IN (COMPLETE,CLOSED) && ('revenue >= 500))\n",
       "         +- Join Inner, (order_id#138 = order_item_order_id#143)\n",
       "            :- SubqueryAlias `o`\n",
       "            :  +- SubqueryAlias `itv002480_retail`.`orders`\n",
       "            :     +- HiveTableRelation `itv002480_retail`.`orders`, org.apache.hadoop.hive.serde2.lazy.LazySimpleSerDe, [order_id#138, order_date#139, order_customer_id#140, order_status#141]\n",
       "            +- SubqueryAlias `oi`\n",
       "               +- SubqueryAlias `itv002480_retail`.`order_items`\n",
       "                  +- HiveTableRelation `itv002480_retail`.`order_items`, org.apache.hadoop.hive.serde2.lazy.LazySimpleSerDe, [order_item_id#142, order_item_order_id#143, order_item_product_id#144, order_item_quantity#145, order_item_subtotal#146, order_item_product_price#147]\n"
      ]
     },
     "execution_count": 11,
     "metadata": {},
     "output_type": "execute_result"
    }
   ],
   "source": [
    "%%sql\n",
    "\n",
    "SELECT o.order_date,\n",
    "    oi.order_item_product_id,\n",
    "    round(sum(oi.order_item_subtotal), 2) AS revenue\n",
    "FROM orders o JOIN order_items oi\n",
    "    ON o.order_id = oi.order_item_order_id\n",
    "WHERE o.order_status IN ('COMPLETE', 'CLOSED')\n",
    "    AND revenue >= 500\n",
    "GROUP BY o.order_date,\n",
    "    oi.order_item_product_id\n",
    "LIMIT 10"
   ]
  },
  {
   "cell_type": "code",
   "execution_count": 12,
   "metadata": {},
   "outputs": [
    {
     "data": {
      "text/plain": [
       "+--------------------+------...\n"
      ]
     },
     "metadata": {},
     "output_type": "display_data",
     "source": "user"
    },
    {
     "data": {
      "text/plain": [
       "+--------------------+---------------------+-------+\n",
       "|          order_date|order_item_product_id|revenue|\n",
       "+--------------------+---------------------+-------+\n",
       "|2014-04-09 00:00:...|                  191|6599.34|\n",
       "|2014-05-29 00:00:...|                 1014|2698.92|\n",
       "|2014-06-01 00:00:...|                 1073|3199.84|\n",
       "|2014-06-30 00:00:...|                  502| 4000.0|\n",
       "|2013-08-12 00:00:...|                  627| 3199.2|\n",
       "|2013-09-04 00:00:...|                  957|3599.76|\n",
       "|2013-10-19 00:00:...|                 1004|5599.72|\n",
       "|2013-11-06 00:00:...|                  502| 3800.0|\n",
       "|2014-02-13 00:00:...|                  403|4159.68|\n",
       "|2014-03-06 00:00:...|                  191| 4999.5|\n",
       "+--------------------+---------------------+-------+\n",
       "\n"
      ]
     },
     "execution_count": 12,
     "metadata": {},
     "output_type": "execute_result"
    }
   ],
   "source": [
    "%%sql\n",
    "\n",
    "SELECT o.order_date,\n",
    "    oi.order_item_product_id,\n",
    "    round(sum(oi.order_item_subtotal), 2) AS revenue\n",
    "FROM orders o JOIN order_items oi\n",
    "    ON o.order_id = oi.order_item_order_id\n",
    "WHERE o.order_status IN ('COMPLETE', 'CLOSED')\n",
    "GROUP BY o.order_date,\n",
    "    oi.order_item_product_id\n",
    "HAVING revenue >= 500\n",
    "LIMIT 10"
   ]
  },
  {
   "cell_type": "markdown",
   "metadata": {},
   "source": [
    "* Using Spark SQL with Python or Scala"
   ]
  },
  {
   "cell_type": "code",
   "execution_count": null,
   "metadata": {},
   "outputs": [],
   "source": [
    "spark.sql(\"SELECT count(order_id) FROM orders\").show()"
   ]
  },
  {
   "cell_type": "code",
   "execution_count": null,
   "metadata": {},
   "outputs": [],
   "source": [
    "spark.sql(\"SELECT count(DISTINCT order_date) FROM orders\").show()"
   ]
  },
  {
   "cell_type": "code",
   "execution_count": null,
   "metadata": {},
   "outputs": [],
   "source": [
    "spark.sql(\"\"\"\n",
    "SELECT round(sum(order_item_subtotal), 2) AS order_revenue\n",
    "FROM order_items \n",
    "WHERE order_item_order_id = 2\n",
    "\"\"\").show()"
   ]
  },
  {
   "cell_type": "code",
   "execution_count": null,
   "metadata": {},
   "outputs": [],
   "source": [
    "spark.sql(\"\"\"\n",
    "SELECT count(1) \n",
    "FROM orders\n",
    "WHERE order_status IN ('COMPLETE', 'CLOSED')\n",
    "\"\"\").show()"
   ]
  },
  {
   "cell_type": "code",
   "execution_count": null,
   "metadata": {},
   "outputs": [],
   "source": [
    "spark.sql(\"\"\"\n",
    "SELECT order_date,\n",
    "    count(1)\n",
    "FROM orders\n",
    "GROUP BY order_date\n",
    "\"\"\").show()"
   ]
  },
  {
   "cell_type": "code",
   "execution_count": null,
   "metadata": {},
   "outputs": [],
   "source": [
    "spark.sql(\"\"\"\n",
    "SELECT order_status,\n",
    "    count(1) AS status_count\n",
    "FROM orders\n",
    "GROUP BY order_status\n",
    "\"\"\").show()"
   ]
  },
  {
   "cell_type": "code",
   "execution_count": null,
   "metadata": {},
   "outputs": [],
   "source": [
    "spark.sql(\"\"\"\n",
    "SELECT order_item_order_id,\n",
    "    round(sum(order_item_subtotal), 2) AS order_revenue\n",
    "FROM order_items\n",
    "GROUP BY order_item_order_id\n",
    "\"\"\").show()"
   ]
  },
  {
   "cell_type": "code",
   "execution_count": null,
   "metadata": {},
   "outputs": [],
   "source": [
    "spark.sql(\"\"\"\n",
    "SELECT o.order_date,\n",
    "    oi.order_item_product_id,\n",
    "    round(sum(oi.order_item_subtotal), 2) AS revenue\n",
    "FROM orders o JOIN order_items oi\n",
    "    ON o.order_id = oi.order_item_order_id\n",
    "WHERE o.order_status IN ('COMPLETE', 'CLOSED')\n",
    "GROUP BY o.order_date,\n",
    "    oi.order_item_product_id\n",
    "\"\"\").show()"
   ]
  },
  {
   "cell_type": "code",
   "execution_count": null,
   "metadata": {},
   "outputs": [],
   "source": [
    "spark.sql(\"\"\"\n",
    "SELECT o.order_date,\n",
    "    oi.order_item_product_id,\n",
    "    round(sum(oi.order_item_subtotal), 2) AS revenue\n",
    "FROM orders o JOIN order_items oi\n",
    "    ON o.order_id = oi.order_item_order_id\n",
    "WHERE o.order_status IN ('COMPLETE', 'CLOSED')\n",
    "    AND revenue >= 500\n",
    "GROUP BY o.order_date,\n",
    "    oi.order_item_product_id\n",
    "\"\"\").show()"
   ]
  },
  {
   "cell_type": "code",
   "execution_count": null,
   "metadata": {},
   "outputs": [],
   "source": [
    "spark.sql(\"\"\"\n",
    "SELECT o.order_date,\n",
    "    oi.order_item_product_id,\n",
    "    round(sum(oi.order_item_subtotal), 2) AS revenue\n",
    "FROM orders o JOIN order_items oi\n",
    "    ON o.order_id = oi.order_item_order_id\n",
    "WHERE o.order_status IN ('COMPLETE', 'CLOSED')\n",
    "GROUP BY o.order_date,\n",
    "    oi.order_item_product_id\n",
    "HAVING revenue >= 500\n",
    "\"\"\").show()"
   ]
  }
 ],
 "metadata": {
  "celltoolbar": "Tags",
  "kernelspec": {
   "display_name": "Spark 2 - Scala",
   "language": "scala",
   "name": "spark_2_scala"
  },
  "language_info": {
   "codemirror_mode": "text/x-scala",
   "file_extension": ".scala",
   "mimetype": "text/x-scala",
   "name": "scala",
   "pygments_lexer": "scala",
   "version": "2.11.12"
  }
 },
 "nbformat": 4,
 "nbformat_minor": 4
}
