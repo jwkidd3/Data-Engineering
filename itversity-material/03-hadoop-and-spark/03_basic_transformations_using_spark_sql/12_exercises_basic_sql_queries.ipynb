{
 "cells": [
  {
   "cell_type": "markdown",
   "metadata": {},
   "source": [
    "## Exercises - Basic SQL Queries\n",
    "\n",
    "Here are some of the exercises for which you can write SQL queries to self evaluate."
   ]
  },
  {
   "cell_type": "markdown",
   "metadata": {},
   "source": [
    "Let us start spark context for this Notebook so that we can execute the code provided. You can sign up for our [10 node state of the art cluster/labs](https://labs.itversity.com/plans) to learn Spark SQL using our unique integrated LMS."
   ]
  },
  {
   "cell_type": "code",
   "execution_count": 1,
   "metadata": {},
   "outputs": [
    {
     "data": {
      "text/plain": [
       "username = itv002480\n"
      ]
     },
     "metadata": {},
     "output_type": "display_data",
     "source": "user"
    },
    {
     "data": {
      "text/plain": [
       "itv002480"
      ]
     },
     "execution_count": 1,
     "metadata": {},
     "output_type": "execute_result"
    }
   ],
   "source": [
    "val username = System.getProperty(\"user.name\")"
   ]
  },
  {
   "cell_type": "code",
   "execution_count": 2,
   "metadata": {},
   "outputs": [
    {
     "data": {
      "text/plain": [
       "username = itv002480\n",
       "spark = org.apache.spark.sql.SparkSession@65e096ab\n"
      ]
     },
     "metadata": {},
     "output_type": "display_data",
     "source": "user"
    },
    {
     "data": {
      "text/plain": [
       "org.apache.spark.sql.SparkSession@65e096ab"
      ]
     },
     "execution_count": 2,
     "metadata": {},
     "output_type": "execute_result"
    }
   ],
   "source": [
    "import org.apache.spark.sql.SparkSession\n",
    "\n",
    "val username = System.getProperty(\"user.name\")\n",
    "val spark = SparkSession.\n",
    "    builder.\n",
    "    config(\"spark.ui.port\", \"0\").\n",
    "    config(\"spark.sql.warehouse.dir\", s\"/user/${username}/warehouse\").\n",
    "    enableHiveSupport.\n",
    "    appName(s\"${username} | Spark SQL - Basic Transformations\").\n",
    "    master(\"yarn\").\n",
    "    getOrCreate"
   ]
  },
  {
   "cell_type": "code",
   "execution_count": 3,
   "metadata": {},
   "outputs": [
    {
     "data": {
      "text/plain": [
       "Waiting for a Spark session to start..."
      ]
     },
     "metadata": {},
     "output_type": "display_data",
     "source": "user"
    },
    {
     "data": {
      "text/plain": [
       "++\n",
       "||\n",
       "++\n",
       "++\n",
       "\n"
      ]
     },
     "execution_count": 3,
     "metadata": {},
     "output_type": "execute_result"
    }
   ],
   "source": [
    "%%sql\n",
    "USE itv002480_retail"
   ]
  },
  {
   "cell_type": "code",
   "execution_count": 4,
   "metadata": {},
   "outputs": [
    {
     "data": {
      "text/plain": [
       "++\n",
       "||\n",
       "++\n",
       "++\n",
       "\n"
      ]
     },
     "execution_count": 4,
     "metadata": {},
     "output_type": "execute_result"
    }
   ],
   "source": [
    "%%sql\n",
    "drop table customers"
   ]
  },
  {
   "cell_type": "code",
   "execution_count": 5,
   "metadata": {},
   "outputs": [
    {
     "data": {
      "text/plain": [
       "++\n",
       "||\n",
       "++\n",
       "++\n",
       "\n"
      ]
     },
     "execution_count": 5,
     "metadata": {},
     "output_type": "execute_result"
    }
   ],
   "source": [
    "%%sql\n",
    "\n",
    "CREATE TABLE customers (\n",
    "    customer_id INT,\n",
    "    customer_first_name STRING,\n",
    "    customer_last_name STRING,\n",
    "    customer_email STRING,\n",
    "    customer_password STRING,\n",
    "    customer_street STRING,\n",
    "    customer_city STRING,\n",
    "    customer_state STRING,\n",
    "    customer_zipcode INT\n",
    ") ROW FORMAT DELIMITED FIELDS TERMINATED BY ','"
   ]
  },
  {
   "cell_type": "code",
   "execution_count": 6,
   "metadata": {},
   "outputs": [
    {
     "data": {
      "text/plain": [
       "++\n",
       "||\n",
       "++\n",
       "++\n",
       "\n"
      ]
     },
     "execution_count": 6,
     "metadata": {},
     "output_type": "execute_result"
    }
   ],
   "source": [
    "%%sql\n",
    "\n",
    "LOAD DATA LOCAL INPATH '/data/retail_db/customers' INTO TABLE customers"
   ]
  },
  {
   "cell_type": "code",
   "execution_count": 7,
   "metadata": {},
   "outputs": [
    {
     "name": "stdout",
     "output_type": "stream",
     "text": [
      "Found 1 items\n",
      "-rwxr-xr-x   3 itv002480 supergroup     953719 2022-05-26 11:31 /user/itv002480/warehouse/itv002480_retail.db/customers/part-00000\n"
     ]
    },
    {
     "data": {
      "text/plain": [
       "username = itv002480\n"
      ]
     },
     "metadata": {},
     "output_type": "display_data",
     "source": "user"
    },
    {
     "data": {
      "text/plain": [
       "warning: there was one feature warning; re-run with -feature for details\n"
      ]
     },
     "metadata": {},
     "output_type": "display_data",
     "source": "user"
    },
    {
     "data": {
      "text/plain": [
       "0"
      ]
     },
     "execution_count": 7,
     "metadata": {},
     "output_type": "execute_result"
    }
   ],
   "source": [
    "import sys.process._\n",
    "val username = System.getProperty(\"user.name\")\n",
    "s\"hdfs dfs -ls /user/itv002480/warehouse/${username}_retail.db/customers\"!"
   ]
  },
  {
   "cell_type": "code",
   "execution_count": 8,
   "metadata": {},
   "outputs": [
    {
     "data": {
      "text/plain": [
       "|       6242|              David|             Smith|     XXXXXXXXX|        XXXXXXXXX|9174...\n"
      ]
     },
     "metadata": {},
     "output_type": "display_data",
     "source": "user"
    },
    {
     "data": {
      "text/plain": [
       "+-----------+-------------------+------------------+--------------+-----------------+--------------------+-----------------+--------------+----------------+\n",
       "|customer_id|customer_first_name|customer_last_name|customer_email|customer_password|     customer_street|    customer_city|customer_state|customer_zipcode|\n",
       "+-----------+-------------------+------------------+--------------+-----------------+--------------------+-----------------+--------------+----------------+\n",
       "|       6241|               Mary|              Clay|     XXXXXXXXX|        XXXXXXXXX|   7994 Easy Estates|Arlington Heights|            IL|           60004|\n",
       "|       6242|              David|             Smith|     XXXXXXXXX|        XXXXXXXXX|9174 Umber Zephyr...|           Caguas|            PR|             725|\n",
       "|       6243|           Virginia|              Odom|     XXXXXXXXX|        XXXXXXXXX|4029 Burning Lago...|          Chicago|            IL|           60618|\n",
       "|       6244|               Mary|             Smith|     XXXXXXXXX|        XXXXXXXXX|    4543 Cinder Link|          Orlando|            FL|           32822|\n",
       "|       6245|           Margaret|            Taylor|     XXXXXXXXX|        XXXXXXXXX| 7542 Rocky Fox Pike|           Caguas|            PR|             725|\n",
       "|       6246|            Melissa|           Ramirez|     XXXXXXXXX|        XXXXXXXXX|2459 Round Spring...|             Rome|            NY|           13440|\n",
       "|       6247|               Mary|             Smith|     XXXXXXXXX|        XXXXXXXXX|1070 Wishing Pand...|           Caguas|            PR|             725|\n",
       "|       6248|             Ronald|            Hanson|     XXXXXXXXX|        XXXXXXXXX|5076 Amber Blosso...|       Union City|            CA|           94587|\n",
       "|       6249|               Mary|           Andrade|     XXXXXXXXX|        XXXXXXXXX|  8706 Harvest Green|       Middletown|            CT|            6457|\n",
       "|       6250|              Sarah|             Smith|     XXXXXXXXX|        XXXXXXXXX|   5098 Wishing Bend|           Caguas|            PR|             725|\n",
       "+-----------+-------------------+------------------+--------------+-----------------+--------------------+-----------------+--------------+----------------+\n",
       "\n"
      ]
     },
     "execution_count": 8,
     "metadata": {},
     "output_type": "execute_result"
    }
   ],
   "source": [
    "%%sql\n",
    "\n",
    "SELECT * FROM customers LIMIT 10"
   ]
  },
  {
   "cell_type": "code",
   "execution_count": 9,
   "metadata": {},
   "outputs": [
    {
     "data": {
      "text/plain": [
       "+--------+\n",
       "|count(1)|\n",
       "+--------+\n",
       "|   12435|\n",
       "+--------+\n",
       "\n"
      ]
     },
     "execution_count": 9,
     "metadata": {},
     "output_type": "execute_result"
    }
   ],
   "source": [
    "%%sql\n",
    "\n",
    "SELECT count(1) FROM customers"
   ]
  },
  {
   "cell_type": "code",
   "execution_count": 32,
   "metadata": {},
   "outputs": [
    {
     "data": {
      "text/plain": [
       "++\n",
       "||\n",
       "++\n",
       "++\n",
       "\n"
      ]
     },
     "execution_count": 32,
     "metadata": {},
     "output_type": "execute_result"
    }
   ],
   "source": [
    "%%sql\n",
    "drop table products"
   ]
  },
  {
   "cell_type": "code",
   "execution_count": 33,
   "metadata": {},
   "outputs": [
    {
     "data": {
      "text/plain": [
       "++\n",
       "||\n",
       "++\n",
       "++\n",
       "\n"
      ]
     },
     "execution_count": 33,
     "metadata": {},
     "output_type": "execute_result"
    }
   ],
   "source": [
    "%%sql\n",
    "\n",
    "CREATE TABLE products (\n",
    "    product_id INT,\n",
    "    product_category_id INT,\n",
    "    product_name STRING,\n",
    "    product_description STRING,\n",
    "    product_price FLOAT,\n",
    "    product_image STRING\n",
    ") ROW FORMAT DELIMITED FIELDS TERMINATED BY ','"
   ]
  },
  {
   "cell_type": "code",
   "execution_count": 34,
   "metadata": {},
   "outputs": [
    {
     "data": {
      "text/plain": [
       "++\n",
       "||\n",
       "++\n",
       "++\n",
       "\n"
      ]
     },
     "execution_count": 34,
     "metadata": {},
     "output_type": "execute_result"
    }
   ],
   "source": [
    "%%sql\n",
    "\n",
    "LOAD DATA LOCAL INPATH '/data/retail_db/products' INTO TABLE products"
   ]
  },
  {
   "cell_type": "code",
   "execution_count": 35,
   "metadata": {},
   "outputs": [
    {
     "name": "stdout",
     "output_type": "stream",
     "text": [
      "Found 1 items\n",
      "-rwxr-xr-x   3 itv002480 supergroup     174155 2022-05-26 11:32 /user/itv002480/warehouse/itv002480_retail.db/products/part-00000\n"
     ]
    },
    {
     "data": {
      "text/plain": [
       "username = itv002480\n"
      ]
     },
     "metadata": {},
     "output_type": "display_data",
     "source": "user"
    },
    {
     "data": {
      "text/plain": [
       "warning: there was one feature warning; re-run with -feature for details\n"
      ]
     },
     "metadata": {},
     "output_type": "display_data",
     "source": "user"
    },
    {
     "data": {
      "text/plain": [
       "0"
      ]
     },
     "execution_count": 35,
     "metadata": {},
     "output_type": "execute_result"
    }
   ],
   "source": [
    "import sys.process._\n",
    "val username = System.getProperty(\"user.name\")\n",
    "s\"hdfs dfs -ls /user/itv002480/warehouse/${username}_retail.db/products\"!"
   ]
  },
  {
   "cell_type": "code",
   "execution_count": 36,
   "metadata": {},
   "outputs": [
    {
     "data": {
      "text/plain": [
       "|         4|                  2|Under Armour Men'...|         ...\n"
      ]
     },
     "metadata": {},
     "output_type": "display_data",
     "source": "user"
    },
    {
     "data": {
      "text/plain": [
       "+----------+-------------------+--------------------+-------------------+-------------+--------------------+\n",
       "|product_id|product_category_id|        product_name|product_description|product_price|       product_image|\n",
       "+----------+-------------------+--------------------+-------------------+-------------+--------------------+\n",
       "|         1|                  2|Quest Q64 10 FT. ...|                   |        59.98|http://images.acm...|\n",
       "|         2|                  2|Under Armour Men'...|                   |       129.99|http://images.acm...|\n",
       "|         3|                  2|Under Armour Men'...|                   |        89.99|http://images.acm...|\n",
       "|         4|                  2|Under Armour Men'...|                   |        89.99|http://images.acm...|\n",
       "|         5|                  2|Riddell Youth Rev...|                   |       199.99|http://images.acm...|\n",
       "|         6|                  2|Jordan Men's VI R...|                   |       134.99|http://images.acm...|\n",
       "|         7|                  2|Schutt Youth Recr...|                   |        99.99|http://images.acm...|\n",
       "|         8|                  2|Nike Men's Vapor ...|                   |       129.99|http://images.acm...|\n",
       "|         9|                  2|Nike Adult Vapor ...|                   |         50.0|http://images.acm...|\n",
       "|        10|                  2|Under Armour Men'...|                   |       129.99|http://images.acm...|\n",
       "+----------+-------------------+--------------------+-------------------+-------------+--------------------+\n",
       "\n"
      ]
     },
     "execution_count": 36,
     "metadata": {},
     "output_type": "execute_result"
    }
   ],
   "source": [
    "%%sql\n",
    "\n",
    "SELECT * FROM products LIMIT 10"
   ]
  },
  {
   "cell_type": "code",
   "execution_count": 37,
   "metadata": {},
   "outputs": [
    {
     "data": {
      "text/plain": [
       "+--------+\n",
       "|count(1)|\n",
       "+--------+\n",
       "|    1345|\n",
       "+--------+\n",
       "\n"
      ]
     },
     "execution_count": 37,
     "metadata": {},
     "output_type": "execute_result"
    }
   ],
   "source": [
    "%%sql\n",
    "\n",
    "SELECT count(1) FROM products"
   ]
  },
  {
   "cell_type": "code",
   "execution_count": 38,
   "metadata": {},
   "outputs": [
    {
     "data": {
      "text/plain": [
       "++\n",
       "||\n",
       "++\n",
       "++\n",
       "\n"
      ]
     },
     "execution_count": 38,
     "metadata": {},
     "output_type": "execute_result"
    }
   ],
   "source": [
    "%%sql\n",
    "drop table categories"
   ]
  },
  {
   "cell_type": "code",
   "execution_count": 39,
   "metadata": {},
   "outputs": [
    {
     "data": {
      "text/plain": [
       "++\n",
       "||\n",
       "++\n",
       "++\n",
       "\n"
      ]
     },
     "execution_count": 39,
     "metadata": {},
     "output_type": "execute_result"
    }
   ],
   "source": [
    "%%sql\n",
    "\n",
    "CREATE TABLE categories (\n",
    "    category_id INT,\n",
    "    category_department_id INT,\n",
    "    category_name STRING\n",
    ") ROW FORMAT DELIMITED FIELDS TERMINATED BY ','"
   ]
  },
  {
   "cell_type": "code",
   "execution_count": 40,
   "metadata": {},
   "outputs": [
    {
     "data": {
      "text/plain": [
       "++\n",
       "||\n",
       "++\n",
       "++\n",
       "\n"
      ]
     },
     "execution_count": 40,
     "metadata": {},
     "output_type": "execute_result"
    }
   ],
   "source": [
    "%%sql\n",
    "\n",
    "LOAD DATA LOCAL INPATH '/data/retail_db/categories' INTO TABLE categories"
   ]
  },
  {
   "cell_type": "code",
   "execution_count": 41,
   "metadata": {},
   "outputs": [
    {
     "name": "stdout",
     "output_type": "stream",
     "text": [
      "Found 1 items\n",
      "-rwxr-xr-x   3 itv002480 supergroup       1029 2022-05-26 11:33 /user/itv002480/warehouse/itv002480_retail.db/categories/part-00000\n"
     ]
    },
    {
     "data": {
      "text/plain": [
       "username = itv002480\n"
      ]
     },
     "metadata": {},
     "output_type": "display_data",
     "source": "user"
    },
    {
     "data": {
      "text/plain": [
       "warning: there was one feature warning; re-run with -feature for details\n"
      ]
     },
     "metadata": {},
     "output_type": "display_data",
     "source": "user"
    },
    {
     "data": {
      "text/plain": [
       "0"
      ]
     },
     "execution_count": 41,
     "metadata": {},
     "output_type": "execute_result"
    }
   ],
   "source": [
    "import sys.process._\n",
    "val username = System.getProperty(\"user.name\")\n",
    "s\"hdfs dfs -ls /user/itv002480/warehouse/${username}_retail.db/categories\"!"
   ]
  },
  {
   "cell_type": "code",
   "execution_count": 42,
   "metadata": {},
   "outputs": [
    {
     "data": {
      "text/plain": [
       "|         10|                   ...\n"
      ]
     },
     "metadata": {},
     "output_type": "display_data",
     "source": "user"
    },
    {
     "data": {
      "text/plain": [
       "+-----------+----------------------+-------------------+\n",
       "|category_id|category_department_id|      category_name|\n",
       "+-----------+----------------------+-------------------+\n",
       "|          1|                     2|           Football|\n",
       "|          2|                     2|             Soccer|\n",
       "|          3|                     2|Baseball & Softball|\n",
       "|          4|                     2|         Basketball|\n",
       "|          5|                     2|           Lacrosse|\n",
       "|          6|                     2|   Tennis & Racquet|\n",
       "|          7|                     2|             Hockey|\n",
       "|          8|                     2|        More Sports|\n",
       "|          9|                     3|   Cardio Equipment|\n",
       "|         10|                     3|  Strength Training|\n",
       "+-----------+----------------------+-------------------+\n",
       "only showing top 10 rows\n",
       "\n"
      ]
     },
     "execution_count": 42,
     "metadata": {},
     "output_type": "execute_result"
    }
   ],
   "source": [
    "%%sql\n",
    "select * from categories"
   ]
  },
  {
   "cell_type": "code",
   "execution_count": 43,
   "metadata": {},
   "outputs": [
    {
     "data": {
      "text/plain": [
       "+--------+\n",
       "|count(1)|\n",
       "+--------+\n",
       "|      58|\n",
       "+--------+\n",
       "\n"
      ]
     },
     "execution_count": 43,
     "metadata": {},
     "output_type": "execute_result"
    }
   ],
   "source": [
    "%%sql\n",
    "select count(1) from categories"
   ]
  },
  {
   "cell_type": "code",
   "execution_count": 44,
   "metadata": {},
   "outputs": [
    {
     "data": {
      "text/plain": [
       "++\n",
       "||\n",
       "++\n",
       "++\n",
       "\n"
      ]
     },
     "execution_count": 44,
     "metadata": {},
     "output_type": "execute_result"
    }
   ],
   "source": [
    "%%sql \n",
    "drop table departments"
   ]
  },
  {
   "cell_type": "code",
   "execution_count": 45,
   "metadata": {},
   "outputs": [
    {
     "data": {
      "text/plain": [
       "++\n",
       "||\n",
       "++\n",
       "++\n",
       "\n"
      ]
     },
     "execution_count": 45,
     "metadata": {},
     "output_type": "execute_result"
    }
   ],
   "source": [
    "%%sql\n",
    "\n",
    "CREATE TABLE departments (\n",
    "    department_id INT,\n",
    "    department_name STRING\n",
    ") ROW FORMAT DELIMITED FIELDS TERMINATED BY ','"
   ]
  },
  {
   "cell_type": "code",
   "execution_count": 46,
   "metadata": {},
   "outputs": [
    {
     "data": {
      "text/plain": [
       "++\n",
       "||\n",
       "++\n",
       "++\n",
       "\n"
      ]
     },
     "execution_count": 46,
     "metadata": {},
     "output_type": "execute_result"
    }
   ],
   "source": [
    "%%sql\n",
    "\n",
    "LOAD DATA LOCAL INPATH '/data/retail_db/departments' INTO TABLE departments"
   ]
  },
  {
   "cell_type": "code",
   "execution_count": 47,
   "metadata": {},
   "outputs": [
    {
     "data": {
      "text/plain": [
       "+-------------+---------------+\n",
       "|department_id|department_name|\n",
       "+-------------+---------------+\n",
       "|            2|        Fitness|\n",
       "|            3|       Footwear|\n",
       "|            4|        Apparel|\n",
       "|            5|           Golf|\n",
       "|            6|       Outdoors|\n",
       "|            7|       Fan Shop|\n",
       "+-------------+---------------+\n",
       "\n"
      ]
     },
     "execution_count": 47,
     "metadata": {},
     "output_type": "execute_result"
    }
   ],
   "source": [
    "%%sql\n",
    "select * from departments"
   ]
  },
  {
   "cell_type": "markdown",
   "metadata": {},
   "source": [
    "If you are going to use CLIs, you can use Spark SQL using one of the 3 approaches.\n",
    "\n",
    "**Using Spark SQL**\n",
    "\n",
    "```\n",
    "spark2-sql \\\n",
    "    --master yarn \\\n",
    "    --conf spark.ui.port=0 \\\n",
    "    --conf spark.sql.warehouse.dir=/user/${USER}/warehouse\n",
    "```\n",
    "\n",
    "**Using Scala**\n",
    "\n",
    "```\n",
    "spark2-shell \\\n",
    "    --master yarn \\\n",
    "    --conf spark.ui.port=0 \\\n",
    "    --conf spark.sql.warehouse.dir=/user/${USER}/warehouse\n",
    "```\n",
    "\n",
    "**Using Pyspark**\n",
    "\n",
    "```\n",
    "pyspark2 \\\n",
    "    --master yarn \\\n",
    "    --conf spark.ui.port=0 \\\n",
    "    --conf spark.sql.warehouse.dir=/user/${USER}/warehouse\n",
    "```"
   ]
  },
  {
   "cell_type": "markdown",
   "metadata": {},
   "source": [
    "### Exercise 1 - Customer order count\n",
    "\n",
    "Get order count per customer for the month of 2014 January.\n",
    "* Tables - orders and customers\n",
    "* Data should be sorted in descending order by count and ascending order by customer id.\n",
    "* Output should contain customer_id, customer_first_name, customer_last_name and customer_order_count."
   ]
  },
  {
   "cell_type": "code",
   "execution_count": 48,
   "metadata": {},
   "outputs": [
    {
     "data": {
      "text/plain": [
       "++\n",
       "||\n",
       "++\n",
       "++\n",
       "\n"
      ]
     },
     "execution_count": 48,
     "metadata": {},
     "output_type": "execute_result"
    }
   ],
   "source": [
    "%%sql\n",
    "use itv002480_retail"
   ]
  },
  {
   "cell_type": "code",
   "execution_count": 49,
   "metadata": {},
   "outputs": [
    {
     "data": {
      "text/plain": [
       "+----------------+-----------+-----------+\n",
       "|        database|  tableName|isTemporary|\n",
       "+----------------+-----------+-----------+\n",
       "|itv002480_retail| categories|      false|\n",
       "|itv002480_retail|  customers|      false|\n",
       "|itv002480_retail|departments|      false|\n",
       "|itv002480_retail|order_items|      false|\n",
       "|itv002480_retail|     orders|      false|\n",
       "|itv002480_retail|   products|      false|\n",
       "+----------------+-----------+-----------+\n",
       "\n"
      ]
     },
     "execution_count": 49,
     "metadata": {},
     "output_type": "execute_result"
    }
   ],
   "source": [
    "%%sql\n",
    "show tables"
   ]
  },
  {
   "cell_type": "code",
   "execution_count": 50,
   "metadata": {},
   "outputs": [
    {
     "data": {
      "text/plain": [
       "|       2555|               Mary|              Lon...\n"
      ]
     },
     "metadata": {},
     "output_type": "display_data",
     "source": "user"
    },
    {
     "data": {
      "text/plain": [
       "+-----------+-------------------+------------------+--------------------+\n",
       "|customer_id|customer_first_name|customer_last_name|customer_order_count|\n",
       "+-----------+-------------------+------------------+--------------------+\n",
       "|       8622|            Shirley|             Smith|                   5|\n",
       "|       9676|            Theresa|             Smith|                   5|\n",
       "|          7|            Melissa|            Wilcox|                   4|\n",
       "|        222|              Frank|              Ruiz|                   4|\n",
       "|       2444|            Kenneth|             Smith|                   4|\n",
       "|       2485|               Mary|         Hernandez|                   4|\n",
       "|       2555|               Mary|              Long|                   4|\n",
       "|       3128|              Karen|            Turner|                   4|\n",
       "|       3199|             Ashley|         Hernandez|                   4|\n",
       "|       3610|             Jordan|             Smith|                   4|\n",
       "+-----------+-------------------+------------------+--------------------+\n",
       "\n"
      ]
     },
     "execution_count": 50,
     "metadata": {},
     "output_type": "execute_result"
    }
   ],
   "source": [
    "%%sql\n",
    "\n",
    "SELECT c.customer_id, \n",
    "    c.customer_first_name, \n",
    "    c.customer_last_name,\n",
    "    count(o.order_id) AS customer_order_count \n",
    "FROM orders o JOIN customers c \n",
    "    ON o.order_customer_id = c.customer_id\n",
    "WHERE date_format(o.order_date, 'yyyy-MM') = '2014-01'\n",
    "GROUP BY c.customer_id,c.customer_first_name,c.customer_last_name\n",
    "ORDER BY customer_order_count DESC, c.customer_id\n",
    "LIMIT 10"
   ]
  },
  {
   "cell_type": "markdown",
   "metadata": {},
   "source": [
    "### Exercise 2 - Dormant Customers\n",
    "\n",
    "Get the customer details who have not placed any order for the month of 2014 January.\n",
    "* Tables - orders and customers\n",
    "* Data should be sorted in ascending order by customer_id\n",
    "* Output should contain all the fields from customers"
   ]
  },
  {
   "cell_type": "code",
   "execution_count": 4,
   "metadata": {},
   "outputs": [
    {
     "data": {
      "text/plain": [
       "|          2|               Mary|           Barrett|     XXXXXXXXX|        XXXXXXXXX|9526 Noble Embers......\n"
      ]
     },
     "metadata": {},
     "output_type": "display_data",
     "source": "user"
    },
    {
     "data": {
      "text/plain": [
       "+-----------+-------------------+------------------+--------------+-----------------+--------------------+-------------+--------------+----------------+\n",
       "|customer_id|customer_first_name|customer_last_name|customer_email|customer_password|     customer_street|customer_city|customer_state|customer_zipcode|\n",
       "+-----------+-------------------+------------------+--------------+-----------------+--------------------+-------------+--------------+----------------+\n",
       "|          1|            Richard|         Hernandez|     XXXXXXXXX|        XXXXXXXXX|  6303 Heather Plaza|  Brownsville|            TX|           78521|\n",
       "|          2|               Mary|           Barrett|     XXXXXXXXX|        XXXXXXXXX|9526 Noble Embers...|    Littleton|            CO|           80126|\n",
       "|          3|                Ann|             Smith|     XXXXXXXXX|        XXXXXXXXX|3422 Blue Pioneer...|       Caguas|            PR|             725|\n",
       "|          4|               Mary|             Jones|     XXXXXXXXX|        XXXXXXXXX|  8324 Little Common|   San Marcos|            CA|           92069|\n",
       "|          5|             Robert|            Hudson|     XXXXXXXXX|        XXXXXXXXX|\"10 Crystal River...|       Caguas|            PR|             725|\n",
       "|          6|               Mary|             Smith|     XXXXXXXXX|        XXXXXXXXX|3151 Sleepy Quail...|      Passaic|            NJ|            7055|\n",
       "|          9|               Mary|             Perez|     XXXXXXXXX|        XXXXXXXXX| 3616 Quaking Street|       Caguas|            PR|             725|\n",
       "|         10|            Melissa|             Smith|     XXXXXXXXX|        XXXXXXXXX|8598 Harvest Beac...|     Stafford|            VA|           22554|\n",
       "|         11|               Mary|           Huffman|     XXXXXXXXX|        XXXXXXXXX|    3169 Stony Woods|       Caguas|            PR|             725|\n",
       "|         12|        Christopher|             Smith|     XXXXXXXXX|        XXXXXXXXX|5594 Jagged Ember...|  San Antonio|            TX|           78227|\n",
       "+-----------+-------------------+------------------+--------------+-----------------+--------------------+-------------+--------------+----------------+\n",
       "\n"
      ]
     },
     "execution_count": 4,
     "metadata": {},
     "output_type": "execute_result"
    }
   ],
   "source": [
    "%%sql\n",
    "SELECT c.* \n",
    "FROM customers c LEFT OUTER JOIN \n",
    "    (SELECT DISTINCT order_customer_id \n",
    "     FROM orders WHERE\n",
    "     date_format(order_date, 'yyyy-MM') = '2014-01'\n",
    "    ) o\n",
    "    ON c.customer_id = o.order_customer_id\n",
    "WHERE  o.order_customer_id IS NULL \n",
    "ORDER BY c.customer_id\n",
    "LIMIT 10\n"
   ]
  },
  {
   "cell_type": "markdown",
   "metadata": {},
   "source": [
    "### Exercise 3 - Revenue Per Customer\n",
    "\n",
    "Get the revenue generated by each customer for the month of 2014 January\n",
    "* Tables - orders, order_items and customers\n",
    "* Data should be sorted in descending order by revenue and then ascending order by customer_id\n",
    "* Output should contain customer_id, customer_first_name, customer_last_name, customer_revenue.\n",
    "* If there are no orders placed by customer, then the corresponding revenue for a give customer should be 0.\n",
    "* Consider only COMPLETE and CLOSED orders"
   ]
  },
  {
   "cell_type": "code",
   "execution_count": 21,
   "metadata": {},
   "outputs": [
    {
     "data": {
      "text/plain": [
       "|      11901|    ...\n"
      ]
     },
     "metadata": {},
     "output_type": "display_data",
     "source": "user"
    },
    {
     "data": {
      "text/plain": [
       "+-----------+-------------------+------------------+----------------+\n",
       "|customer_id|customer_first_name|customer_last_name|customer_revenue|\n",
       "+-----------+-------------------+------------------+----------------+\n",
       "|       2555|               Mary|              Long|         2954.63|\n",
       "|       3465|               Mary|           Gardner|         2929.74|\n",
       "|       3710|             Ashley|             Smith|         2739.82|\n",
       "|       1780|              Larry|             Sharp|         2689.65|\n",
       "|        986|          Catherine|           Hawkins|          2629.9|\n",
       "|       9676|            Theresa|             Smith|         2599.84|\n",
       "|       1847|               Mary|             Smith|         2589.87|\n",
       "|      11901|               Mary|             Smith|         2469.87|\n",
       "|       4618|             Andrea|             Smith|         2429.82|\n",
       "|      10896|           Victoria|             Smith|         2419.78|\n",
       "+-----------+-------------------+------------------+----------------+\n",
       "only showing top 10 rows\n",
       "\n"
      ]
     },
     "execution_count": 21,
     "metadata": {},
     "output_type": "execute_result"
    }
   ],
   "source": [
    "%%sql\n",
    "SELECT c.customer_id, c.customer_first_name, c.customer_last_name, \n",
    "    CASE \n",
    "        WHEN (round(sum(oi.order_item_subtotal),2)) IS NULL THEN 0 \n",
    "        ELSE (round(sum(oi.order_item_subtotal),2)) END AS customer_revenue \n",
    "FROM customers c \n",
    "    LEFT OUTER JOIN orders o \n",
    "        ON c.customer_id = o.order_customer_id \n",
    "  AND  o.order_status IN ('COMPLETE', 'CLOSED') \n",
    " AND date_format(o.order_date, 'yyyy-MM') = '2014-01'                 \n",
    "    LEFT OUTER JOIN order_items oi \n",
    "        ON o.order_id = oi.order_item_order_id\n",
    " GROUP BY c.customer_id, c.customer_first_name, c.customer_last_name\n",
    "ORDER BY customer_revenue DESC, c.customer_id"
   ]
  },
  {
   "cell_type": "markdown",
   "metadata": {},
   "source": [
    "### Exercise 4 - Revenue Per Category\n",
    "\n",
    "Get the revenue generated for each category for the month of 2014 January\n",
    "* Tables - orders, order_items, products and categories\n",
    "* Data should be sorted in ascending order by category_id.\n",
    "* Output should contain all the fields from category along with the revenue as category_revenue.\n",
    "* Consider only COMPLETE and CLOSED orders"
   ]
  },
  {
   "cell_type": "code",
   "execution_count": 23,
   "metadata": {},
   "outputs": [
    {
     "data": {
      "text/plain": [
       "|          9|                     3|   Cardio Equip...\n"
      ]
     },
     "metadata": {},
     "output_type": "display_data",
     "source": "user"
    },
    {
     "data": {
      "text/plain": [
       "+-----------+----------------------+-------------------+----------------+\n",
       "|category_id|category_department_id|      category_name|category_revenue|\n",
       "+-----------+----------------------+-------------------+----------------+\n",
       "|          2|                     2|             Soccer|         1094.88|\n",
       "|          3|                     2|Baseball & Softball|         3214.41|\n",
       "|          4|                     2|         Basketball|         1299.98|\n",
       "|          5|                     2|           Lacrosse|         1299.69|\n",
       "|          6|                     2|   Tennis & Racquet|         1124.75|\n",
       "|          7|                     2|             Hockey|          1433.0|\n",
       "|          9|                     3|   Cardio Equipment|       133156.77|\n",
       "|         10|                     3|  Strength Training|         3388.96|\n",
       "|         11|                     3|Fitness Accessories|         1509.73|\n",
       "|         12|                     3|       Boxing & MMA|         3998.46|\n",
       "+-----------+----------------------+-------------------+----------------+\n",
       "only showing top 10 rows\n",
       "\n"
      ]
     },
     "execution_count": 23,
     "metadata": {},
     "output_type": "execute_result"
    }
   ],
   "source": [
    "%%sql\n",
    "\n",
    "SELECT c.*, \n",
    "    round(sum(oi.order_item_subtotal), 2) AS category_revenue \n",
    "FROM categories c JOIN products p \n",
    "        ON c.category_id = p.product_category_id \n",
    "    JOIN order_items oi \n",
    "        ON p.product_id = oi.order_item_product_id \n",
    "    JOIN orders o\n",
    "        ON oi.order_item_order_id = o.order_id\n",
    "WHERE date_format(o.order_date, 'yyyy-MM') = '2014-01' \n",
    "    AND o.order_status IN ('COMPLETE', 'CLOSED')\n",
    "GROUP BY c.category_id,c.category_department_id,c.category_name\n",
    "ORDER BY c.category_id"
   ]
  },
  {
   "cell_type": "markdown",
   "metadata": {},
   "source": [
    "### Exercise 5 - Product Count Per Department\n",
    "\n",
    "Get the products for each department.\n",
    "* Tables - departments, categories, products\n",
    "* Data should be sorted in ascending order by department_id\n",
    "* Output should contain all the fields from department and the product count as product_count"
   ]
  },
  {
   "cell_type": "code",
   "execution_count": 74,
   "metadata": {},
   "outputs": [
    {
     "data": {
      "text/plain": [
       "+-------------+---------------+-------------+\n",
       "|department_id|department_name|product_count|\n",
       "+-------------+---------------+-------------+\n",
       "|            2|        Fitness|          168|\n",
       "|            3|       Footwear|          168|\n",
       "|            4|        Apparel|          140|\n",
       "|            5|           Golf|          120|\n",
       "|            6|       Outdoors|          336|\n",
       "|            7|       Fan Shop|          149|\n",
       "+-------------+---------------+-------------+\n",
       "\n"
      ]
     },
     "execution_count": 74,
     "metadata": {},
     "output_type": "execute_result"
    }
   ],
   "source": [
    "%%sql\n",
    "\n",
    "SELECT d.*, \n",
    "    count(p.product_id) AS product_count \n",
    "FROM departments d \n",
    "    JOIN categories c \n",
    "        ON d.department_id = c.category_department_id \n",
    "    JOIN products p\n",
    "        ON c.category_id = p.product_category_id\n",
    "GROUP BY d.department_id,d.department_name\n",
    "ORDER BY d.department_id"
   ]
  }
 ],
 "metadata": {
  "celltoolbar": "Tags",
  "kernelspec": {
   "display_name": "Spark 2 - Scala",
   "language": "scala",
   "name": "spark_2_scala"
  },
  "language_info": {
   "codemirror_mode": "text/x-scala",
   "file_extension": ".scala",
   "mimetype": "text/x-scala",
   "name": "scala",
   "pygments_lexer": "scala",
   "version": "2.11.12"
  }
 },
 "nbformat": 4,
 "nbformat_minor": 4
}
