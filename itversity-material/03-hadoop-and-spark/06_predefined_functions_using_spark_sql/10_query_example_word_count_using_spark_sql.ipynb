{
 "cells": [
  {
   "cell_type": "markdown",
   "metadata": {},
   "source": [
    "## Query Example - Word Count\n",
    "\n",
    "Let us see how we can perform word count using Spark SQL. Using word count as an example we will understand how we can come up with the solution using pre-defined functions available."
   ]
  },
  {
   "cell_type": "markdown",
   "metadata": {},
   "source": [
    "Let us start spark context for this Notebook so that we can execute the code provided. You can sign up for our [10 node state of the art cluster/labs](https://labs.itversity.com/plans) to learn Spark SQL using our unique integrated LMS."
   ]
  },
  {
   "cell_type": "code",
   "execution_count": 1,
   "metadata": {},
   "outputs": [
    {
     "data": {
      "text/plain": [
       "username = itv002480\n"
      ]
     },
     "metadata": {},
     "output_type": "display_data",
     "source": "user"
    },
    {
     "data": {
      "text/plain": [
       "itv002480"
      ]
     },
     "execution_count": 1,
     "metadata": {},
     "output_type": "execute_result"
    }
   ],
   "source": [
    "val username = System.getProperty(\"user.name\")"
   ]
  },
  {
   "cell_type": "code",
   "execution_count": 2,
   "metadata": {},
   "outputs": [
    {
     "data": {
      "text/plain": [
       "username = itv002480\n",
       "spark = org.apache.spark.sql.SparkSession@11f6afd8\n"
      ]
     },
     "metadata": {},
     "output_type": "display_data",
     "source": "user"
    },
    {
     "data": {
      "text/plain": [
       "org.apache.spark.sql.SparkSession@11f6afd8"
      ]
     },
     "execution_count": 2,
     "metadata": {},
     "output_type": "execute_result"
    }
   ],
   "source": [
    "import org.apache.spark.sql.SparkSession\n",
    "\n",
    "val username = System.getProperty(\"user.name\")\n",
    "val spark = SparkSession.\n",
    "    builder.\n",
    "    config(\"spark.ui.port\", \"0\").\n",
    "    config(\"spark.sql.warehouse.dir\", s\"/user/${username}/warehouse\").\n",
    "    enableHiveSupport.\n",
    "    appName(s\"${username} | Spark SQL - Predefined Functions\").\n",
    "    master(\"yarn\").\n",
    "    getOrCreate"
   ]
  },
  {
   "cell_type": "markdown",
   "metadata": {},
   "source": [
    "If you are going to use CLIs, you can use Spark SQL using one of the 3 approaches.\n",
    "\n",
    "**Using Spark SQL**\n",
    "\n",
    "```\n",
    "spark2-sql \\\n",
    "    --master yarn \\\n",
    "    --conf spark.ui.port=0 \\\n",
    "    --conf spark.sql.warehouse.dir=/user/${USER}/warehouse\n",
    "```\n",
    "\n",
    "**Using Scala**\n",
    "\n",
    "```\n",
    "spark2-shell \\\n",
    "    --master yarn \\\n",
    "    --conf spark.ui.port=0 \\\n",
    "    --conf spark.sql.warehouse.dir=/user/${USER}/warehouse\n",
    "```\n",
    "\n",
    "**Using Pyspark**\n",
    "\n",
    "```\n",
    "pyspark2 \\\n",
    "    --master yarn \\\n",
    "    --conf spark.ui.port=0 \\\n",
    "    --conf spark.sql.warehouse.dir=/user/${USER}/warehouse\n",
    "```"
   ]
  },
  {
   "cell_type": "markdown",
   "metadata": {},
   "source": [
    "* Create table by name lines.\n",
    "* Insert data into the table.\n",
    "* Split lines into array of words.\n",
    "* Explode array of words from each line into individual records.\n",
    "* Use group by and get the count. We cannot use `GROUP BY` directly on exploded records and hence we need to use nested sub query."
   ]
  },
  {
   "cell_type": "code",
   "execution_count": 3,
   "metadata": {},
   "outputs": [
    {
     "data": {
      "text/plain": [
       "Waiting for a Spark session to start..."
      ]
     },
     "metadata": {},
     "output_type": "display_data",
     "source": "user"
    },
    {
     "data": {
      "text/plain": [
       "++\n",
       "||\n",
       "++\n",
       "++\n",
       "\n"
      ]
     },
     "execution_count": 3,
     "metadata": {},
     "output_type": "execute_result"
    }
   ],
   "source": [
    "%%sql\n",
    "\n",
    "DROP DATABASE IF EXISTS itv002480_demo CASCADE"
   ]
  },
  {
   "cell_type": "code",
   "execution_count": 4,
   "metadata": {},
   "outputs": [
    {
     "data": {
      "text/plain": [
       "++\n",
       "||\n",
       "++\n",
       "++\n",
       "\n"
      ]
     },
     "execution_count": 4,
     "metadata": {},
     "output_type": "execute_result"
    }
   ],
   "source": [
    "%%sql\n",
    "\n",
    "CREATE DATABASE IF NOT EXISTS itv002480_demo"
   ]
  },
  {
   "cell_type": "code",
   "execution_count": 5,
   "metadata": {},
   "outputs": [
    {
     "data": {
      "text/plain": [
       "++\n",
       "||\n",
       "++\n",
       "++\n",
       "\n"
      ]
     },
     "execution_count": 5,
     "metadata": {},
     "output_type": "execute_result"
    }
   ],
   "source": [
    "%%sql\n",
    "\n",
    "USE itv002480_demo"
   ]
  },
  {
   "cell_type": "code",
   "execution_count": 6,
   "metadata": {},
   "outputs": [
    {
     "data": {
      "text/plain": [
       "++\n",
       "||\n",
       "++\n",
       "++\n",
       "\n"
      ]
     },
     "execution_count": 6,
     "metadata": {},
     "output_type": "execute_result"
    }
   ],
   "source": [
    "%%sql\n",
    "\n",
    "CREATE TABLE lines (s STRING)"
   ]
  },
  {
   "cell_type": "code",
   "execution_count": 7,
   "metadata": {},
   "outputs": [
    {
     "data": {
      "text/plain": [
       "++\n",
       "||\n",
       "++\n",
       "++\n",
       "\n"
      ]
     },
     "execution_count": 7,
     "metadata": {},
     "output_type": "execute_result"
    }
   ],
   "source": [
    "%%sql\n",
    "\n",
    "INSERT INTO lines VALUES\n",
    "  ('Hello World'),\n",
    "  ('How are you'),\n",
    "  ('Let us perform the word count'),\n",
    "  ('The definition of word count is'),\n",
    "  ('to get the count of each word from this data')"
   ]
  },
  {
   "cell_type": "code",
   "execution_count": 8,
   "metadata": {},
   "outputs": [
    {
     "data": {
      "text/plain": [
       "+--------------------+\n",
       "|                   s|\n",
       "+--------------------+\n",
       "|         Hello World|\n",
       "|         How are you|\n",
       "|Let us perform th...|\n",
       "|The definition of...|\n",
       "|to get the count ...|\n",
       "+--------------------+\n",
       "\n"
      ]
     },
     "execution_count": 8,
     "metadata": {},
     "output_type": "execute_result"
    }
   ],
   "source": [
    "%%sql\n",
    "\n",
    "SELECT * FROM lines"
   ]
  },
  {
   "cell_type": "code",
   "execution_count": 9,
   "metadata": {},
   "outputs": [
    {
     "data": {
      "text/plain": [
       "+--------------------+\n",
       "|          word_array|\n",
       "+--------------------+\n",
       "|      [Hello, World]|\n",
       "|     [How, are, you]|\n",
       "|[Let, us, perform...|\n",
       "|[The, definition,...|\n",
       "|[to, get, the, co...|\n",
       "+--------------------+\n",
       "\n"
      ]
     },
     "execution_count": 9,
     "metadata": {},
     "output_type": "execute_result"
    }
   ],
   "source": [
    "%%sql\n",
    "\n",
    "SELECT split(s, ' ') AS word_array FROM lines"
   ]
  },
  {
   "cell_type": "code",
   "execution_count": 10,
   "metadata": {},
   "outputs": [
    {
     "name": "stdout",
     "output_type": "stream",
     "text": [
      "+---------------------------+\n",
      "|function                   |\n",
      "+---------------------------+\n",
      "|!                          |\n",
      "|%                          |\n",
      "|&                          |\n",
      "|*                          |\n",
      "|+                          |\n",
      "|-                          |\n",
      "|/                          |\n",
      "|<                          |\n",
      "|<=                         |\n",
      "|<=>                        |\n",
      "|=                          |\n",
      "|==                         |\n",
      "|>                          |\n",
      "|>=                         |\n",
      "|^                          |\n",
      "|abs                        |\n",
      "|acos                       |\n",
      "|add_months                 |\n",
      "|aggregate                  |\n",
      "|and                        |\n",
      "|approx_count_distinct      |\n",
      "|approx_percentile          |\n",
      "|array                      |\n",
      "|array_contains             |\n",
      "|array_distinct             |\n",
      "|array_except               |\n",
      "|array_intersect            |\n",
      "|array_join                 |\n",
      "|array_max                  |\n",
      "|array_min                  |\n",
      "|array_position             |\n",
      "|array_remove               |\n",
      "|array_repeat               |\n",
      "|array_sort                 |\n",
      "|array_union                |\n",
      "|arrays_overlap             |\n",
      "|arrays_zip                 |\n",
      "|ascii                      |\n",
      "|asin                       |\n",
      "|assert_true                |\n",
      "|atan                       |\n",
      "|atan2                      |\n",
      "|avg                        |\n",
      "|base64                     |\n",
      "|bigint                     |\n",
      "|bin                        |\n",
      "|binary                     |\n",
      "|bit_length                 |\n",
      "|boolean                    |\n",
      "|bround                     |\n",
      "|cardinality                |\n",
      "|cast                       |\n",
      "|cbrt                       |\n",
      "|ceil                       |\n",
      "|ceiling                    |\n",
      "|char                       |\n",
      "|char_length                |\n",
      "|character_length           |\n",
      "|chr                        |\n",
      "|coalesce                   |\n",
      "|collect_list               |\n",
      "|collect_set                |\n",
      "|concat                     |\n",
      "|concat_ws                  |\n",
      "|conv                       |\n",
      "|corr                       |\n",
      "|cos                        |\n",
      "|cosh                       |\n",
      "|cot                        |\n",
      "|count                      |\n",
      "|count_min_sketch           |\n",
      "|covar_pop                  |\n",
      "|covar_samp                 |\n",
      "|crc32                      |\n",
      "|cube                       |\n",
      "|cume_dist                  |\n",
      "|current_database           |\n",
      "|current_date               |\n",
      "|current_timestamp          |\n",
      "|date                       |\n",
      "|date_add                   |\n",
      "|date_format                |\n",
      "|date_sub                   |\n",
      "|date_trunc                 |\n",
      "|datediff                   |\n",
      "|day                        |\n",
      "|dayofmonth                 |\n",
      "|dayofweek                  |\n",
      "|dayofyear                  |\n",
      "|decimal                    |\n",
      "|decode                     |\n",
      "|degrees                    |\n",
      "|dense_rank                 |\n",
      "|double                     |\n",
      "|e                          |\n",
      "|element_at                 |\n",
      "|elt                        |\n",
      "|encode                     |\n",
      "|exists                     |\n",
      "|exp                        |\n",
      "|explode                    |\n",
      "|explode_outer              |\n",
      "|expm1                      |\n",
      "|factorial                  |\n",
      "|filter                     |\n",
      "|find_in_set                |\n",
      "|first                      |\n",
      "|first_value                |\n",
      "|flatten                    |\n",
      "|float                      |\n",
      "|floor                      |\n",
      "|format_number              |\n",
      "|format_string              |\n",
      "|from_json                  |\n",
      "|from_unixtime              |\n",
      "|from_utc_timestamp         |\n",
      "|get_json_object            |\n",
      "|greatest                   |\n",
      "|grouping                   |\n",
      "|grouping_id                |\n",
      "|hash                       |\n",
      "|hex                        |\n",
      "|hour                       |\n",
      "|hypot                      |\n",
      "|if                         |\n",
      "|ifnull                     |\n",
      "|in                         |\n",
      "|initcap                    |\n",
      "|inline                     |\n",
      "|inline_outer               |\n",
      "|input_file_block_length    |\n",
      "|input_file_block_start     |\n",
      "|input_file_name            |\n",
      "|instr                      |\n",
      "|int                        |\n",
      "|isnan                      |\n",
      "|isnotnull                  |\n",
      "|isnull                     |\n",
      "|java_method                |\n",
      "|json_tuple                 |\n",
      "|kurtosis                   |\n",
      "|lag                        |\n",
      "|last                       |\n",
      "|last_day                   |\n",
      "|last_value                 |\n",
      "|lcase                      |\n",
      "|lead                       |\n",
      "|least                      |\n",
      "|left                       |\n",
      "|length                     |\n",
      "|levenshtein                |\n",
      "|like                       |\n",
      "|ln                         |\n",
      "|locate                     |\n",
      "|log                        |\n",
      "|log10                      |\n",
      "|log1p                      |\n",
      "|log2                       |\n",
      "|lower                      |\n",
      "|lpad                       |\n",
      "|ltrim                      |\n",
      "|map                        |\n",
      "|map_concat                 |\n",
      "|map_from_arrays            |\n",
      "|map_from_entries           |\n",
      "|map_keys                   |\n",
      "|map_values                 |\n",
      "|max                        |\n",
      "|md5                        |\n",
      "|mean                       |\n",
      "|min                        |\n",
      "|minute                     |\n",
      "|mod                        |\n",
      "|monotonically_increasing_id|\n",
      "|month                      |\n",
      "|months_between             |\n",
      "|named_struct               |\n",
      "|nanvl                      |\n",
      "|negative                   |\n",
      "|next_day                   |\n",
      "|not                        |\n",
      "|now                        |\n",
      "|ntile                      |\n",
      "|nullif                     |\n",
      "|nvl                        |\n",
      "|nvl2                       |\n",
      "|octet_length               |\n",
      "|or                         |\n",
      "|parse_url                  |\n",
      "|percent_rank               |\n",
      "|percentile                 |\n",
      "|percentile_approx          |\n",
      "|pi                         |\n",
      "|pmod                       |\n",
      "|posexplode                 |\n",
      "|posexplode_outer           |\n",
      "|position                   |\n",
      "|positive                   |\n",
      "|pow                        |\n",
      "|power                      |\n",
      "|printf                     |\n",
      "|quarter                    |\n",
      "|radians                    |\n",
      "|rand                       |\n",
      "|randn                      |\n",
      "|rank                       |\n",
      "|reflect                    |\n",
      "|regexp_extract             |\n",
      "|regexp_replace             |\n",
      "|repeat                     |\n",
      "|replace                    |\n",
      "|reverse                    |\n",
      "|right                      |\n",
      "|rint                       |\n",
      "|rlike                      |\n",
      "|rollup                     |\n",
      "|round                      |\n",
      "|row_number                 |\n",
      "|rpad                       |\n",
      "|rtrim                      |\n",
      "|schema_of_json             |\n",
      "|second                     |\n",
      "|sentences                  |\n",
      "|sequence                   |\n",
      "|sha                        |\n",
      "|sha1                       |\n",
      "|sha2                       |\n",
      "|shiftleft                  |\n",
      "|shiftright                 |\n",
      "|shiftrightunsigned         |\n",
      "|shuffle                    |\n",
      "|sign                       |\n",
      "|signum                     |\n",
      "|sin                        |\n",
      "|sinh                       |\n",
      "|size                       |\n",
      "|skewness                   |\n",
      "|slice                      |\n",
      "|smallint                   |\n",
      "|sort_array                 |\n",
      "|soundex                    |\n",
      "|space                      |\n",
      "|spark_partition_id         |\n",
      "|split                      |\n",
      "|sqrt                       |\n",
      "|stack                      |\n",
      "|std                        |\n",
      "|stddev                     |\n",
      "|stddev_pop                 |\n",
      "|stddev_samp                |\n",
      "|str_to_map                 |\n",
      "|string                     |\n",
      "|struct                     |\n",
      "|substr                     |\n",
      "|substring                  |\n",
      "|substring_index            |\n",
      "|sum                        |\n",
      "|tan                        |\n",
      "|tanh                       |\n",
      "|timestamp                  |\n",
      "|tinyint                    |\n",
      "|to_date                    |\n",
      "|to_json                    |\n",
      "|to_timestamp               |\n",
      "|to_unix_timestamp          |\n",
      "|to_utc_timestamp           |\n",
      "|transform                  |\n",
      "|translate                  |\n",
      "|trim                       |\n",
      "|trunc                      |\n",
      "|ucase                      |\n",
      "|unbase64                   |\n",
      "|unhex                      |\n",
      "|unix_timestamp             |\n",
      "|upper                      |\n",
      "|uuid                       |\n",
      "|var_pop                    |\n",
      "|var_samp                   |\n",
      "|variance                   |\n",
      "|weekday                    |\n",
      "|weekofyear                 |\n",
      "|when                       |\n",
      "|window                     |\n",
      "|xpath                      |\n",
      "|xpath_boolean              |\n",
      "|xpath_double               |\n",
      "|xpath_float                |\n",
      "|xpath_int                  |\n",
      "|xpath_long                 |\n",
      "|xpath_number               |\n",
      "|xpath_short                |\n",
      "|xpath_string               |\n",
      "|year                       |\n",
      "|zip_with                   |\n",
      "||                          |\n",
      "|~                          |\n",
      "+---------------------------+\n",
      "\n"
     ]
    }
   ],
   "source": [
    "spark.sql(\"SHOW functions\").show(300, false)"
   ]
  },
  {
   "cell_type": "code",
   "execution_count": 11,
   "metadata": {},
   "outputs": [
    {
     "data": {
      "text/plain": [
       "+-------+\n",
       "|  words|\n",
       "+-------+\n",
       "|  Hello|\n",
       "|  World|\n",
       "|    How|\n",
       "|    are|\n",
       "|    you|\n",
       "|    Let|\n",
       "|     us|\n",
       "|perform|\n",
       "|    the|\n",
       "|   word|\n",
       "+-------+\n",
       "only showing top 10 rows\n",
       "\n"
      ]
     },
     "execution_count": 11,
     "metadata": {},
     "output_type": "execute_result"
    }
   ],
   "source": [
    "%%sql\n",
    "\n",
    "SELECT explode(split(s, ' ')) AS words FROM lines"
   ]
  },
  {
   "cell_type": "code",
   "execution_count": 12,
   "metadata": {},
   "outputs": [
    {
     "data": {
      "text/plain": [
       "+--------+\n",
       "|count(1)|\n",
       "+--------+\n",
       "|      27|\n",
       "+--------+\n",
       "\n"
      ]
     },
     "execution_count": 12,
     "metadata": {},
     "output_type": "execute_result"
    }
   ],
   "source": [
    "%%sql\n",
    "\n",
    "SELECT count(1) FROM (SELECT explode(split(s, ' ')) AS words FROM lines)"
   ]
  },
  {
   "cell_type": "code",
   "execution_count": 13,
   "metadata": {},
   "outputs": [
    {
     "data": {
      "text/plain": [
       "Magic sql failed to execute with error: \n",
       "Generators are not supported outside the SELECT clause, but got: 'Aggregate [explode(split(s#51,  ))], [explode(split(s#51,  )) AS words#49, count(1) AS count(1)#52L];"
      ]
     },
     "execution_count": 13,
     "metadata": {},
     "output_type": "execute_result"
    }
   ],
   "source": [
    "%%sql\n",
    "\n",
    "SELECT explode(split(s, ' ')) AS words, count(1) FROM lines\n",
    "GROUP BY explode(split(s, ' '))"
   ]
  },
  {
   "cell_type": "code",
   "execution_count": 14,
   "metadata": {},
   "outputs": [
    {
     "data": {
      "text/plain": [
       "+-----+--------+\n",
       "| word|count(1)|\n",
       "+-----+--------+\n",
       "|World|       1|\n",
       "|   us|       1|\n",
       "|  you|       1|\n",
       "|count|       3|\n",
       "|   is|       1|\n",
       "| each|       1|\n",
       "| data|       1|\n",
       "|Hello|       1|\n",
       "|  How|       1|\n",
       "|  the|       2|\n",
       "+-----+--------+\n",
       "only showing top 10 rows\n",
       "\n"
      ]
     },
     "execution_count": 14,
     "metadata": {},
     "output_type": "execute_result"
    }
   ],
   "source": [
    "%%sql\n",
    "\n",
    "SELECT word, count(1) FROM (\n",
    "  SELECT explode(split(s, ' ')) AS word FROM lines\n",
    ") q\n",
    "GROUP BY word"
   ]
  },
  {
   "cell_type": "code",
   "execution_count": 15,
   "metadata": {},
   "outputs": [
    {
     "data": {
      "text/plain": [
       "+--------+\n",
       "|count(1)|\n",
       "+--------+\n",
       "|      21|\n",
       "+--------+\n",
       "\n"
      ]
     },
     "execution_count": 15,
     "metadata": {},
     "output_type": "execute_result"
    }
   ],
   "source": [
    "%%sql\n",
    "\n",
    "SELECT count(1) FROM\n",
    "(\n",
    "    SELECT word, count(1) FROM (\n",
    "        SELECT explode(split(s, ' ')) AS word FROM lines\n",
    "    ) q\n",
    "    GROUP BY word\n",
    ")"
   ]
  },
  {
   "cell_type": "code",
   "execution_count": null,
   "metadata": {},
   "outputs": [],
   "source": []
  }
 ],
 "metadata": {
  "kernelspec": {
   "display_name": "Spark 2 - Scala",
   "language": "scala",
   "name": "spark_2_scala"
  },
  "language_info": {
   "codemirror_mode": "text/x-scala",
   "file_extension": ".scala",
   "mimetype": "text/x-scala",
   "name": "scala",
   "pygments_lexer": "scala",
   "version": "2.11.12"
  }
 },
 "nbformat": 4,
 "nbformat_minor": 4
}
