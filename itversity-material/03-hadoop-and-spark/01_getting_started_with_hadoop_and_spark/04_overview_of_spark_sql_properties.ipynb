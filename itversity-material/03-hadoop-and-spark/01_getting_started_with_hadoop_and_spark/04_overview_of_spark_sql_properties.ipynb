{
 "cells": [
  {
   "cell_type": "markdown",
   "metadata": {},
   "source": [
    "## Overview of Spark SQL Properties\n",
    "Let us understand details about Spark SQL properties which control Spark SQL run time environment. "
   ]
  },
  {
   "cell_type": "markdown",
   "metadata": {},
   "source": [
    "* Spark SQL inherits properties defined for Spark. There are some Spark SQL related properties as well and these are applicable even for Data Frames.\n",
    "* We can review these properties using Management Tools such as **Ambari** or **Cloudera Manager Web UI**\n",
    "* Spark run time behavior is controlled by HDFS Properties files, YARN Properties files, Hive Properties files etc in those clusters where Spark is integrated with Hadoop and Hive.\n",
    "* We can get all the properties using `SET;` in Spark SQL CLI\n",
    "\n",
    "Let us review some important properties in Spark SQL. \n",
    "\n",
    "```\n",
    "spark.sql.warehouse.dir\n",
    "spark.sql.catalogImplementation\n",
    "```\n",
    "* We can review the current value using `SET spark.sql.warehouse.dir;`"
   ]
  },
  {
   "cell_type": "code",
   "execution_count": 1,
   "metadata": {},
   "outputs": [
    {
     "data": {
      "text/plain": [
       "spark = org.apache.spark.sql.SparkSession@7193a613\n"
      ]
     },
     "metadata": {},
     "output_type": "display_data",
     "source": "user"
    },
    {
     "data": {
      "text/plain": [
       "org.apache.spark.sql.SparkSession@7193a613"
      ]
     },
     "execution_count": 1,
     "metadata": {},
     "output_type": "execute_result"
    }
   ],
   "source": [
    "val spark = SparkSession.\n",
    "    builder.\n",
    "    config(\"spark.ui.port\", \"0\").\n",
    "    config(\"spark.sql.warehouse.dir\", \"/user/itv002480/warehouse\").\n",
    "    enableHiveSupport.\n",
    "    master(\"yarn\").\n",
    "    appName(\"Getting Started - Spark SQL\").\n",
    "    getOrCreate"
   ]
  },
  {
   "cell_type": "code",
   "execution_count": 2,
   "metadata": {},
   "outputs": [
    {
     "data": {
      "text/plain": [
       "Waiting for a Spark session to start..."
      ]
     },
     "metadata": {},
     "output_type": "display_data",
     "source": "user"
    },
    {
     "data": {
      "text/plain": [
       "+--------------------+--------------------+\n",
       "|                 key|               value|\n",
       "+--------------------+--------------------+\n",
       "|        spark.app.id|application_16500...|\n",
       "|      spark.app.name|        Apache Toree|\n",
       "|spark.driver.appU...|http://g02.itvers...|\n",
       "|spark.driver.extr...|-Dderby.system.ho...|\n",
       "|   spark.driver.host|   g02.itversity.com|\n",
       "|   spark.driver.port|               39279|\n",
       "|spark.dynamicAllo...|                true|\n",
       "|spark.dynamicAllo...|                  10|\n",
       "|spark.dynamicAllo...|                   2|\n",
       "|  spark.eventLog.dir| hdfs:///spark2-logs|\n",
       "+--------------------+--------------------+\n",
       "only showing top 10 rows\n",
       "\n"
      ]
     },
     "execution_count": 2,
     "metadata": {},
     "output_type": "execute_result"
    }
   ],
   "source": [
    "%%sql\n",
    "\n",
    "SET"
   ]
  },
  {
   "cell_type": "code",
   "execution_count": 3,
   "metadata": {},
   "outputs": [
    {
     "data": {
      "text/plain": [
       "+--------------------+--------------------+\n",
       "|                 key|               value|\n",
       "+--------------------+--------------------+\n",
       "|spark.sql.warehou...|/user/itv002480/w...|\n",
       "+--------------------+--------------------+\n",
       "\n"
      ]
     },
     "execution_count": 3,
     "metadata": {},
     "output_type": "execute_result"
    }
   ],
   "source": [
    "%%sql\n",
    "\n",
    "SET spark.sql.warehouse.dir"
   ]
  },
  {
   "cell_type": "markdown",
   "metadata": {},
   "source": [
    "* Properties with default values does not show up as part of `SET` command. But we can check and overwrite the values - for example"
   ]
  },
  {
   "cell_type": "code",
   "execution_count": 4,
   "metadata": {},
   "outputs": [
    {
     "data": {
      "text/plain": [
       "+--------------------+-----+\n",
       "|                 key|value|\n",
       "+--------------------+-----+\n",
       "|spark.sql.shuffle...|  200|\n",
       "+--------------------+-----+\n",
       "\n"
      ]
     },
     "execution_count": 4,
     "metadata": {},
     "output_type": "execute_result"
    }
   ],
   "source": [
    "%%sql\n",
    "\n",
    "SET spark.sql.shuffle.partitions"
   ]
  },
  {
   "cell_type": "markdown",
   "metadata": {},
   "source": [
    "* We can overwrite property by setting value using the same **SET** command, eg:"
   ]
  },
  {
   "cell_type": "code",
   "execution_count": 5,
   "metadata": {},
   "outputs": [
    {
     "data": {
      "text/plain": [
       "+--------------------+-----+\n",
       "|                 key|value|\n",
       "+--------------------+-----+\n",
       "|spark.sql.shuffle...|    2|\n",
       "+--------------------+-----+\n",
       "\n"
      ]
     },
     "execution_count": 5,
     "metadata": {},
     "output_type": "execute_result"
    }
   ],
   "source": [
    "%%sql\n",
    "\n",
    "SET spark.sql.shuffle.partitions=2"
   ]
  },
  {
   "cell_type": "code",
   "execution_count": null,
   "metadata": {},
   "outputs": [],
   "source": []
  }
 ],
 "metadata": {
  "celltoolbar": "Tags",
  "kernelspec": {
   "display_name": "Spark 2 - Scala",
   "language": "scala",
   "name": "spark_2_scala"
  },
  "language_info": {
   "codemirror_mode": "text/x-scala",
   "file_extension": ".scala",
   "mimetype": "text/x-scala",
   "name": "scala",
   "pygments_lexer": "scala",
   "version": "2.11.12"
  }
 },
 "nbformat": 4,
 "nbformat_minor": 4
}
