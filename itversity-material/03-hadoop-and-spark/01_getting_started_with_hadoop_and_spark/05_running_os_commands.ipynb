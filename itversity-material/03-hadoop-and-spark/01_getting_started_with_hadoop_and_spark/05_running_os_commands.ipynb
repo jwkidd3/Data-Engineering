{
 "cells": [
  {
   "cell_type": "markdown",
   "metadata": {},
   "source": [
    "## Running OS Commands\n",
    "\n",
    "Let us understand how to run OS commands using Spark SQL CLI."
   ]
  },
  {
   "cell_type": "markdown",
   "metadata": {},
   "source": [
    "* We can run OS commands using **!** at the beginning.\n",
    "  * Listing local Files `!ls -ltr;`\n",
    "  * Listing HDFS Files `!hdfs dfs -ls /public/retail_db;`"
   ]
  },
  {
   "cell_type": "code",
   "execution_count": 1,
   "metadata": {},
   "outputs": [
    {
     "name": "stdout",
     "output_type": "stream",
     "text": [
      "total 52\n",
      "-rw-r--r-- 1 itv002480 students 2278 Apr  6 03:13 11_exercise_getting_started.ipynb\n",
      "-rw-r--r-- 1 itv002480 students 1572 Apr  6 03:13 10_role_of_spark_or_hive_metastore.ipynb\n",
      "-rw-r--r-- 1 itv002480 students 2963 Apr  6 03:13 09_retrieve_metadata_of_tables.ipynb\n",
      "-rw-r--r-- 1 itv002480 students 3286 Apr  6 03:13 08_managing_spark_metastore_tables.ipynb\n",
      "-rw-r--r-- 1 itv002480 students 5506 Apr  6 03:13 07_managing_spark_metastore_databases.ipynb\n",
      "-rw-r--r-- 1 itv002480 students 2216 Apr  6 03:13 06_understanding_warehouse_directory.ipynb\n",
      "-rw-r--r-- 1 itv002480 students 1233 Apr  6 03:13 05_running_os_commands.ipynb\n",
      "-rw-r--r-- 1 itv002480 students 1189 Apr  6 03:13 02_overview_of_spark_documentation.ipynb\n",
      "-rwxr-xr-x 1 itv002480 students 1106 Apr  6 03:13 01_getting_started.ipynb\n",
      "-rw-r--r-- 1 itv002480 students 1793 May 24 01:59 03_overview_of_spark_sql_cli.ipynb\n",
      "-rw-r--r-- 1 itv002480 students 5907 May 24 12:37 04_overview_of_spark_sql_properties.ipynb\n"
     ]
    },
    {
     "data": {
      "text/plain": [
       "warning: there was one feature warning; re-run with -feature for details\n"
      ]
     },
     "metadata": {},
     "output_type": "display_data",
     "source": "user"
    },
    {
     "data": {
      "text/plain": [
       "0"
      ]
     },
     "execution_count": 1,
     "metadata": {},
     "output_type": "execute_result"
    }
   ],
   "source": [
    "import sys.process._\n",
    "\n",
    "\"ls -ltr\"!"
   ]
  },
  {
   "cell_type": "code",
   "execution_count": 2,
   "metadata": {},
   "outputs": [
    {
     "name": "stdout",
     "output_type": "stream",
     "text": [
      "Found 7 items\n",
      "drwxr-xr-x   - hdfs supergroup          0 2021-01-28 08:49 /public/retail_db/categories\n",
      "drwxr-xr-x   - hdfs supergroup          0 2021-01-28 08:59 /public/retail_db/customers\n",
      "drwxr-xr-x   - hdfs supergroup          0 2021-01-28 09:44 /public/retail_db/departments\n",
      "drwxr-xr-x   - hdfs supergroup          0 2021-01-28 09:01 /public/retail_db/order_items\n",
      "drwxr-xr-x   - hdfs supergroup          0 2021-01-28 09:27 /public/retail_db/orders\n",
      "drwxr-xr-x   - hdfs supergroup          0 2021-01-28 08:54 /public/retail_db/products\n",
      "-rw-r--r--   3 hdfs supergroup       4965 2021-08-21 03:48 /public/retail_db/wordcount.rtf\n"
     ]
    },
    {
     "data": {
      "text/plain": [
       "warning: there was one feature warning; re-run with -feature for details\n"
      ]
     },
     "metadata": {},
     "output_type": "display_data",
     "source": "user"
    },
    {
     "data": {
      "text/plain": [
       "0"
      ]
     },
     "execution_count": 2,
     "metadata": {},
     "output_type": "execute_result"
    }
   ],
   "source": [
    "import sys.process._\n",
    "\n",
    "\"hdfs dfs -ls /public/retail_db\"!"
   ]
  },
  {
   "cell_type": "code",
   "execution_count": null,
   "metadata": {},
   "outputs": [],
   "source": [
    " "
   ]
  }
 ],
 "metadata": {
  "celltoolbar": "Tags",
  "kernelspec": {
   "display_name": "Spark 2 - Scala",
   "language": "scala",
   "name": "spark_2_scala"
  },
  "language_info": {
   "codemirror_mode": "text/x-scala",
   "file_extension": ".scala",
   "mimetype": "text/x-scala",
   "name": "scala",
   "pygments_lexer": "scala",
   "version": "2.11.12"
  }
 },
 "nbformat": 4,
 "nbformat_minor": 4
}
