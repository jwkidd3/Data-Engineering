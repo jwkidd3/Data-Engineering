{
 "cells": [
  {
   "cell_type": "markdown",
   "metadata": {},
   "source": [
    "## Managed Tables vs. External Tables\n",
    "\n",
    "Let us compare and contrast between Managed Tables and External Tables."
   ]
  },
  {
   "cell_type": "markdown",
   "metadata": {},
   "source": [
    "Let us start spark context for this Notebook so that we can execute the code provided. You can sign up for our [10 node state of the art cluster/labs](https://labs.itversity.com/plans) to learn Spark SQL using our unique integrated LMS."
   ]
  },
  {
   "cell_type": "code",
   "execution_count": null,
   "metadata": {},
   "outputs": [],
   "source": [
    "val username = System.getProperty(\"user.name\")"
   ]
  },
  {
   "cell_type": "code",
   "execution_count": 1,
   "metadata": {},
   "outputs": [
    {
     "data": {
      "text/plain": [
       "username = itv002480\n",
       "spark = org.apache.spark.sql.SparkSession@447c1781\n"
      ]
     },
     "metadata": {},
     "output_type": "display_data",
     "source": "user"
    },
    {
     "data": {
      "text/plain": [
       "org.apache.spark.sql.SparkSession@447c1781"
      ]
     },
     "execution_count": 1,
     "metadata": {},
     "output_type": "execute_result"
    }
   ],
   "source": [
    "import org.apache.spark.sql.SparkSession\n",
    "\n",
    "val username = System.getProperty(\"user.name\")\n",
    "val spark = SparkSession.\n",
    "    builder.\n",
    "    config(\"spark.ui.port\", \"0\").\n",
    "    config(\"spark.sql.warehouse.dir\", s\"/user/${username}/warehouse\").\n",
    "    enableHiveSupport.\n",
    "    appName(s\"${username} | Spark SQL - Managing Tables - Basic DDL and DML\").\n",
    "    master(\"yarn\").\n",
    "    getOrCreate"
   ]
  },
  {
   "cell_type": "markdown",
   "metadata": {},
   "source": [
    "If you are going to use CLIs, you can use Spark SQL using one of the 3 approaches.\n",
    "\n",
    "**Using Spark SQL**\n",
    "\n",
    "```\n",
    "spark2-sql \\\n",
    "    --master yarn \\\n",
    "    --conf spark.ui.port=0 \\\n",
    "    --conf spark.sql.warehouse.dir=/user/${USER}/warehouse\n",
    "```\n",
    "\n",
    "**Using Scala**\n",
    "\n",
    "```\n",
    "spark2-shell \\\n",
    "    --master yarn \\\n",
    "    --conf spark.ui.port=0 \\\n",
    "    --conf spark.sql.warehouse.dir=/user/${USER}/warehouse\n",
    "```\n",
    "\n",
    "**Using Pyspark**\n",
    "\n",
    "```\n",
    "pyspark2 \\\n",
    "    --master yarn \\\n",
    "    --conf spark.ui.port=0 \\\n",
    "    --conf spark.sql.warehouse.dir=/user/${USER}/warehouse\n",
    "```"
   ]
  },
  {
   "cell_type": "markdown",
   "metadata": {},
   "source": [
    "* When we say EXTERNAL and specify LOCATION or LOCATION alone as part of CREATE TABLE, it makes the table EXTERNAL.\n",
    "* Rest of the syntax is same as Managed Table.\n",
    "* However, when we drop **Managed Table**, it will delete metadata from metastore as well as data from HDFS.\n",
    "* When we drop **External Table**, only metadata will be dropped, not the data.\n",
    "* Typically we use **External Table** when same dataset is processed by multiple frameworks such as Hive, Pig, Spark etc.\n",
    "* We cannot run **TRUNCATE TABLE** command against External Tables."
   ]
  },
  {
   "cell_type": "code",
   "execution_count": 2,
   "metadata": {},
   "outputs": [
    {
     "data": {
      "text/plain": [
       "Waiting for a Spark session to start..."
      ]
     },
     "metadata": {},
     "output_type": "display_data",
     "source": "user"
    },
    {
     "data": {
      "text/plain": [
       "++\n",
       "||\n",
       "++\n",
       "++\n",
       "\n"
      ]
     },
     "execution_count": 2,
     "metadata": {},
     "output_type": "execute_result"
    }
   ],
   "source": [
    "%%sql\n",
    "\n",
    "USE itv002480_retail"
   ]
  },
  {
   "cell_type": "code",
   "execution_count": 3,
   "metadata": {},
   "outputs": [
    {
     "data": {
      "text/plain": [
       "+----------------+-----------+-----------+\n",
       "|        database|  tableName|isTemporary|\n",
       "+----------------+-----------+-----------+\n",
       "|itv002480_retail| categories|      false|\n",
       "|itv002480_retail|  customers|      false|\n",
       "|itv002480_retail|departments|      false|\n",
       "|itv002480_retail|order_items|      false|\n",
       "|itv002480_retail|     orders|      false|\n",
       "|itv002480_retail|   products|      false|\n",
       "+----------------+-----------+-----------+\n",
       "\n"
      ]
     },
     "execution_count": 3,
     "metadata": {},
     "output_type": "execute_result"
    }
   ],
   "source": [
    "%%sql\n",
    "\n",
    "SHOW tables"
   ]
  },
  {
   "cell_type": "code",
   "execution_count": 4,
   "metadata": {},
   "outputs": [
    {
     "name": "stdout",
     "output_type": "stream",
     "text": [
      "----------------------------------------+--------------------------------+\n",
      "|col_name                    |data_type                                                              |comment                         |\n",
      "+----------------------------+-----------------------------------------------------------------------+--------------------------------+\n",
      "|order_id                    |int                                                                    |Unique order id                 |\n",
      "|order_date                  |string                                                                 |Date on which order is placed   |\n",
      "|order_customer_id           |int                                                                    |Customer id who placed the order|\n",
      "|order_status                |string                                                                 |Current status of the order     |\n",
      "|                            |                                                                       |                                |\n",
      "|# Detailed Table Information|                                                                       |                                |\n",
      "|Database                    |itv002480_retail                                                       |                                |\n",
      "|Table                       |orders                                                                 |                                |\n",
      "|Owner                       |itv002480                                                              |                                |\n",
      "|Created Time                |Fri May 27 08:24:27 EDT 2022                                           |                                |\n",
      "|Last Access                 |Wed Dec 31 19:00:00 EST 1969                                           |                                |\n",
      "|Created By                  |Spark 2.4.7                                                            |                                |\n",
      "|Type                        |EXTERNAL                                                               |                                |\n",
      "|Provider                    |hive                                                                   |                                |\n",
      "|Comment                     |Table to save order level details                                      |                                |\n",
      "|Table Properties            |[transient_lastDdlTime=1653654296, STATS_GENERATED_VIA_STATS_TASK=true]|                                |\n",
      "|Statistics                  |2999944 bytes                                                          |                                |\n",
      "|Location                    |hdfs://m01.itversity.com:9000/user/itv002480/external/retail_db/orders |                                |\n",
      "|Serde Library               |org.apache.hadoop.hive.serde2.lazy.LazySimpleSerDe                     |                                |\n",
      "|InputFormat                 |org.apache.hadoop.mapred.TextInputFormat                               |                                |\n",
      "|OutputFormat                |org.apache.hadoop.hive.ql.io.HiveIgnoreKeyTextOutputFormat             |                                |\n",
      "|Storage Properties          |[field.delim=,, serialization.format=,]                                |                                |\n",
      "|Partition Provider          |Catalog                                                                |                                |\n",
      "+----------------------------+-----------------------------------------------------------------------+--------------------------------+\n",
      "\n",
      "+----------------------------+-------------------------------"
     ]
    }
   ],
   "source": [
    "spark.sql(\"DESCRIBE FORMATTED orders\").show(200, false)"
   ]
  },
  {
   "cell_type": "code",
   "execution_count": 5,
   "metadata": {},
   "outputs": [
    {
     "data": {
      "text/plain": [
       "Magic sql failed to execute with error: \n",
       "Operation not allowed: TRUNCATE TABLE on external tables: `itv002480_retail`.`orders`;"
      ]
     },
     "execution_count": 5,
     "metadata": {},
     "output_type": "execute_result"
    }
   ],
   "source": [
    "%%sql\n",
    "\n",
    "TRUNCATE TABLE orders"
   ]
  },
  {
   "cell_type": "code",
   "execution_count": 6,
   "metadata": {},
   "outputs": [
    {
     "name": "stdout",
     "output_type": "stream",
     "text": [
      "+----------------------------+--------------------------------------------------------------------------------------+-------+\n",
      "|col_name                    |data_type                                                                             |comment|\n",
      "+----------------------------+--------------------------------------------------------------------------------------+-------+\n",
      "|order_item_id               |int                                                                                   |null   |\n",
      "|order_item_order_id         |int                                                                                   |null   |\n",
      "|order_item_product_id       |int                                                                                   |null   |\n",
      "|order_item_quantity         |int                                                                                   |null   |\n",
      "|order_item_subtotal         |float                                                                                 |null   |\n",
      "|order_item_product_price    |float                                                                                 |null   |\n",
      "|                            |                                                                                      |       |\n",
      "|# Detailed Table Information|                                                                                      |       |\n",
      "|Database                    |itv002480_retail                                                                      |       |\n",
      "|Table                       |order_items                                                                           |       |\n",
      "|Owner                       |itv002480                                                                             |       |\n",
      "|Created Time                |Thu May 26 08:01:04 EDT 2022                                                          |       |\n",
      "|Last Access                 |Wed Dec 31 19:00:00 EST 1969                                                          |       |\n",
      "|Created By                  |Spark 2.4.7                                                                           |       |\n",
      "|Type                        |MANAGED                                                                               |       |\n",
      "|Provider                    |hive                                                                                  |       |\n",
      "|Table Properties            |[transient_lastDdlTime=1653566467, STATS_GENERATED_VIA_STATS_TASK=true]               |       |\n",
      "|Statistics                  |5408880 bytes                                                                         |       |\n",
      "|Location                    |hdfs://m01.itversity.com:9000/user/itv002480/warehouse/itv002480_retail.db/order_items|       |\n",
      "|Serde Library               |org.apache.hadoop.hive.serde2.lazy.LazySimpleSerDe                                    |       |\n",
      "|InputFormat                 |org.apache.hadoop.mapred.TextInputFormat                                              |       |\n",
      "|OutputFormat                |org.apache.hadoop.hive.ql.io.HiveIgnoreKeyTextOutputFormat                            |       |\n",
      "|Storage Properties          |[field.delim=,, serialization.format=,]                                               |       |\n",
      "|Partition Provider          |Catalog                                                                               |       |\n",
      "+----------------------------+--------------------------------------------------------------------------------------+-------+\n",
      "\n"
     ]
    }
   ],
   "source": [
    "spark.sql(\"DESCRIBE FORMATTED order_items\").show(200, false)"
   ]
  },
  {
   "cell_type": "code",
   "execution_count": 7,
   "metadata": {},
   "outputs": [
    {
     "data": {
      "text/plain": [
       "++\n",
       "||\n",
       "++\n",
       "++\n",
       "\n"
      ]
     },
     "execution_count": 7,
     "metadata": {},
     "output_type": "execute_result"
    }
   ],
   "source": [
    "%%sql\n",
    "\n",
    "TRUNCATE TABLE order_items"
   ]
  },
  {
   "cell_type": "code",
   "execution_count": 8,
   "metadata": {},
   "outputs": [
    {
     "data": {
      "text/plain": [
       "++\n",
       "||\n",
       "++\n",
       "++\n",
       "\n"
      ]
     },
     "execution_count": 8,
     "metadata": {},
     "output_type": "execute_result"
    }
   ],
   "source": [
    "%%sql\n",
    "\n",
    "DROP TABLE orders"
   ]
  },
  {
   "cell_type": "code",
   "execution_count": null,
   "metadata": {},
   "outputs": [],
   "source": [
    "%%sql\n",
    "\n",
    "DROP TABLE order_items"
   ]
  },
  {
   "cell_type": "code",
   "execution_count": null,
   "metadata": {},
   "outputs": [],
   "source": [
    "import sys.process._\n",
    "\n",
    "s\"hdfs dfs -ls /user/${username}/retail_db/orders\" !"
   ]
  }
 ],
 "metadata": {
  "kernelspec": {
   "display_name": "Spark 2 - Scala",
   "language": "scala",
   "name": "spark_2_scala"
  },
  "language_info": {
   "codemirror_mode": "text/x-scala",
   "file_extension": ".scala",
   "mimetype": "text/x-scala",
   "name": "scala",
   "pygments_lexer": "scala",
   "version": "2.11.12"
  }
 },
 "nbformat": 4,
 "nbformat_minor": 4
}
