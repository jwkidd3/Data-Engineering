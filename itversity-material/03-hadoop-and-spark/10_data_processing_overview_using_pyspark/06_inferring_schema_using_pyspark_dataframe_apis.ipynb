{
 "cells": [
  {
   "cell_type": "markdown",
   "metadata": {
    "pycharm": {
     "name": "#%% md\n"
    }
   },
   "source": [
    "## Inferring Schema\n",
    "\n",
    "Let us understand how we can quickly get schema using one file and apply on other files."
   ]
  },
  {
   "cell_type": "markdown",
   "metadata": {
    "pycharm": {
     "name": "#%% md\n"
    }
   },
   "source": [
    "* We can pass the file name pattern to `spark.read.csv` and read all the data in files under **hdfs://public/airlines_all/airlines** into Data Frame.\n",
    "* We can use options such as `header` and `inferSchema` to assign names and data types.\n",
    "* However `inferSchema` will end up going through the entire data to assign schema. We can use samplingRatio to process fraction of data and then infer the schema.\n",
    "* In case if the data in all the files have similar structure, we should be able to get the schema using one file and then apply it on others.\n",
    "* In our airlines data, schema is consistent across all the files and hence we should be able to get the schema by going through one file and apply on the entire dataset."
   ]
  },
  {
   "cell_type": "markdown",
   "metadata": {},
   "source": [
    "Let us start spark context for this Notebook so that we can execute the code provided. You can sign up for our [10 node state of the art cluster/labs](https://labs.itversity.com/plans) to learn Spark SQL using our unique integrated LMS."
   ]
  },
  {
   "cell_type": "code",
   "execution_count": 1,
   "metadata": {},
   "outputs": [],
   "source": [
    "from pyspark.sql import SparkSession\n",
    "\n",
    "import getpass\n",
    "username = getpass.getuser()\n",
    "\n",
    "spark = SparkSession. \\\n",
    "    builder. \\\n",
    "    config('spark.ui.port', '0'). \\\n",
    "    config(\"spark.sql.warehouse.dir\", f\"/user/{username}/warehouse\"). \\\n",
    "    enableHiveSupport(). \\\n",
    "    appName(f'{username} | Python - Data Processing - Overview'). \\\n",
    "    master('yarn'). \\\n",
    "    getOrCreate()"
   ]
  },
  {
   "cell_type": "markdown",
   "metadata": {},
   "source": [
    "If you are going to use CLIs, you can use Spark SQL using one of the 3 approaches.\n",
    "\n",
    "**Using Spark SQL**\n",
    "\n",
    "```\n",
    "spark2-sql \\\n",
    "    --master yarn \\\n",
    "    --conf spark.ui.port=0 \\\n",
    "    --conf spark.sql.warehouse.dir=/user/${USER}/warehouse\n",
    "```\n",
    "\n",
    "**Using Scala**\n",
    "\n",
    "```\n",
    "spark2-shell \\\n",
    "    --master yarn \\\n",
    "    --conf spark.ui.port=0 \\\n",
    "    --conf spark.sql.warehouse.dir=/user/${USER}/warehouse\n",
    "```\n",
    "\n",
    "**Using Pyspark**\n",
    "\n",
    "```\n",
    "pyspark2 \\\n",
    "    --master yarn \\\n",
    "    --conf spark.ui.port=0 \\\n",
    "    --conf spark.sql.warehouse.dir=/user/${USER}/warehouse\n",
    "```"
   ]
  },
  {
   "cell_type": "code",
   "execution_count": 2,
   "metadata": {},
   "outputs": [],
   "source": [
    "airlines_part_00000 = spark.read. \\\n",
    "    csv(\"/public/airlines_all/airlines/part-00000\",\n",
    "        header=True,\n",
    "        inferSchema=True\n",
    "       )"
   ]
  },
  {
   "cell_type": "code",
   "execution_count": 3,
   "metadata": {},
   "outputs": [
    {
     "data": {
      "text/plain": [
       "pyspark.sql.dataframe.DataFrame"
      ]
     },
     "execution_count": 3,
     "metadata": {},
     "output_type": "execute_result"
    }
   ],
   "source": [
    "type(airlines_part_00000)"
   ]
  },
  {
   "cell_type": "code",
   "execution_count": 4,
   "metadata": {},
   "outputs": [
    {
     "name": "stdout",
     "output_type": "stream",
     "text": [
      "+----+-----+----------+---------+-------+----------+-------+----------+-------------+---------+-------+-----------------+--------------+-------+--------+--------+------+----+--------+------+-------+---------+----------------+--------+------------+------------+--------+-------------+-----------------+------------+------------+\n",
      "|Year|Month|DayofMonth|DayOfWeek|DepTime|CRSDepTime|ArrTime|CRSArrTime|UniqueCarrier|FlightNum|TailNum|ActualElapsedTime|CRSElapsedTime|AirTime|ArrDelay|DepDelay|Origin|Dest|Distance|TaxiIn|TaxiOut|Cancelled|CancellationCode|Diverted|CarrierDelay|WeatherDelay|NASDelay|SecurityDelay|LateAircraftDelay|IsArrDelayed|IsDepDelayed|\n",
      "+----+-----+----------+---------+-------+----------+-------+----------+-------------+---------+-------+-----------------+--------------+-------+--------+--------+------+----+--------+------+-------+---------+----------------+--------+------------+------------+--------+-------------+-----------------+------------+------------+\n",
      "|1987|10   |14        |3        |741    |730       |912    |849       |PS           |1451     |NA     |91               |79            |NA     |23      |11      |SAN   |SFO |447     |NA    |NA     |0        |NA              |0       |NA          |NA          |NA      |NA           |NA               |YES         |YES         |\n",
      "|1987|10   |15        |4        |729    |730       |903    |849       |PS           |1451     |NA     |94               |79            |NA     |14      |-1      |SAN   |SFO |447     |NA    |NA     |0        |NA              |0       |NA          |NA          |NA      |NA           |NA               |YES         |NO          |\n",
      "|1987|10   |17        |6        |741    |730       |918    |849       |PS           |1451     |NA     |97               |79            |NA     |29      |11      |SAN   |SFO |447     |NA    |NA     |0        |NA              |0       |NA          |NA          |NA      |NA           |NA               |YES         |YES         |\n",
      "|1987|10   |18        |7        |729    |730       |847    |849       |PS           |1451     |NA     |78               |79            |NA     |-2      |-1      |SAN   |SFO |447     |NA    |NA     |0        |NA              |0       |NA          |NA          |NA      |NA           |NA               |NO          |NO          |\n",
      "|1987|10   |19        |1        |749    |730       |922    |849       |PS           |1451     |NA     |93               |79            |NA     |33      |19      |SAN   |SFO |447     |NA    |NA     |0        |NA              |0       |NA          |NA          |NA      |NA           |NA               |YES         |YES         |\n",
      "|1987|10   |21        |3        |728    |730       |848    |849       |PS           |1451     |NA     |80               |79            |NA     |-1      |-2      |SAN   |SFO |447     |NA    |NA     |0        |NA              |0       |NA          |NA          |NA      |NA           |NA               |NO          |NO          |\n",
      "|1987|10   |22        |4        |728    |730       |852    |849       |PS           |1451     |NA     |84               |79            |NA     |3       |-2      |SAN   |SFO |447     |NA    |NA     |0        |NA              |0       |NA          |NA          |NA      |NA           |NA               |YES         |NO          |\n",
      "|1987|10   |23        |5        |731    |730       |902    |849       |PS           |1451     |NA     |91               |79            |NA     |13      |1       |SAN   |SFO |447     |NA    |NA     |0        |NA              |0       |NA          |NA          |NA      |NA           |NA               |YES         |YES         |\n",
      "|1987|10   |24        |6        |744    |730       |908    |849       |PS           |1451     |NA     |84               |79            |NA     |19      |14      |SAN   |SFO |447     |NA    |NA     |0        |NA              |0       |NA          |NA          |NA      |NA           |NA               |YES         |YES         |\n",
      "|1987|10   |25        |7        |729    |730       |851    |849       |PS           |1451     |NA     |82               |79            |NA     |2       |-1      |SAN   |SFO |447     |NA    |NA     |0        |NA              |0       |NA          |NA          |NA      |NA           |NA               |YES         |NO          |\n",
      "|1987|10   |26        |1        |735    |730       |904    |849       |PS           |1451     |NA     |89               |79            |NA     |15      |5       |SAN   |SFO |447     |NA    |NA     |0        |NA              |0       |NA          |NA          |NA      |NA           |NA               |YES         |YES         |\n",
      "|1987|10   |28        |3        |741    |725       |919    |855       |PS           |1451     |NA     |98               |90            |NA     |24      |16      |SAN   |SFO |447     |NA    |NA     |0        |NA              |0       |NA          |NA          |NA      |NA           |NA               |YES         |YES         |\n",
      "|1987|10   |29        |4        |742    |725       |906    |855       |PS           |1451     |NA     |84               |90            |NA     |11      |17      |SAN   |SFO |447     |NA    |NA     |0        |NA              |0       |NA          |NA          |NA      |NA           |NA               |YES         |YES         |\n",
      "|1987|10   |31        |6        |726    |725       |848    |855       |PS           |1451     |NA     |82               |90            |NA     |-7      |1       |SAN   |SFO |447     |NA    |NA     |0        |NA              |0       |NA          |NA          |NA      |NA           |NA               |NO          |YES         |\n",
      "|1987|10   |1         |4        |936    |915       |1035   |1001      |PS           |1451     |NA     |59               |46            |NA     |34      |21      |SFO   |RNO |192     |NA    |NA     |0        |NA              |0       |NA          |NA          |NA      |NA           |NA               |YES         |YES         |\n",
      "|1987|10   |2         |5        |918    |915       |1017   |1001      |PS           |1451     |NA     |59               |46            |NA     |16      |3       |SFO   |RNO |192     |NA    |NA     |0        |NA              |0       |NA          |NA          |NA      |NA           |NA               |YES         |YES         |\n",
      "|1987|10   |3         |6        |928    |915       |1037   |1001      |PS           |1451     |NA     |69               |46            |NA     |36      |13      |SFO   |RNO |192     |NA    |NA     |0        |NA              |0       |NA          |NA          |NA      |NA           |NA               |YES         |YES         |\n",
      "|1987|10   |4         |7        |914    |915       |1003   |1001      |PS           |1451     |NA     |49               |46            |NA     |2       |-1      |SFO   |RNO |192     |NA    |NA     |0        |NA              |0       |NA          |NA          |NA      |NA           |NA               |YES         |NO          |\n",
      "|1987|10   |5         |1        |1042   |915       |1129   |1001      |PS           |1451     |NA     |47               |46            |NA     |88      |87      |SFO   |RNO |192     |NA    |NA     |0        |NA              |0       |NA          |NA          |NA      |NA           |NA               |YES         |YES         |\n",
      "|1987|10   |6         |2        |934    |915       |1024   |1001      |PS           |1451     |NA     |50               |46            |NA     |23      |19      |SFO   |RNO |192     |NA    |NA     |0        |NA              |0       |NA          |NA          |NA      |NA           |NA               |YES         |YES         |\n",
      "+----+-----+----------+---------+-------+----------+-------+----------+-------------+---------+-------+-----------------+--------------+-------+--------+--------+------+----+--------+------+-------+---------+----------------+--------+------------+------------+--------+-------------+-----------------+------------+------------+\n",
      "only showing top 20 rows\n",
      "\n"
     ]
    }
   ],
   "source": [
    "airlines_part_00000.show(truncate=False)"
   ]
  },
  {
   "cell_type": "code",
   "execution_count": 5,
   "metadata": {},
   "outputs": [
    {
     "name": "stdout",
     "output_type": "stream",
     "text": [
      "root\n",
      " |-- Year: integer (nullable = true)\n",
      " |-- Month: integer (nullable = true)\n",
      " |-- DayofMonth: integer (nullable = true)\n",
      " |-- DayOfWeek: integer (nullable = true)\n",
      " |-- DepTime: string (nullable = true)\n",
      " |-- CRSDepTime: integer (nullable = true)\n",
      " |-- ArrTime: string (nullable = true)\n",
      " |-- CRSArrTime: integer (nullable = true)\n",
      " |-- UniqueCarrier: string (nullable = true)\n",
      " |-- FlightNum: integer (nullable = true)\n",
      " |-- TailNum: string (nullable = true)\n",
      " |-- ActualElapsedTime: string (nullable = true)\n",
      " |-- CRSElapsedTime: integer (nullable = true)\n",
      " |-- AirTime: string (nullable = true)\n",
      " |-- ArrDelay: string (nullable = true)\n",
      " |-- DepDelay: string (nullable = true)\n",
      " |-- Origin: string (nullable = true)\n",
      " |-- Dest: string (nullable = true)\n",
      " |-- Distance: string (nullable = true)\n",
      " |-- TaxiIn: string (nullable = true)\n",
      " |-- TaxiOut: string (nullable = true)\n",
      " |-- Cancelled: integer (nullable = true)\n",
      " |-- CancellationCode: string (nullable = true)\n",
      " |-- Diverted: integer (nullable = true)\n",
      " |-- CarrierDelay: string (nullable = true)\n",
      " |-- WeatherDelay: string (nullable = true)\n",
      " |-- NASDelay: string (nullable = true)\n",
      " |-- SecurityDelay: string (nullable = true)\n",
      " |-- LateAircraftDelay: string (nullable = true)\n",
      " |-- IsArrDelayed: string (nullable = true)\n",
      " |-- IsDepDelayed: string (nullable = true)\n",
      "\n"
     ]
    }
   ],
   "source": [
    "airlines_part_00000.printSchema()"
   ]
  },
  {
   "cell_type": "code",
   "execution_count": 6,
   "metadata": {},
   "outputs": [
    {
     "data": {
      "text/plain": [
       "StructType(List(StructField(Year,IntegerType,true),StructField(Month,IntegerType,true),StructField(DayofMonth,IntegerType,true),StructField(DayOfWeek,IntegerType,true),StructField(DepTime,StringType,true),StructField(CRSDepTime,IntegerType,true),StructField(ArrTime,StringType,true),StructField(CRSArrTime,IntegerType,true),StructField(UniqueCarrier,StringType,true),StructField(FlightNum,IntegerType,true),StructField(TailNum,StringType,true),StructField(ActualElapsedTime,StringType,true),StructField(CRSElapsedTime,IntegerType,true),StructField(AirTime,StringType,true),StructField(ArrDelay,StringType,true),StructField(DepDelay,StringType,true),StructField(Origin,StringType,true),StructField(Dest,StringType,true),StructField(Distance,StringType,true),StructField(TaxiIn,StringType,true),StructField(TaxiOut,StringType,true),StructField(Cancelled,IntegerType,true),StructField(CancellationCode,StringType,true),StructField(Diverted,IntegerType,true),StructField(CarrierDelay,StringType,true),StructField(WeatherDelay,StringType,true),StructField(NASDelay,StringType,true),StructField(SecurityDelay,StringType,true),StructField(LateAircraftDelay,StringType,true),StructField(IsArrDelayed,StringType,true),StructField(IsDepDelayed,StringType,true)))"
      ]
     },
     "execution_count": 6,
     "metadata": {},
     "output_type": "execute_result"
    }
   ],
   "source": [
    "airlines_part_00000.schema"
   ]
  },
  {
   "cell_type": "code",
   "execution_count": 7,
   "metadata": {},
   "outputs": [
    {
     "data": {
      "text/plain": [
       "pyspark.sql.types.StructType"
      ]
     },
     "execution_count": 7,
     "metadata": {},
     "output_type": "execute_result"
    }
   ],
   "source": [
    "type(airlines_part_00000.schema)"
   ]
  },
  {
   "cell_type": "code",
   "execution_count": 8,
   "metadata": {
    "pycharm": {
     "name": "#%%\n"
    }
   },
   "outputs": [],
   "source": [
    "airlines_schema = spark.read. \\\n",
    "    csv(\"/public/airlines_all/airlines/part-00000\",\n",
    "        header=True,\n",
    "        inferSchema=True\n",
    "       ). \\\n",
    "    schema"
   ]
  },
  {
   "cell_type": "code",
   "execution_count": 9,
   "metadata": {},
   "outputs": [
    {
     "data": {
      "text/plain": [
       "pyspark.sql.types.StructType"
      ]
     },
     "execution_count": 9,
     "metadata": {},
     "output_type": "execute_result"
    }
   ],
   "source": [
    "type(airlines_schema)"
   ]
  },
  {
   "cell_type": "code",
   "execution_count": null,
   "metadata": {},
   "outputs": [],
   "source": [
    "help(spark.read.csv)"
   ]
  },
  {
   "cell_type": "code",
   "execution_count": 13,
   "metadata": {},
   "outputs": [],
   "source": [
    "airlines = spark.read. \\\n",
    "    schema(airlines_schema). \\\n",
    "    csv(\"/public/airlines_all/airlines/part*\",\n",
    "        header=True\n",
    "       )"
   ]
  },
  {
   "cell_type": "code",
   "execution_count": 14,
   "metadata": {},
   "outputs": [],
   "source": [
    "airlines = spark.read. \\\n",
    "    csv(\"/public/airlines_all/airlines/part*\",\n",
    "        schema=airlines_schema,\n",
    "        header=True\n",
    "       )"
   ]
  },
  {
   "cell_type": "code",
   "execution_count": null,
   "metadata": {},
   "outputs": [],
   "source": [
    "help(airlines)"
   ]
  },
  {
   "cell_type": "code",
   "execution_count": 17,
   "metadata": {},
   "outputs": [
    {
     "data": {
      "text/html": [
       "<table border='1'>\n",
       "<tr><th>Year</th><th>Month</th><th>DayofMonth</th><th>DayOfWeek</th><th>DepTime</th><th>CRSDepTime</th><th>ArrTime</th><th>CRSArrTime</th><th>UniqueCarrier</th><th>FlightNum</th><th>TailNum</th><th>ActualElapsedTime</th><th>CRSElapsedTime</th><th>AirTime</th><th>ArrDelay</th><th>DepDelay</th><th>Origin</th><th>Dest</th><th>Distance</th><th>TaxiIn</th><th>TaxiOut</th><th>Cancelled</th><th>CancellationCode</th><th>Diverted</th><th>CarrierDelay</th><th>WeatherDelay</th><th>NASDelay</th><th>SecurityDelay</th><th>LateAircraftDelay</th><th>IsArrDelayed</th><th>IsDepDelayed</th></tr>\n",
       "<tr><td>2001</td><td>8</td><td>3</td><td>5</td><td>1048</td><td>1047</td><td>1210</td><td>1222</td><td>AA</td><td>1056</td><td>N274A1</td><td>82</td><td>95</td><td>66</td><td>-12</td><td>1</td><td>MCI</td><td>ORD</td><td>403</td><td>6</td><td>10</td><td>0</td><td>NA</td><td>0</td><td>NA</td><td>NA</td><td>NA</td><td>NA</td><td>NA</td><td>NO</td><td>YES</td></tr>\n",
       "<tr><td>2001</td><td>8</td><td>4</td><td>6</td><td>1043</td><td>1047</td><td>1159</td><td>1222</td><td>AA</td><td>1056</td><td>N513A1</td><td>76</td><td>95</td><td>61</td><td>-23</td><td>-4</td><td>MCI</td><td>ORD</td><td>403</td><td>4</td><td>11</td><td>0</td><td>NA</td><td>0</td><td>NA</td><td>NA</td><td>NA</td><td>NA</td><td>NA</td><td>NO</td><td>NO</td></tr>\n",
       "<tr><td>2001</td><td>8</td><td>5</td><td>7</td><td>1043</td><td>1047</td><td>1203</td><td>1222</td><td>AA</td><td>1056</td><td>N532A1</td><td>80</td><td>95</td><td>65</td><td>-19</td><td>-4</td><td>MCI</td><td>ORD</td><td>403</td><td>6</td><td>9</td><td>0</td><td>NA</td><td>0</td><td>NA</td><td>NA</td><td>NA</td><td>NA</td><td>NA</td><td>NO</td><td>NO</td></tr>\n",
       "<tr><td>2001</td><td>8</td><td>6</td><td>1</td><td>1045</td><td>1047</td><td>1159</td><td>1222</td><td>AA</td><td>1056</td><td>N521A1</td><td>74</td><td>95</td><td>62</td><td>-23</td><td>-2</td><td>MCI</td><td>ORD</td><td>403</td><td>4</td><td>8</td><td>0</td><td>NA</td><td>0</td><td>NA</td><td>NA</td><td>NA</td><td>NA</td><td>NA</td><td>NO</td><td>NO</td></tr>\n",
       "<tr><td>2001</td><td>8</td><td>7</td><td>2</td><td>1047</td><td>1047</td><td>1208</td><td>1222</td><td>AA</td><td>1056</td><td>N417A1</td><td>81</td><td>95</td><td>65</td><td>-14</td><td>0</td><td>MCI</td><td>ORD</td><td>403</td><td>6</td><td>10</td><td>0</td><td>NA</td><td>0</td><td>NA</td><td>NA</td><td>NA</td><td>NA</td><td>NA</td><td>NO</td><td>NO</td></tr>\n",
       "<tr><td>2001</td><td>8</td><td>8</td><td>3</td><td>1047</td><td>1047</td><td>1203</td><td>1222</td><td>AA</td><td>1056</td><td>N440A1</td><td>76</td><td>95</td><td>60</td><td>-19</td><td>0</td><td>MCI</td><td>ORD</td><td>403</td><td>7</td><td>9</td><td>0</td><td>NA</td><td>0</td><td>NA</td><td>NA</td><td>NA</td><td>NA</td><td>NA</td><td>NO</td><td>NO</td></tr>\n",
       "<tr><td>2001</td><td>8</td><td>9</td><td>4</td><td>1054</td><td>1047</td><td>1224</td><td>1222</td><td>AA</td><td>1056</td><td>N483A1</td><td>90</td><td>95</td><td>66</td><td>2</td><td>7</td><td>MCI</td><td>ORD</td><td>403</td><td>7</td><td>17</td><td>0</td><td>NA</td><td>0</td><td>NA</td><td>NA</td><td>NA</td><td>NA</td><td>NA</td><td>YES</td><td>YES</td></tr>\n",
       "<tr><td>2001</td><td>8</td><td>10</td><td>5</td><td>1052</td><td>1047</td><td>1205</td><td>1222</td><td>AA</td><td>1056</td><td>N431A1</td><td>73</td><td>95</td><td>53</td><td>-17</td><td>5</td><td>MCI</td><td>ORD</td><td>403</td><td>5</td><td>15</td><td>0</td><td>NA</td><td>0</td><td>NA</td><td>NA</td><td>NA</td><td>NA</td><td>NA</td><td>NO</td><td>YES</td></tr>\n",
       "<tr><td>2001</td><td>8</td><td>11</td><td>6</td><td>1045</td><td>1047</td><td>1205</td><td>1222</td><td>AA</td><td>1056</td><td>N424A1</td><td>80</td><td>95</td><td>54</td><td>-17</td><td>-2</td><td>MCI</td><td>ORD</td><td>403</td><td>16</td><td>10</td><td>0</td><td>NA</td><td>0</td><td>NA</td><td>NA</td><td>NA</td><td>NA</td><td>NA</td><td>NO</td><td>NO</td></tr>\n",
       "<tr><td>2001</td><td>8</td><td>12</td><td>7</td><td>1122</td><td>1047</td><td>1235</td><td>1222</td><td>AA</td><td>1056</td><td>N404A1</td><td>73</td><td>95</td><td>57</td><td>13</td><td>35</td><td>MCI</td><td>ORD</td><td>403</td><td>5</td><td>11</td><td>0</td><td>NA</td><td>0</td><td>NA</td><td>NA</td><td>NA</td><td>NA</td><td>NA</td><td>YES</td><td>YES</td></tr>\n",
       "<tr><td>2001</td><td>8</td><td>13</td><td>1</td><td>1055</td><td>1047</td><td>1210</td><td>1222</td><td>AA</td><td>1056</td><td>N582A1</td><td>75</td><td>95</td><td>56</td><td>-12</td><td>8</td><td>MCI</td><td>ORD</td><td>403</td><td>5</td><td>14</td><td>0</td><td>NA</td><td>0</td><td>NA</td><td>NA</td><td>NA</td><td>NA</td><td>NA</td><td>NO</td><td>YES</td></tr>\n",
       "<tr><td>2001</td><td>8</td><td>14</td><td>2</td><td>1045</td><td>1047</td><td>1154</td><td>1222</td><td>AA</td><td>1056</td><td>N285A1</td><td>69</td><td>95</td><td>57</td><td>-28</td><td>-2</td><td>MCI</td><td>ORD</td><td>403</td><td>5</td><td>7</td><td>0</td><td>NA</td><td>0</td><td>NA</td><td>NA</td><td>NA</td><td>NA</td><td>NA</td><td>NO</td><td>NO</td></tr>\n",
       "<tr><td>2001</td><td>8</td><td>15</td><td>3</td><td>1046</td><td>1047</td><td>1203</td><td>1222</td><td>AA</td><td>1056</td><td>N232A1</td><td>77</td><td>95</td><td>63</td><td>-19</td><td>-1</td><td>MCI</td><td>ORD</td><td>403</td><td>6</td><td>8</td><td>0</td><td>NA</td><td>0</td><td>NA</td><td>NA</td><td>NA</td><td>NA</td><td>NA</td><td>NO</td><td>NO</td></tr>\n",
       "<tr><td>2001</td><td>8</td><td>16</td><td>4</td><td>1157</td><td>1047</td><td>1314</td><td>1222</td><td>AA</td><td>1056</td><td>N430A1</td><td>77</td><td>95</td><td>62</td><td>52</td><td>70</td><td>MCI</td><td>ORD</td><td>403</td><td>5</td><td>10</td><td>0</td><td>NA</td><td>0</td><td>NA</td><td>NA</td><td>NA</td><td>NA</td><td>NA</td><td>YES</td><td>YES</td></tr>\n",
       "<tr><td>2001</td><td>8</td><td>17</td><td>5</td><td>1048</td><td>1047</td><td>1214</td><td>1222</td><td>AA</td><td>1056</td><td>N224A1</td><td>86</td><td>95</td><td>55</td><td>-8</td><td>1</td><td>MCI</td><td>ORD</td><td>403</td><td>11</td><td>20</td><td>0</td><td>NA</td><td>0</td><td>NA</td><td>NA</td><td>NA</td><td>NA</td><td>NA</td><td>NO</td><td>YES</td></tr>\n",
       "<tr><td>2001</td><td>8</td><td>18</td><td>6</td><td>1046</td><td>1047</td><td>1202</td><td>1222</td><td>AA</td><td>1056</td><td>N471A1</td><td>76</td><td>95</td><td>57</td><td>-20</td><td>-1</td><td>MCI</td><td>ORD</td><td>403</td><td>6</td><td>13</td><td>0</td><td>NA</td><td>0</td><td>NA</td><td>NA</td><td>NA</td><td>NA</td><td>NA</td><td>NO</td><td>NO</td></tr>\n",
       "<tr><td>2001</td><td>8</td><td>19</td><td>7</td><td>1054</td><td>1047</td><td>1233</td><td>1222</td><td>AA</td><td>1056</td><td>N420A1</td><td>99</td><td>95</td><td>65</td><td>11</td><td>7</td><td>MCI</td><td>ORD</td><td>403</td><td>9</td><td>25</td><td>0</td><td>NA</td><td>0</td><td>NA</td><td>NA</td><td>NA</td><td>NA</td><td>NA</td><td>YES</td><td>YES</td></tr>\n",
       "<tr><td>2001</td><td>8</td><td>20</td><td>1</td><td>1045</td><td>1047</td><td>1205</td><td>1222</td><td>AA</td><td>1056</td><td>N580A1</td><td>80</td><td>95</td><td>59</td><td>-17</td><td>-2</td><td>MCI</td><td>ORD</td><td>403</td><td>8</td><td>13</td><td>0</td><td>NA</td><td>0</td><td>NA</td><td>NA</td><td>NA</td><td>NA</td><td>NA</td><td>NO</td><td>NO</td></tr>\n",
       "<tr><td>2001</td><td>8</td><td>21</td><td>2</td><td>1042</td><td>1047</td><td>1159</td><td>1222</td><td>AA</td><td>1056</td><td>N421A1</td><td>77</td><td>95</td><td>58</td><td>-23</td><td>-5</td><td>MCI</td><td>ORD</td><td>403</td><td>9</td><td>10</td><td>0</td><td>NA</td><td>0</td><td>NA</td><td>NA</td><td>NA</td><td>NA</td><td>NA</td><td>NO</td><td>NO</td></tr>\n",
       "<tr><td>2001</td><td>8</td><td>22</td><td>3</td><td>NA</td><td>1047</td><td>NA</td><td>1222</td><td>AA</td><td>1056</td><td>�NKNO�</td><td>NA</td><td>95</td><td>NA</td><td>NA</td><td>NA</td><td>MCI</td><td>ORD</td><td>403</td><td>0</td><td>0</td><td>1</td><td>NA</td><td>0</td><td>NA</td><td>NA</td><td>NA</td><td>NA</td><td>NA</td><td>YES</td><td>YES</td></tr>\n",
       "</table>\n",
       "only showing top 20 rows\n"
      ],
      "text/plain": [
       "+----+-----+----------+---------+-------+----------+-------+----------+-------------+---------+-------+-----------------+--------------+-------+--------+--------+------+----+--------+------+-------+---------+----------------+--------+------------+------------+--------+-------------+-----------------+------------+------------+\n",
       "|Year|Month|DayofMonth|DayOfWeek|DepTime|CRSDepTime|ArrTime|CRSArrTime|UniqueCarrier|FlightNum|TailNum|ActualElapsedTime|CRSElapsedTime|AirTime|ArrDelay|DepDelay|Origin|Dest|Distance|TaxiIn|TaxiOut|Cancelled|CancellationCode|Diverted|CarrierDelay|WeatherDelay|NASDelay|SecurityDelay|LateAircraftDelay|IsArrDelayed|IsDepDelayed|\n",
       "+----+-----+----------+---------+-------+----------+-------+----------+-------------+---------+-------+-----------------+--------------+-------+--------+--------+------+----+--------+------+-------+---------+----------------+--------+------------+------------+--------+-------------+-----------------+------------+------------+\n",
       "|2001|    8|         3|        5|   1048|      1047|   1210|      1222|           AA|     1056| N274A1|               82|            95|     66|     -12|       1|   MCI| ORD|     403|     6|     10|        0|              NA|       0|          NA|          NA|      NA|           NA|               NA|          NO|         YES|\n",
       "|2001|    8|         4|        6|   1043|      1047|   1159|      1222|           AA|     1056| N513A1|               76|            95|     61|     -23|      -4|   MCI| ORD|     403|     4|     11|        0|              NA|       0|          NA|          NA|      NA|           NA|               NA|          NO|          NO|\n",
       "|2001|    8|         5|        7|   1043|      1047|   1203|      1222|           AA|     1056| N532A1|               80|            95|     65|     -19|      -4|   MCI| ORD|     403|     6|      9|        0|              NA|       0|          NA|          NA|      NA|           NA|               NA|          NO|          NO|\n",
       "|2001|    8|         6|        1|   1045|      1047|   1159|      1222|           AA|     1056| N521A1|               74|            95|     62|     -23|      -2|   MCI| ORD|     403|     4|      8|        0|              NA|       0|          NA|          NA|      NA|           NA|               NA|          NO|          NO|\n",
       "|2001|    8|         7|        2|   1047|      1047|   1208|      1222|           AA|     1056| N417A1|               81|            95|     65|     -14|       0|   MCI| ORD|     403|     6|     10|        0|              NA|       0|          NA|          NA|      NA|           NA|               NA|          NO|          NO|\n",
       "|2001|    8|         8|        3|   1047|      1047|   1203|      1222|           AA|     1056| N440A1|               76|            95|     60|     -19|       0|   MCI| ORD|     403|     7|      9|        0|              NA|       0|          NA|          NA|      NA|           NA|               NA|          NO|          NO|\n",
       "|2001|    8|         9|        4|   1054|      1047|   1224|      1222|           AA|     1056| N483A1|               90|            95|     66|       2|       7|   MCI| ORD|     403|     7|     17|        0|              NA|       0|          NA|          NA|      NA|           NA|               NA|         YES|         YES|\n",
       "|2001|    8|        10|        5|   1052|      1047|   1205|      1222|           AA|     1056| N431A1|               73|            95|     53|     -17|       5|   MCI| ORD|     403|     5|     15|        0|              NA|       0|          NA|          NA|      NA|           NA|               NA|          NO|         YES|\n",
       "|2001|    8|        11|        6|   1045|      1047|   1205|      1222|           AA|     1056| N424A1|               80|            95|     54|     -17|      -2|   MCI| ORD|     403|    16|     10|        0|              NA|       0|          NA|          NA|      NA|           NA|               NA|          NO|          NO|\n",
       "|2001|    8|        12|        7|   1122|      1047|   1235|      1222|           AA|     1056| N404A1|               73|            95|     57|      13|      35|   MCI| ORD|     403|     5|     11|        0|              NA|       0|          NA|          NA|      NA|           NA|               NA|         YES|         YES|\n",
       "|2001|    8|        13|        1|   1055|      1047|   1210|      1222|           AA|     1056| N582A1|               75|            95|     56|     -12|       8|   MCI| ORD|     403|     5|     14|        0|              NA|       0|          NA|          NA|      NA|           NA|               NA|          NO|         YES|\n",
       "|2001|    8|        14|        2|   1045|      1047|   1154|      1222|           AA|     1056| N285A1|               69|            95|     57|     -28|      -2|   MCI| ORD|     403|     5|      7|        0|              NA|       0|          NA|          NA|      NA|           NA|               NA|          NO|          NO|\n",
       "|2001|    8|        15|        3|   1046|      1047|   1203|      1222|           AA|     1056| N232A1|               77|            95|     63|     -19|      -1|   MCI| ORD|     403|     6|      8|        0|              NA|       0|          NA|          NA|      NA|           NA|               NA|          NO|          NO|\n",
       "|2001|    8|        16|        4|   1157|      1047|   1314|      1222|           AA|     1056| N430A1|               77|            95|     62|      52|      70|   MCI| ORD|     403|     5|     10|        0|              NA|       0|          NA|          NA|      NA|           NA|               NA|         YES|         YES|\n",
       "|2001|    8|        17|        5|   1048|      1047|   1214|      1222|           AA|     1056| N224A1|               86|            95|     55|      -8|       1|   MCI| ORD|     403|    11|     20|        0|              NA|       0|          NA|          NA|      NA|           NA|               NA|          NO|         YES|\n",
       "|2001|    8|        18|        6|   1046|      1047|   1202|      1222|           AA|     1056| N471A1|               76|            95|     57|     -20|      -1|   MCI| ORD|     403|     6|     13|        0|              NA|       0|          NA|          NA|      NA|           NA|               NA|          NO|          NO|\n",
       "|2001|    8|        19|        7|   1054|      1047|   1233|      1222|           AA|     1056| N420A1|               99|            95|     65|      11|       7|   MCI| ORD|     403|     9|     25|        0|              NA|       0|          NA|          NA|      NA|           NA|               NA|         YES|         YES|\n",
       "|2001|    8|        20|        1|   1045|      1047|   1205|      1222|           AA|     1056| N580A1|               80|            95|     59|     -17|      -2|   MCI| ORD|     403|     8|     13|        0|              NA|       0|          NA|          NA|      NA|           NA|               NA|          NO|          NO|\n",
       "|2001|    8|        21|        2|   1042|      1047|   1159|      1222|           AA|     1056| N421A1|               77|            95|     58|     -23|      -5|   MCI| ORD|     403|     9|     10|        0|              NA|       0|          NA|          NA|      NA|           NA|               NA|          NO|          NO|\n",
       "|2001|    8|        22|        3|     NA|      1047|     NA|      1222|           AA|     1056| �NKNO�|               NA|            95|     NA|      NA|      NA|   MCI| ORD|     403|     0|      0|        1|              NA|       0|          NA|          NA|      NA|           NA|               NA|         YES|         YES|\n",
       "+----+-----+----------+---------+-------+----------+-------+----------+-------------+---------+-------+-----------------+--------------+-------+--------+--------+------+----+--------+------+-------+---------+----------------+--------+------------+------------+--------+-------------+-----------------+------------+------------+\n",
       "only showing top 20 rows"
      ]
     },
     "execution_count": 17,
     "metadata": {},
     "output_type": "execute_result"
    }
   ],
   "source": [
    "airlines"
   ]
  },
  {
   "cell_type": "code",
   "execution_count": 18,
   "metadata": {},
   "outputs": [
    {
     "name": "stdout",
     "output_type": "stream",
     "text": [
      "+----+-----+----------+---------+-------+----------+-------+----------+-------------+---------+-------+-----------------+--------------+-------+--------+--------+------+----+--------+------+-------+---------+----------------+--------+------------+------------+--------+-------------+-----------------+------------+------------+\n",
      "|Year|Month|DayofMonth|DayOfWeek|DepTime|CRSDepTime|ArrTime|CRSArrTime|UniqueCarrier|FlightNum|TailNum|ActualElapsedTime|CRSElapsedTime|AirTime|ArrDelay|DepDelay|Origin|Dest|Distance|TaxiIn|TaxiOut|Cancelled|CancellationCode|Diverted|CarrierDelay|WeatherDelay|NASDelay|SecurityDelay|LateAircraftDelay|IsArrDelayed|IsDepDelayed|\n",
      "+----+-----+----------+---------+-------+----------+-------+----------+-------------+---------+-------+-----------------+--------------+-------+--------+--------+------+----+--------+------+-------+---------+----------------+--------+------------+------------+--------+-------------+-----------------+------------+------------+\n",
      "|2001|    8|         3|        5|   1048|      1047|   1210|      1222|           AA|     1056| N274A1|               82|            95|     66|     -12|       1|   MCI| ORD|     403|     6|     10|        0|              NA|       0|          NA|          NA|      NA|           NA|               NA|          NO|         YES|\n",
      "|2001|    8|         4|        6|   1043|      1047|   1159|      1222|           AA|     1056| N513A1|               76|            95|     61|     -23|      -4|   MCI| ORD|     403|     4|     11|        0|              NA|       0|          NA|          NA|      NA|           NA|               NA|          NO|          NO|\n",
      "|2001|    8|         5|        7|   1043|      1047|   1203|      1222|           AA|     1056| N532A1|               80|            95|     65|     -19|      -4|   MCI| ORD|     403|     6|      9|        0|              NA|       0|          NA|          NA|      NA|           NA|               NA|          NO|          NO|\n",
      "|2001|    8|         6|        1|   1045|      1047|   1159|      1222|           AA|     1056| N521A1|               74|            95|     62|     -23|      -2|   MCI| ORD|     403|     4|      8|        0|              NA|       0|          NA|          NA|      NA|           NA|               NA|          NO|          NO|\n",
      "|2001|    8|         7|        2|   1047|      1047|   1208|      1222|           AA|     1056| N417A1|               81|            95|     65|     -14|       0|   MCI| ORD|     403|     6|     10|        0|              NA|       0|          NA|          NA|      NA|           NA|               NA|          NO|          NO|\n",
      "|2001|    8|         8|        3|   1047|      1047|   1203|      1222|           AA|     1056| N440A1|               76|            95|     60|     -19|       0|   MCI| ORD|     403|     7|      9|        0|              NA|       0|          NA|          NA|      NA|           NA|               NA|          NO|          NO|\n",
      "|2001|    8|         9|        4|   1054|      1047|   1224|      1222|           AA|     1056| N483A1|               90|            95|     66|       2|       7|   MCI| ORD|     403|     7|     17|        0|              NA|       0|          NA|          NA|      NA|           NA|               NA|         YES|         YES|\n",
      "|2001|    8|        10|        5|   1052|      1047|   1205|      1222|           AA|     1056| N431A1|               73|            95|     53|     -17|       5|   MCI| ORD|     403|     5|     15|        0|              NA|       0|          NA|          NA|      NA|           NA|               NA|          NO|         YES|\n",
      "|2001|    8|        11|        6|   1045|      1047|   1205|      1222|           AA|     1056| N424A1|               80|            95|     54|     -17|      -2|   MCI| ORD|     403|    16|     10|        0|              NA|       0|          NA|          NA|      NA|           NA|               NA|          NO|          NO|\n",
      "|2001|    8|        12|        7|   1122|      1047|   1235|      1222|           AA|     1056| N404A1|               73|            95|     57|      13|      35|   MCI| ORD|     403|     5|     11|        0|              NA|       0|          NA|          NA|      NA|           NA|               NA|         YES|         YES|\n",
      "|2001|    8|        13|        1|   1055|      1047|   1210|      1222|           AA|     1056| N582A1|               75|            95|     56|     -12|       8|   MCI| ORD|     403|     5|     14|        0|              NA|       0|          NA|          NA|      NA|           NA|               NA|          NO|         YES|\n",
      "|2001|    8|        14|        2|   1045|      1047|   1154|      1222|           AA|     1056| N285A1|               69|            95|     57|     -28|      -2|   MCI| ORD|     403|     5|      7|        0|              NA|       0|          NA|          NA|      NA|           NA|               NA|          NO|          NO|\n",
      "|2001|    8|        15|        3|   1046|      1047|   1203|      1222|           AA|     1056| N232A1|               77|            95|     63|     -19|      -1|   MCI| ORD|     403|     6|      8|        0|              NA|       0|          NA|          NA|      NA|           NA|               NA|          NO|          NO|\n",
      "|2001|    8|        16|        4|   1157|      1047|   1314|      1222|           AA|     1056| N430A1|               77|            95|     62|      52|      70|   MCI| ORD|     403|     5|     10|        0|              NA|       0|          NA|          NA|      NA|           NA|               NA|         YES|         YES|\n",
      "|2001|    8|        17|        5|   1048|      1047|   1214|      1222|           AA|     1056| N224A1|               86|            95|     55|      -8|       1|   MCI| ORD|     403|    11|     20|        0|              NA|       0|          NA|          NA|      NA|           NA|               NA|          NO|         YES|\n",
      "|2001|    8|        18|        6|   1046|      1047|   1202|      1222|           AA|     1056| N471A1|               76|            95|     57|     -20|      -1|   MCI| ORD|     403|     6|     13|        0|              NA|       0|          NA|          NA|      NA|           NA|               NA|          NO|          NO|\n",
      "|2001|    8|        19|        7|   1054|      1047|   1233|      1222|           AA|     1056| N420A1|               99|            95|     65|      11|       7|   MCI| ORD|     403|     9|     25|        0|              NA|       0|          NA|          NA|      NA|           NA|               NA|         YES|         YES|\n",
      "|2001|    8|        20|        1|   1045|      1047|   1205|      1222|           AA|     1056| N580A1|               80|            95|     59|     -17|      -2|   MCI| ORD|     403|     8|     13|        0|              NA|       0|          NA|          NA|      NA|           NA|               NA|          NO|          NO|\n",
      "|2001|    8|        21|        2|   1042|      1047|   1159|      1222|           AA|     1056| N421A1|               77|            95|     58|     -23|      -5|   MCI| ORD|     403|     9|     10|        0|              NA|       0|          NA|          NA|      NA|           NA|               NA|          NO|          NO|\n",
      "|2001|    8|        22|        3|     NA|      1047|     NA|      1222|           AA|     1056| �NKNO�|               NA|            95|     NA|      NA|      NA|   MCI| ORD|     403|     0|      0|        1|              NA|       0|          NA|          NA|      NA|           NA|               NA|         YES|         YES|\n",
      "+----+-----+----------+---------+-------+----------+-------+----------+-------------+---------+-------+-----------------+--------------+-------+--------+--------+------+----+--------+------+-------+---------+----------------+--------+------------+------------+--------+-------------+-----------------+------------+------------+\n",
      "only showing top 20 rows\n",
      "\n"
     ]
    }
   ],
   "source": [
    "airlines.show()"
   ]
  },
  {
   "cell_type": "code",
   "execution_count": 19,
   "metadata": {},
   "outputs": [
    {
     "name": "stdout",
     "output_type": "stream",
     "text": [
      "root\n",
      " |-- Year: integer (nullable = true)\n",
      " |-- Month: integer (nullable = true)\n",
      " |-- DayofMonth: integer (nullable = true)\n",
      " |-- DayOfWeek: integer (nullable = true)\n",
      " |-- DepTime: string (nullable = true)\n",
      " |-- CRSDepTime: integer (nullable = true)\n",
      " |-- ArrTime: string (nullable = true)\n",
      " |-- CRSArrTime: integer (nullable = true)\n",
      " |-- UniqueCarrier: string (nullable = true)\n",
      " |-- FlightNum: integer (nullable = true)\n",
      " |-- TailNum: string (nullable = true)\n",
      " |-- ActualElapsedTime: string (nullable = true)\n",
      " |-- CRSElapsedTime: integer (nullable = true)\n",
      " |-- AirTime: string (nullable = true)\n",
      " |-- ArrDelay: string (nullable = true)\n",
      " |-- DepDelay: string (nullable = true)\n",
      " |-- Origin: string (nullable = true)\n",
      " |-- Dest: string (nullable = true)\n",
      " |-- Distance: string (nullable = true)\n",
      " |-- TaxiIn: string (nullable = true)\n",
      " |-- TaxiOut: string (nullable = true)\n",
      " |-- Cancelled: integer (nullable = true)\n",
      " |-- CancellationCode: string (nullable = true)\n",
      " |-- Diverted: integer (nullable = true)\n",
      " |-- CarrierDelay: string (nullable = true)\n",
      " |-- WeatherDelay: string (nullable = true)\n",
      " |-- NASDelay: string (nullable = true)\n",
      " |-- SecurityDelay: string (nullable = true)\n",
      " |-- LateAircraftDelay: string (nullable = true)\n",
      " |-- IsArrDelayed: string (nullable = true)\n",
      " |-- IsDepDelayed: string (nullable = true)\n",
      "\n"
     ]
    }
   ],
   "source": [
    "airlines.printSchema()"
   ]
  },
  {
   "cell_type": "code",
   "execution_count": 20,
   "metadata": {},
   "outputs": [
    {
     "data": {
      "text/plain": [
       "1235347771"
      ]
     },
     "execution_count": 20,
     "metadata": {},
     "output_type": "execute_result"
    }
   ],
   "source": [
    "airlines.count()"
   ]
  },
  {
   "cell_type": "code",
   "execution_count": null,
   "metadata": {},
   "outputs": [],
   "source": []
  }
 ],
 "metadata": {
  "kernelspec": {
   "display_name": "Pyspark 2",
   "language": "python",
   "name": "pyspark2"
  },
  "language_info": {
   "codemirror_mode": {
    "name": "ipython",
    "version": 3
   },
   "file_extension": ".py",
   "mimetype": "text/x-python",
   "name": "python",
   "nbconvert_exporter": "python",
   "pygments_lexer": "ipython3",
   "version": "3.6.12"
  }
 },
 "nbformat": 4,
 "nbformat_minor": 4
}
