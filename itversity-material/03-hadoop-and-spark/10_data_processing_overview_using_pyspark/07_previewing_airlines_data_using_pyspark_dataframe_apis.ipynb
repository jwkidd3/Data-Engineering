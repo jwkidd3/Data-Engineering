{
 "cells": [
  {
   "cell_type": "markdown",
   "metadata": {},
   "source": [
    "## Previewing airlines data\n",
    "Let us preview the airlines data to understand more about it."
   ]
  },
  {
   "cell_type": "markdown",
   "metadata": {},
   "source": [
    "* As we have too many files, we will just process ten files and preview the data.\n",
    "* File Name: **hdfs://public/airlines_all/airlines/part-0000***\n",
    "* `spark.read.csv` will create a variable or object of type Data Frame."
   ]
  },
  {
   "cell_type": "markdown",
   "metadata": {},
   "source": [
    "Let us start spark context for this Notebook so that we can execute the code provided. You can sign up for our [10 node state of the art cluster/labs](https://labs.itversity.com/plans) to learn Spark SQL using our unique integrated LMS."
   ]
  },
  {
   "cell_type": "code",
   "execution_count": 1,
   "metadata": {},
   "outputs": [],
   "source": [
    "from pyspark.sql import SparkSession\n",
    "\n",
    "import getpass\n",
    "username = getpass.getuser()\n",
    "\n",
    "spark = SparkSession. \\\n",
    "    builder. \\\n",
    "    config('spark.ui.port', '0'). \\\n",
    "    config(\"spark.sql.warehouse.dir\", f\"/user/{username}/warehouse\"). \\\n",
    "    enableHiveSupport(). \\\n",
    "    appName(f'{username} | Python - Data Processing - Overview'). \\\n",
    "    master('yarn'). \\\n",
    "    getOrCreate()"
   ]
  },
  {
   "cell_type": "markdown",
   "metadata": {},
   "source": [
    "If you are going to use CLIs, you can use Spark SQL using one of the 3 approaches.\n",
    "\n",
    "**Using Spark SQL**\n",
    "\n",
    "```\n",
    "spark2-sql \\\n",
    "    --master yarn \\\n",
    "    --conf spark.ui.port=0 \\\n",
    "    --conf spark.sql.warehouse.dir=/user/${USER}/warehouse\n",
    "```\n",
    "\n",
    "**Using Scala**\n",
    "\n",
    "```\n",
    "spark2-shell \\\n",
    "    --master yarn \\\n",
    "    --conf spark.ui.port=0 \\\n",
    "    --conf spark.sql.warehouse.dir=/user/${USER}/warehouse\n",
    "```\n",
    "\n",
    "**Using Pyspark**\n",
    "\n",
    "```\n",
    "pyspark2 \\\n",
    "    --master yarn \\\n",
    "    --conf spark.ui.port=0 \\\n",
    "    --conf spark.sql.warehouse.dir=/user/${USER}/warehouse\n",
    "```"
   ]
  },
  {
   "cell_type": "code",
   "execution_count": 2,
   "metadata": {
    "pycharm": {
     "name": "#%%\n"
    }
   },
   "outputs": [],
   "source": [
    "airlines_schema = spark.read. \\\n",
    "    csv(\"/public/airlines_all/airlines/part-00000\",\n",
    "        header=True,\n",
    "        inferSchema=True\n",
    "       ). \\\n",
    "    schema"
   ]
  },
  {
   "cell_type": "code",
   "execution_count": 3,
   "metadata": {},
   "outputs": [],
   "source": [
    "airlines = spark.read. \\\n",
    "    schema(airlines_schema). \\\n",
    "    csv(\"/public/airlines_all/airlines/part*\",\n",
    "        header=True\n",
    "       )"
   ]
  },
  {
   "cell_type": "markdown",
   "metadata": {},
   "source": [
    "A Data Frame will have structure or schema.\n",
    "\n",
    "* We can print the schema using `airlines.printSchema()`\n",
    "* We can preview the data using `airlines.show()`. By default it shows 20 records and some of the column values might be truncated for readability purpose.\n",
    "* We can review the details of show by using `help(airlines.show)`\n",
    "* We can pass custom number of records and say `truncate=False` to show complete information of all the records requested. It will facilitate us to preview all columns with desired number of records.\n",
    "\n",
    "\n"
   ]
  },
  {
   "cell_type": "code",
   "execution_count": null,
   "metadata": {
    "pycharm": {
     "name": "#%%\n"
    }
   },
   "outputs": [],
   "source": [
    "airlines.show(100, truncate=False)"
   ]
  },
  {
   "cell_type": "markdown",
   "metadata": {},
   "source": [
    "* We can get the number of records or rows in a Data Frame using `airlines.count()`\n",
    "* In Databricks Notebook, we can use `display` to preview the data using Visualization feature\n",
    "* We can perform all kinds of standard transformations on our data. We need to have good knowledge of functions on Data Frames as well as functions on columns to apply all standard transformations.\n",
    "* Let us also validate if there are duplicates in our data, if yes we will remove duplicates while reorganizing the data later.\n"
   ]
  },
  {
   "cell_type": "code",
   "execution_count": 5,
   "metadata": {
    "pycharm": {
     "name": "#%%\n"
    }
   },
   "outputs": [],
   "source": [
    "airlines_schema = spark.read. \\\n",
    "    csv(\"/public/airlines_all/airlines/part-00000\",\n",
    "        header=True,\n",
    "        inferSchema=True\n",
    "       ). \\\n",
    "    schema"
   ]
  },
  {
   "cell_type": "code",
   "execution_count": 6,
   "metadata": {},
   "outputs": [
    {
     "name": "stdout",
     "output_type": "stream",
     "text": [
      "-rw-r--r--   2 hdfs supergroup   67108879 2021-01-28 08:56 /public/airlines_all/airlines/part-00000\n",
      "-rw-r--r--   2 hdfs supergroup   67108862 2021-01-28 09:34 /public/airlines_all/airlines/part-00001\n",
      "-rw-r--r--   2 hdfs supergroup   67108930 2021-01-28 07:44 /public/airlines_all/airlines/part-00002\n",
      "-rw-r--r--   2 hdfs supergroup   67108804 2021-01-28 10:44 /public/airlines_all/airlines/part-00003\n",
      "-rw-r--r--   2 hdfs supergroup   67108908 2021-01-28 08:01 /public/airlines_all/airlines/part-00004\n",
      "-rw-r--r--   2 hdfs supergroup   67108890 2021-01-28 10:51 /public/airlines_all/airlines/part-00005\n",
      "-rw-r--r--   2 hdfs supergroup   67108825 2021-01-28 11:02 /public/airlines_all/airlines/part-00006\n",
      "-rw-r--r--   2 hdfs supergroup   67108880 2021-01-28 09:12 /public/airlines_all/airlines/part-00007\n",
      "-rw-r--r--   2 hdfs supergroup   67108832 2021-01-28 08:48 /public/airlines_all/airlines/part-00008\n",
      "-rw-r--r--   2 hdfs supergroup   67108857 2021-01-28 08:53 /public/airlines_all/airlines/part-00009\n"
     ]
    }
   ],
   "source": [
    "%%sh\n",
    "\n",
    "hdfs dfs -ls /public/airlines_all/airlines/part-0000*"
   ]
  },
  {
   "cell_type": "code",
   "execution_count": 7,
   "metadata": {
    "pycharm": {
     "name": "#%%\n"
    }
   },
   "outputs": [],
   "source": [
    "airlines = spark.read. \\\n",
    "    schema(airlines_schema). \\\n",
    "    csv(\"/public/airlines_all/airlines/part-0000*\",\n",
    "        header=True\n",
    "       )"
   ]
  },
  {
   "cell_type": "code",
   "execution_count": 8,
   "metadata": {},
   "outputs": [
    {
     "name": "stdout",
     "output_type": "stream",
     "text": [
      "root\n",
      " |-- Year: integer (nullable = true)\n",
      " |-- Month: integer (nullable = true)\n",
      " |-- DayofMonth: integer (nullable = true)\n",
      " |-- DayOfWeek: integer (nullable = true)\n",
      " |-- DepTime: string (nullable = true)\n",
      " |-- CRSDepTime: integer (nullable = true)\n",
      " |-- ArrTime: string (nullable = true)\n",
      " |-- CRSArrTime: integer (nullable = true)\n",
      " |-- UniqueCarrier: string (nullable = true)\n",
      " |-- FlightNum: integer (nullable = true)\n",
      " |-- TailNum: string (nullable = true)\n",
      " |-- ActualElapsedTime: string (nullable = true)\n",
      " |-- CRSElapsedTime: integer (nullable = true)\n",
      " |-- AirTime: string (nullable = true)\n",
      " |-- ArrDelay: string (nullable = true)\n",
      " |-- DepDelay: string (nullable = true)\n",
      " |-- Origin: string (nullable = true)\n",
      " |-- Dest: string (nullable = true)\n",
      " |-- Distance: string (nullable = true)\n",
      " |-- TaxiIn: string (nullable = true)\n",
      " |-- TaxiOut: string (nullable = true)\n",
      " |-- Cancelled: integer (nullable = true)\n",
      " |-- CancellationCode: string (nullable = true)\n",
      " |-- Diverted: integer (nullable = true)\n",
      " |-- CarrierDelay: string (nullable = true)\n",
      " |-- WeatherDelay: string (nullable = true)\n",
      " |-- NASDelay: string (nullable = true)\n",
      " |-- SecurityDelay: string (nullable = true)\n",
      " |-- LateAircraftDelay: string (nullable = true)\n",
      " |-- IsArrDelayed: string (nullable = true)\n",
      " |-- IsDepDelayed: string (nullable = true)\n",
      "\n"
     ]
    }
   ],
   "source": [
    "airlines.printSchema()"
   ]
  },
  {
   "cell_type": "code",
   "execution_count": 9,
   "metadata": {},
   "outputs": [
    {
     "name": "stdout",
     "output_type": "stream",
     "text": [
      "+----+-----+----------+---------+-------+----------+-------+----------+-------------+---------+-------+-----------------+--------------+-------+--------+--------+------+----+--------+------+-------+---------+----------------+--------+------------+------------+--------+-------------+-----------------+------------+------------+\n",
      "|Year|Month|DayofMonth|DayOfWeek|DepTime|CRSDepTime|ArrTime|CRSArrTime|UniqueCarrier|FlightNum|TailNum|ActualElapsedTime|CRSElapsedTime|AirTime|ArrDelay|DepDelay|Origin|Dest|Distance|TaxiIn|TaxiOut|Cancelled|CancellationCode|Diverted|CarrierDelay|WeatherDelay|NASDelay|SecurityDelay|LateAircraftDelay|IsArrDelayed|IsDepDelayed|\n",
      "+----+-----+----------+---------+-------+----------+-------+----------+-------------+---------+-------+-----------------+--------------+-------+--------+--------+------+----+--------+------+-------+---------+----------------+--------+------------+------------+--------+-------------+-----------------+------------+------------+\n",
      "|1987|   12|        20|        7|   1330|      1305|   1502|      1445|           AS|       84|     NA|               92|           100|     NA|      17|      25|   PDX| SFO|     550|    NA|     NA|        0|              NA|       0|          NA|          NA|      NA|           NA|               NA|         YES|         YES|\n",
      "|1987|   12|        21|        1|   1326|      1305|   1514|      1445|           AS|       84|     NA|              108|           100|     NA|      29|      21|   PDX| SFO|     550|    NA|     NA|        0|              NA|       0|          NA|          NA|      NA|           NA|               NA|         YES|         YES|\n",
      "|1987|   12|        22|        2|   1314|      1305|   1447|      1445|           AS|       84|     NA|               93|           100|     NA|       2|       9|   PDX| SFO|     550|    NA|     NA|        0|              NA|       0|          NA|          NA|      NA|           NA|               NA|         YES|         YES|\n",
      "|1987|   12|        23|        3|   1336|      1305|   1455|      1445|           AS|       84|     NA|               79|           100|     NA|      10|      31|   PDX| SFO|     550|    NA|     NA|        0|              NA|       0|          NA|          NA|      NA|           NA|               NA|         YES|         YES|\n",
      "|1987|   12|        24|        4|   1332|      1305|   1454|      1445|           AS|       84|     NA|               82|           100|     NA|       9|      27|   PDX| SFO|     550|    NA|     NA|        0|              NA|       0|          NA|          NA|      NA|           NA|               NA|         YES|         YES|\n",
      "|1987|   12|        26|        6|   1305|      1305|   1443|      1445|           AS|       84|     NA|               98|           100|     NA|      -2|       0|   PDX| SFO|     550|    NA|     NA|        0|              NA|       0|          NA|          NA|      NA|           NA|               NA|          NO|          NO|\n",
      "|1987|   12|        27|        7|   1314|      1305|   1506|      1445|           AS|       84|     NA|              112|           100|     NA|      21|       9|   PDX| SFO|     550|    NA|     NA|        0|              NA|       0|          NA|          NA|      NA|           NA|               NA|         YES|         YES|\n",
      "|1987|   12|        29|        2|   1410|      1305|   1543|      1445|           AS|       84|     NA|               93|           100|     NA|      58|      65|   PDX| SFO|     550|    NA|     NA|        0|              NA|       0|          NA|          NA|      NA|           NA|               NA|         YES|         YES|\n",
      "|1987|   12|        30|        3|   1315|      1305|   1443|      1445|           AS|       84|     NA|               88|           100|     NA|      -2|      10|   PDX| SFO|     550|    NA|     NA|        0|              NA|       0|          NA|          NA|      NA|           NA|               NA|          NO|         YES|\n",
      "|1987|   12|        31|        4|   1305|      1305|   1440|      1445|           AS|       84|     NA|               95|           100|     NA|      -5|       0|   PDX| SFO|     550|    NA|     NA|        0|              NA|       0|          NA|          NA|      NA|           NA|               NA|          NO|          NO|\n",
      "|1987|   12|         1|        2|   1210|      1155|   1310|      1235|           AS|       84|     NA|               60|            40|     NA|      35|      15|   SEA| PDX|     129|    NA|     NA|        0|              NA|       0|          NA|          NA|      NA|           NA|               NA|         YES|         YES|\n",
      "|1987|   12|         2|        3|   1220|      1155|   1305|      1235|           AS|       84|     NA|               45|            40|     NA|      30|      25|   SEA| PDX|     129|    NA|     NA|        0|              NA|       0|          NA|          NA|      NA|           NA|               NA|         YES|         YES|\n",
      "|1987|   12|         3|        4|   1155|      1155|   1243|      1235|           AS|       84|     NA|               48|            40|     NA|       8|       0|   SEA| PDX|     129|    NA|     NA|        0|              NA|       0|          NA|          NA|      NA|           NA|               NA|         YES|          NO|\n",
      "|1987|   12|         4|        5|   1155|      1155|   1234|      1235|           AS|       84|     NA|               39|            40|     NA|      -1|       0|   SEA| PDX|     129|    NA|     NA|        0|              NA|       0|          NA|          NA|      NA|           NA|               NA|          NO|          NO|\n",
      "|1987|   12|         6|        7|   1220|      1155|   1315|      1235|           AS|       84|     NA|               55|            40|     NA|      40|      25|   SEA| PDX|     129|    NA|     NA|        0|              NA|       0|          NA|          NA|      NA|           NA|               NA|         YES|         YES|\n",
      "|1987|   12|         7|        1|   1155|      1155|   1242|      1235|           AS|       84|     NA|               47|            40|     NA|       7|       0|   SEA| PDX|     129|    NA|     NA|        0|              NA|       0|          NA|          NA|      NA|           NA|               NA|         YES|          NO|\n",
      "|1987|   12|         8|        2|   1205|      1155|   1253|      1235|           AS|       84|     NA|               48|            40|     NA|      18|      10|   SEA| PDX|     129|    NA|     NA|        0|              NA|       0|          NA|          NA|      NA|           NA|               NA|         YES|         YES|\n",
      "|1987|   12|         9|        3|   1155|      1155|   1250|      1235|           AS|       84|     NA|               55|            40|     NA|      15|       0|   SEA| PDX|     129|    NA|     NA|        0|              NA|       0|          NA|          NA|      NA|           NA|               NA|         YES|          NO|\n",
      "|1987|   12|        10|        4|   1205|      1155|   1250|      1235|           AS|       84|     NA|               45|            40|     NA|      15|      10|   SEA| PDX|     129|    NA|     NA|        0|              NA|       0|          NA|          NA|      NA|           NA|               NA|         YES|         YES|\n",
      "|1987|   12|        11|        5|   1155|      1155|   1249|      1235|           AS|       84|     NA|               54|            40|     NA|      14|       0|   SEA| PDX|     129|    NA|     NA|        0|              NA|       0|          NA|          NA|      NA|           NA|               NA|         YES|          NO|\n",
      "+----+-----+----------+---------+-------+----------+-------+----------+-------------+---------+-------+-----------------+--------------+-------+--------+--------+------+----+--------+------+-------+---------+----------------+--------+------------+------------+--------+-------------+-----------------+------------+------------+\n",
      "only showing top 20 rows\n",
      "\n"
     ]
    }
   ],
   "source": [
    "airlines.show()"
   ]
  },
  {
   "cell_type": "code",
   "execution_count": 10,
   "metadata": {},
   "outputs": [
    {
     "name": "stdout",
     "output_type": "stream",
     "text": [
      "+----+-----+----------+---------+-------+----------+-------+----------+-------------+---------+-------+-----------------+--------------+-------+--------+--------+------+----+--------+------+-------+---------+----------------+--------+------------+------------+--------+-------------+-----------------+------------+------------+\n",
      "|Year|Month|DayofMonth|DayOfWeek|DepTime|CRSDepTime|ArrTime|CRSArrTime|UniqueCarrier|FlightNum|TailNum|ActualElapsedTime|CRSElapsedTime|AirTime|ArrDelay|DepDelay|Origin|Dest|Distance|TaxiIn|TaxiOut|Cancelled|CancellationCode|Diverted|CarrierDelay|WeatherDelay|NASDelay|SecurityDelay|LateAircraftDelay|IsArrDelayed|IsDepDelayed|\n",
      "+----+-----+----------+---------+-------+----------+-------+----------+-------------+---------+-------+-----------------+--------------+-------+--------+--------+------+----+--------+------+-------+---------+----------------+--------+------------+------------+--------+-------------+-----------------+------------+------------+\n",
      "|1987|12   |20        |7        |1330   |1305      |1502   |1445      |AS           |84       |NA     |92               |100           |NA     |17      |25      |PDX   |SFO |550     |NA    |NA     |0        |NA              |0       |NA          |NA          |NA      |NA           |NA               |YES         |YES         |\n",
      "|1987|12   |21        |1        |1326   |1305      |1514   |1445      |AS           |84       |NA     |108              |100           |NA     |29      |21      |PDX   |SFO |550     |NA    |NA     |0        |NA              |0       |NA          |NA          |NA      |NA           |NA               |YES         |YES         |\n",
      "|1987|12   |22        |2        |1314   |1305      |1447   |1445      |AS           |84       |NA     |93               |100           |NA     |2       |9       |PDX   |SFO |550     |NA    |NA     |0        |NA              |0       |NA          |NA          |NA      |NA           |NA               |YES         |YES         |\n",
      "|1987|12   |23        |3        |1336   |1305      |1455   |1445      |AS           |84       |NA     |79               |100           |NA     |10      |31      |PDX   |SFO |550     |NA    |NA     |0        |NA              |0       |NA          |NA          |NA      |NA           |NA               |YES         |YES         |\n",
      "|1987|12   |24        |4        |1332   |1305      |1454   |1445      |AS           |84       |NA     |82               |100           |NA     |9       |27      |PDX   |SFO |550     |NA    |NA     |0        |NA              |0       |NA          |NA          |NA      |NA           |NA               |YES         |YES         |\n",
      "|1987|12   |26        |6        |1305   |1305      |1443   |1445      |AS           |84       |NA     |98               |100           |NA     |-2      |0       |PDX   |SFO |550     |NA    |NA     |0        |NA              |0       |NA          |NA          |NA      |NA           |NA               |NO          |NO          |\n",
      "|1987|12   |27        |7        |1314   |1305      |1506   |1445      |AS           |84       |NA     |112              |100           |NA     |21      |9       |PDX   |SFO |550     |NA    |NA     |0        |NA              |0       |NA          |NA          |NA      |NA           |NA               |YES         |YES         |\n",
      "|1987|12   |29        |2        |1410   |1305      |1543   |1445      |AS           |84       |NA     |93               |100           |NA     |58      |65      |PDX   |SFO |550     |NA    |NA     |0        |NA              |0       |NA          |NA          |NA      |NA           |NA               |YES         |YES         |\n",
      "|1987|12   |30        |3        |1315   |1305      |1443   |1445      |AS           |84       |NA     |88               |100           |NA     |-2      |10      |PDX   |SFO |550     |NA    |NA     |0        |NA              |0       |NA          |NA          |NA      |NA           |NA               |NO          |YES         |\n",
      "|1987|12   |31        |4        |1305   |1305      |1440   |1445      |AS           |84       |NA     |95               |100           |NA     |-5      |0       |PDX   |SFO |550     |NA    |NA     |0        |NA              |0       |NA          |NA          |NA      |NA           |NA               |NO          |NO          |\n",
      "|1987|12   |1         |2        |1210   |1155      |1310   |1235      |AS           |84       |NA     |60               |40            |NA     |35      |15      |SEA   |PDX |129     |NA    |NA     |0        |NA              |0       |NA          |NA          |NA      |NA           |NA               |YES         |YES         |\n",
      "|1987|12   |2         |3        |1220   |1155      |1305   |1235      |AS           |84       |NA     |45               |40            |NA     |30      |25      |SEA   |PDX |129     |NA    |NA     |0        |NA              |0       |NA          |NA          |NA      |NA           |NA               |YES         |YES         |\n",
      "|1987|12   |3         |4        |1155   |1155      |1243   |1235      |AS           |84       |NA     |48               |40            |NA     |8       |0       |SEA   |PDX |129     |NA    |NA     |0        |NA              |0       |NA          |NA          |NA      |NA           |NA               |YES         |NO          |\n",
      "|1987|12   |4         |5        |1155   |1155      |1234   |1235      |AS           |84       |NA     |39               |40            |NA     |-1      |0       |SEA   |PDX |129     |NA    |NA     |0        |NA              |0       |NA          |NA          |NA      |NA           |NA               |NO          |NO          |\n",
      "|1987|12   |6         |7        |1220   |1155      |1315   |1235      |AS           |84       |NA     |55               |40            |NA     |40      |25      |SEA   |PDX |129     |NA    |NA     |0        |NA              |0       |NA          |NA          |NA      |NA           |NA               |YES         |YES         |\n",
      "|1987|12   |7         |1        |1155   |1155      |1242   |1235      |AS           |84       |NA     |47               |40            |NA     |7       |0       |SEA   |PDX |129     |NA    |NA     |0        |NA              |0       |NA          |NA          |NA      |NA           |NA               |YES         |NO          |\n",
      "|1987|12   |8         |2        |1205   |1155      |1253   |1235      |AS           |84       |NA     |48               |40            |NA     |18      |10      |SEA   |PDX |129     |NA    |NA     |0        |NA              |0       |NA          |NA          |NA      |NA           |NA               |YES         |YES         |\n",
      "|1987|12   |9         |3        |1155   |1155      |1250   |1235      |AS           |84       |NA     |55               |40            |NA     |15      |0       |SEA   |PDX |129     |NA    |NA     |0        |NA              |0       |NA          |NA          |NA      |NA           |NA               |YES         |NO          |\n",
      "|1987|12   |10        |4        |1205   |1155      |1250   |1235      |AS           |84       |NA     |45               |40            |NA     |15      |10      |SEA   |PDX |129     |NA    |NA     |0        |NA              |0       |NA          |NA          |NA      |NA           |NA               |YES         |YES         |\n",
      "|1987|12   |11        |5        |1155   |1155      |1249   |1235      |AS           |84       |NA     |54               |40            |NA     |14      |0       |SEA   |PDX |129     |NA    |NA     |0        |NA              |0       |NA          |NA          |NA      |NA           |NA               |YES         |NO          |\n",
      "|1987|12   |12        |6        |1155   |1155      |1239   |1235      |AS           |84       |NA     |44               |40            |NA     |4       |0       |SEA   |PDX |129     |NA    |NA     |0        |NA              |0       |NA          |NA          |NA      |NA           |NA               |YES         |NO          |\n",
      "|1987|12   |13        |7        |1155   |1155      |1239   |1235      |AS           |84       |NA     |44               |40            |NA     |4       |0       |SEA   |PDX |129     |NA    |NA     |0        |NA              |0       |NA          |NA          |NA      |NA           |NA               |YES         |NO          |\n",
      "|1987|12   |15        |2        |1200   |1155      |1245   |1235      |AS           |84       |NA     |45               |40            |NA     |10      |5       |SEA   |PDX |129     |NA    |NA     |0        |NA              |0       |NA          |NA          |NA      |NA           |NA               |YES         |YES         |\n",
      "|1987|12   |16        |3        |1155   |1155      |1240   |1235      |AS           |84       |NA     |45               |40            |NA     |5       |0       |SEA   |PDX |129     |NA    |NA     |0        |NA              |0       |NA          |NA          |NA      |NA           |NA               |YES         |NO          |\n",
      "|1987|12   |17        |4        |1212   |1155      |1256   |1235      |AS           |84       |NA     |44               |40            |NA     |21      |17      |SEA   |PDX |129     |NA    |NA     |0        |NA              |0       |NA          |NA          |NA      |NA           |NA               |YES         |YES         |\n",
      "|1987|12   |18        |5        |1205   |1155      |1255   |1235      |AS           |84       |NA     |50               |40            |NA     |20      |10      |SEA   |PDX |129     |NA    |NA     |0        |NA              |0       |NA          |NA          |NA      |NA           |NA               |YES         |YES         |\n",
      "|1987|12   |20        |7        |1219   |1155      |1313   |1235      |AS           |84       |NA     |54               |40            |NA     |38      |24      |SEA   |PDX |129     |NA    |NA     |0        |NA              |0       |NA          |NA          |NA      |NA           |NA               |YES         |YES         |\n",
      "|1987|12   |21        |1        |1203   |1155      |1258   |1235      |AS           |84       |NA     |55               |40            |NA     |23      |8       |SEA   |PDX |129     |NA    |NA     |0        |NA              |0       |NA          |NA          |NA      |NA           |NA               |YES         |YES         |\n",
      "|1987|12   |22        |2        |1155   |1155      |1246   |1235      |AS           |84       |NA     |51               |40            |NA     |11      |0       |SEA   |PDX |129     |NA    |NA     |0        |NA              |0       |NA          |NA          |NA      |NA           |NA               |YES         |NO          |\n",
      "|1987|12   |25        |5        |1200   |1155      |1259   |1235      |AS           |84       |NA     |59               |40            |NA     |24      |5       |SEA   |PDX |129     |NA    |NA     |0        |NA              |0       |NA          |NA          |NA      |NA           |NA               |YES         |YES         |\n",
      "|1987|12   |26        |6        |1200   |1155      |1247   |1235      |AS           |84       |NA     |47               |40            |NA     |12      |5       |SEA   |PDX |129     |NA    |NA     |0        |NA              |0       |NA          |NA          |NA      |NA           |NA               |YES         |YES         |\n",
      "|1987|12   |27        |7        |1155   |1155      |1237   |1235      |AS           |84       |NA     |42               |40            |NA     |2       |0       |SEA   |PDX |129     |NA    |NA     |0        |NA              |0       |NA          |NA          |NA      |NA           |NA               |YES         |NO          |\n",
      "|1987|12   |29        |2        |1155   |1155      |1244   |1235      |AS           |84       |NA     |49               |40            |NA     |9       |0       |SEA   |PDX |129     |NA    |NA     |0        |NA              |0       |NA          |NA          |NA      |NA           |NA               |YES         |NO          |\n",
      "|1987|12   |30        |3        |1202   |1155      |1251   |1235      |AS           |84       |NA     |49               |40            |NA     |16      |7       |SEA   |PDX |129     |NA    |NA     |0        |NA              |0       |NA          |NA          |NA      |NA           |NA               |YES         |YES         |\n",
      "|1987|12   |31        |4        |1155   |1155      |1237   |1235      |AS           |84       |NA     |42               |40            |NA     |2       |0       |SEA   |PDX |129     |NA    |NA     |0        |NA              |0       |NA          |NA          |NA      |NA           |NA               |YES         |NO          |\n",
      "|1987|12   |1         |2        |1610   |1515      |1725   |1625      |AS           |84       |NA     |75               |70            |NA     |60      |55      |SFO   |ONT |363     |NA    |NA     |0        |NA              |0       |NA          |NA          |NA      |NA           |NA               |YES         |YES         |\n",
      "|1987|12   |2         |3        |1639   |1515      |1756   |1625      |AS           |84       |NA     |77               |70            |NA     |91      |84      |SFO   |ONT |363     |NA    |NA     |0        |NA              |0       |NA          |NA          |NA      |NA           |NA               |YES         |YES         |\n",
      "|1987|12   |3         |4        |1535   |1515      |1657   |1625      |AS           |84       |NA     |82               |70            |NA     |32      |20      |SFO   |ONT |363     |NA    |NA     |0        |NA              |0       |NA          |NA          |NA      |NA           |NA               |YES         |YES         |\n",
      "|1987|12   |6         |7        |1640   |1515      |1800   |1625      |AS           |84       |NA     |80               |70            |NA     |95      |85      |SFO   |ONT |363     |NA    |NA     |0        |NA              |0       |NA          |NA          |NA      |NA           |NA               |YES         |YES         |\n",
      "|1987|12   |7         |1        |1515   |1515      |1620   |1625      |AS           |84       |NA     |65               |70            |NA     |-5      |0       |SFO   |ONT |363     |NA    |NA     |0        |NA              |0       |NA          |NA          |NA      |NA           |NA               |NO          |NO          |\n",
      "|1987|12   |8         |2        |1600   |1515      |1715   |1625      |AS           |84       |NA     |75               |70            |NA     |50      |45      |SFO   |ONT |363     |NA    |NA     |0        |NA              |0       |NA          |NA          |NA      |NA           |NA               |YES         |YES         |\n",
      "|1987|12   |9         |3        |1551   |1515      |1711   |1625      |AS           |84       |NA     |80               |70            |NA     |46      |36      |SFO   |ONT |363     |NA    |NA     |0        |NA              |0       |NA          |NA          |NA      |NA           |NA               |YES         |YES         |\n",
      "|1987|12   |10        |4        |1609   |1515      |1723   |1625      |AS           |84       |NA     |74               |70            |NA     |58      |54      |SFO   |ONT |363     |NA    |NA     |0        |NA              |0       |NA          |NA          |NA      |NA           |NA               |YES         |YES         |\n",
      "|1987|12   |11        |5        |1515   |1515      |1629   |1625      |AS           |84       |NA     |74               |70            |NA     |4       |0       |SFO   |ONT |363     |NA    |NA     |0        |NA              |0       |NA          |NA          |NA      |NA           |NA               |YES         |NO          |\n",
      "|1987|12   |12        |6        |1534   |1515      |1644   |1625      |AS           |84       |NA     |70               |70            |NA     |19      |19      |SFO   |ONT |363     |NA    |NA     |0        |NA              |0       |NA          |NA          |NA      |NA           |NA               |YES         |YES         |\n",
      "|1987|12   |13        |7        |1536   |1515      |1647   |1625      |AS           |84       |NA     |71               |70            |NA     |22      |21      |SFO   |ONT |363     |NA    |NA     |0        |NA              |0       |NA          |NA          |NA      |NA           |NA               |YES         |YES         |\n",
      "|1987|12   |16        |3        |1520   |1515      |1646   |1625      |AS           |84       |NA     |86               |70            |NA     |21      |5       |SFO   |ONT |363     |NA    |NA     |0        |NA              |0       |NA          |NA          |NA      |NA           |NA               |YES         |YES         |\n",
      "|1987|12   |17        |4        |1515   |1515      |1626   |1625      |AS           |84       |NA     |71               |70            |NA     |1       |0       |SFO   |ONT |363     |NA    |NA     |0        |NA              |0       |NA          |NA          |NA      |NA           |NA               |YES         |NO          |\n",
      "|1987|12   |18        |5        |1515   |1515      |1622   |1625      |AS           |84       |NA     |67               |70            |NA     |-3      |0       |SFO   |ONT |363     |NA    |NA     |0        |NA              |0       |NA          |NA          |NA      |NA           |NA               |NO          |NO          |\n",
      "|1987|12   |19        |6        |1515   |1515      |1620   |1625      |AS           |84       |NA     |65               |70            |NA     |-5      |0       |SFO   |ONT |363     |NA    |NA     |0        |NA              |0       |NA          |NA          |NA      |NA           |NA               |NO          |NO          |\n",
      "|1987|12   |20        |7        |1525   |1515      |1630   |1625      |AS           |84       |NA     |65               |70            |NA     |5       |10      |SFO   |ONT |363     |NA    |NA     |0        |NA              |0       |NA          |NA          |NA      |NA           |NA               |YES         |YES         |\n",
      "|1987|12   |21        |1        |1535   |1515      |1641   |1625      |AS           |84       |NA     |66               |70            |NA     |16      |20      |SFO   |ONT |363     |NA    |NA     |0        |NA              |0       |NA          |NA          |NA      |NA           |NA               |YES         |YES         |\n",
      "|1987|12   |22        |2        |1515   |1515      |1639   |1625      |AS           |84       |NA     |84               |70            |NA     |14      |0       |SFO   |ONT |363     |NA    |NA     |0        |NA              |0       |NA          |NA          |NA      |NA           |NA               |YES         |NO          |\n",
      "|1987|12   |23        |3        |1520   |1515      |1629   |1625      |AS           |84       |NA     |69               |70            |NA     |4       |5       |SFO   |ONT |363     |NA    |NA     |0        |NA              |0       |NA          |NA          |NA      |NA           |NA               |YES         |YES         |\n",
      "|1987|12   |24        |4        |1515   |1515      |1630   |1625      |AS           |84       |NA     |75               |70            |NA     |5       |0       |SFO   |ONT |363     |NA    |NA     |0        |NA              |0       |NA          |NA          |NA      |NA           |NA               |YES         |NO          |\n",
      "|1987|12   |26        |6        |1515   |1515      |1621   |1625      |AS           |84       |NA     |66               |70            |NA     |-4      |0       |SFO   |ONT |363     |NA    |NA     |0        |NA              |0       |NA          |NA          |NA      |NA           |NA               |NO          |NO          |\n",
      "|1987|12   |27        |7        |1528   |1515      |1643   |1625      |AS           |84       |NA     |75               |70            |NA     |18      |13      |SFO   |ONT |363     |NA    |NA     |0        |NA              |0       |NA          |NA          |NA      |NA           |NA               |YES         |YES         |\n",
      "|1987|12   |29        |2        |1612   |1515      |1716   |1625      |AS           |84       |NA     |64               |70            |NA     |51      |57      |SFO   |ONT |363     |NA    |NA     |0        |NA              |0       |NA          |NA          |NA      |NA           |NA               |YES         |YES         |\n",
      "|1987|12   |30        |3        |1515   |1515      |1623   |1625      |AS           |84       |NA     |68               |70            |NA     |-2      |0       |SFO   |ONT |363     |NA    |NA     |0        |NA              |0       |NA          |NA          |NA      |NA           |NA               |NO          |NO          |\n",
      "|1987|12   |31        |4        |1515   |1515      |1627   |1625      |AS           |84       |NA     |72               |70            |NA     |2       |0       |SFO   |ONT |363     |NA    |NA     |0        |NA              |0       |NA          |NA          |NA      |NA           |NA               |YES         |NO          |\n",
      "|1987|12   |1         |2        |905    |905       |1049   |1035      |AS           |85       |NA     |104              |90            |NA     |14      |0       |OAK   |PDX |543     |NA    |NA     |0        |NA              |0       |NA          |NA          |NA      |NA           |NA               |YES         |NO          |\n",
      "|1987|12   |2         |3        |905    |905       |1041   |1035      |AS           |85       |NA     |96               |90            |NA     |6       |0       |OAK   |PDX |543     |NA    |NA     |0        |NA              |0       |NA          |NA          |NA      |NA           |NA               |YES         |NO          |\n",
      "|1987|12   |3         |4        |909    |905       |1032   |1035      |AS           |85       |NA     |83               |90            |NA     |-3      |4       |OAK   |PDX |543     |NA    |NA     |0        |NA              |0       |NA          |NA          |NA      |NA           |NA               |NO          |YES         |\n",
      "|1987|12   |4         |5        |905    |905       |1035   |1035      |AS           |85       |NA     |90               |90            |NA     |0       |0       |OAK   |PDX |543     |NA    |NA     |0        |NA              |0       |NA          |NA          |NA      |NA           |NA               |NO          |NO          |\n",
      "|1987|12   |5         |6        |905    |905       |1040   |1035      |AS           |85       |NA     |95               |90            |NA     |5       |0       |OAK   |PDX |543     |NA    |NA     |0        |NA              |0       |NA          |NA          |NA      |NA           |NA               |YES         |NO          |\n",
      "|1987|12   |6         |7        |913    |905       |1038   |1035      |AS           |85       |NA     |85               |90            |NA     |3       |8       |OAK   |PDX |543     |NA    |NA     |0        |NA              |0       |NA          |NA          |NA      |NA           |NA               |YES         |YES         |\n",
      "|1987|12   |7         |1        |911    |905       |1049   |1035      |AS           |85       |NA     |98               |90            |NA     |14      |6       |OAK   |PDX |543     |NA    |NA     |0        |NA              |0       |NA          |NA          |NA      |NA           |NA               |YES         |YES         |\n",
      "|1987|12   |8         |2        |909    |905       |1043   |1035      |AS           |85       |NA     |94               |90            |NA     |8       |4       |OAK   |PDX |543     |NA    |NA     |0        |NA              |0       |NA          |NA          |NA      |NA           |NA               |YES         |YES         |\n",
      "|1987|12   |9         |3        |905    |905       |1052   |1035      |AS           |85       |NA     |107              |90            |NA     |17      |0       |OAK   |PDX |543     |NA    |NA     |0        |NA              |0       |NA          |NA          |NA      |NA           |NA               |YES         |NO          |\n",
      "|1987|12   |10        |4        |905    |905       |1037   |1035      |AS           |85       |NA     |92               |90            |NA     |2       |0       |OAK   |PDX |543     |NA    |NA     |0        |NA              |0       |NA          |NA          |NA      |NA           |NA               |YES         |NO          |\n",
      "|1987|12   |11        |5        |905    |905       |1037   |1035      |AS           |85       |NA     |92               |90            |NA     |2       |0       |OAK   |PDX |543     |NA    |NA     |0        |NA              |0       |NA          |NA          |NA      |NA           |NA               |YES         |NO          |\n",
      "|1987|12   |12        |6        |905    |905       |1045   |1035      |AS           |85       |NA     |100              |90            |NA     |10      |0       |OAK   |PDX |543     |NA    |NA     |0        |NA              |0       |NA          |NA          |NA      |NA           |NA               |YES         |NO          |\n",
      "|1987|12   |13        |7        |905    |905       |1100   |1035      |AS           |85       |NA     |115              |90            |NA     |25      |0       |OAK   |PDX |543     |NA    |NA     |0        |NA              |0       |NA          |NA          |NA      |NA           |NA               |YES         |NO          |\n",
      "|1987|12   |14        |1        |905    |905       |1045   |1035      |AS           |85       |NA     |100              |90            |NA     |10      |0       |OAK   |PDX |543     |NA    |NA     |0        |NA              |0       |NA          |NA          |NA      |NA           |NA               |YES         |NO          |\n",
      "|1987|12   |15        |2        |905    |905       |1039   |1035      |AS           |85       |NA     |94               |90            |NA     |4       |0       |OAK   |PDX |543     |NA    |NA     |0        |NA              |0       |NA          |NA          |NA      |NA           |NA               |YES         |NO          |\n",
      "|1987|12   |16        |3        |913    |905       |1045   |1035      |AS           |85       |NA     |92               |90            |NA     |10      |8       |OAK   |PDX |543     |NA    |NA     |0        |NA              |0       |NA          |NA          |NA      |NA           |NA               |YES         |YES         |\n",
      "|1987|12   |17        |4        |905    |905       |1050   |1035      |AS           |85       |NA     |105              |90            |NA     |15      |0       |OAK   |PDX |543     |NA    |NA     |0        |NA              |0       |NA          |NA          |NA      |NA           |NA               |YES         |NO          |\n",
      "|1987|12   |18        |5        |905    |905       |1036   |1035      |AS           |85       |NA     |91               |90            |NA     |1       |0       |OAK   |PDX |543     |NA    |NA     |0        |NA              |0       |NA          |NA          |NA      |NA           |NA               |YES         |NO          |\n",
      "|1987|12   |19        |6        |905    |905       |1059   |1035      |AS           |85       |NA     |114              |90            |NA     |24      |0       |OAK   |PDX |543     |NA    |NA     |0        |NA              |0       |NA          |NA          |NA      |NA           |NA               |YES         |NO          |\n",
      "|1987|12   |20        |7        |905    |905       |1050   |1035      |AS           |85       |NA     |105              |90            |NA     |15      |0       |OAK   |PDX |543     |NA    |NA     |0        |NA              |0       |NA          |NA          |NA      |NA           |NA               |YES         |NO          |\n",
      "|1987|12   |22        |2        |917    |905       |1041   |1035      |AS           |85       |NA     |84               |90            |NA     |6       |12      |OAK   |PDX |543     |NA    |NA     |0        |NA              |0       |NA          |NA          |NA      |NA           |NA               |YES         |YES         |\n",
      "|1987|12   |24        |4        |905    |905       |1057   |1035      |AS           |85       |NA     |112              |90            |NA     |22      |0       |OAK   |PDX |543     |NA    |NA     |0        |NA              |0       |NA          |NA          |NA      |NA           |NA               |YES         |NO          |\n",
      "|1987|12   |26        |6        |911    |905       |1039   |1035      |AS           |85       |NA     |88               |90            |NA     |4       |6       |OAK   |PDX |543     |NA    |NA     |0        |NA              |0       |NA          |NA          |NA      |NA           |NA               |YES         |YES         |\n",
      "|1987|12   |27        |7        |905    |905       |1030   |1035      |AS           |85       |NA     |85               |90            |NA     |-5      |0       |OAK   |PDX |543     |NA    |NA     |0        |NA              |0       |NA          |NA          |NA      |NA           |NA               |NO          |NO          |\n",
      "|1987|12   |28        |1        |914    |905       |1034   |1035      |AS           |85       |NA     |80               |90            |NA     |-1      |9       |OAK   |PDX |543     |NA    |NA     |0        |NA              |0       |NA          |NA          |NA      |NA           |NA               |NO          |YES         |\n",
      "|1987|12   |29        |2        |905    |905       |1035   |1035      |AS           |85       |NA     |90               |90            |NA     |0       |0       |OAK   |PDX |543     |NA    |NA     |0        |NA              |0       |NA          |NA          |NA      |NA           |NA               |NO          |NO          |\n",
      "|1987|12   |31        |4        |925    |905       |1102   |1035      |AS           |85       |NA     |97               |90            |NA     |27      |20      |OAK   |PDX |543     |NA    |NA     |0        |NA              |0       |NA          |NA          |NA      |NA           |NA               |YES         |YES         |\n",
      "|1987|12   |1         |2        |1119   |1105      |1206   |1145      |AS           |85       |NA     |47               |40            |NA     |21      |14      |PDX   |SEA |129     |NA    |NA     |0        |NA              |0       |NA          |NA          |NA      |NA           |NA               |YES         |YES         |\n",
      "|1987|12   |2         |3        |1120   |1105      |1206   |1145      |AS           |85       |NA     |46               |40            |NA     |21      |15      |PDX   |SEA |129     |NA    |NA     |0        |NA              |0       |NA          |NA          |NA      |NA           |NA               |YES         |YES         |\n",
      "|1987|12   |3         |4        |1120   |1105      |1206   |1145      |AS           |85       |NA     |46               |40            |NA     |21      |15      |PDX   |SEA |129     |NA    |NA     |0        |NA              |0       |NA          |NA          |NA      |NA           |NA               |YES         |YES         |\n",
      "|1987|12   |4         |5        |1115   |1105      |1203   |1145      |AS           |85       |NA     |48               |40            |NA     |18      |10      |PDX   |SEA |129     |NA    |NA     |0        |NA              |0       |NA          |NA          |NA      |NA           |NA               |YES         |YES         |\n",
      "|1987|12   |5         |6        |1119   |1105      |1207   |1145      |AS           |85       |NA     |48               |40            |NA     |22      |14      |PDX   |SEA |129     |NA    |NA     |0        |NA              |0       |NA          |NA          |NA      |NA           |NA               |YES         |YES         |\n",
      "|1987|12   |7         |1        |1110   |1105      |1157   |1145      |AS           |85       |NA     |47               |40            |NA     |12      |5       |PDX   |SEA |129     |NA    |NA     |0        |NA              |0       |NA          |NA          |NA      |NA           |NA               |YES         |YES         |\n",
      "|1987|12   |8         |2        |1113   |1105      |1158   |1145      |AS           |85       |NA     |45               |40            |NA     |13      |8       |PDX   |SEA |129     |NA    |NA     |0        |NA              |0       |NA          |NA          |NA      |NA           |NA               |YES         |YES         |\n",
      "|1987|12   |9         |3        |1120   |1105      |1211   |1145      |AS           |85       |NA     |51               |40            |NA     |26      |15      |PDX   |SEA |129     |NA    |NA     |0        |NA              |0       |NA          |NA          |NA      |NA           |NA               |YES         |YES         |\n",
      "|1987|12   |10        |4        |1105   |1105      |1204   |1145      |AS           |85       |NA     |59               |40            |NA     |19      |0       |PDX   |SEA |129     |NA    |NA     |0        |NA              |0       |NA          |NA          |NA      |NA           |NA               |YES         |NO          |\n",
      "|1987|12   |11        |5        |1117   |1105      |1203   |1145      |AS           |85       |NA     |46               |40            |NA     |18      |12      |PDX   |SEA |129     |NA    |NA     |0        |NA              |0       |NA          |NA          |NA      |NA           |NA               |YES         |YES         |\n",
      "|1987|12   |12        |6        |1125   |1105      |1205   |1145      |AS           |85       |NA     |40               |40            |NA     |20      |20      |PDX   |SEA |129     |NA    |NA     |0        |NA              |0       |NA          |NA          |NA      |NA           |NA               |YES         |YES         |\n",
      "|1987|12   |13        |7        |1124   |1105      |1207   |1145      |AS           |85       |NA     |43               |40            |NA     |22      |19      |PDX   |SEA |129     |NA    |NA     |0        |NA              |0       |NA          |NA          |NA      |NA           |NA               |YES         |YES         |\n",
      "|1987|12   |14        |1        |1120   |1105      |1201   |1145      |AS           |85       |NA     |41               |40            |NA     |16      |15      |PDX   |SEA |129     |NA    |NA     |0        |NA              |0       |NA          |NA          |NA      |NA           |NA               |YES         |YES         |\n",
      "+----+-----+----------+---------+-------+----------+-------+----------+-------------+---------+-------+-----------------+--------------+-------+--------+--------+------+----+--------+------+-------+---------+----------------+--------+------------+------------+--------+-------------+-----------------+------------+------------+\n",
      "only showing top 100 rows\n",
      "\n"
     ]
    }
   ],
   "source": [
    "airlines.show(100, truncate=False)"
   ]
  },
  {
   "cell_type": "code",
   "execution_count": 11,
   "metadata": {},
   "outputs": [
    {
     "data": {
      "text/plain": [
       "6489231"
      ]
     },
     "execution_count": 11,
     "metadata": {},
     "output_type": "execute_result"
    }
   ],
   "source": [
    "airlines.count()"
   ]
  },
  {
   "cell_type": "code",
   "execution_count": 12,
   "metadata": {},
   "outputs": [
    {
     "data": {
      "text/plain": [
       "6489146"
      ]
     },
     "execution_count": 12,
     "metadata": {},
     "output_type": "execute_result"
    }
   ],
   "source": [
    "airlines.distinct().count()"
   ]
  },
  {
   "cell_type": "code",
   "execution_count": null,
   "metadata": {},
   "outputs": [],
   "source": []
  }
 ],
 "metadata": {
  "kernelspec": {
   "display_name": "Pyspark 2",
   "language": "python",
   "name": "pyspark2"
  },
  "language_info": {
   "codemirror_mode": {
    "name": "ipython",
    "version": 3
   },
   "file_extension": ".py",
   "mimetype": "text/x-python",
   "name": "python",
   "nbconvert_exporter": "python",
   "pygments_lexer": "ipython3",
   "version": "3.6.12"
  }
 },
 "nbformat": 4,
 "nbformat_minor": 4
}
