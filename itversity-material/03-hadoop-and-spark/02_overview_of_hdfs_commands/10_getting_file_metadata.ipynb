{
 "cells": [
  {
   "cell_type": "markdown",
   "metadata": {},
   "source": [
    "## Getting File Metadata\n",
    "\n",
    "Let us see how to get metadata for the  files stored in HDFS using `hdfs fsck` command. "
   ]
  },
  {
   "cell_type": "markdown",
   "metadata": {},
   "source": [
    "* We have files copied under HDFS location `/user/${USER}/retail_db`. We also have some sample large files copied under HDFS location `/public/randomtextwriter`. We can use `hdfs fsck` command.\n",
    "* We will first see how to get metadata of these files and then try to interpret it in subsequent topics.\n",
    "* HDFS stands for Hadoop Distributed File System. It means files are copied in distributed fashion.\n",
    "* Our cluster have master nodes and worker nodes, in this case the files will be physically copied in the worker nodes where data node process is running. We will cover this as part of the HDFS architecture.\n",
    "* Here are the details about worker nodes along with corresponding private ips.\n",
    "\n",
    "|Private ip|Full DNS|Short DNS|\n",
    "|---|---|---|\n",
    "|172.16.1.102|wn01.itversity.com|wn01|\n",
    "|172.16.1.103|wn02.itversity.com|wn02|\n",
    "|172.16.1.104|wn03.itversity.com|wn03|\n",
    "|172.16.1.107|wn04.itversity.com|wn04|\n",
    "|172.16.1.108|wn05.itversity.com|wn05|"
   ]
  },
  {
   "cell_type": "code",
   "execution_count": null,
   "metadata": {},
   "outputs": [],
   "source": [
    "%%sh\n",
    "\n",
    "hdfs fsck -help"
   ]
  },
  {
   "cell_type": "markdown",
   "metadata": {},
   "source": [
    "* We can get high level overview for a retail_db folder by using `hdfs fsck retail_db`"
   ]
  },
  {
   "cell_type": "code",
   "execution_count": 1,
   "metadata": {},
   "outputs": [
    {
     "name": "stdout",
     "output_type": "stream",
     "text": [
      "FSCK started by itv002480 (auth:SIMPLE) from /172.16.1.102 for path /user/itv002480/retail_db at Wed May 25 10:16:20 EDT 2022\n",
      "\n",
      "\n",
      "Status: HEALTHY\n",
      " Number of data-nodes:\t3\n",
      " Number of racks:\t\t1\n",
      " Total dirs:\t\t\t7\n",
      " Total symlinks:\t\t0\n",
      "\n",
      "Replicated Blocks:\n",
      " Total size:\t9537787 B\n",
      " Total files:\t6\n",
      " Total blocks (validated):\t6 (avg. block size 1589631 B)\n",
      " Minimally replicated blocks:\t6 (100.0 %)\n",
      " Over-replicated blocks:\t0 (0.0 %)\n",
      " Under-replicated blocks:\t0 (0.0 %)\n",
      " Mis-replicated blocks:\t\t0 (0.0 %)\n",
      " Default replication factor:\t3\n",
      " Average block replication:\t3.0\n",
      " Missing blocks:\t\t0\n",
      " Corrupt blocks:\t\t0\n",
      " Missing replicas:\t\t0 (0.0 %)\n",
      " Blocks queued for replication:\t0\n",
      "\n",
      "Erasure Coded Block Groups:\n",
      " Total size:\t0 B\n",
      " Total files:\t0\n",
      " Total block groups (validated):\t0\n",
      " Minimally erasure-coded block groups:\t0\n",
      " Over-erasure-coded block groups:\t0\n",
      " Under-erasure-coded block groups:\t0\n",
      " Unsatisfactory placement block groups:\t0\n",
      " Average block group size:\t0.0\n",
      " Missing block groups:\t\t0\n",
      " Corrupt block groups:\t\t0\n",
      " Missing internal blocks:\t0\n",
      " Blocks queued for replication:\t0\n",
      "FSCK ended at Wed May 25 10:16:20 EDT 2022 in 1 milliseconds\n",
      "\n",
      "\n",
      "The filesystem under path '/user/itv002480/retail_db' is HEALTHY\n"
     ]
    },
    {
     "name": "stderr",
     "output_type": "stream",
     "text": [
      "Connecting to namenode via http://m01.itversity.com:9870/fsck?ugi=itv002480&path=%2Fuser%2Fitv002480%2Fretail_db\n"
     ]
    }
   ],
   "source": [
    "%%sh\n",
    "\n",
    "hdfs fsck /user/${USER}/retail_db"
   ]
  },
  {
   "cell_type": "markdown",
   "metadata": {},
   "source": [
    "* We can get details about file names using `-files` option."
   ]
  },
  {
   "cell_type": "code",
   "execution_count": 2,
   "metadata": {},
   "outputs": [
    {
     "name": "stdout",
     "output_type": "stream",
     "text": [
      "FSCK started by itv002480 (auth:SIMPLE) from /172.16.1.102 for path /user/itv002480/retail_db at Wed May 25 10:16:48 EDT 2022\n",
      "\n",
      "/user/itv002480/retail_db <dir>\n",
      "/user/itv002480/retail_db/categories <dir>\n",
      "/user/itv002480/retail_db/categories/part-00000 1029 bytes, replicated: replication=3, 1 block(s):  OK\n",
      "/user/itv002480/retail_db/customers <dir>\n",
      "/user/itv002480/retail_db/customers/part-00000 953719 bytes, replicated: replication=3, 1 block(s):  OK\n",
      "/user/itv002480/retail_db/departments <dir>\n",
      "/user/itv002480/retail_db/departments/part-00000 60 bytes, replicated: replication=3, 1 block(s):  OK\n",
      "/user/itv002480/retail_db/order_items <dir>\n",
      "/user/itv002480/retail_db/order_items/part-00000 5408880 bytes, replicated: replication=3, 1 block(s):  OK\n",
      "/user/itv002480/retail_db/orders <dir>\n",
      "/user/itv002480/retail_db/orders/part-00000 2999944 bytes, replicated: replication=3, 1 block(s):  OK\n",
      "/user/itv002480/retail_db/products <dir>\n",
      "/user/itv002480/retail_db/products/part-00000 174155 bytes, replicated: replication=3, 1 block(s):  OK\n",
      "\n",
      "Status: HEALTHY\n",
      " Number of data-nodes:\t3\n",
      " Number of racks:\t\t1\n",
      " Total dirs:\t\t\t7\n",
      " Total symlinks:\t\t0\n",
      "\n",
      "Replicated Blocks:\n",
      " Total size:\t9537787 B\n",
      " Total files:\t6\n",
      " Total blocks (validated):\t6 (avg. block size 1589631 B)\n",
      " Minimally replicated blocks:\t6 (100.0 %)\n",
      " Over-replicated blocks:\t0 (0.0 %)\n",
      " Under-replicated blocks:\t0 (0.0 %)\n",
      " Mis-replicated blocks:\t\t0 (0.0 %)\n",
      " Default replication factor:\t3\n",
      " Average block replication:\t3.0\n",
      " Missing blocks:\t\t0\n",
      " Corrupt blocks:\t\t0\n",
      " Missing replicas:\t\t0 (0.0 %)\n",
      " Blocks queued for replication:\t0\n",
      "\n",
      "Erasure Coded Block Groups:\n",
      " Total size:\t0 B\n",
      " Total files:\t0\n",
      " Total block groups (validated):\t0\n",
      " Minimally erasure-coded block groups:\t0\n",
      " Over-erasure-coded block groups:\t0\n",
      " Under-erasure-coded block groups:\t0\n",
      " Unsatisfactory placement block groups:\t0\n",
      " Average block group size:\t0.0\n",
      " Missing block groups:\t\t0\n",
      " Corrupt block groups:\t\t0\n",
      " Missing internal blocks:\t0\n",
      " Blocks queued for replication:\t0\n",
      "FSCK ended at Wed May 25 10:16:48 EDT 2022 in 1 milliseconds\n",
      "\n",
      "\n",
      "The filesystem under path '/user/itv002480/retail_db' is HEALTHY\n"
     ]
    },
    {
     "name": "stderr",
     "output_type": "stream",
     "text": [
      "Connecting to namenode via http://m01.itversity.com:9870/fsck?ugi=itv002480&files=1&path=%2Fuser%2Fitv002480%2Fretail_db\n"
     ]
    }
   ],
   "source": [
    "%%sh\n",
    "\n",
    "hdfs fsck /user/${USER}/retail_db -files"
   ]
  },
  {
   "cell_type": "markdown",
   "metadata": {},
   "source": [
    "* Files in HDFS will be physically stored in worker nodes as blocks. We can get details of blocks associated with files using `-blocks` option."
   ]
  },
  {
   "cell_type": "code",
   "execution_count": 5,
   "metadata": {},
   "outputs": [
    {
     "name": "stdout",
     "output_type": "stream",
     "text": [
      "FSCK started by itversity (auth:SIMPLE) from /172.16.1.114 for path /user/itversity/retail_db at Thu Jan 21 05:36:09 EST 2021\n",
      "/user/itversity/retail_db <dir>\n",
      "/user/itversity/retail_db/categories <dir>\n",
      "/user/itversity/retail_db/categories/part-00000 1029 bytes, 1 block(s):  OK\n",
      "0. BP-292116404-172.16.1.101-1479167821718:blk_1115455898_41737435 len=1029 repl=2\n",
      "\n",
      "/user/itversity/retail_db/customers <dir>\n",
      "/user/itversity/retail_db/customers/part-00000 953719 bytes, 1 block(s):  OK\n",
      "0. BP-292116404-172.16.1.101-1479167821718:blk_1115455899_41737436 len=953719 repl=2\n",
      "\n",
      "/user/itversity/retail_db/departments <dir>\n",
      "/user/itversity/retail_db/departments/part-00000 60 bytes, 1 block(s):  OK\n",
      "0. BP-292116404-172.16.1.101-1479167821718:blk_1115455900_41737437 len=60 repl=2\n",
      "\n",
      "/user/itversity/retail_db/order_items <dir>\n",
      "/user/itversity/retail_db/order_items/part-00000 5408880 bytes, 1 block(s):  OK\n",
      "0. BP-292116404-172.16.1.101-1479167821718:blk_1115455901_41737438 len=5408880 repl=2\n",
      "\n",
      "/user/itversity/retail_db/orders <dir>\n",
      "/user/itversity/retail_db/orders/part-00000 2999944 bytes, 1 block(s):  OK\n",
      "0. BP-292116404-172.16.1.101-1479167821718:blk_1115455902_41737439 len=2999944 repl=2\n",
      "\n",
      "/user/itversity/retail_db/products <dir>\n",
      "/user/itversity/retail_db/products/part-00000 174155 bytes, 1 block(s):  OK\n",
      "0. BP-292116404-172.16.1.101-1479167821718:blk_1115455903_41737440 len=174155 repl=2\n",
      "\n",
      "Status: HEALTHY\n",
      " Total size:\t9537787 B\n",
      " Total dirs:\t7\n",
      " Total files:\t6\n",
      " Total symlinks:\t\t0\n",
      " Total blocks (validated):\t6 (avg. block size 1589631 B)\n",
      " Minimally replicated blocks:\t6 (100.0 %)\n",
      " Over-replicated blocks:\t0 (0.0 %)\n",
      " Under-replicated blocks:\t0 (0.0 %)\n",
      " Mis-replicated blocks:\t\t0 (0.0 %)\n",
      " Default replication factor:\t2\n",
      " Average block replication:\t2.0\n",
      " Corrupt blocks:\t\t0\n",
      " Missing replicas:\t\t0 (0.0 %)\n",
      " Number of data-nodes:\t\t5\n",
      " Number of racks:\t\t1\n",
      "FSCK ended at Thu Jan 21 05:36:09 EST 2021 in 1 milliseconds\n",
      "\n",
      "\n",
      "The filesystem under path '/user/itversity/retail_db' is HEALTHY\n"
     ]
    },
    {
     "name": "stderr",
     "output_type": "stream",
     "text": [
      "Connecting to namenode via http://172.16.1.101:50070/fsck?ugi=itversity&files=1&blocks=1&path=%2Fuser%2Fitversity%2Fretail_db\n"
     ]
    }
   ],
   "source": [
    "%%sh\n",
    "\n",
    "hdfs fsck /user/${USER}/retail_db -files -blocks"
   ]
  },
  {
   "cell_type": "markdown",
   "metadata": {},
   "source": [
    "* `-blocks` will only provide details about the names of the blocks, we need to use `-locations` as well to get the details about the worker nodes where the blocks are physically stored.\n",
    "* A block is nothing but a physical file in HDFS. We will understand more about blocks as part of the subsequent topics.\n",
    "* To understand where a block is physically stored you can get the infromation from **DatanodeInfoWithStorage** part of the output. It will contain ip address and we can get the corresponding DNS from the above table."
   ]
  },
  {
   "cell_type": "code",
   "execution_count": 3,
   "metadata": {},
   "outputs": [
    {
     "name": "stdout",
     "output_type": "stream",
     "text": [
      "FSCK started by itv002480 (auth:SIMPLE) from /172.16.1.102 for path /user/itv002480/retail_db at Wed May 25 10:21:04 EDT 2022\n",
      "\n",
      "/user/itv002480/retail_db <dir>\n",
      "/user/itv002480/retail_db/categories <dir>\n",
      "/user/itv002480/retail_db/categories/part-00000 1029 bytes, replicated: replication=3, 1 block(s):  OK\n",
      "0. BP-1685381103-172.16.1.103-1609223169030:blk_1078718659_4982116 len=1029 Live_repl=3  [DatanodeInfoWithStorage[172.16.1.105:9866,DS-cd1d8ab0-7d77-4607-98bf-961a7ad81f45,DISK], DatanodeInfoWithStorage[172.16.1.107:9866,DS-cc8f7dbb-28ed-477a-b831-7b5d9f146f80,DISK], DatanodeInfoWithStorage[172.16.1.106:9866,DS-b1aa8def-bcd8-4514-8697-29c2f7fd008d,DISK]]\n",
      "\n",
      "/user/itv002480/retail_db/customers <dir>\n",
      "/user/itv002480/retail_db/customers/part-00000 953719 bytes, replicated: replication=3, 1 block(s):  OK\n",
      "0. BP-1685381103-172.16.1.103-1609223169030:blk_1078718660_4982117 len=953719 Live_repl=3  [DatanodeInfoWithStorage[172.16.1.106:9866,DS-3cdd1a86-1122-4b3f-9d9d-c9fe36cab433,DISK], DatanodeInfoWithStorage[172.16.1.107:9866,DS-53639da4-6786-42af-a4a6-5021150dddf3,DISK], DatanodeInfoWithStorage[172.16.1.105:9866,DS-6cd19d66-af36-4030-9b5a-8c881ae5efc8,DISK]]\n",
      "\n",
      "/user/itv002480/retail_db/departments <dir>\n",
      "/user/itv002480/retail_db/departments/part-00000 60 bytes, replicated: replication=3, 1 block(s):  OK\n",
      "0. BP-1685381103-172.16.1.103-1609223169030:blk_1078718657_4982114 len=60 Live_repl=3  [DatanodeInfoWithStorage[172.16.1.105:9866,DS-cd1d8ab0-7d77-4607-98bf-961a7ad81f45,DISK], DatanodeInfoWithStorage[172.16.1.106:9866,DS-b1aa8def-bcd8-4514-8697-29c2f7fd008d,DISK], DatanodeInfoWithStorage[172.16.1.107:9866,DS-cc8f7dbb-28ed-477a-b831-7b5d9f146f80,DISK]]\n",
      "\n",
      "/user/itv002480/retail_db/order_items <dir>\n",
      "/user/itv002480/retail_db/order_items/part-00000 5408880 bytes, replicated: replication=3, 1 block(s):  OK\n",
      "0. BP-1685381103-172.16.1.103-1609223169030:blk_1078718655_4982112 len=5408880 Live_repl=3  [DatanodeInfoWithStorage[172.16.1.105:9866,DS-cd1d8ab0-7d77-4607-98bf-961a7ad81f45,DISK], DatanodeInfoWithStorage[172.16.1.106:9866,DS-b1aa8def-bcd8-4514-8697-29c2f7fd008d,DISK], DatanodeInfoWithStorage[172.16.1.107:9866,DS-cc8f7dbb-28ed-477a-b831-7b5d9f146f80,DISK]]\n",
      "\n",
      "/user/itv002480/retail_db/orders <dir>\n",
      "/user/itv002480/retail_db/orders/part-00000 2999944 bytes, replicated: replication=3, 1 block(s):  OK\n",
      "0. BP-1685381103-172.16.1.103-1609223169030:blk_1078718656_4982113 len=2999944 Live_repl=3  [DatanodeInfoWithStorage[172.16.1.107:9866,DS-53639da4-6786-42af-a4a6-5021150dddf3,DISK], DatanodeInfoWithStorage[172.16.1.106:9866,DS-3cdd1a86-1122-4b3f-9d9d-c9fe36cab433,DISK], DatanodeInfoWithStorage[172.16.1.105:9866,DS-6cd19d66-af36-4030-9b5a-8c881ae5efc8,DISK]]\n",
      "\n",
      "/user/itv002480/retail_db/products <dir>\n",
      "/user/itv002480/retail_db/products/part-00000 174155 bytes, replicated: replication=3, 1 block(s):  OK\n",
      "0. BP-1685381103-172.16.1.103-1609223169030:blk_1078718658_4982115 len=174155 Live_repl=3  [DatanodeInfoWithStorage[172.16.1.105:9866,DS-6cd19d66-af36-4030-9b5a-8c881ae5efc8,DISK], DatanodeInfoWithStorage[172.16.1.107:9866,DS-53639da4-6786-42af-a4a6-5021150dddf3,DISK], DatanodeInfoWithStorage[172.16.1.106:9866,DS-3cdd1a86-1122-4b3f-9d9d-c9fe36cab433,DISK]]\n",
      "\n",
      "\n",
      "Status: HEALTHY\n",
      " Number of data-nodes:\t3\n",
      " Number of racks:\t\t1\n",
      " Total dirs:\t\t\t7\n",
      " Total symlinks:\t\t0\n",
      "\n",
      "Replicated Blocks:\n",
      " Total size:\t9537787 B\n",
      " Total files:\t6\n",
      " Total blocks (validated):\t6 (avg. block size 1589631 B)\n",
      " Minimally replicated blocks:\t6 (100.0 %)\n",
      " Over-replicated blocks:\t0 (0.0 %)\n",
      " Under-replicated blocks:\t0 (0.0 %)\n",
      " Mis-replicated blocks:\t\t0 (0.0 %)\n",
      " Default replication factor:\t3\n",
      " Average block replication:\t3.0\n",
      " Missing blocks:\t\t0\n",
      " Corrupt blocks:\t\t0\n",
      " Missing replicas:\t\t0 (0.0 %)\n",
      " Blocks queued for replication:\t0\n",
      "\n",
      "Erasure Coded Block Groups:\n",
      " Total size:\t0 B\n",
      " Total files:\t0\n",
      " Total block groups (validated):\t0\n",
      " Minimally erasure-coded block groups:\t0\n",
      " Over-erasure-coded block groups:\t0\n",
      " Under-erasure-coded block groups:\t0\n",
      " Unsatisfactory placement block groups:\t0\n",
      " Average block group size:\t0.0\n",
      " Missing block groups:\t\t0\n",
      " Corrupt block groups:\t\t0\n",
      " Missing internal blocks:\t0\n",
      " Blocks queued for replication:\t0\n",
      "FSCK ended at Wed May 25 10:21:04 EDT 2022 in 2 milliseconds\n",
      "\n",
      "\n",
      "The filesystem under path '/user/itv002480/retail_db' is HEALTHY\n"
     ]
    },
    {
     "name": "stderr",
     "output_type": "stream",
     "text": [
      "Connecting to namenode via http://m01.itversity.com:9870/fsck?ugi=itv002480&files=1&blocks=1&locations=1&path=%2Fuser%2Fitv002480%2Fretail_db\n"
     ]
    }
   ],
   "source": [
    "%%sh\n",
    "\n",
    "hdfs fsck /user/${USER}/retail_db -files -blocks -locations"
   ]
  },
  {
   "cell_type": "code",
   "execution_count": 8,
   "metadata": {},
   "outputs": [
    {
     "name": "stdout",
     "output_type": "stream",
     "text": [
      "-rw-r--r--   3 hdfs hdfs      1.0 G 2017-01-18 20:24 /public/randomtextwriter/part-m-00000\n"
     ]
    }
   ],
   "source": [
    "%%sh\n",
    "\n",
    "hdfs dfs -ls -h /public/randomtextwriter/part-m-00000"
   ]
  },
  {
   "cell_type": "code",
   "execution_count": 9,
   "metadata": {},
   "outputs": [
    {
     "name": "stdout",
     "output_type": "stream",
     "text": [
      "FSCK started by itversity (auth:SIMPLE) from /172.16.1.114 for path /public/randomtextwriter/part-m-00000 at Thu Jan 21 05:39:53 EST 2021\n",
      "/public/randomtextwriter/part-m-00000 1102230331 bytes, 9 block(s):  OK\n",
      "0. BP-292116404-172.16.1.101-1479167821718:blk_1074171511_431441 len=134217728 repl=3 [DatanodeInfoWithStorage[172.16.1.104:50010,DS-f4667aac-0f2c-463c-9584-d625928b9af5,DISK], DatanodeInfoWithStorage[172.16.1.102:50010,DS-b0f1636e-fd08-4ddb-bba9-9df8868dfb5d,DISK], DatanodeInfoWithStorage[172.16.1.103:50010,DS-1f4edfab-2926-45f9-a37c-ae9d1f542680,DISK]]\n",
      "1. BP-292116404-172.16.1.101-1479167821718:blk_1074171524_431454 len=134217728 repl=3 [DatanodeInfoWithStorage[172.16.1.104:50010,DS-f4667aac-0f2c-463c-9584-d625928b9af5,DISK], DatanodeInfoWithStorage[172.16.1.102:50010,DS-1edb1d35-81bf-471b-be04-11d973e2a832,DISK], DatanodeInfoWithStorage[172.16.1.103:50010,DS-1f4edfab-2926-45f9-a37c-ae9d1f542680,DISK]]\n",
      "2. BP-292116404-172.16.1.101-1479167821718:blk_1074171559_431489 len=134217728 repl=3 [DatanodeInfoWithStorage[172.16.1.104:50010,DS-f4667aac-0f2c-463c-9584-d625928b9af5,DISK], DatanodeInfoWithStorage[172.16.1.102:50010,DS-b0f1636e-fd08-4ddb-bba9-9df8868dfb5d,DISK], DatanodeInfoWithStorage[172.16.1.103:50010,DS-1f4edfab-2926-45f9-a37c-ae9d1f542680,DISK]]\n",
      "3. BP-292116404-172.16.1.101-1479167821718:blk_1074171609_431539 len=134217728 repl=3 [DatanodeInfoWithStorage[172.16.1.104:50010,DS-f4667aac-0f2c-463c-9584-d625928b9af5,DISK], DatanodeInfoWithStorage[172.16.1.102:50010,DS-b0f1636e-fd08-4ddb-bba9-9df8868dfb5d,DISK], DatanodeInfoWithStorage[172.16.1.103:50010,DS-7fb58858-abe9-4a52-9b75-755d849a897b,DISK]]\n",
      "4. BP-292116404-172.16.1.101-1479167821718:blk_1074171657_431587 len=134217728 repl=3 [DatanodeInfoWithStorage[172.16.1.104:50010,DS-f4667aac-0f2c-463c-9584-d625928b9af5,DISK], DatanodeInfoWithStorage[172.16.1.102:50010,DS-b0f1636e-fd08-4ddb-bba9-9df8868dfb5d,DISK], DatanodeInfoWithStorage[172.16.1.107:50010,DS-a12c4ae3-3f6a-42fc-83ff-7779a9fc0482,DISK]]\n",
      "5. BP-292116404-172.16.1.101-1479167821718:blk_1074171691_431621 len=134217728 repl=3 [DatanodeInfoWithStorage[172.16.1.104:50010,DS-f4667aac-0f2c-463c-9584-d625928b9af5,DISK], DatanodeInfoWithStorage[172.16.1.102:50010,DS-b0f1636e-fd08-4ddb-bba9-9df8868dfb5d,DISK], DatanodeInfoWithStorage[172.16.1.103:50010,DS-7fb58858-abe9-4a52-9b75-755d849a897b,DISK]]\n",
      "6. BP-292116404-172.16.1.101-1479167821718:blk_1074171721_431651 len=134217728 repl=3 [DatanodeInfoWithStorage[172.16.1.102:50010,DS-b0f1636e-fd08-4ddb-bba9-9df8868dfb5d,DISK], DatanodeInfoWithStorage[172.16.1.107:50010,DS-6679d10e-378c-4897-8c0e-250aa1af790a,DISK], DatanodeInfoWithStorage[172.16.1.108:50010,DS-736614f7-27de-46b8-987f-d669be6a32a3,DISK]]\n",
      "7. BP-292116404-172.16.1.101-1479167821718:blk_1074171731_431661 len=134217728 repl=3 [DatanodeInfoWithStorage[172.16.1.102:50010,DS-1edb1d35-81bf-471b-be04-11d973e2a832,DISK], DatanodeInfoWithStorage[172.16.1.107:50010,DS-a12c4ae3-3f6a-42fc-83ff-7779a9fc0482,DISK], DatanodeInfoWithStorage[172.16.1.108:50010,DS-698dde50-a336-4e00-bc8f-a9e1a5cc76f4,DISK]]\n",
      "8. BP-292116404-172.16.1.101-1479167821718:blk_1074171736_431666 len=28488507 repl=3 [DatanodeInfoWithStorage[172.16.1.104:50010,DS-f4667aac-0f2c-463c-9584-d625928b9af5,DISK], DatanodeInfoWithStorage[172.16.1.102:50010,DS-1edb1d35-81bf-471b-be04-11d973e2a832,DISK], DatanodeInfoWithStorage[172.16.1.107:50010,DS-6679d10e-378c-4897-8c0e-250aa1af790a,DISK]]\n",
      "\n",
      "Status: HEALTHY\n",
      " Total size:\t1102230331 B\n",
      " Total dirs:\t0\n",
      " Total files:\t1\n",
      " Total symlinks:\t\t0\n",
      " Total blocks (validated):\t9 (avg. block size 122470036 B)\n",
      " Minimally replicated blocks:\t9 (100.0 %)\n",
      " Over-replicated blocks:\t0 (0.0 %)\n",
      " Under-replicated blocks:\t0 (0.0 %)\n",
      " Mis-replicated blocks:\t\t0 (0.0 %)\n",
      " Default replication factor:\t2\n",
      " Average block replication:\t3.0\n",
      " Corrupt blocks:\t\t0\n",
      " Missing replicas:\t\t0 (0.0 %)\n",
      " Number of data-nodes:\t\t5\n",
      " Number of racks:\t\t1\n",
      "FSCK ended at Thu Jan 21 05:39:53 EST 2021 in 0 milliseconds\n",
      "\n",
      "\n",
      "The filesystem under path '/public/randomtextwriter/part-m-00000' is HEALTHY\n"
     ]
    },
    {
     "name": "stderr",
     "output_type": "stream",
     "text": [
      "Connecting to namenode via http://172.16.1.101:50070/fsck?ugi=itversity&files=1&blocks=1&locations=1&path=%2Fpublic%2Frandomtextwriter%2Fpart-m-00000\n"
     ]
    }
   ],
   "source": [
    "%%sh\n",
    "\n",
    "hdfs fsck /public/randomtextwriter/part-m-00000 -files -blocks -locations"
   ]
  },
  {
   "cell_type": "code",
   "execution_count": null,
   "metadata": {},
   "outputs": [],
   "source": []
  }
 ],
 "metadata": {
  "kernelspec": {
   "display_name": "Python 3",
   "language": "python",
   "name": "python3"
  },
  "language_info": {
   "codemirror_mode": {
    "name": "ipython",
    "version": 3
   },
   "file_extension": ".py",
   "mimetype": "text/x-python",
   "name": "python",
   "nbconvert_exporter": "python",
   "pygments_lexer": "ipython3",
   "version": "3.6.12"
  }
 },
 "nbformat": 4,
 "nbformat_minor": 4
}
