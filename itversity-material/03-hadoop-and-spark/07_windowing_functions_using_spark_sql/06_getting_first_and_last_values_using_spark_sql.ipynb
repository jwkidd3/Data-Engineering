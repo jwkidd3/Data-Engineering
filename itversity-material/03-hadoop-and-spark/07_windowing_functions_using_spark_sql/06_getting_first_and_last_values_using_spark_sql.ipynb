{
 "cells": [
  {
   "cell_type": "markdown",
   "metadata": {},
   "source": [
    "## Getting first and last values\n",
    "\n",
    "Let us see how we can get first and last value based on the criteria."
   ]
  },
  {
   "cell_type": "markdown",
   "metadata": {},
   "source": [
    "Let us start spark context for this Notebook so that we can execute the code provided. You can sign up for our [10 node state of the art cluster/labs](https://labs.itversity.com/plans) to learn Spark SQL using our unique integrated LMS."
   ]
  },
  {
   "cell_type": "code",
   "execution_count": 1,
   "metadata": {},
   "outputs": [
    {
     "data": {
      "text/plain": [
       "username = itv002480\n"
      ]
     },
     "metadata": {},
     "output_type": "display_data",
     "source": "user"
    },
    {
     "data": {
      "text/plain": [
       "itv002480"
      ]
     },
     "execution_count": 1,
     "metadata": {},
     "output_type": "execute_result"
    }
   ],
   "source": [
    "val username = System.getProperty(\"user.name\")"
   ]
  },
  {
   "cell_type": "code",
   "execution_count": 2,
   "metadata": {},
   "outputs": [
    {
     "data": {
      "text/plain": [
       "username = itv002480\n",
       "spark = org.apache.spark.sql.SparkSession@58410f3c\n"
      ]
     },
     "metadata": {},
     "output_type": "display_data",
     "source": "user"
    },
    {
     "data": {
      "text/plain": [
       "org.apache.spark.sql.SparkSession@58410f3c"
      ]
     },
     "execution_count": 2,
     "metadata": {},
     "output_type": "execute_result"
    }
   ],
   "source": [
    "import org.apache.spark.sql.SparkSession\n",
    "\n",
    "val username = System.getProperty(\"user.name\")\n",
    "val spark = SparkSession.\n",
    "    builder.\n",
    "    config(\"spark.ui.port\", \"0\").\n",
    "    config(\"spark.sql.warehouse.dir\", s\"/user/${username}/warehouse\").\n",
    "    enableHiveSupport.\n",
    "    appName(s\"${username} | Spark SQL - Windowing Functions\").\n",
    "    master(\"yarn\").\n",
    "    getOrCreate"
   ]
  },
  {
   "cell_type": "markdown",
   "metadata": {},
   "source": [
    "If you are going to use CLIs, you can use Spark SQL using one of the 3 approaches.\n",
    "\n",
    "**Using Spark SQL**\n",
    "\n",
    "```\n",
    "spark2-sql \\\n",
    "    --master yarn \\\n",
    "    --conf spark.ui.port=0 \\\n",
    "    --conf spark.sql.warehouse.dir=/user/${USER}/warehouse\n",
    "```\n",
    "\n",
    "**Using Scala**\n",
    "\n",
    "```\n",
    "spark2-shell \\\n",
    "    --master yarn \\\n",
    "    --conf spark.ui.port=0 \\\n",
    "    --conf spark.sql.warehouse.dir=/user/${USER}/warehouse\n",
    "```\n",
    "\n",
    "**Using Pyspark**\n",
    "\n",
    "```\n",
    "pyspark2 \\\n",
    "    --master yarn \\\n",
    "    --conf spark.ui.port=0 \\\n",
    "    --conf spark.sql.warehouse.dir=/user/${USER}/warehouse\n",
    "```"
   ]
  },
  {
   "cell_type": "markdown",
   "metadata": {},
   "source": [
    "Here is the example of using first_value."
   ]
  },
  {
   "cell_type": "code",
   "execution_count": 3,
   "metadata": {},
   "outputs": [
    {
     "data": {
      "text/plain": [
       "Waiting for a Spark session to start..."
      ]
     },
     "metadata": {},
     "output_type": "display_data",
     "source": "user"
    },
    {
     "data": {
      "text/plain": [
       "++\n",
       "||\n",
       "++\n",
       "++\n",
       "\n"
      ]
     },
     "execution_count": 3,
     "metadata": {},
     "output_type": "execute_result"
    }
   ],
   "source": [
    "%%sql\n",
    "\n",
    "USE itv002480_retail"
   ]
  },
  {
   "cell_type": "code",
   "execution_count": 4,
   "metadata": {},
   "outputs": [
    {
     "data": {
      "text/plain": [
       "|2013-07-25 00:00:...|                 1014|2...\n"
      ]
     },
     "metadata": {},
     "output_type": "display_data",
     "source": "user"
    },
    {
     "data": {
      "text/plain": [
       "+--------------------+---------------------+-------+----------------+-------------+\n",
       "|          order_date|order_item_product_id|revenue|first_product_id|first_revenue|\n",
       "+--------------------+---------------------+-------+----------------+-------------+\n",
       "|2013-07-25 00:00:...|                 1004|5599.72|            1004|      5599.72|\n",
       "|2013-07-25 00:00:...|                  191|5099.49|            1004|      5599.72|\n",
       "|2013-07-25 00:00:...|                  957| 4499.7|            1004|      5599.72|\n",
       "|2013-07-25 00:00:...|                  365|3359.44|            1004|      5599.72|\n",
       "|2013-07-25 00:00:...|                 1073|2999.85|            1004|      5599.72|\n",
       "|2013-07-25 00:00:...|                 1014|2798.88|            1004|      5599.72|\n",
       "|2013-07-25 00:00:...|                  403|1949.85|            1004|      5599.72|\n",
       "|2013-07-25 00:00:...|                  502| 1650.0|            1004|      5599.72|\n",
       "|2013-07-25 00:00:...|                  627|1079.73|            1004|      5599.72|\n",
       "|2013-07-25 00:00:...|                  226| 599.99|            1004|      5599.72|\n",
       "+--------------------+---------------------+-------+----------------+-------------+\n",
       "only showing top 10 rows\n",
       "\n"
      ]
     },
     "execution_count": 4,
     "metadata": {},
     "output_type": "execute_result"
    }
   ],
   "source": [
    "%%sql\n",
    "\n",
    "SELECT t.*,\n",
    "  first_value(order_item_product_id) OVER (\n",
    "    PARTITION BY order_date ORDER BY revenue DESC\n",
    "  ) first_product_id,\n",
    "  first_value(revenue) OVER (\n",
    "    PARTITION BY order_date ORDER BY revenue DESC\n",
    "  ) first_revenue\n",
    "FROM daily_product_revenue t\n",
    "ORDER BY order_date, revenue DESC\n",
    "LIMIT 100"
   ]
  },
  {
   "cell_type": "code",
   "execution_count": 5,
   "metadata": {},
   "outputs": [
    {
     "name": "stdout",
     "output_type": "stream",
     "text": [
      "+---------------------+---------------------+--------+----------------+-------------+\n",
      "|order_date           |order_item_product_id|revenue |first_product_id|first_revenue|\n",
      "+---------------------+---------------------+--------+----------------+-------------+\n",
      "|2013-07-25 00:00:00.0|1004                 |5599.72 |1004            |5599.72      |\n",
      "|2013-07-25 00:00:00.0|191                  |5099.49 |1004            |5599.72      |\n",
      "|2013-07-25 00:00:00.0|957                  |4499.7  |1004            |5599.72      |\n",
      "|2013-07-25 00:00:00.0|365                  |3359.44 |1004            |5599.72      |\n",
      "|2013-07-25 00:00:00.0|1073                 |2999.85 |1004            |5599.72      |\n",
      "|2013-07-25 00:00:00.0|1014                 |2798.88 |1004            |5599.72      |\n",
      "|2013-07-25 00:00:00.0|403                  |1949.85 |1004            |5599.72      |\n",
      "|2013-07-25 00:00:00.0|502                  |1650.0  |1004            |5599.72      |\n",
      "|2013-07-25 00:00:00.0|627                  |1079.73 |1004            |5599.72      |\n",
      "|2013-07-25 00:00:00.0|226                  |599.99  |1004            |5599.72      |\n",
      "|2013-07-25 00:00:00.0|24                   |319.96  |1004            |5599.72      |\n",
      "|2013-07-25 00:00:00.0|821                  |207.96  |1004            |5599.72      |\n",
      "|2013-07-25 00:00:00.0|625                  |199.99  |1004            |5599.72      |\n",
      "|2013-07-25 00:00:00.0|705                  |119.99  |1004            |5599.72      |\n",
      "|2013-07-25 00:00:00.0|572                  |119.97  |1004            |5599.72      |\n",
      "|2013-07-25 00:00:00.0|666                  |109.99  |1004            |5599.72      |\n",
      "|2013-07-25 00:00:00.0|725                  |108.0   |1004            |5599.72      |\n",
      "|2013-07-25 00:00:00.0|134                  |100.0   |1004            |5599.72      |\n",
      "|2013-07-25 00:00:00.0|906                  |99.96   |1004            |5599.72      |\n",
      "|2013-07-25 00:00:00.0|828                  |95.97   |1004            |5599.72      |\n",
      "|2013-07-25 00:00:00.0|810                  |79.96   |1004            |5599.72      |\n",
      "|2013-07-25 00:00:00.0|926                  |79.95   |1004            |5599.72      |\n",
      "|2013-07-25 00:00:00.0|924                  |79.95   |1004            |5599.72      |\n",
      "|2013-07-25 00:00:00.0|93                   |74.97   |1004            |5599.72      |\n",
      "|2013-07-25 00:00:00.0|835                  |63.98   |1004            |5599.72      |\n",
      "|2013-07-25 00:00:00.0|897                  |49.98   |1004            |5599.72      |\n",
      "|2013-07-26 00:00:00.0|1004                 |10799.46|1004            |10799.46     |\n",
      "|2013-07-26 00:00:00.0|365                  |7978.67 |1004            |10799.46     |\n",
      "|2013-07-26 00:00:00.0|957                  |6899.54 |1004            |10799.46     |\n",
      "|2013-07-26 00:00:00.0|191                  |6799.32 |1004            |10799.46     |\n",
      "|2013-07-26 00:00:00.0|1014                 |4798.08 |1004            |10799.46     |\n",
      "|2013-07-26 00:00:00.0|502                  |4250.0  |1004            |10799.46     |\n",
      "|2013-07-26 00:00:00.0|1073                 |3999.8  |1004            |10799.46     |\n",
      "|2013-07-26 00:00:00.0|403                  |3249.75 |1004            |10799.46     |\n",
      "|2013-07-26 00:00:00.0|627                  |3039.24 |1004            |10799.46     |\n",
      "|2013-07-26 00:00:00.0|691                  |399.95  |1004            |10799.46     |\n",
      "|2013-07-26 00:00:00.0|818                  |287.94  |1004            |10799.46     |\n",
      "|2013-07-26 00:00:00.0|565                  |280.0   |1004            |10799.46     |\n",
      "|2013-07-26 00:00:00.0|278                  |269.94  |1004            |10799.46     |\n",
      "|2013-07-26 00:00:00.0|822                  |239.95  |1004            |10799.46     |\n",
      "|2013-07-26 00:00:00.0|282                  |159.95  |1004            |10799.46     |\n",
      "|2013-07-26 00:00:00.0|804                  |159.92  |1004            |10799.46     |\n",
      "|2013-07-26 00:00:00.0|917                  |153.93  |1004            |10799.46     |\n",
      "|2013-07-26 00:00:00.0|982                  |149.99  |1004            |10799.46     |\n",
      "|2013-07-26 00:00:00.0|116                  |134.97  |1004            |10799.46     |\n",
      "|2013-07-26 00:00:00.0|828                  |127.96  |1004            |10799.46     |\n",
      "|2013-07-26 00:00:00.0|135                  |110.0   |1004            |10799.46     |\n",
      "|2013-07-26 00:00:00.0|134                  |100.0   |1004            |10799.46     |\n",
      "|2013-07-26 00:00:00.0|564                  |90.0    |1004            |10799.46     |\n",
      "|2013-07-26 00:00:00.0|792                  |89.94   |1004            |10799.46     |\n",
      "|2013-07-26 00:00:00.0|897                  |74.97   |1004            |10799.46     |\n",
      "|2013-07-26 00:00:00.0|775                  |39.96   |1004            |10799.46     |\n",
      "|2013-07-26 00:00:00.0|172                  |30.0    |1004            |10799.46     |\n",
      "|2013-07-27 00:00:00.0|1004                 |9599.52 |1004            |9599.52      |\n",
      "|2013-07-27 00:00:00.0|191                  |5999.4  |1004            |9599.52      |\n",
      "|2013-07-27 00:00:00.0|957                  |5699.62 |1004            |9599.52      |\n",
      "|2013-07-27 00:00:00.0|1073                 |5399.73 |1004            |9599.52      |\n",
      "|2013-07-27 00:00:00.0|365                  |5099.15 |1004            |9599.52      |\n",
      "|2013-07-27 00:00:00.0|502                  |5050.0  |1004            |9599.52      |\n",
      "|2013-07-27 00:00:00.0|1014                 |4498.2  |1004            |9599.52      |\n",
      "|2013-07-27 00:00:00.0|403                  |2469.81 |1004            |9599.52      |\n",
      "|2013-07-27 00:00:00.0|627                  |2039.49 |1004            |9599.52      |\n",
      "|2013-07-27 00:00:00.0|203                  |399.99  |1004            |9599.52      |\n",
      "|2013-07-27 00:00:00.0|728                  |390.0   |1004            |9599.52      |\n",
      "|2013-07-27 00:00:00.0|828                  |223.93  |1004            |9599.52      |\n",
      "|2013-07-27 00:00:00.0|771                  |199.95  |1004            |9599.52      |\n",
      "|2013-07-27 00:00:00.0|172                  |150.0   |1004            |9599.52      |\n",
      "|2013-07-27 00:00:00.0|647                  |134.99  |1004            |9599.52      |\n",
      "|2013-07-27 00:00:00.0|715                  |129.99  |1004            |9599.52      |\n",
      "|2013-07-27 00:00:00.0|567                  |125.0   |1004            |9599.52      |\n",
      "|2013-07-27 00:00:00.0|93                   |124.95  |1004            |9599.52      |\n",
      "|2013-07-27 00:00:00.0|135                  |110.0   |1004            |9599.52      |\n",
      "|2013-07-27 00:00:00.0|924                  |95.94   |1004            |9599.52      |\n",
      "|2013-07-27 00:00:00.0|886                  |74.97   |1004            |9599.52      |\n",
      "|2013-07-27 00:00:00.0|797                  |71.96   |1004            |9599.52      |\n",
      "|2013-07-27 00:00:00.0|564                  |60.0    |1004            |9599.52      |\n",
      "|2013-07-27 00:00:00.0|821                  |51.99   |1004            |9599.52      |\n",
      "|2013-07-27 00:00:00.0|906                  |49.98   |1004            |9599.52      |\n",
      "|2013-07-27 00:00:00.0|893                  |49.98   |1004            |9599.52      |\n",
      "|2013-07-27 00:00:00.0|792                  |44.97   |1004            |9599.52      |\n",
      "|2013-07-27 00:00:00.0|703                  |39.98   |1004            |9599.52      |\n",
      "|2013-07-27 00:00:00.0|273                  |27.99   |1004            |9599.52      |\n",
      "|2013-07-28 00:00:00.0|1004                 |5599.72 |1004            |5599.72      |\n",
      "|2013-07-28 00:00:00.0|957                  |5099.66 |1004            |5599.72      |\n",
      "|2013-07-28 00:00:00.0|365                  |4799.2  |1004            |5599.72      |\n",
      "|2013-07-28 00:00:00.0|403                  |4419.66 |1004            |5599.72      |\n",
      "|2013-07-28 00:00:00.0|191                  |4299.57 |1004            |5599.72      |\n",
      "|2013-07-28 00:00:00.0|502                  |3650.0  |1004            |5599.72      |\n",
      "|2013-07-28 00:00:00.0|1014                 |2748.9  |1004            |5599.72      |\n",
      "|2013-07-28 00:00:00.0|1073                 |2399.88 |1004            |5599.72      |\n",
      "|2013-07-28 00:00:00.0|627                  |1119.72 |1004            |5599.72      |\n",
      "|2013-07-28 00:00:00.0|564                  |300.0   |1004            |5599.72      |\n",
      "|2013-07-28 00:00:00.0|858                  |199.99  |1004            |5599.72      |\n",
      "|2013-07-28 00:00:00.0|728                  |195.0   |1004            |5599.72      |\n",
      "|2013-07-28 00:00:00.0|273                  |139.95  |1004            |5599.72      |\n",
      "|2013-07-28 00:00:00.0|567                  |125.0   |1004            |5599.72      |\n",
      "|2013-07-28 00:00:00.0|249                  |109.94  |1004            |5599.72      |\n",
      "|2013-07-28 00:00:00.0|917                  |87.96   |1004            |5599.72      |\n",
      "|2013-07-28 00:00:00.0|235                  |69.98   |1004            |5599.72      |\n",
      "|2013-07-28 00:00:00.0|835                  |63.98   |1004            |5599.72      |\n",
      "+---------------------+---------------------+--------+----------------+-------------+\n",
      "only showing top 100 rows\n",
      "\n"
     ]
    }
   ],
   "source": [
    "spark.sql(\"\"\"\n",
    "    SELECT t.*,\n",
    "      first_value(order_item_product_id) OVER (\n",
    "        PARTITION BY order_date ORDER BY revenue DESC\n",
    "      ) first_product_id,\n",
    "      first_value(revenue) OVER (\n",
    "        PARTITION BY order_date ORDER BY revenue DESC\n",
    "      ) first_revenue\n",
    "    FROM daily_product_revenue t\n",
    "    ORDER BY order_date, revenue DESC\n",
    "\"\"\").\n",
    "    show(100, false)"
   ]
  },
  {
   "cell_type": "markdown",
   "metadata": {},
   "source": [
    "Let us see an example with last_value. While using last_value we need to specify **ROWS BETWEEN CURRENT ROW AND UNBOUNDED FOLLOWING**.\n",
    "* By default it uses `ROWS BETWEEN UNBOUNDED PRECEDING AND CURRENT ROW`.\n",
    "* The last value with in `UNBOUNDED PRECEDING AND CURRENT ROW` will be current record.\n",
    "* To get the right value, we have to change the windowing clause to `ROWS BETWEEN CURRENT ROW AND UNBOUNDED FOLLOWING`."
   ]
  },
  {
   "cell_type": "code",
   "execution_count": 6,
   "metadata": {},
   "outputs": [
    {
     "data": {
      "text/plain": [
       "++\n",
       "||\n",
       "++\n",
       "++\n",
       "\n"
      ]
     },
     "execution_count": 6,
     "metadata": {},
     "output_type": "execute_result"
    }
   ],
   "source": [
    "%%sql\n",
    "\n",
    "USE itv002480_retail"
   ]
  },
  {
   "cell_type": "code",
   "execution_count": null,
   "metadata": {},
   "outputs": [],
   "source": [
    "%%sql\n",
    "\n",
    "SELECT t.*,\n",
    "    last_value(order_item_product_id) OVER (\n",
    "        PARTITION BY order_date ORDER BY revenue\n",
    "        ROWS BETWEEN UNBOUNDED PRECEDING AND CURRENT ROW\n",
    "    ) last_product_id,\n",
    "    last_value(revenue) OVER (\n",
    "        PARTITION BY order_date ORDER BY revenue\n",
    "    ) last_revenue\n",
    "FROM daily_product_revenue AS t\n",
    "ORDER BY order_date, revenue DESC\n",
    "LIMIT 100"
   ]
  },
  {
   "cell_type": "code",
   "execution_count": null,
   "metadata": {},
   "outputs": [],
   "source": [
    "%%sql\n",
    "\n",
    "SELECT t.*,\n",
    "    last_value(order_item_product_id) OVER (\n",
    "        PARTITION BY order_date ORDER BY revenue\n",
    "        ROWS BETWEEN CURRENT ROW AND UNBOUNDED FOLLOWING\n",
    "    ) last_product_id,\n",
    "    last_value(revenue) OVER (\n",
    "        PARTITION BY order_date ORDER BY revenue\n",
    "        ROWS BETWEEN CURRENT ROW AND UNBOUNDED FOLLOWING\n",
    "    ) last_revenue\n",
    "FROM daily_product_revenue AS t\n",
    "ORDER BY order_date, revenue DESC\n",
    "LIMIT 100"
   ]
  },
  {
   "cell_type": "code",
   "execution_count": null,
   "metadata": {},
   "outputs": [],
   "source": [
    "spark.sql(\"\"\"\n",
    "    SELECT t.*,\n",
    "      last_value(order_item_product_id) OVER (\n",
    "        PARTITION BY order_date ORDER BY revenue\n",
    "        ROWS BETWEEN CURRENT ROW AND UNBOUNDED FOLLOWING\n",
    "      ) last_product_id,\n",
    "      last_value(revenue) OVER (\n",
    "        PARTITION BY order_date ORDER BY revenue\n",
    "        ROWS BETWEEN CURRENT ROW AND UNBOUNDED FOLLOWING\n",
    "      )  last_revenue\n",
    "    FROM daily_product_revenue AS t\n",
    "    ORDER BY order_date, revenue DESC\n",
    "\"\"\").\n",
    "    show(100, false)"
   ]
  }
 ],
 "metadata": {
  "kernelspec": {
   "display_name": "Spark 2 - Scala",
   "language": "scala",
   "name": "spark_2_scala"
  },
  "language_info": {
   "codemirror_mode": "text/x-scala",
   "file_extension": ".scala",
   "mimetype": "text/x-scala",
   "name": "scala",
   "pygments_lexer": "scala",
   "version": "2.11.12"
  }
 },
 "nbformat": 4,
 "nbformat_minor": 4
}
