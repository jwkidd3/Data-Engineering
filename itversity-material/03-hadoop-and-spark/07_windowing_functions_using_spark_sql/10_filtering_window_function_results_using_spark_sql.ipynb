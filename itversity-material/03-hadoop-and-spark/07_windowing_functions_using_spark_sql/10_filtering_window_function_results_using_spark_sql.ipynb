{
 "cells": [
  {
   "cell_type": "markdown",
   "metadata": {},
   "source": [
    "## Filtering - Window Function Results\n",
    "\n",
    "Let us understand how to filter on top of results of Window Functions."
   ]
  },
  {
   "cell_type": "markdown",
   "metadata": {},
   "source": [
    "Let us start spark context for this Notebook so that we can execute the code provided. You can sign up for our [10 node state of the art cluster/labs](https://labs.itversity.com/plans) to learn Spark SQL using our unique integrated LMS."
   ]
  },
  {
   "cell_type": "code",
   "execution_count": 1,
   "metadata": {},
   "outputs": [
    {
     "data": {
      "text/plain": [
       "username = itv002480\n"
      ]
     },
     "metadata": {},
     "output_type": "display_data",
     "source": "user"
    },
    {
     "data": {
      "text/plain": [
       "itv002480"
      ]
     },
     "execution_count": 1,
     "metadata": {},
     "output_type": "execute_result"
    }
   ],
   "source": [
    "val username = System.getProperty(\"user.name\")"
   ]
  },
  {
   "cell_type": "code",
   "execution_count": 2,
   "metadata": {},
   "outputs": [
    {
     "data": {
      "text/plain": [
       "username = itv002480\n",
       "spark = org.apache.spark.sql.SparkSession@171c9d55\n"
      ]
     },
     "metadata": {},
     "output_type": "display_data",
     "source": "user"
    },
    {
     "data": {
      "text/plain": [
       "org.apache.spark.sql.SparkSession@171c9d55"
      ]
     },
     "execution_count": 2,
     "metadata": {},
     "output_type": "execute_result"
    }
   ],
   "source": [
    "import org.apache.spark.sql.SparkSession\n",
    "\n",
    "val username = System.getProperty(\"user.name\")\n",
    "val spark = SparkSession.\n",
    "    builder.\n",
    "    config(\"spark.ui.port\", \"0\").\n",
    "    config(\"spark.sql.warehouse.dir\", s\"/user/${username}/warehouse\").\n",
    "    enableHiveSupport.\n",
    "    appName(s\"${username} | Spark SQL - Windowing Functions\").\n",
    "    master(\"yarn\").\n",
    "    getOrCreate"
   ]
  },
  {
   "cell_type": "markdown",
   "metadata": {},
   "source": [
    "If you are going to use CLIs, you can use Spark SQL using one of the 3 approaches.\n",
    "\n",
    "**Using Spark SQL**\n",
    "\n",
    "```\n",
    "spark2-sql \\\n",
    "    --master yarn \\\n",
    "    --conf spark.ui.port=0 \\\n",
    "    --conf spark.sql.warehouse.dir=/user/${USER}/warehouse\n",
    "```\n",
    "\n",
    "**Using Scala**\n",
    "\n",
    "```\n",
    "spark2-shell \\\n",
    "    --master yarn \\\n",
    "    --conf spark.ui.port=0 \\\n",
    "    --conf spark.sql.warehouse.dir=/user/${USER}/warehouse\n",
    "```\n",
    "\n",
    "**Using Pyspark**\n",
    "\n",
    "```\n",
    "pyspark2 \\\n",
    "    --master yarn \\\n",
    "    --conf spark.ui.port=0 \\\n",
    "    --conf spark.sql.warehouse.dir=/user/${USER}/warehouse\n",
    "```"
   ]
  },
  {
   "cell_type": "markdown",
   "metadata": {},
   "source": [
    "* We can use **Window Functions** only in **SELECT** Clause.\n",
    "* If we have to filter based on Window Function results, then we need to use Sub Queries.\n",
    "* Once the query with window functions is defined as sub query, we can apply filter using aliases provided for the Window Functions.\n",
    "\n",
    "Here is the example where we can filter data based on Window Functions."
   ]
  },
  {
   "cell_type": "code",
   "execution_count": 3,
   "metadata": {},
   "outputs": [
    {
     "data": {
      "text/plain": [
       "Waiting for a Spark session to start..."
      ]
     },
     "metadata": {},
     "output_type": "display_data",
     "source": "user"
    },
    {
     "data": {
      "text/plain": [
       "++\n",
       "||\n",
       "++\n",
       "++\n",
       "\n"
      ]
     },
     "execution_count": 3,
     "metadata": {},
     "output_type": "execute_result"
    }
   ],
   "source": [
    "%%sql\n",
    "\n",
    "USE itv002480_retail"
   ]
  },
  {
   "cell_type": "code",
   "execution_count": 4,
   "metadata": {},
   "outputs": [
    {
     "data": {
      "text/plain": [
       "|2013-07-...\n"
      ]
     },
     "metadata": {},
     "output_type": "display_data",
     "source": "user"
    },
    {
     "data": {
      "text/plain": [
       "+--------------------+---------------------+--------+----+\n",
       "|          order_date|order_item_product_id| revenue|drnk|\n",
       "+--------------------+---------------------+--------+----+\n",
       "|2013-07-25 00:00:...|                 1004| 5599.72|   1|\n",
       "|2013-07-25 00:00:...|                  191| 5099.49|   2|\n",
       "|2013-07-25 00:00:...|                  957|  4499.7|   3|\n",
       "|2013-07-25 00:00:...|                  365| 3359.44|   4|\n",
       "|2013-07-25 00:00:...|                 1073| 2999.85|   5|\n",
       "|2013-07-26 00:00:...|                 1004|10799.46|   1|\n",
       "|2013-07-26 00:00:...|                  365| 7978.67|   2|\n",
       "|2013-07-26 00:00:...|                  957| 6899.54|   3|\n",
       "|2013-07-26 00:00:...|                  191| 6799.32|   4|\n",
       "|2013-07-26 00:00:...|                 1014| 4798.08|   5|\n",
       "+--------------------+---------------------+--------+----+\n",
       "only showing top 10 rows\n",
       "\n"
      ]
     },
     "execution_count": 4,
     "metadata": {},
     "output_type": "execute_result"
    }
   ],
   "source": [
    "%%sql\n",
    "\n",
    "SELECT * FROM (\n",
    "  SELECT t.*,\n",
    "    dense_rank() OVER (\n",
    "      PARTITION BY order_date\n",
    "      ORDER BY revenue DESC\n",
    "    ) AS drnk\n",
    "  FROM daily_product_revenue t\n",
    ") q\n",
    "WHERE q.drnk <= 5\n",
    "ORDER BY q.order_date, q.revenue DESC\n",
    "LIMIT 100"
   ]
  },
  {
   "cell_type": "code",
   "execution_count": 5,
   "metadata": {},
   "outputs": [
    {
     "name": "stdout",
     "output_type": "stream",
     "text": [
      "+---------------------+---------------------+--------+----+\n",
      "|order_date           |order_item_product_id|revenue |drnk|\n",
      "+---------------------+---------------------+--------+----+\n",
      "|2013-07-25 00:00:00.0|1004                 |5599.72 |1   |\n",
      "|2013-07-25 00:00:00.0|191                  |5099.49 |2   |\n",
      "|2013-07-25 00:00:00.0|957                  |4499.7  |3   |\n",
      "|2013-07-25 00:00:00.0|365                  |3359.44 |4   |\n",
      "|2013-07-25 00:00:00.0|1073                 |2999.85 |5   |\n",
      "|2013-07-26 00:00:00.0|1004                 |10799.46|1   |\n",
      "|2013-07-26 00:00:00.0|365                  |7978.67 |2   |\n",
      "|2013-07-26 00:00:00.0|957                  |6899.54 |3   |\n",
      "|2013-07-26 00:00:00.0|191                  |6799.32 |4   |\n",
      "|2013-07-26 00:00:00.0|1014                 |4798.08 |5   |\n",
      "|2013-07-27 00:00:00.0|1004                 |9599.52 |1   |\n",
      "|2013-07-27 00:00:00.0|191                  |5999.4  |2   |\n",
      "|2013-07-27 00:00:00.0|957                  |5699.62 |3   |\n",
      "|2013-07-27 00:00:00.0|1073                 |5399.73 |4   |\n",
      "|2013-07-27 00:00:00.0|365                  |5099.15 |5   |\n",
      "|2013-07-28 00:00:00.0|1004                 |5599.72 |1   |\n",
      "|2013-07-28 00:00:00.0|957                  |5099.66 |2   |\n",
      "|2013-07-28 00:00:00.0|365                  |4799.2  |3   |\n",
      "|2013-07-28 00:00:00.0|403                  |4419.66 |4   |\n",
      "|2013-07-28 00:00:00.0|191                  |4299.57 |5   |\n",
      "|2013-07-29 00:00:00.0|1004                 |12799.36|1   |\n",
      "|2013-07-29 00:00:00.0|365                  |6658.89 |2   |\n",
      "|2013-07-29 00:00:00.0|191                  |5999.4  |3   |\n",
      "|2013-07-29 00:00:00.0|502                  |5650.0  |4   |\n",
      "|2013-07-29 00:00:00.0|957                  |5099.66 |5   |\n",
      "|2013-07-30 00:00:00.0|1004                 |9999.5  |1   |\n",
      "|2013-07-30 00:00:00.0|365                  |7798.7  |2   |\n",
      "|2013-07-30 00:00:00.0|957                  |5999.6  |3   |\n",
      "|2013-07-30 00:00:00.0|502                  |5750.0  |4   |\n",
      "|2013-07-30 00:00:00.0|403                  |4419.66 |5   |\n",
      "|2013-07-31 00:00:00.0|1004                 |12799.36|1   |\n",
      "|2013-07-31 00:00:00.0|957                  |8399.44 |2   |\n",
      "|2013-07-31 00:00:00.0|191                  |6899.31 |3   |\n",
      "|2013-07-31 00:00:00.0|365                  |6838.86 |4   |\n",
      "|2013-07-31 00:00:00.0|403                  |5199.6  |5   |\n",
      "|2013-08-01 00:00:00.0|1004                 |12799.36|1   |\n",
      "|2013-08-01 00:00:00.0|365                  |7858.69 |2   |\n",
      "|2013-08-01 00:00:00.0|502                  |5000.0  |3   |\n",
      "|2013-08-01 00:00:00.0|1014                 |4748.1  |4   |\n",
      "|2013-08-01 00:00:00.0|1073                 |4199.79 |5   |\n",
      "|2013-08-02 00:00:00.0|1004                 |11199.44|1   |\n",
      "|2013-08-02 00:00:00.0|365                  |6898.85 |2   |\n",
      "|2013-08-02 00:00:00.0|957                  |5699.62 |3   |\n",
      "|2013-08-02 00:00:00.0|191                  |5499.45 |4   |\n",
      "|2013-08-02 00:00:00.0|1014                 |4948.02 |5   |\n",
      "|2013-08-03 00:00:00.0|1004                 |8399.58 |1   |\n",
      "|2013-08-03 00:00:00.0|365                  |7018.83 |2   |\n",
      "|2013-08-03 00:00:00.0|191                  |5399.46 |3   |\n",
      "|2013-08-03 00:00:00.0|957                  |5099.66 |4   |\n",
      "|2013-08-03 00:00:00.0|502                  |3500.0  |5   |\n",
      "|2013-08-04 00:00:00.0|1073                 |5399.73 |1   |\n",
      "|2013-08-04 00:00:00.0|1004                 |4799.76 |2   |\n",
      "|2013-08-04 00:00:00.0|957                  |4199.72 |3   |\n",
      "|2013-08-04 00:00:00.0|502                  |4150.0  |4   |\n",
      "|2013-08-04 00:00:00.0|1014                 |3798.48 |5   |\n",
      "|2013-08-05 00:00:00.0|1004                 |5599.72 |1   |\n",
      "|2013-08-05 00:00:00.0|957                  |4199.72 |2   |\n",
      "|2013-08-05 00:00:00.0|191                  |4099.59 |3   |\n",
      "|2013-08-05 00:00:00.0|502                  |3850.0  |4   |\n",
      "|2013-08-05 00:00:00.0|1073                 |3599.82 |5   |\n",
      "|2013-08-06 00:00:00.0|1004                 |10799.46|1   |\n",
      "|2013-08-06 00:00:00.0|365                  |7138.81 |2   |\n",
      "|2013-08-06 00:00:00.0|957                  |6899.54 |3   |\n",
      "|2013-08-06 00:00:00.0|403                  |6499.5  |4   |\n",
      "|2013-08-06 00:00:00.0|1014                 |5547.78 |5   |\n",
      "|2013-08-07 00:00:00.0|1004                 |7999.6  |1   |\n",
      "|2013-08-07 00:00:00.0|957                  |5699.62 |2   |\n",
      "|2013-08-07 00:00:00.0|365                  |5459.09 |3   |\n",
      "|2013-08-07 00:00:00.0|403                  |4939.62 |4   |\n",
      "|2013-08-07 00:00:00.0|1073                 |4399.78 |5   |\n",
      "|2013-08-08 00:00:00.0|1004                 |6799.66 |1   |\n",
      "|2013-08-08 00:00:00.0|365                  |4319.28 |2   |\n",
      "|2013-08-08 00:00:00.0|191                  |3399.66 |3   |\n",
      "|2013-08-08 00:00:00.0|502                  |3300.0  |4   |\n",
      "|2013-08-08 00:00:00.0|403                  |3249.75 |5   |\n",
      "|2013-08-09 00:00:00.0|1004                 |6399.68 |1   |\n",
      "|2013-08-09 00:00:00.0|957                  |5399.64 |2   |\n",
      "|2013-08-09 00:00:00.0|365                  |3659.39 |3   |\n",
      "|2013-08-09 00:00:00.0|1073                 |3199.84 |4   |\n",
      "|2013-08-09 00:00:00.0|403                  |2469.81 |5   |\n",
      "|2013-08-10 00:00:00.0|1004                 |8799.56 |1   |\n",
      "|2013-08-10 00:00:00.0|957                  |7199.52 |2   |\n",
      "|2013-08-10 00:00:00.0|191                  |5199.48 |3   |\n",
      "|2013-08-10 00:00:00.0|365                  |5039.16 |4   |\n",
      "|2013-08-10 00:00:00.0|502                  |4750.0  |5   |\n",
      "|2013-08-11 00:00:00.0|1004                 |8399.58 |1   |\n",
      "|2013-08-11 00:00:00.0|365                  |4259.29 |2   |\n",
      "|2013-08-11 00:00:00.0|191                  |3199.68 |3   |\n",
      "|2013-08-11 00:00:00.0|957                  |2699.82 |4   |\n",
      "|2013-08-11 00:00:00.0|1014                 |2449.02 |5   |\n",
      "|2013-08-12 00:00:00.0|1004                 |10399.48|1   |\n",
      "|2013-08-12 00:00:00.0|365                  |7678.72 |2   |\n",
      "|2013-08-12 00:00:00.0|191                  |7599.24 |3   |\n",
      "|2013-08-12 00:00:00.0|502                  |6900.0  |4   |\n",
      "|2013-08-12 00:00:00.0|957                  |6299.58 |5   |\n",
      "|2013-08-13 00:00:00.0|957                  |2999.8  |1   |\n",
      "|2013-08-13 00:00:00.0|365                  |2459.59 |2   |\n",
      "|2013-08-13 00:00:00.0|1004                 |2399.88 |3   |\n",
      "|2013-08-13 00:00:00.0|191                  |2299.77 |4   |\n",
      "|2013-08-13 00:00:00.0|403                  |1949.85 |5   |\n",
      "+---------------------+---------------------+--------+----+\n",
      "only showing top 100 rows\n",
      "\n"
     ]
    }
   ],
   "source": [
    "spark.sql(\"\"\"SELECT * FROM (\n",
    "  SELECT t.*,\n",
    "    dense_rank() OVER (\n",
    "      PARTITION BY order_date\n",
    "      ORDER BY revenue DESC\n",
    "    ) AS drnk\n",
    "  FROM daily_product_revenue t\n",
    ") q\n",
    "WHERE q.drnk <= 5\n",
    "ORDER BY q.order_date, q.revenue DESC\n",
    "\"\"\").\n",
    "    show(100, false)"
   ]
  },
  {
   "cell_type": "markdown",
   "metadata": {},
   "source": [
    "### Ranking and Filtering - Recap\n",
    "\n",
    "Let us recap the procedure to get top 5 orders by revenue for each day.\n",
    "\n",
    "* We have our original data in **orders** and **order_items**\n",
    "* We can pre-compute the data and store in a table or create a view with the logic to generate **daily product revenue**\n",
    "* Then, we have to use the view or table or even sub query to compute rank\n",
    "* We can use the query with ranks as sub query to filter so that we can get top 5 products by revenue.\n",
    "* Let us see the overall process in action.\n",
    "\n",
    "Let us come up with the query to compute daily product revenue."
   ]
  },
  {
   "cell_type": "code",
   "execution_count": 15,
   "metadata": {},
   "outputs": [
    {
     "data": {
      "text/plain": [
       "++\n",
       "||\n",
       "++\n",
       "++\n",
       "\n"
      ]
     },
     "execution_count": 15,
     "metadata": {},
     "output_type": "execute_result"
    }
   ],
   "source": [
    "%%sql\n",
    "\n",
    "USE itv002480_retail"
   ]
  },
  {
   "cell_type": "code",
   "execution_count": 16,
   "metadata": {},
   "outputs": [
    {
     "data": {
      "text/plain": [
       "+-----------------+---------+-------+\n",
       "|         col_name|data_type|comment|\n",
       "+-----------------+---------+-------+\n",
       "|         order_id|      int|   null|\n",
       "|       order_date|   string|   null|\n",
       "|order_customer_id|      int|   null|\n",
       "|     order_status|   string|   null|\n",
       "+-----------------+---------+-------+\n",
       "\n"
      ]
     },
     "execution_count": 16,
     "metadata": {},
     "output_type": "execute_result"
    }
   ],
   "source": [
    "%%sql\n",
    "\n",
    "DESCRIBE orders"
   ]
  },
  {
   "cell_type": "code",
   "execution_count": 17,
   "metadata": {},
   "outputs": [
    {
     "data": {
      "text/plain": [
       "+--------------------+---------+-------+\n",
       "|            col_name|data_type|comment|\n",
       "+--------------------+---------+-------+\n",
       "|       order_item_id|      int|   null|\n",
       "| order_item_order_id|      int|   null|\n",
       "|order_item_produc...|      int|   null|\n",
       "| order_item_quantity|      int|   null|\n",
       "| order_item_subtotal|    float|   null|\n",
       "|order_item_produc...|    float|   null|\n",
       "+--------------------+---------+-------+\n",
       "\n"
      ]
     },
     "execution_count": 17,
     "metadata": {},
     "output_type": "execute_result"
    }
   ],
   "source": [
    "%%sql\n",
    "\n",
    "DESCRIBE order_items"
   ]
  },
  {
   "cell_type": "code",
   "execution_count": 18,
   "metadata": {},
   "outputs": [
    {
     "data": {
      "text/plain": [
       "+--------------------+------...\n"
      ]
     },
     "metadata": {},
     "output_type": "display_data",
     "source": "user"
    },
    {
     "data": {
      "text/plain": [
       "+--------------------+---------------------+-------+\n",
       "|          order_date|order_item_product_id|revenue|\n",
       "+--------------------+---------------------+-------+\n",
       "|2013-07-25 00:00:...|                 1004|5599.72|\n",
       "|2013-07-25 00:00:...|                  191|5099.49|\n",
       "|2013-07-25 00:00:...|                  957| 4499.7|\n",
       "|2013-07-25 00:00:...|                  365|3359.44|\n",
       "|2013-07-25 00:00:...|                 1073|2999.85|\n",
       "|2013-07-25 00:00:...|                 1014|2798.88|\n",
       "|2013-07-25 00:00:...|                  403|1949.85|\n",
       "|2013-07-25 00:00:...|                  502| 1650.0|\n",
       "|2013-07-25 00:00:...|                  627|1079.73|\n",
       "|2013-07-25 00:00:...|                  226| 599.99|\n",
       "+--------------------+---------------------+-------+\n",
       "only showing top 10 rows\n",
       "\n"
      ]
     },
     "execution_count": 18,
     "metadata": {},
     "output_type": "execute_result"
    }
   ],
   "source": [
    "%%sql\n",
    "\n",
    "SELECT o.order_date,\n",
    "       oi.order_item_product_id,\n",
    "       round(sum(oi.order_item_subtotal), 2) AS revenue\n",
    "FROM orders o JOIN order_items oi\n",
    "ON o.order_id = oi.order_item_order_id\n",
    "WHERE o.order_status IN ('COMPLETE', 'CLOSED')\n",
    "GROUP BY o.order_date, oi.order_item_product_id\n",
    "ORDER BY o.order_date, revenue DESC\n",
    "LIMIT 100"
   ]
  },
  {
   "cell_type": "markdown",
   "metadata": {},
   "source": [
    "Let us compute the rank for each product with in each date using revenue as criteria."
   ]
  },
  {
   "cell_type": "code",
   "execution_count": 19,
   "metadata": {},
   "outputs": [
    {
     "data": {
      "text/plain": [
       "|2013-07-25 00:00:...|             ...\n"
      ]
     },
     "metadata": {},
     "output_type": "display_data",
     "source": "user"
    },
    {
     "data": {
      "text/plain": [
       "+--------------------+---------------------+-------+---+----+\n",
       "|          order_date|order_item_product_id|revenue|rnk|drnk|\n",
       "+--------------------+---------------------+-------+---+----+\n",
       "|2013-07-25 00:00:...|                 1004|5599.72|  1|   1|\n",
       "|2013-07-25 00:00:...|                  191|5099.49|  2|   2|\n",
       "|2013-07-25 00:00:...|                  957| 4499.7|  3|   3|\n",
       "|2013-07-25 00:00:...|                  365|3359.44|  4|   4|\n",
       "|2013-07-25 00:00:...|                 1073|2999.85|  5|   5|\n",
       "|2013-07-25 00:00:...|                 1014|2798.88|  6|   6|\n",
       "|2013-07-25 00:00:...|                  403|1949.85|  7|   7|\n",
       "|2013-07-25 00:00:...|                  502| 1650.0|  8|   8|\n",
       "|2013-07-25 00:00:...|                  627|1079.73|  9|   9|\n",
       "|2013-07-25 00:00:...|                  226| 599.99| 10|  10|\n",
       "+--------------------+---------------------+-------+---+----+\n",
       "only showing top 10 rows\n",
       "\n"
      ]
     },
     "execution_count": 19,
     "metadata": {},
     "output_type": "execute_result"
    }
   ],
   "source": [
    "%%sql\n",
    "\n",
    "SELECT q.*,\n",
    "  rank() OVER (\n",
    "    PARTITION BY order_date\n",
    "    ORDER BY revenue DESC\n",
    "  ) AS rnk,\n",
    "  dense_rank() OVER (\n",
    "    PARTITION BY order_date\n",
    "    ORDER BY revenue DESC\n",
    "  ) AS drnk\n",
    "FROM (SELECT o.order_date,\n",
    "        oi.order_item_product_id,\n",
    "        round(sum(oi.order_item_subtotal), 2) AS revenue\n",
    "      FROM orders o JOIN order_items oi\n",
    "      ON o.order_id = oi.order_item_order_id\n",
    "      WHERE o.order_status IN ('COMPLETE', 'CLOSED')\n",
    "      GROUP BY o.order_date, oi.order_item_product_id) q\n",
    "ORDER BY order_date, revenue DESC\n",
    "LIMIT 35"
   ]
  },
  {
   "cell_type": "markdown",
   "metadata": {},
   "source": [
    "Now let us see how we can filter the data."
   ]
  },
  {
   "cell_type": "code",
   "execution_count": 20,
   "metadata": {},
   "outputs": [
    {
     "data": {
      "text/plain": [
       "|2013-07-...\n"
      ]
     },
     "metadata": {},
     "output_type": "display_data",
     "source": "user"
    },
    {
     "data": {
      "text/plain": [
       "+--------------------+---------------------+--------+----+\n",
       "|          order_date|order_item_product_id| revenue|drnk|\n",
       "+--------------------+---------------------+--------+----+\n",
       "|2013-07-25 00:00:...|                 1004| 5599.72|   1|\n",
       "|2013-07-25 00:00:...|                  191| 5099.49|   2|\n",
       "|2013-07-25 00:00:...|                  957|  4499.7|   3|\n",
       "|2013-07-25 00:00:...|                  365| 3359.44|   4|\n",
       "|2013-07-25 00:00:...|                 1073| 2999.85|   5|\n",
       "|2013-07-26 00:00:...|                 1004|10799.46|   1|\n",
       "|2013-07-26 00:00:...|                  365| 7978.67|   2|\n",
       "|2013-07-26 00:00:...|                  957| 6899.54|   3|\n",
       "|2013-07-26 00:00:...|                  191| 6799.32|   4|\n",
       "|2013-07-26 00:00:...|                 1014| 4798.08|   5|\n",
       "+--------------------+---------------------+--------+----+\n",
       "only showing top 10 rows\n",
       "\n"
      ]
     },
     "execution_count": 20,
     "metadata": {},
     "output_type": "execute_result"
    }
   ],
   "source": [
    "%%sql\n",
    "\n",
    "SELECT * FROM (SELECT q.*,\n",
    "  dense_rank() OVER (\n",
    "    PARTITION BY order_date\n",
    "    ORDER BY revenue DESC\n",
    "  ) AS drnk\n",
    "FROM (SELECT o.order_date,\n",
    "        oi.order_item_product_id,\n",
    "        round(sum(oi.order_item_subtotal), 2) AS revenue\n",
    "      FROM orders o JOIN order_items oi\n",
    "      ON o.order_id = oi.order_item_order_id\n",
    "      WHERE o.order_status IN ('COMPLETE', 'CLOSED')\n",
    "      GROUP BY o.order_date, oi.order_item_product_id) q) q1\n",
    "WHERE drnk <= 5\n",
    "ORDER BY order_date, revenue DESC\n",
    "LIMIT 35"
   ]
  },
  {
   "cell_type": "code",
   "execution_count": 21,
   "metadata": {},
   "outputs": [
    {
     "name": "stdout",
     "output_type": "stream",
     "text": [
      "+---------------------+---------+-------+\n",
      "|col_name             |data_type|comment|\n",
      "+---------------------+---------+-------+\n",
      "|order_date           |string   |null   |\n",
      "|order_item_product_id|int      |null   |\n",
      "|revenue              |double   |null   |\n",
      "+---------------------+---------+-------+\n",
      "\n"
     ]
    }
   ],
   "source": [
    "spark.sql(\"DESCRIBE daily_product_revenue\").show(false)"
   ]
  },
  {
   "cell_type": "code",
   "execution_count": 22,
   "metadata": {},
   "outputs": [
    {
     "data": {
      "text/plain": [
       "|2013-07-...\n"
      ]
     },
     "metadata": {},
     "output_type": "display_data",
     "source": "user"
    },
    {
     "data": {
      "text/plain": [
       "+--------------------+---------------------+--------+----+\n",
       "|          order_date|order_item_product_id| revenue|drnk|\n",
       "+--------------------+---------------------+--------+----+\n",
       "|2013-07-25 00:00:...|                 1004| 5599.72|   1|\n",
       "|2013-07-25 00:00:...|                  191| 5099.49|   2|\n",
       "|2013-07-25 00:00:...|                  957|  4499.7|   3|\n",
       "|2013-07-25 00:00:...|                  365| 3359.44|   4|\n",
       "|2013-07-25 00:00:...|                 1073| 2999.85|   5|\n",
       "|2013-07-26 00:00:...|                 1004|10799.46|   1|\n",
       "|2013-07-26 00:00:...|                  365| 7978.67|   2|\n",
       "|2013-07-26 00:00:...|                  957| 6899.54|   3|\n",
       "|2013-07-26 00:00:...|                  191| 6799.32|   4|\n",
       "|2013-07-26 00:00:...|                 1014| 4798.08|   5|\n",
       "+--------------------+---------------------+--------+----+\n",
       "only showing top 10 rows\n",
       "\n"
      ]
     },
     "execution_count": 22,
     "metadata": {},
     "output_type": "execute_result"
    }
   ],
   "source": [
    "%%sql\n",
    "\n",
    "SELECT * FROM (SELECT dpr.*,\n",
    "  dense_rank() OVER (\n",
    "    PARTITION BY order_date\n",
    "    ORDER BY revenue DESC\n",
    "  ) AS drnk\n",
    "FROM daily_product_revenue AS dpr)\n",
    "WHERE drnk <= 5\n",
    "ORDER BY order_date, revenue DESC\n",
    "LIMIT 35"
   ]
  },
  {
   "cell_type": "code",
   "execution_count": null,
   "metadata": {},
   "outputs": [],
   "source": []
  }
 ],
 "metadata": {
  "kernelspec": {
   "display_name": "Spark 2 - Scala",
   "language": "scala",
   "name": "spark_2_scala"
  },
  "language_info": {
   "codemirror_mode": "text/x-scala",
   "file_extension": ".scala",
   "mimetype": "text/x-scala",
   "name": "scala",
   "pygments_lexer": "scala",
   "version": "2.11.12"
  }
 },
 "nbformat": 4,
 "nbformat_minor": 4
}
