{
 "cells": [
  {
   "cell_type": "markdown",
   "metadata": {},
   "source": [
    "## Exercises - Windowing Functions\n",
    "\n",
    "Let us take care of the exercises related to windowing or analytics functions. We will be using HR database for the same.\n",
    "\n",
    "* Get all the employees who is making more than average salary with in each department.\n",
    "* Get cumulative salary for one of the department along with department name.\n",
    "* Get top 3 paid employees with in each department by salary (use dense_rank)\n",
    "* Get top 3 products sold in the month of 2014 January by revenue.\n",
    "* Get top 3 products in each category sold in the month of 2014 January by revenue."
   ]
  },
  {
   "cell_type": "markdown",
   "metadata": {},
   "source": [
    "Let us start spark context for this Notebook so that we can execute the code provided. You can sign up for our [10 node state of the art cluster/labs](https://labs.itversity.com/plans) to learn Spark SQL using our unique integrated LMS."
   ]
  },
  {
   "cell_type": "code",
   "execution_count": 1,
   "metadata": {},
   "outputs": [
    {
     "data": {
      "text/plain": [
       "username = itv002480\n"
      ]
     },
     "metadata": {},
     "output_type": "display_data",
     "source": "user"
    },
    {
     "data": {
      "text/plain": [
       "itv002480"
      ]
     },
     "execution_count": 1,
     "metadata": {},
     "output_type": "execute_result"
    }
   ],
   "source": [
    "val username = System.getProperty(\"user.name\")"
   ]
  },
  {
   "cell_type": "code",
   "execution_count": 2,
   "metadata": {},
   "outputs": [
    {
     "data": {
      "text/plain": [
       "username = itv002480\n",
       "spark = org.apache.spark.sql.SparkSession@70f51fac\n"
      ]
     },
     "metadata": {},
     "output_type": "display_data",
     "source": "user"
    },
    {
     "data": {
      "text/plain": [
       "org.apache.spark.sql.SparkSession@70f51fac"
      ]
     },
     "execution_count": 2,
     "metadata": {},
     "output_type": "execute_result"
    }
   ],
   "source": [
    "import org.apache.spark.sql.SparkSession\n",
    "\n",
    "val username = System.getProperty(\"user.name\")\n",
    "val spark = SparkSession.\n",
    "    builder.\n",
    "    config(\"spark.ui.port\", \"0\").\n",
    "    config(\"spark.sql.warehouse.dir\", s\"/user/${username}/warehouse\").\n",
    "    enableHiveSupport.\n",
    "    appName(s\"${username} | Spark SQL - Windowing Functions\").\n",
    "    master(\"yarn\").\n",
    "    getOrCreate"
   ]
  },
  {
   "cell_type": "markdown",
   "metadata": {},
   "source": [
    "If you are going to use CLIs, you can use Spark SQL using one of the 3 approaches.\n",
    "\n",
    "**Using Spark SQL**\n",
    "\n",
    "```\n",
    "spark2-sql \\\n",
    "    --master yarn \\\n",
    "    --conf spark.ui.port=0 \\\n",
    "    --conf spark.sql.warehouse.dir=/user/${USER}/warehouse\n",
    "```\n",
    "\n",
    "**Using Scala**\n",
    "\n",
    "```\n",
    "spark2-shell \\\n",
    "    --master yarn \\\n",
    "    --conf spark.ui.port=0 \\\n",
    "    --conf spark.sql.warehouse.dir=/user/${USER}/warehouse\n",
    "```\n",
    "\n",
    "**Using Pyspark**\n",
    "\n",
    "```\n",
    "pyspark2 \\\n",
    "    --master yarn \\\n",
    "    --conf spark.ui.port=0 \\\n",
    "    --conf spark.sql.warehouse.dir=/user/${USER}/warehouse\n",
    "```"
   ]
  },
  {
   "cell_type": "markdown",
   "metadata": {},
   "source": [
    "### Exercise 1\n",
    "\n",
    "Get all the employees who is making more than average salary with in each department.\n",
    "\n",
    "* Use HR database employees and department tables for this problem.\n",
    "* Compute average salary expense for each department and get those employee details who are making more salary than average salary.\n",
    "* Make sure average salary expense per department is rounded off to 2 decimals.\n",
    "* Output should contain employee_id, department_name, salary and avg_salary_expense (derived field).\n",
    "* Data should be sorted in ascending order by department_id and descending order by salary.\n",
    "\n",
    "|employee_id|department_name|salary|avg_salary_expense|\n",
    "|---|---|---|---|\n",
    "|201|Marketing|13000.00|9500.00|\n",
    "|114|Purchasing|11000.00|4150.00|\n",
    "|121|Shipping|8200.00|3475.56|\n",
    "|120|Shipping|8000.00|3475.56|\n",
    "|122|Shipping|7900.00|3475.56|\n",
    "|123|Shipping|6500.00|3475.56|\n",
    "|124|Shipping|5800.00|3475.56|\n",
    "|184|Shipping|4200.00|3475.56|\n",
    "|185|Shipping|4100.00|3475.56|\n",
    "|192|Shipping|4000.00|3475.56|\n",
    "|193|Shipping|3900.00|3475.56|\n",
    "|188|Shipping|3800.00|3475.56|\n",
    "|137|Shipping|3600.00|3475.56|\n",
    "|189|Shipping|3600.00|3475.56|\n",
    "|141|Shipping|3500.00|3475.56|\n",
    "|103|IT|9000.00|5760.00|\n",
    "|104|IT|6000.00|5760.00|\n",
    "|145|Sales|14000.00|8955.88|\n",
    "|146|Sales|13500.00|8955.88|\n",
    "|147|Sales|12000.00|8955.88|\n",
    "|168|Sales|11500.00|8955.88|\n",
    "|148|Sales|11000.00|8955.88|\n",
    "|174|Sales|11000.00|8955.88|\n",
    "|149|Sales|10500.00|8955.88|\n",
    "|162|Sales|10500.00|8955.88|\n",
    "|156|Sales|10000.00|8955.88|\n",
    "|150|Sales|10000.00|8955.88|\n",
    "|169|Sales|10000.00|8955.88|\n",
    "|170|Sales|9600.00|8955.88|\n",
    "|163|Sales|9500.00|8955.88|\n",
    "|151|Sales|9500.00|8955.88|\n",
    "|157|Sales|9500.00|8955.88|\n",
    "|158|Sales|9000.00|8955.88|\n",
    "|152|Sales|9000.00|8955.88|\n",
    "|100|Executive|24000.00|19333.33|\n",
    "|108|Finance|12000.00|8600.00|\n",
    "|109|Finance|9000.00|8600.00|\n",
    "|205|Accounting|12000.00|10150.00|"
   ]
  },
  {
   "cell_type": "code",
   "execution_count": 3,
   "metadata": {},
   "outputs": [
    {
     "data": {
      "text/plain": [
       "Waiting for a Spark session to start..."
      ]
     },
     "metadata": {},
     "output_type": "display_data",
     "source": "user"
    },
    {
     "data": {
      "text/plain": [
       "++\n",
       "||\n",
       "++\n",
       "++\n",
       "\n"
      ]
     },
     "execution_count": 3,
     "metadata": {},
     "output_type": "execute_result"
    }
   ],
   "source": [
    "%%sql\n",
    "use itv002480_hr"
   ]
  },
  {
   "cell_type": "code",
   "execution_count": 4,
   "metadata": {},
   "outputs": [
    {
     "data": {
      "text/plain": [
       "+------------+-----------+-----------+\n",
       "|    database|  tableName|isTemporary|\n",
       "+------------+-----------+-----------+\n",
       "|itv002480_hr|departments|      false|\n",
       "|itv002480_hr|  employees|      false|\n",
       "+------------+-----------+-----------+\n",
       "\n"
      ]
     },
     "execution_count": 4,
     "metadata": {},
     "output_type": "execute_result"
    }
   ],
   "source": [
    "%%sql\n",
    "show tables"
   ]
  },
  {
   "cell_type": "code",
   "execution_count": 5,
   "metadata": {},
   "outputs": [
    {
     "data": {
      "text/plain": [
       "++\n",
       "||\n",
       "++\n",
       "++\n",
       "\n"
      ]
     },
     "execution_count": 5,
     "metadata": {},
     "output_type": "execute_result"
    }
   ],
   "source": [
    "%%sql\n",
    "drop table departments"
   ]
  },
  {
   "cell_type": "code",
   "execution_count": 6,
   "metadata": {},
   "outputs": [
    {
     "data": {
      "text/plain": [
       "++\n",
       "||\n",
       "++\n",
       "++\n",
       "\n"
      ]
     },
     "execution_count": 6,
     "metadata": {},
     "output_type": "execute_result"
    }
   ],
   "source": [
    "%%sql\n",
    "\n",
    "CREATE TABLE departments (\n",
    "    department_id INT,\n",
    "    department_name STRING,\n",
    "    manager_id INT,\n",
    "    location_id INT\n",
    ") ROW FORMAT DELIMITED FIELDS TERMINATED BY '\\t'"
   ]
  },
  {
   "cell_type": "code",
   "execution_count": 7,
   "metadata": {},
   "outputs": [
    {
     "data": {
      "text/plain": [
       "++\n",
       "||\n",
       "++\n",
       "++\n",
       "\n"
      ]
     },
     "execution_count": 7,
     "metadata": {},
     "output_type": "execute_result"
    }
   ],
   "source": [
    "%%sql\n",
    "\n",
    "LOAD DATA LOCAL INPATH '/data/hr_db/departments' INTO TABLE departments"
   ]
  },
  {
   "cell_type": "code",
   "execution_count": 8,
   "metadata": {},
   "outputs": [
    {
     "data": {
      "text/plain": [
       "|          100|         Finance|       108|  ...\n"
      ]
     },
     "metadata": {},
     "output_type": "display_data",
     "source": "user"
    },
    {
     "data": {
      "text/plain": [
       "+-------------+----------------+----------+-----------+\n",
       "|department_id| department_name|manager_id|location_id|\n",
       "+-------------+----------------+----------+-----------+\n",
       "|           10|  Administration|       200|       1700|\n",
       "|           20|       Marketing|       201|       1800|\n",
       "|           30|      Purchasing|       114|       1700|\n",
       "|           40| Human Resources|       203|       2400|\n",
       "|           50|        Shipping|       121|       1500|\n",
       "|           60|              IT|       103|       1400|\n",
       "|           70|Public Relations|       204|       2700|\n",
       "|           80|           Sales|       145|       2500|\n",
       "|           90|       Executive|       100|       1700|\n",
       "|          100|         Finance|       108|       1700|\n",
       "+-------------+----------------+----------+-----------+\n",
       "only showing top 10 rows\n",
       "\n"
      ]
     },
     "execution_count": 8,
     "metadata": {},
     "output_type": "execute_result"
    }
   ],
   "source": [
    "%%sql\n",
    "select * from departments"
   ]
  },
  {
   "cell_type": "code",
   "execution_count": 9,
   "metadata": {},
   "outputs": [
    {
     "data": {
      "text/plain": [
       "|        192|       S...\n"
      ]
     },
     "metadata": {},
     "output_type": "display_data",
     "source": "user"
    },
    {
     "data": {
      "text/plain": [
       "+-----------+---------------+--------+------------------+\n",
       "|employee_id|department_name|  salary|avg_salary_expense|\n",
       "+-----------+---------------+--------+------------------+\n",
       "|        201|      Marketing|13000.00|           9500.00|\n",
       "|        114|     Purchasing|11000.00|           4150.00|\n",
       "|        121|       Shipping| 8200.00|           3475.56|\n",
       "|        120|       Shipping| 8000.00|           3475.56|\n",
       "|        122|       Shipping| 7900.00|           3475.56|\n",
       "|        123|       Shipping| 6500.00|           3475.56|\n",
       "|        124|       Shipping| 5800.00|           3475.56|\n",
       "|        184|       Shipping| 4200.00|           3475.56|\n",
       "|        185|       Shipping| 4100.00|           3475.56|\n",
       "|        192|       Shipping| 4000.00|           3475.56|\n",
       "+-----------+---------------+--------+------------------+\n",
       "only showing top 10 rows\n",
       "\n"
      ]
     },
     "execution_count": 9,
     "metadata": {},
     "output_type": "execute_result"
    }
   ],
   "source": [
    "%%sql\n",
    "\n",
    "SELECT e.employee_id, d.department_name, e.salary,\n",
    "    ae.avg_salary_expense\n",
    "FROM employees e JOIN (\n",
    "    SELECT department_id,\n",
    "        round(avg(salary), 2) AS avg_salary_expense\n",
    "    FROM employees\n",
    "    GROUP BY department_id\n",
    ") ae\n",
    "ON e.department_id = ae.department_id\n",
    "join departments d on\n",
    "e.department_id=d.department_id\n",
    "where e.salary>ae.avg_salary_expense\n",
    "group by d.department_id,d.department_name,e.employee_id,e.salary,ae.avg_salary_expense\n",
    "ORDER BY d.department_id, e.salary desc"
   ]
  },
  {
   "cell_type": "markdown",
   "metadata": {},
   "source": [
    "### Exercise 2\n",
    "\n",
    "Get cumulative salary with in each department for Finance and IT department along with department name.\n",
    "\n",
    "* Use HR database employees and department tables for this problem.\n",
    "* Compute cumulative salary expense for **Finance** as well as **IT** departments with in respective departments.\n",
    "* Make sure cumulative salary expense per department is rounded off to 2 decimals.\n",
    "* Output should contain employee_id, department_name, salary and cum_salary_expense (derived field).\n",
    "* Data should be sorted in ascending order by department_name and then salary.\n",
    "\n",
    "|employee_id|department_name|salary|cum_salary_expense|\n",
    "|---|---|---|---|\n",
    "|113|Finance|6900.00|6900.00|\n",
    "|111|Finance|7700.00|14600.00|\n",
    "|112|Finance|7800.00|22400.00|\n",
    "|110|Finance|8200.00|30600.00|\n",
    "|109|Finance|9000.00|39600.00|\n",
    "|108|Finance|12000.00|51600.00|\n",
    "|107|IT|4200.00|4200.00|\n",
    "|106|IT|4800.00|9000.00|\n",
    "|105|IT|4800.00|13800.00|\n",
    "|104|IT|6000.00|19800.00|\n",
    "|103|IT|9000.00|28800.00|"
   ]
  },
  {
   "cell_type": "code",
   "execution_count": 10,
   "metadata": {},
   "outputs": [
    {
     "data": {
      "text/plain": [
       "|        104|        ...\n"
      ]
     },
     "metadata": {},
     "output_type": "display_data",
     "source": "user"
    },
    {
     "data": {
      "text/plain": [
       "+-----------+---------------+--------+------------------+\n",
       "|employee_id|department_name|  salary|cum_salary_expense|\n",
       "+-----------+---------------+--------+------------------+\n",
       "|        113|        Finance| 6900.00|           6900.00|\n",
       "|        111|        Finance| 7700.00|          14600.00|\n",
       "|        112|        Finance| 7800.00|          22400.00|\n",
       "|        110|        Finance| 8200.00|          30600.00|\n",
       "|        109|        Finance| 9000.00|          39600.00|\n",
       "|        108|        Finance|12000.00|          51600.00|\n",
       "|        107|             IT| 4200.00|           4200.00|\n",
       "|        105|             IT| 4800.00|          13800.00|\n",
       "|        106|             IT| 4800.00|           9000.00|\n",
       "|        104|             IT| 6000.00|          19800.00|\n",
       "+-----------+---------------+--------+------------------+\n",
       "only showing top 10 rows\n",
       "\n"
      ]
     },
     "execution_count": 10,
     "metadata": {},
     "output_type": "execute_result"
    }
   ],
   "source": [
    "%%sql\n",
    "select e.employee_id,\n",
    "       d.department_name,\n",
    "       e.salary,\n",
    "       round(sum(e.salary) over (partition by d.department_id \n",
    "                            order by e.salary\n",
    "        ROWS BETWEEN UNBOUNDED PRECEDING AND CURRENT ROW),2) as cum_salary_expense\n",
    "        from employees e\n",
    "        join departments d \n",
    "        on e.department_id=d.department_id\n",
    "        where d.department_name in ('Finance','IT')\n",
    "        group by d.department_name,e.employee_id,e.salary,\n",
    "        d.department_name,d.department_id\n",
    "        order by d.department_name,e.salary"
   ]
  },
  {
   "cell_type": "markdown",
   "metadata": {},
   "source": [
    "### Exercise 3\n",
    "\n",
    "Get top 3 paid employees with in each department by salary (use dense_rank)\n",
    "\n",
    "* Use HR database employees and department tables for this problem.\n",
    "* Highest paid employee should be ranked first.\n",
    "* Output should contain employee_id, department_id, department_name, salary and employee_rank (derived field).\n",
    "* Data should be sorted in ascending order by department_id in ascending order and then salary in descending order.\n",
    "\n",
    "|employee_id|department_id|department_name|salary|employee_rank|\n",
    "|---|---|---|---|---|\n",
    "|200|10|Administration|4400.00|1|\n",
    "|201|20|Marketing|13000.00|1|\n",
    "|202|20|Marketing|6000.00|2|\n",
    "|114|30|Purchasing|11000.00|1|\n",
    "|115|30|Purchasing|3100.00|2|\n",
    "|116|30|Purchasing|2900.00|3|\n",
    "|203|40|Human Resources|6500.00|1|\n",
    "|121|50|Shipping|8200.00|1|\n",
    "|120|50|Shipping|8000.00|2|\n",
    "|122|50|Shipping|7900.00|3|\n",
    "|103|60|IT|9000.00|1|\n",
    "|104|60|IT|6000.00|2|\n",
    "|105|60|IT|4800.00|3|\n",
    "|106|60|IT|4800.00|3|\n",
    "|204|70|Public Relations|10000.00|1|\n",
    "|145|80|Sales|14000.00|1|\n",
    "|146|80|Sales|13500.00|2|\n",
    "|147|80|Sales|12000.00|3|\n",
    "|100|90|Executive|24000.00|1|\n",
    "|101|90|Executive|17000.00|2|\n",
    "|102|90|Executive|17000.00|2|\n",
    "|108|100|Finance|12000.00|1|\n",
    "|109|100|Finance|9000.00|2|\n",
    "|110|100|Finance|8200.00|3|\n",
    "|205|110|Accounting|12000.00|1|\n",
    "|206|110|Accounting|8300.00|2|"
   ]
  },
  {
   "cell_type": "code",
   "execution_count": 27,
   "metadata": {},
   "outputs": [
    {
     "data": {
      "text/plain": [
       "++\n",
       "||\n",
       "++\n",
       "++\n",
       "\n"
      ]
     },
     "execution_count": 27,
     "metadata": {},
     "output_type": "execute_result"
    }
   ],
   "source": [
    "%%sql use itv002480_hr"
   ]
  },
  {
   "cell_type": "code",
   "execution_count": 41,
   "metadata": {},
   "outputs": [
    {
     "data": {
      "text/plain": [
       "++\n",
       "||\n",
       "++\n",
       "++\n",
       "\n"
      ]
     },
     "execution_count": 41,
     "metadata": {},
     "output_type": "execute_result"
    }
   ],
   "source": [
    "%%sql\n",
    "drop table departments"
   ]
  },
  {
   "cell_type": "code",
   "execution_count": 42,
   "metadata": {},
   "outputs": [
    {
     "data": {
      "text/plain": [
       "++\n",
       "||\n",
       "++\n",
       "++\n",
       "\n"
      ]
     },
     "execution_count": 42,
     "metadata": {},
     "output_type": "execute_result"
    }
   ],
   "source": [
    "%%sql\n",
    "\n",
    "CREATE TABLE departments (\n",
    "    department_id INT,\n",
    "    department_name STRING,\n",
    "    manager_id INT,\n",
    "    location_id INT\n",
    ") ROW FORMAT DELIMITED FIELDS TERMINATED BY '\\t'"
   ]
  },
  {
   "cell_type": "code",
   "execution_count": 43,
   "metadata": {},
   "outputs": [
    {
     "data": {
      "text/plain": [
       "++\n",
       "||\n",
       "++\n",
       "++\n",
       "\n"
      ]
     },
     "execution_count": 43,
     "metadata": {},
     "output_type": "execute_result"
    }
   ],
   "source": [
    "%%sql\n",
    "\n",
    "LOAD DATA LOCAL INPATH '/data/hr_db/departments' INTO TABLE departments"
   ]
  },
  {
   "cell_type": "code",
   "execution_count": 44,
   "metadata": {},
   "outputs": [
    {
     "data": {
      "text/plain": [
       "|          100|         Finance|       108| ...\n"
      ]
     },
     "metadata": {},
     "output_type": "display_data",
     "source": "user"
    },
    {
     "data": {
      "text/plain": [
       "+-------------+----------------+----------+-----------+\n",
       "|department_id| department_name|manager_id|location_id|\n",
       "+-------------+----------------+----------+-----------+\n",
       "|           10|  Administration|       200|       1700|\n",
       "|           20|       Marketing|       201|       1800|\n",
       "|           30|      Purchasing|       114|       1700|\n",
       "|           40| Human Resources|       203|       2400|\n",
       "|           50|        Shipping|       121|       1500|\n",
       "|           60|              IT|       103|       1400|\n",
       "|           70|Public Relations|       204|       2700|\n",
       "|           80|           Sales|       145|       2500|\n",
       "|           90|       Executive|       100|       1700|\n",
       "|          100|         Finance|       108|       1700|\n",
       "+-------------+----------------+----------+-----------+\n",
       "only showing top 10 rows\n",
       "\n"
      ]
     },
     "execution_count": 44,
     "metadata": {},
     "output_type": "execute_result"
    }
   ],
   "source": [
    "%%sql \n",
    "select * from departments"
   ]
  },
  {
   "cell_type": "code",
   "execution_count": 45,
   "metadata": {},
   "outputs": [
    {
     "data": {
      "text/plain": [
       "|        121|           50|       Shipping| 82...\n"
      ]
     },
     "metadata": {},
     "output_type": "display_data",
     "source": "user"
    },
    {
     "data": {
      "text/plain": [
       "+-----------+-------------+---------------+--------+-------------+\n",
       "|employee_id|department_id|department_name|  salary|employee_rank|\n",
       "+-----------+-------------+---------------+--------+-------------+\n",
       "|        200|           10| Administration| 4400.00|            1|\n",
       "|        201|           20|      Marketing|13000.00|            1|\n",
       "|        202|           20|      Marketing| 6000.00|            2|\n",
       "|        114|           30|     Purchasing|11000.00|            1|\n",
       "|        115|           30|     Purchasing| 3100.00|            2|\n",
       "|        116|           30|     Purchasing| 2900.00|            3|\n",
       "|        203|           40|Human Resources| 6500.00|            1|\n",
       "|        121|           50|       Shipping| 8200.00|            1|\n",
       "|        120|           50|       Shipping| 8000.00|            2|\n",
       "|        122|           50|       Shipping| 7900.00|            3|\n",
       "+-----------+-------------+---------------+--------+-------------+\n",
       "only showing top 10 rows\n",
       "\n"
      ]
     },
     "execution_count": 45,
     "metadata": {},
     "output_type": "execute_result"
    }
   ],
   "source": [
    "%%sql\n",
    "SELECT * FROM( SELECT e.employee_id,\n",
    "              e.department_id, \n",
    "              d.department_name,\n",
    "              e.salary, \n",
    "              dense_rank() OVER ( PARTITION BY e.department_id ORDER BY e.salary DESC ) AS employee_rank \n",
    "              FROM employees AS e \n",
    "              JOIN departments AS d \n",
    "              ON e.department_id = d.department_id) AS e \n",
    "WHERE e.employee_rank <= 3 ORDER BY e.department_id, e.salary DESC"
   ]
  },
  {
   "cell_type": "code",
   "execution_count": null,
   "metadata": {},
   "outputs": [],
   "source": []
  },
  {
   "cell_type": "markdown",
   "metadata": {},
   "source": [
    "### Exercise 4\n",
    "\n",
    "Get top 3 products sold in the month of 2014 January by revenue.\n",
    "\n",
    "* Use retail database tables such as orders, order_items and products.\n",
    "* Highest revenue generating product should come at top.\n",
    "* Output should contain product_id, product_name, revenue, product_rank. **revenue** and **product_rank** are derived fields.\n",
    "* Data should be sorted in descending order by revenue.\n",
    "\n",
    "|product_id|product_name|revenue|product_rank|\n",
    "|---|---|---|---|\n",
    "|1004|Field & Stream Sportsman 16 Gun Fire Safe|250787.46|1|\n",
    "|365|Perfect Fitness Perfect Rip Deck|151474.75|2|\n",
    "|957|Diamondback Women's Serene Classic Comfort Bi|148190.12|3|"
   ]
  },
  {
   "cell_type": "code",
   "execution_count": 15,
   "metadata": {},
   "outputs": [
    {
     "data": {
      "text/plain": [
       "++\n",
       "||\n",
       "++\n",
       "++\n",
       "\n"
      ]
     },
     "execution_count": 15,
     "metadata": {},
     "output_type": "execute_result"
    }
   ],
   "source": [
    "%%sql\n",
    "use itv002480_retail"
   ]
  },
  {
   "cell_type": "code",
   "execution_count": 16,
   "metadata": {},
   "outputs": [
    {
     "data": {
      "text/plain": [
       "+----------------+--------------------+--...\n"
      ]
     },
     "metadata": {},
     "output_type": "display_data",
     "source": "user"
    },
    {
     "data": {
      "text/plain": [
       "+----------------+--------------------+-----------+\n",
       "|        database|           tableName|isTemporary|\n",
       "+----------------+--------------------+-----------+\n",
       "|itv002480_retail|          categories|      false|\n",
       "|itv002480_retail|daily_product_rev...|      false|\n",
       "|itv002480_retail|       daily_revenue|      false|\n",
       "|itv002480_retail|         departments|      false|\n",
       "|itv002480_retail|                dual|      false|\n",
       "|itv002480_retail|           employees|      false|\n",
       "|itv002480_retail|         order_items|      false|\n",
       "|itv002480_retail|   order_items_stage|      false|\n",
       "|itv002480_retail|              orders|      false|\n",
       "|itv002480_retail|         orders_part|      false|\n",
       "+----------------+--------------------+-----------+\n",
       "only showing top 10 rows\n",
       "\n"
      ]
     },
     "execution_count": 16,
     "metadata": {},
     "output_type": "execute_result"
    }
   ],
   "source": [
    "%%sql\n",
    "show tables"
   ]
  },
  {
   "cell_type": "code",
   "execution_count": 17,
   "metadata": {},
   "outputs": [
    {
     "data": {
      "text/plain": [
       "++\n",
       "||\n",
       "++\n",
       "++\n",
       "\n"
      ]
     },
     "execution_count": 17,
     "metadata": {},
     "output_type": "execute_result"
    }
   ],
   "source": [
    "%%sql\n",
    "drop table products"
   ]
  },
  {
   "cell_type": "code",
   "execution_count": 18,
   "metadata": {},
   "outputs": [
    {
     "data": {
      "text/plain": [
       "++\n",
       "||\n",
       "++\n",
       "++\n",
       "\n"
      ]
     },
     "execution_count": 18,
     "metadata": {},
     "output_type": "execute_result"
    }
   ],
   "source": [
    "%%sql\n",
    "\n",
    "CREATE TABLE products (\n",
    "    product_id INT,\n",
    "    product_category_id INT,\n",
    "    product_name STRING,\n",
    "    product_description STRING,\n",
    "    product_price FLOAT,\n",
    "    product_image STRING\n",
    ") ROW FORMAT DELIMITED FIELDS TERMINATED BY ','"
   ]
  },
  {
   "cell_type": "code",
   "execution_count": 19,
   "metadata": {},
   "outputs": [
    {
     "data": {
      "text/plain": [
       "++\n",
       "||\n",
       "++\n",
       "++\n",
       "\n"
      ]
     },
     "execution_count": 19,
     "metadata": {},
     "output_type": "execute_result"
    }
   ],
   "source": [
    "%%sql\n",
    "\n",
    "LOAD DATA LOCAL INPATH '/data/retail_db/products' INTO TABLE products"
   ]
  },
  {
   "cell_type": "code",
   "execution_count": 20,
   "metadata": {},
   "outputs": [
    {
     "ename": "Error parsing magics!",
     "evalue": "Magics [sql] do not exist!",
     "output_type": "error",
     "traceback": []
    }
   ],
   "source": [
    "%sql\n",
    "select *\n",
    "from (\n",
    "select iq.*,dense_rank() over (\n",
    "order by iq.revenue desc\n",
    ") as product_rank\n",
    "    from (select oi.order_item_product_id,p.product_name,\n",
    "    round(sum(order_item_subtotal) over (\n",
    "    partition by oi.order_item_product_id\n",
    "    ,2)) as revenue\n",
    "    from orders as o\n",
    "    join\n",
    "    order_items oi on o.order_id = oi.order_item_order_id\n",
    "    join\n",
    "    products p on oi.order_item_product_id=p.product_id\n",
    "    where date_format(o.order_date, 'yyyy-MM') = '2014-01' AND o.order_status IN ('COMPLETE', 'CLOSED')\n",
    "    ) as iq\n",
    "group by iq.order_item_product_id,iq.product_name,iq.revenue\n",
    "order by revenue desc\n",
    ")as q\n",
    "where q.product_rank<=3\n",
    "order by revenue desc%"
   ]
  },
  {
   "cell_type": "markdown",
   "metadata": {},
   "source": [
    "### Exercise 5\n",
    "\n",
    "Get top 3 products sold in the month of 2014 January under selected categories by revenue. The categories are **Cardio Equipment** and **Strength Training**.\n",
    "\n",
    "* Use retail database tables such as orders, order_items, products as well as categories.\n",
    "* Highest revenue generating product should come at top.\n",
    "* Output should contain category_id, category_name, product_id, product_name, revenue, product_rank. revenue and product_rank are derived fields.\n",
    "* Data should be sorted in ascending order by category_id and descending order by revenue.\n",
    "\n",
    "|category_id|category_name|product_id|product_name|revenue|product_rank|\n",
    "|---|---|---|---|---|---|\n",
    "|9|Cardio Equipment|191|Nike Men's Free 5.0+ Running Shoe|132286.77|1|\n",
    "|9|Cardio Equipment|172|Nike Women's Tempo Shorts|870.00|2|\n",
    "|10|Strength Training|208|SOLE E35 Elliptical|1999.99|1|\n",
    "|10|Strength Training|203|GoPro HERO3+ Black Edition Camera|1199.97|2|\n",
    "|10|Strength Training|216|Yakima DoubleDown Ace Hitch Mount 4-Bike Rack|189.00|3|"
   ]
  },
  {
   "cell_type": "code",
   "execution_count": 21,
   "metadata": {},
   "outputs": [
    {
     "data": {
      "text/plain": [
       "++\n",
       "||\n",
       "++\n",
       "++\n",
       "\n"
      ]
     },
     "execution_count": 21,
     "metadata": {},
     "output_type": "execute_result"
    }
   ],
   "source": [
    "%%sql\n",
    "drop table categories"
   ]
  },
  {
   "cell_type": "code",
   "execution_count": 22,
   "metadata": {},
   "outputs": [
    {
     "data": {
      "text/plain": [
       "++\n",
       "||\n",
       "++\n",
       "++\n",
       "\n"
      ]
     },
     "execution_count": 22,
     "metadata": {},
     "output_type": "execute_result"
    }
   ],
   "source": [
    "%%sql\n",
    "\n",
    "CREATE TABLE categories (\n",
    "    category_id INT,\n",
    "    category_department_id INT,\n",
    "    category_name STRING\n",
    ") ROW FORMAT DELIMITED FIELDS TERMINATED BY ','"
   ]
  },
  {
   "cell_type": "code",
   "execution_count": 23,
   "metadata": {},
   "outputs": [
    {
     "data": {
      "text/plain": [
       "++\n",
       "||\n",
       "++\n",
       "++\n",
       "\n"
      ]
     },
     "execution_count": 23,
     "metadata": {},
     "output_type": "execute_result"
    }
   ],
   "source": [
    "%%sql\n",
    "\n",
    "LOAD DATA LOCAL INPATH '/data/retail_db/categories' INTO TABLE categories"
   ]
  },
  {
   "cell_type": "code",
   "execution_count": 24,
   "metadata": {},
   "outputs": [
    {
     "data": {
      "text/plain": [
       "+-----------+----------------...\n"
      ]
     },
     "metadata": {},
     "output_type": "display_data",
     "source": "user"
    },
    {
     "data": {
      "text/plain": [
       "+-----------+-----------------+----------+--------------------+--------+------------+\n",
       "|category_id|    category_name|product_id|        product_name| revenue|product_rank|\n",
       "+-----------+-----------------+----------+--------------------+--------+------------+\n",
       "|          9| Cardio Equipment|       191|Nike Men's Free 5...|132287.0|           1|\n",
       "|          9| Cardio Equipment|       172|Nike Women's Temp...|   870.0|           2|\n",
       "|         10|Strength Training|       208| SOLE E35 Elliptical|  2000.0|           1|\n",
       "|         10|Strength Training|       203|GoPro HERO3+ Blac...|  1200.0|           2|\n",
       "|         10|Strength Training|       216|Yakima DoubleDown...|   189.0|           3|\n",
       "+-----------+-----------------+----------+--------------------+--------+------------+\n",
       "\n"
      ]
     },
     "execution_count": 24,
     "metadata": {},
     "output_type": "execute_result"
    }
   ],
   "source": [
    "%%sql\n",
    "select *\n",
    "from (\n",
    "select iq.*,dense_rank() over (\n",
    "    partition by iq. category_id\n",
    "order by iq.revenue desc\n",
    ") as product_rank\n",
    "    from (select c.category_id,c.category_name,p.product_id,p.product_name,\n",
    "    round(sum(order_item_subtotal) over (\n",
    "    partition by oi.order_item_product_id\n",
    "    ,2)) as revenue\n",
    "    from orders as o\n",
    "    join\n",
    "    order_items oi on o.order_id = oi.order_item_order_id\n",
    "    join\n",
    "    products p on oi.order_item_product_id=p.product_id\n",
    "    JOIN \n",
    "    categories c ON c.category_id = p.product_category_id\n",
    "    where date_format(o.order_date, 'yyyy-MM') = '2014-01' AND o.order_status IN ('COMPLETE', 'CLOSED') AND c.category_name IN ('Cardio Equipment', 'Strength Training')\n",
    "    ) as iq\n",
    "group by iq.product_id,iq.product_name,iq.revenue,iq.category_id,iq.category_name\n",
    "order by revenue desc\n",
    ")as q\n",
    "where q.product_rank<=3\n",
    "order by category_id,revenue desc"
   ]
  },
  {
   "cell_type": "code",
   "execution_count": null,
   "metadata": {},
   "outputs": [],
   "source": []
  }
 ],
 "metadata": {
  "kernelspec": {
   "display_name": "Spark 2 - Scala",
   "language": "scala",
   "name": "spark_2_scala"
  },
  "language_info": {
   "codemirror_mode": "text/x-scala",
   "file_extension": ".scala",
   "mimetype": "text/x-scala",
   "name": "scala",
   "pygments_lexer": "scala",
   "version": "2.11.12"
  }
 },
 "nbformat": 4,
 "nbformat_minor": 4
}
