{
 "cells": [
  {
   "cell_type": "markdown",
   "id": "02477dc2",
   "metadata": {},
   "source": [
    "## Read Data from file\n",
    "\n",
    "Develop logic to read the data from tab delimited file into list of tuples.\n",
    "* The file which you are supposed to use is **03_courses.csv** in the current folder.\n",
    "* It is a text file where lines are delimited by new line character.\n",
    "* Each line contain data for multiple attributes related to courses table. Each attribute value in each line is separated by '\\t' (tab) character.\n",
    "* You need to develop a function which will return list of tuples with all the values from the file.\n",
    "\n",
    "**Hint: Using Pandas or csv will facilitate you to come up with the solution faster**"
   ]
  },
  {
   "cell_type": "code",
   "execution_count": 1,
   "id": "c9fbcf71",
   "metadata": {},
   "outputs": [],
   "source": [
    "# Provide the solution here\n",
    "import csv\n",
    "import pandas as pd\n",
    "\n",
    "def get_courses(path):\n",
    "    courses_df=pd.read_csv(path,delimiter='\\t')\n",
    "    courses_list=list(courses_df.to_records(index=False))\n",
    "    courses_list\n",
    "    courses= list(map(lambda course: tuple(course),courses_list))\n",
    "    return courses"
   ]
  },
  {
   "cell_type": "code",
   "execution_count": 2,
   "id": "33b3a144",
   "metadata": {},
   "outputs": [],
   "source": [
    "courses = get_courses('03_courses.csv')"
   ]
  },
  {
   "cell_type": "code",
   "execution_count": 3,
   "id": "aa94cadf",
   "metadata": {},
   "outputs": [
    {
     "data": {
      "text/plain": [
       "list"
      ]
     },
     "execution_count": 3,
     "metadata": {},
     "output_type": "execute_result"
    }
   ],
   "source": [
    "type(courses) # should be list"
   ]
  },
  {
   "cell_type": "code",
   "execution_count": 4,
   "id": "8350c131",
   "metadata": {},
   "outputs": [
    {
     "data": {
      "text/plain": [
       "12"
      ]
     },
     "execution_count": 4,
     "metadata": {},
     "output_type": "execute_result"
    }
   ],
   "source": [
    "len(courses) # should be 12"
   ]
  },
  {
   "cell_type": "code",
   "execution_count": 5,
   "id": "5266a07a",
   "metadata": {},
   "outputs": [
    {
     "data": {
      "text/plain": [
       "('Programming using Python', 'Bob Dillon', 'published', '2020-09-30')"
      ]
     },
     "execution_count": 5,
     "metadata": {},
     "output_type": "execute_result"
    }
   ],
   "source": [
    "courses[0] # Output: ('Programming using Python', 'Bob Dillon', 'published', '2020-09-30')"
   ]
  },
  {
   "cell_type": "code",
   "execution_count": 28,
   "id": "da9bda0d",
   "metadata": {},
   "outputs": [
    {
     "data": {
      "text/plain": [
       "tuple"
      ]
     },
     "execution_count": 28,
     "metadata": {},
     "output_type": "execute_result"
    }
   ],
   "source": [
    "type(courses[0]) # tuple"
   ]
  },
  {
   "cell_type": "code",
   "execution_count": null,
   "id": "c13ab38d",
   "metadata": {},
   "outputs": [],
   "source": []
  }
 ],
 "metadata": {
  "kernelspec": {
   "display_name": "Python 3",
   "language": "python",
   "name": "python3"
  },
  "language_info": {
   "codemirror_mode": {
    "name": "ipython",
    "version": 3
   },
   "file_extension": ".py",
   "mimetype": "text/x-python",
   "name": "python",
   "nbconvert_exporter": "python",
   "pygments_lexer": "ipython3",
   "version": "3.6.12"
  }
 },
 "nbformat": 4,
 "nbformat_minor": 5
}
