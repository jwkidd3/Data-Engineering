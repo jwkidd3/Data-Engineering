{
 "cells": [
  {
   "cell_type": "markdown",
   "metadata": {},
   "source": [
    "## Problem 03\n",
    "\n",
    "Weightage: 50\n",
    "\n",
    "Convert data from json to a Hive table with simple data types. **address** should be stored in 4 columns - city, postal_code, state and street. **phone_numbers** should be of type string and existing numbers should be comma separated."
   ]
  },
  {
   "cell_type": "markdown",
   "metadata": {},
   "source": [
    "## Data Description\n",
    "\n",
    "All of the address data is available under **/public/addresses**. Here is the schema.\n",
    "```\n",
    "root\n",
    " |-- address: struct (nullable = true)\n",
    " |    |-- city: string (nullable = true)\n",
    " |    |-- postal_code: string (nullable = true)\n",
    " |    |-- state: string (nullable = true)\n",
    " |    |-- street: string (nullable = true)\n",
    " |-- email: string (nullable = true)\n",
    " |-- first_name: string (nullable = true)\n",
    " |-- gender: string (nullable = true)\n",
    " |-- id: long (nullable = true)\n",
    " |-- ip_address: string (nullable = true)\n",
    " |-- last_name: string (nullable = true)\n",
    " |-- phone_numbers: array (nullable = true)\n",
    " |    |-- element: string (containsNull = true)\n",
    "```"
   ]
  },
  {
   "cell_type": "markdown",
   "metadata": {},
   "source": [
    "## Output Requirements\n",
    "\n",
    "* Create Database `whoami`_mt02\n",
    "* Create external table pointing to below location.\n",
    "```\n",
    "/user/`whoami`/mock_test_02/problem03/solution\n",
    "```\n",
    "* Table Name: **addresses**\n",
    "* Column Names and Data Types\n",
    "```\n",
    " |-- id: long\n",
    " |-- first_name: string\n",
    " |-- last_name: string\n",
    " |-- gender: string\n",
    " |-- email: string\n",
    " |-- ip_address: string\n",
    " |-- address: string\n",
    " |-- phone_numbers: string\n",
    "```\n",
    "* Use parquet file format. There should be exactly 4 files under the folder related to table.\n",
    "* Data should be sorted in ascending order by id."
   ]
  },
  {
   "cell_type": "markdown",
   "metadata": {},
   "source": [
    "## Validation\n",
    "\n",
    "Here are the self validation steps:\n",
    "* Validate if the table is created or not.\n",
    "```\n",
    "import getpass\n",
    "username = getpass.getuser()\n",
    "data = spark.read.table(f'{username}_mt02.addresses')\n",
    "```\n",
    "* Get Schema by running `data.printSchema()`. Output should be as below. Ignore Nullability if it does not match exactly.\n",
    "```\n",
    "root\n",
    " |-- id: long (nullable = true)\n",
    " |-- first_name: string (nullable = true)\n",
    " |-- last_name: string (nullable = true)\n",
    " |-- gender: string (nullable = true)\n",
    " |-- email: string (nullable = true)\n",
    " |-- ip_address: string (nullable = true)\n",
    " |-- address: string (nullable = true)\n",
    " |-- phone_numbers: string (nullable = true)\n",
    "```\n",
    "* Get count by running `data.count()`. It should return **1,000,000**.\n",
    "* Run `data.orderBy('id').show()` to validate the data. Output should be like this.\n",
    "| id|first_name|   last_name|gender|               email|     ip_address|             address|       phone_numbers|\n",
    "|---|----------|------------|------|--------------------|---------------|--------------------|--------------------|\n",
    "|  1|    Corrie|Van den Oord|Female|cvandenoord0@etsy...| 114.69.173.253|4391 Coleman Lane...|        785-310-6676|\n",
    "|  2|  Nikolaus|     Brewitt|  Male|nbrewitt1@dailyma...| 191.17.232.147|263 Graedel Drive...|609-306-0365,205-...|\n",
    "|  3|    Orelie|      Penney|Female|openney2@vistapri...| 109.206.143.10|5152 Twin Pines P...|619-727-2916,570-...|\n",
    "|  4|     Ashby|    Maddocks|  Male|  amaddocks3@home.pl|  171.173.96.24|31696 Longview Wa...|415-708-9669,806-...|\n",
    "|  5|      Kurt|        Rome|  Male|krome4@shutterfly...| 125.35.144.111|8854 Rusk Street,...|        915-912-2446|\n",
    "|  6|    Idelle|      Dorsey|Female|idorsey5@artistee...|  89.128.71.151|95353 Carpenter P...|949-257-9443,504-...|\n",
    "|  7|      Levy|       Pacey|  Male|lpacey6@bloglovin...|   149.60.175.7|2997 Maryland Cir...|202-667-9730,810-...|\n",
    "|  8|   Hershel|       Kneal|  Male|hkneal7@engadget.com|206.179.142.167|3101 Ilene Plaza,...|719-481-1263,561-...|\n",
    "|  9|     Kelly|  Gatheridge|Female|kgatheridge8@mysp...|  101.79.38.236|91956 Stone Corne...|        719-867-3789|\n",
    "| 10|     Aksel|       Ewles|  Male| aewles9@samsung.com|  219.49.91.115|39 Warbler Avenue...|        501-903-4014|\n",
    "| 11| Millicent|    Whitwell|Female| mwhitwella@army.mil|   46.90.146.88|3598 Carpenter Ci...|716-582-3471,864-...|\n",
    "| 12|      Levy|    Fennelow|  Male|lfennelowb@so-net...| 102.19.205.231|20 Glacier Hill P...|330-621-5532,562-...|\n",
    "| 13|     Bucky|       Harle|  Male|   bharlec@europa.eu|113.149.152.231|06 Badeau Alley,M...|        712-111-4246|\n",
    "| 14|     Randy|   Kleinmann|Female|rkleinmannd@frien...|   5.89.218.201|04 Manitowish Dri...|515-109-8291,408-...|\n",
    "| 15|   Eveleen|     Lanaway|Female|elanawaye@blinkli...| 219.210.42.139|512 Prairie Rose ...|360-712-7619,239-...|\n",
    "| 16|  Eleonore|      Cordle|Female|ecordlef@printfri...| 34.134.136.163|2893 Red Cloud Tr...|                    |\n",
    "| 17|     Monte|     Sidaway|  Male|msidawayg@unicef.org|162.189.175.228|50225 Eagle Crest...|213-965-4880,619-...|\n",
    "| 18|     Heddi|      Sackes|Female|hsackesh@business...|   59.44.144.36|65403 Hermina Pla...|                    |\n",
    "| 19|    Tabina|     Olivari|Female|    tolivarii@goo.gl|   91.22.33.111|05 Ryan Trail,Arl...|602-594-0067,803-...|\n",
    "| 20|Rutherford|   Josephson|  Male|rjosephsonj@sprin...| 93.124.195.224|38907 Sunfield Pa...|979-330-2010,562-...|\n",
    "* Validate whether the files are of type Parquet or not.\n",
    "```\n",
    "import getpass\n",
    "username = getpass.getuser()\n",
    "data_p = spark. \\\n",
    "    read. \\\n",
    "    parquet(f'/user/{username}/mock_test_02/problem03/solution')\n",
    "```\n",
    "* Run `data_p.orderBy('id').show()` to validate the data. Output should be like above."
   ]
  },
  {
   "cell_type": "code",
   "execution_count": 1,
   "metadata": {},
   "outputs": [],
   "source": [
    "from pyspark.sql import SparkSession\n",
    "import getpass\n",
    "username = getpass.getuser()\n",
    "spark = SparkSession. \\\n",
    "    builder. \\\n",
    "    config('spark.ui.port', '0'). \\\n",
    "    config(\"spark.sql.warehouse.dir\", f\"/user/{username}/warehouse\"). \\\n",
    "    enableHiveSupport(). \\\n",
    "    appName(f'Problem 03 | {username}'). \\\n",
    "    master('yarn'). \\\n",
    "    getOrCreate()"
   ]
  },
  {
   "cell_type": "code",
   "execution_count": 3,
   "metadata": {},
   "outputs": [
    {
     "data": {
      "text/html": [
       "<table border='1'>\n",
       "<tr><th></th></tr>\n",
       "</table>\n"
      ],
      "text/plain": [
       "++\n",
       "||\n",
       "++\n",
       "++"
      ]
     },
     "execution_count": 3,
     "metadata": {},
     "output_type": "execute_result"
    }
   ],
   "source": [
    "spark.sql(f\"DROP DATABASE IF EXISTS {username}_mt02 CASCADE\")"
   ]
  },
  {
   "cell_type": "code",
   "execution_count": 4,
   "metadata": {},
   "outputs": [
    {
     "data": {
      "text/html": [
       "<table border='1'>\n",
       "<tr><th></th></tr>\n",
       "</table>\n"
      ],
      "text/plain": [
       "++\n",
       "||\n",
       "++\n",
       "++"
      ]
     },
     "execution_count": 4,
     "metadata": {},
     "output_type": "execute_result"
    }
   ],
   "source": [
    "spark.sql(f\"CREATE DATABASE {username}_mt02\")"
   ]
  },
  {
   "cell_type": "code",
   "execution_count": 5,
   "metadata": {},
   "outputs": [],
   "source": [
    "spark.catalog.setCurrentDatabase(f'{username}_mt02')"
   ]
  },
  {
   "cell_type": "code",
   "execution_count": 6,
   "metadata": {},
   "outputs": [
    {
     "data": {
      "text/html": [
       "<table border='1'>\n",
       "<tr><th></th></tr>\n",
       "</table>\n"
      ],
      "text/plain": [
       "++\n",
       "||\n",
       "++\n",
       "++"
      ]
     },
     "execution_count": 6,
     "metadata": {},
     "output_type": "execute_result"
    }
   ],
   "source": [
    "spark.sql(f'DROP TABLE if exists {username}_mt02.addresses')"
   ]
  },
  {
   "cell_type": "code",
   "execution_count": 7,
   "metadata": {},
   "outputs": [],
   "source": [
    "from pyspark.sql.functions import expr, concat_ws, col\n",
    "df=spark.read.json('/public/addresses')\n",
    "final_df = df.select(\"id\", \"first_name\", \"last_name\", \"gender\", \"email\", \"ip_address\",\n",
    "          expr(\"concat_ws(' ', address.street, address.state, address.postal_code, address.city)\").alias(\"address\"),\n",
    "          expr(\"concat_ws(',', phone_numbers)\").alias(\"phone_numbers\")). \\\n",
    "    orderBy(\"id\")"
   ]
  },
  {
   "cell_type": "code",
   "execution_count": 8,
   "metadata": {},
   "outputs": [],
   "source": [
    "final_df.coalesce(4).write.format('parquet'). \\\n",
    "    options(path=\"/user/itv002480/mock_test_02/problem03/solution\").mode(\"overwrite\").saveAsTable(\"addresses\")"
   ]
  },
  {
   "cell_type": "code",
   "execution_count": 9,
   "metadata": {},
   "outputs": [
    {
     "data": {
      "text/plain": [
       "[Table(name='addresses', database='itv002480_mt02', description=None, tableType='EXTERNAL', isTemporary=False)]"
      ]
     },
     "execution_count": 9,
     "metadata": {},
     "output_type": "execute_result"
    }
   ],
   "source": [
    "spark.catalog.listTables()"
   ]
  },
  {
   "cell_type": "code",
   "execution_count": 10,
   "metadata": {},
   "outputs": [
    {
     "name": "stdout",
     "output_type": "stream",
     "text": [
      "+----------------------------+----------------------------------------------------------------------------+-------+\n",
      "|col_name                    |data_type                                                                   |comment|\n",
      "+----------------------------+----------------------------------------------------------------------------+-------+\n",
      "|id                          |bigint                                                                      |null   |\n",
      "|first_name                  |string                                                                      |null   |\n",
      "|last_name                   |string                                                                      |null   |\n",
      "|gender                      |string                                                                      |null   |\n",
      "|email                       |string                                                                      |null   |\n",
      "|ip_address                  |string                                                                      |null   |\n",
      "|address                     |string                                                                      |null   |\n",
      "|phone_numbers               |string                                                                      |null   |\n",
      "|                            |                                                                            |       |\n",
      "|# Detailed Table Information|                                                                            |       |\n",
      "|Database                    |itv002480_mt02                                                              |       |\n",
      "|Table                       |addresses                                                                   |       |\n",
      "|Owner                       |itv002480                                                                   |       |\n",
      "|Created Time                |Fri Jun 24 14:57:58 EDT 2022                                                |       |\n",
      "|Last Access                 |Wed Dec 31 19:00:00 EST 1969                                                |       |\n",
      "|Created By                  |Spark 2.4.7                                                                 |       |\n",
      "|Type                        |EXTERNAL                                                                    |       |\n",
      "|Provider                    |parquet                                                                     |       |\n",
      "|Table Properties            |[transient_lastDdlTime=1656097078]                                          |       |\n",
      "|Statistics                  |86870844 bytes                                                              |       |\n",
      "|Location                    |hdfs://m01.itversity.com:9000/user/itv002480/mock_test_02/problem03/solution|       |\n",
      "|Serde Library               |org.apache.hadoop.hive.ql.io.parquet.serde.ParquetHiveSerDe                 |       |\n",
      "|InputFormat                 |org.apache.hadoop.hive.ql.io.parquet.MapredParquetInputFormat               |       |\n",
      "|OutputFormat                |org.apache.hadoop.hive.ql.io.parquet.MapredParquetOutputFormat              |       |\n",
      "|Storage Properties          |[serialization.format=1]                                                    |       |\n",
      "+----------------------------+----------------------------------------------------------------------------+-------+\n",
      "\n"
     ]
    }
   ],
   "source": [
    "spark.sql('DESCRIBE FORMATTED addresses').show(100, False)"
   ]
  },
  {
   "cell_type": "code",
   "execution_count": 13,
   "metadata": {},
   "outputs": [],
   "source": [
    "import getpass\n",
    "username = getpass.getuser()\n",
    "data_p = spark. \\\n",
    "  read. \\\n",
    "  parquet(f'/user/{username}/mock_test_02/problem03/solution')"
   ]
  },
  {
   "cell_type": "code",
   "execution_count": 14,
   "metadata": {},
   "outputs": [
    {
     "name": "stdout",
     "output_type": "stream",
     "text": [
      "+---+----------+------------+------+--------------------+---------------+--------------------+--------------------+\n",
      "| id|first_name|   last_name|gender|               email|     ip_address|             address|       phone_numbers|\n",
      "+---+----------+------------+------+--------------------+---------------+--------------------+--------------------+\n",
      "|  1|    Corrie|Van den Oord|Female|cvandenoord0@etsy...| 114.69.173.253|4391 Coleman Lane...|        785-310-6676|\n",
      "|  2|  Nikolaus|     Brewitt|  Male|nbrewitt1@dailyma...| 191.17.232.147|263 Graedel Drive...|609-306-0365,205-...|\n",
      "|  3|    Orelie|      Penney|Female|openney2@vistapri...| 109.206.143.10|5152 Twin Pines P...|619-727-2916,570-...|\n",
      "|  4|     Ashby|    Maddocks|  Male|  amaddocks3@home.pl|  171.173.96.24|31696 Longview Wa...|415-708-9669,806-...|\n",
      "|  5|      Kurt|        Rome|  Male|krome4@shutterfly...| 125.35.144.111|8854 Rusk Street ...|        915-912-2446|\n",
      "|  6|    Idelle|      Dorsey|Female|idorsey5@artistee...|  89.128.71.151|95353 Carpenter P...|949-257-9443,504-...|\n",
      "|  7|      Levy|       Pacey|  Male|lpacey6@bloglovin...|   149.60.175.7|2997 Maryland Cir...|202-667-9730,810-...|\n",
      "|  8|   Hershel|       Kneal|  Male|hkneal7@engadget.com|206.179.142.167|3101 Ilene Plaza ...|719-481-1263,561-...|\n",
      "|  9|     Kelly|  Gatheridge|Female|kgatheridge8@mysp...|  101.79.38.236|91956 Stone Corne...|        719-867-3789|\n",
      "| 10|     Aksel|       Ewles|  Male| aewles9@samsung.com|  219.49.91.115|39 Warbler Avenue...|        501-903-4014|\n",
      "| 11| Millicent|    Whitwell|Female| mwhitwella@army.mil|   46.90.146.88|3598 Carpenter Ci...|716-582-3471,864-...|\n",
      "| 12|      Levy|    Fennelow|  Male|lfennelowb@so-net...| 102.19.205.231|20 Glacier Hill P...|330-621-5532,562-...|\n",
      "| 13|     Bucky|       Harle|  Male|   bharlec@europa.eu|113.149.152.231|06 Badeau Alley F...|        712-111-4246|\n",
      "| 14|     Randy|   Kleinmann|Female|rkleinmannd@frien...|   5.89.218.201|04 Manitowish Dri...|515-109-8291,408-...|\n",
      "| 15|   Eveleen|     Lanaway|Female|elanawaye@blinkli...| 219.210.42.139|512 Prairie Rose ...|360-712-7619,239-...|\n",
      "| 16|  Eleonore|      Cordle|Female|ecordlef@printfri...| 34.134.136.163|2893 Red Cloud Tr...|                    |\n",
      "| 17|     Monte|     Sidaway|  Male|msidawayg@unicef.org|162.189.175.228|50225 Eagle Crest...|213-965-4880,619-...|\n",
      "| 18|     Heddi|      Sackes|Female|hsackesh@business...|   59.44.144.36|65403 Hermina Pla...|                    |\n",
      "| 19|    Tabina|     Olivari|Female|    tolivarii@goo.gl|   91.22.33.111|05 Ryan Trail Vir...|602-594-0067,803-...|\n",
      "| 20|Rutherford|   Josephson|  Male|rjosephsonj@sprin...| 93.124.195.224|38907 Sunfield Pa...|979-330-2010,562-...|\n",
      "+---+----------+------------+------+--------------------+---------------+--------------------+--------------------+\n",
      "only showing top 20 rows\n",
      "\n"
     ]
    }
   ],
   "source": [
    "data_p.orderBy('id').show()"
   ]
  },
  {
   "cell_type": "code",
   "execution_count": 2,
   "metadata": {},
   "outputs": [],
   "source": [
    "import getpass\n",
    "username = getpass.getuser()\n",
    "data = spark.read.table(f'{username}_mt02.addresses')"
   ]
  },
  {
   "cell_type": "code",
   "execution_count": 3,
   "metadata": {},
   "outputs": [
    {
     "name": "stdout",
     "output_type": "stream",
     "text": [
      "+------+----------+-----------+------+--------------------+---------------+--------------------+--------------------+\n",
      "|    id|first_name|  last_name|gender|               email|     ip_address|             address|       phone_numbers|\n",
      "+------+----------+-----------+------+--------------------+---------------+--------------------+--------------------+\n",
      "|749687|      Cash|    Zanutti|  Male|czanutti12c6@tele...| 167.239.107.38|29 Ruskin Parkway...|                    |\n",
      "|749688|    Siward|      Timby|  Male|stimby12c7@accuwe...|   1.193.228.37|837 Fremont Parkw...|        202-266-2715|\n",
      "|749689|    Andrej|       Leil|  Male|aleil12c8@bigcart...|143.161.109.163|68936 1st Place C...|843-539-4452,915-...|\n",
      "|749690|    Jeffie|   Sutworth|  Male|jsutworth12c9@ama...|  44.87.175.234|901 Bunting Plaza...|754-951-1231,816-...|\n",
      "|749691|     Jorry|       Shay|Female|jshay12ca@rakuten...|  176.255.2.116|75396 Bluejay Pas...|        754-403-4969|\n",
      "|749692|   Prissie|Yakunchikov|Female|pyakunchikov12cb@...|204.160.143.159|73260 Melby Junct...|        806-578-9017|\n",
      "|749693| Antonetta|    Beacham|Female|abeacham12cc@wile...|153.233.225.210|83 Porter Lane Mi...|214-127-0747,772-...|\n",
      "|749694|     Natty|      Horry|  Male|nhorry12cd@blinkl...|  188.48.237.89|46056 Kennedy Lan...|212-766-3149,312-...|\n",
      "|749695|   Mattias|  Doughtery|  Male|mdoughtery12ce@ma...|  206.53.104.54|14634 Everett Pla...|408-552-9609,808-...|\n",
      "|749696|    Kahlil| Marishenko|  Male|kmarishenko12cf@c...| 36.193.103.205|83 Kingsford Road...|804-622-0447,386-...|\n",
      "|749697|   Gabrila|     Hardin|Female|ghardin12cg@paral...|  141.141.24.84|9535 Little Fleur...|                    |\n",
      "|749698|   Garwood|       Figg|  Male|    gfigg12ch@cbc.ca| 249.181.27.205|43 Ronald Regan T...|786-236-9411,503-...|\n",
      "|749699|      Hugh|     Condon|  Male|  hcondon12ci@ca.gov|   148.20.68.57|5102 Crownhardt T...|        253-365-2885|\n",
      "|749700|      Alvy|   Standell|  Male|astandell12cj@goo...| 141.27.176.146|1 Bartelt Point I...|520-443-2103,773-...|\n",
      "|749701|      Lane|     Soigne|Female|lsoigne12ck@bandc...|     137.9.99.2|05645 Northland P...|                    |\n",
      "|749702|    Stacie|   Gusticke|Female|sgusticke12cl@nif...|   25.182.8.227|63569 Drewry Stre...|                    |\n",
      "|749703|    Stacia| Ashenhurst|Female|sashenhurst12cm@p...|  166.185.129.4|9839 Magdeline La...|                    |\n",
      "|749704| Ernestine|    Feander|Female|efeander12cn@bigl...|  111.107.42.89|9 Pleasure Alley ...|        303-854-7633|\n",
      "|749705|    Marcie|      Duffy|Female|mduffy12co@engadg...| 142.113.176.35|8192 Birchwood Dr...|702-157-8174,720-...|\n",
      "|749706|   Carissa|     Scaice|Female|cscaice12cp@sprin...| 121.225.68.158|3132 Vera Parkway...|214-577-1925,254-...|\n",
      "+------+----------+-----------+------+--------------------+---------------+--------------------+--------------------+\n",
      "only showing top 20 rows\n",
      "\n"
     ]
    }
   ],
   "source": [
    "data.show()"
   ]
  },
  {
   "cell_type": "code",
   "execution_count": 4,
   "metadata": {},
   "outputs": [
    {
     "data": {
      "text/plain": [
       "1000000"
      ]
     },
     "execution_count": 4,
     "metadata": {},
     "output_type": "execute_result"
    }
   ],
   "source": [
    "data.count()"
   ]
  },
  {
   "cell_type": "code",
   "execution_count": null,
   "metadata": {},
   "outputs": [],
   "source": []
  }
 ],
 "metadata": {
  "kernelspec": {
   "display_name": "Pyspark 2",
   "language": "python",
   "name": "pyspark2"
  },
  "language_info": {
   "codemirror_mode": {
    "name": "ipython",
    "version": 3
   },
   "file_extension": ".py",
   "mimetype": "text/x-python",
   "name": "python",
   "nbconvert_exporter": "python",
   "pygments_lexer": "ipython3",
   "version": "3.6.12"
  }
 },
 "nbformat": 4,
 "nbformat_minor": 4
}
