{
 "cells": [
  {
   "cell_type": "markdown",
   "metadata": {},
   "source": [
    "## Problem 09\n",
    "\n",
    "Weightage: 40\n",
    "\n",
    "Join trips data with stations and get a denormalized table with both startstationname and endstationname on top of all fields from trips.\n"
   ]
  },
  {
   "cell_type": "markdown",
   "metadata": {},
   "source": [
    "## Data Description\n",
    "All of the citibike trip data is available under **/public/citibike/trips**. It contain multiple folders - one for each month. Here is the schema.\n",
    "\n",
    "```\n",
    "root\n",
    " |-- tripduration: integer (nullable = true)\n",
    " |-- starttime: timestamp (nullable = true)\n",
    " |-- stoptime: timestamp (nullable = true)\n",
    " |-- startstationid: string (nullable = true)\n",
    " |-- endstationid: string (nullable = true)\n",
    " |-- bikeid: integer (nullable = true)\n",
    " |-- usertype: string (nullable = true)\n",
    " |-- birthyear: string (nullable = true)\n",
    " |-- gender: integer (nullable = true)\n",
    " |-- month: integer (nullable = true)\n",
    "```\n",
    "All of the citibike station data is available under **/public/citibike/stations**. \n",
    "```\n",
    "root\n",
    " |-- stationid: long (nullable = true)\n",
    " |-- stationlatitude: string (nullable = true)\n",
    " |-- stationlongitude: string (nullable = true)\n",
    " |-- stationname: string (nullable = true)\n",
    "```"
   ]
  },
  {
   "cell_type": "markdown",
   "metadata": {},
   "source": [
    "## Output Requirements\n",
    "* Place the result in the HDFS Directory \n",
    "```\n",
    "/user/`whoami`/mock_test_02/problem09/solution\n",
    "```\n",
    "* Use Parquet File format with any number of files.\n",
    "* Here are the column names. Data types should be as below.\n",
    "```\n",
    " |-- tripduration: integer (nullable = true)\n",
    " |-- starttime: timestamp (nullable = true)\n",
    " |-- stoptime: timestamp (nullable = true)\n",
    " |-- startstationid: integer (nullable = true)\n",
    " |-- endstationid: integer (nullable = true)\n",
    " |-- bikeid: integer (nullable = true)\n",
    " |-- usertype: string (nullable = true)\n",
    " |-- birthyear: string (nullable = true)\n",
    " |-- gender: integer (nullable = true)\n",
    " |-- month: integer (nullable = true)\n",
    " |-- startstationname: string (nullable = true)\n",
    " |-- endstationname: string (nullable = true)\n",
    "```\n",
    "* There are no requirements for sorting the data."
   ]
  },
  {
   "cell_type": "markdown",
   "metadata": {},
   "source": [
    "## Validation\n",
    "\n",
    "Here are the self validation steps:\n",
    "* Run the following to check number of files.\n",
    "```\n",
    "hdfs dfs -ls /user/`whoami`/mock_test_02/problem09/solution\n",
    "```\n",
    "* Run this code to create dataframe by name data.\n",
    "```\n",
    "import getpass\n",
    "username = getpass.getuser()\n",
    "data = spark.read. \\\n",
    "    parquet(f'/user/{username}/mock_test_02/problem09/solution')\n",
    "```\n",
    "* Run `data.printSchema()` to validate the data types of the fields.\n",
    "```\n",
    "root\n",
    " |-- tripduration: integer (nullable = true)\n",
    " |-- starttime: timestamp (nullable = true)\n",
    " |-- stoptime: timestamp (nullable = true)\n",
    " |-- startstationid: integer (nullable = true)\n",
    " |-- endstationid: integer (nullable = true)\n",
    " |-- bikeid: integer (nullable = true)\n",
    " |-- usertype: string (nullable = true)\n",
    " |-- birthyear: string (nullable = true)\n",
    " |-- gender: integer (nullable = true)\n",
    " |-- month: integer (nullable = true)\n",
    " |-- startstationname: string (nullable = true)\n",
    " |-- endstationname: string (nullable = true)\n",
    "```\n",
    "* Run `data.count()` to validate number of records. It should be **54462016**\n",
    "* Run `data.show()` to preview the data. Make sure all the data is showing up as expected."
   ]
  },
  {
   "cell_type": "code",
   "execution_count": 1,
   "metadata": {},
   "outputs": [],
   "source": [
    "from pyspark.sql import SparkSession\n",
    "import getpass\n",
    "username = getpass.getuser()\n",
    "spark = SparkSession. \\\n",
    "    builder. \\\n",
    "    config('spark.ui.port', '0'). \\\n",
    "    appName(f'Problem 09 | {username}'). \\\n",
    "    master('yarn'). \\\n",
    "    getOrCreate()"
   ]
  },
  {
   "cell_type": "code",
   "execution_count": 2,
   "metadata": {},
   "outputs": [],
   "source": [
    "path1='/public/citibike/trips'\n",
    "path2='/public/citibike/stations'"
   ]
  },
  {
   "cell_type": "code",
   "execution_count": 3,
   "metadata": {},
   "outputs": [],
   "source": [
    "df3= spark.read.csv(path1,header=\"true\")"
   ]
  },
  {
   "cell_type": "code",
   "execution_count": 4,
   "metadata": {},
   "outputs": [],
   "source": [
    "df4=spark.read.json(path2)"
   ]
  },
  {
   "cell_type": "code",
   "execution_count": 5,
   "metadata": {},
   "outputs": [],
   "source": [
    "joined_df=df3. \\\n",
    "join(df4,df3.startstationid == df4.stationid,\"inner\")"
   ]
  },
  {
   "cell_type": "code",
   "execution_count": 6,
   "metadata": {},
   "outputs": [
    {
     "data": {
      "text/html": [
       "<table border='1'>\n",
       "<tr><th>stationname</th></tr>\n",
       "<tr><td>Avenue C &amp; E 18 St</td></tr>\n",
       "<tr><td>E 74 St &amp; 1 Ave</td></tr>\n",
       "<tr><td>Degraw St &amp; Smith St</td></tr>\n",
       "<tr><td>E 31 St &amp; 3 Ave</td></tr>\n",
       "<tr><td>Central Park West...</td></tr>\n",
       "<tr><td>Frederick Douglas...</td></tr>\n",
       "<tr><td>E 98 St &amp; Park Ave</td></tr>\n",
       "<tr><td>E 58 St &amp; 3 Ave</td></tr>\n",
       "<tr><td>Broadway &amp; W 29 St</td></tr>\n",
       "<tr><td>8 Ave &amp; W 31 St</td></tr>\n",
       "<tr><td>Suydam St &amp; Knick...</td></tr>\n",
       "<tr><td>Riverside Blvd &amp; ...</td></tr>\n",
       "<tr><td>Suydam St &amp; Knick...</td></tr>\n",
       "<tr><td>Perry St &amp; Bleeck...</td></tr>\n",
       "<tr><td>Centre St &amp; Chamb...</td></tr>\n",
       "<tr><td>W 15 St &amp; 7 Ave</td></tr>\n",
       "<tr><td>E 45 St &amp; 3 Ave</td></tr>\n",
       "<tr><td>Soissons Landing</td></tr>\n",
       "<tr><td>Boerum St &amp; Broadway</td></tr>\n",
       "<tr><td>Underhill Ave &amp; L...</td></tr>\n",
       "</table>\n",
       "only showing top 20 rows\n"
      ],
      "text/plain": [
       "+--------------------+\n",
       "|         stationname|\n",
       "+--------------------+\n",
       "|  Avenue C & E 18 St|\n",
       "|     E 74 St & 1 Ave|\n",
       "|Degraw St & Smith St|\n",
       "|     E 31 St & 3 Ave|\n",
       "|Central Park West...|\n",
       "|Frederick Douglas...|\n",
       "|  E 98 St & Park Ave|\n",
       "|     E 58 St & 3 Ave|\n",
       "|  Broadway & W 29 St|\n",
       "|     8 Ave & W 31 St|\n",
       "|Suydam St & Knick...|\n",
       "|Riverside Blvd & ...|\n",
       "|Suydam St & Knick...|\n",
       "|Perry St & Bleeck...|\n",
       "|Centre St & Chamb...|\n",
       "|     W 15 St & 7 Ave|\n",
       "|     E 45 St & 3 Ave|\n",
       "|    Soissons Landing|\n",
       "|Boerum St & Broadway|\n",
       "|Underhill Ave & L...|\n",
       "+--------------------+\n",
       "only showing top 20 rows"
      ]
     },
     "execution_count": 6,
     "metadata": {},
     "output_type": "execute_result"
    }
   ],
   "source": [
    "joined_df. \\\n",
    "select(\"stationname\")"
   ]
  },
  {
   "cell_type": "code",
   "execution_count": 7,
   "metadata": {},
   "outputs": [],
   "source": [
    "from pyspark.sql.functions import date_format, count, lit, col, split, concat\n",
    "\n",
    "load_df = joined_df.select(col(\"tripduration\").cast(\"int\"), col(\"starttime\").cast(\"timestamp\"),\n",
    "                         col(\"stoptime\").cast(\"timestamp\"), col(\"startstationid\").cast(\"int\"), \n",
    "                         col(\"endstationid\").cast(\"int\"), col(\"bikeid\").cast(\"int\"), \n",
    "                         \"usertype\", \"birthyear\", col(\"gender\").cast(\"int\"),\n",
    "                         date_format(\"starttime\", \"MM\").cast(\"int\").alias(\"month\"),\n",
    "                         split(col(\"stationname\"), \"&\")[0].alias(\"startstationname\"),\n",
    "                         split(col(\"stationname\"), \"&\")[1].alias(\"endstationname\"))"
   ]
  },
  {
   "cell_type": "code",
   "execution_count": 8,
   "metadata": {},
   "outputs": [],
   "source": [
    "load_df. \\\n",
    "coalesce(10).write.format('parquet'). \\\n",
    "mode('overwrite').save(\"/user/itv002480/mock_test_02/problem09/solution\")"
   ]
  },
  {
   "cell_type": "code",
   "execution_count": 9,
   "metadata": {},
   "outputs": [
    {
     "name": "stdout",
     "output_type": "stream",
     "text": [
      "Found 11 items\n",
      "-rw-r--r--   3 itv002480 supergroup          0 2022-06-30 03:17 /user/itv002480/mock_test_02/problem09/solution/_SUCCESS\n",
      "-rw-r--r--   3 itv002480 supergroup  115031008 2022-06-30 03:16 /user/itv002480/mock_test_02/problem09/solution/part-00000-159b18e6-a8c0-44f3-9bc8-996f0560951b-c000.snappy.parquet\n",
      "-rw-r--r--   3 itv002480 supergroup  238916260 2022-06-30 03:17 /user/itv002480/mock_test_02/problem09/solution/part-00001-159b18e6-a8c0-44f3-9bc8-996f0560951b-c000.snappy.parquet\n",
      "-rw-r--r--   3 itv002480 supergroup  201240876 2022-06-30 03:17 /user/itv002480/mock_test_02/problem09/solution/part-00002-159b18e6-a8c0-44f3-9bc8-996f0560951b-c000.snappy.parquet\n",
      "-rw-r--r--   3 itv002480 supergroup   91357572 2022-06-30 03:16 /user/itv002480/mock_test_02/problem09/solution/part-00003-159b18e6-a8c0-44f3-9bc8-996f0560951b-c000.snappy.parquet\n",
      "-rw-r--r--   3 itv002480 supergroup   94865712 2022-06-30 03:16 /user/itv002480/mock_test_02/problem09/solution/part-00004-159b18e6-a8c0-44f3-9bc8-996f0560951b-c000.snappy.parquet\n",
      "-rw-r--r--   3 itv002480 supergroup  116652242 2022-06-30 03:16 /user/itv002480/mock_test_02/problem09/solution/part-00005-159b18e6-a8c0-44f3-9bc8-996f0560951b-c000.snappy.parquet\n",
      "-rw-r--r--   3 itv002480 supergroup  115826551 2022-06-30 03:16 /user/itv002480/mock_test_02/problem09/solution/part-00006-159b18e6-a8c0-44f3-9bc8-996f0560951b-c000.snappy.parquet\n",
      "-rw-r--r--   3 itv002480 supergroup   82109091 2022-06-30 03:15 /user/itv002480/mock_test_02/problem09/solution/part-00007-159b18e6-a8c0-44f3-9bc8-996f0560951b-c000.snappy.parquet\n",
      "-rw-r--r--   3 itv002480 supergroup   86556778 2022-06-30 03:16 /user/itv002480/mock_test_02/problem09/solution/part-00008-159b18e6-a8c0-44f3-9bc8-996f0560951b-c000.snappy.parquet\n",
      "-rw-r--r--   3 itv002480 supergroup  106500146 2022-06-30 03:16 /user/itv002480/mock_test_02/problem09/solution/part-00009-159b18e6-a8c0-44f3-9bc8-996f0560951b-c000.snappy.parquet\n"
     ]
    }
   ],
   "source": [
    "!hdfs dfs -ls /user/`whoami`/mock_test_02/problem09/solution"
   ]
  },
  {
   "cell_type": "code",
   "execution_count": 10,
   "metadata": {},
   "outputs": [],
   "source": [
    "import getpass\n",
    "username = getpass.getuser()\n",
    "data = spark.read. \\\n",
    "  parquet(f'/user/{username}/mock_test_02/problem09/solution')"
   ]
  },
  {
   "cell_type": "code",
   "execution_count": 11,
   "metadata": {},
   "outputs": [
    {
     "name": "stdout",
     "output_type": "stream",
     "text": [
      "root\n",
      " |-- tripduration: integer (nullable = true)\n",
      " |-- starttime: timestamp (nullable = true)\n",
      " |-- stoptime: timestamp (nullable = true)\n",
      " |-- startstationid: integer (nullable = true)\n",
      " |-- endstationid: integer (nullable = true)\n",
      " |-- bikeid: integer (nullable = true)\n",
      " |-- usertype: string (nullable = true)\n",
      " |-- birthyear: string (nullable = true)\n",
      " |-- gender: integer (nullable = true)\n",
      " |-- month: integer (nullable = true)\n",
      " |-- startstationname: string (nullable = true)\n",
      " |-- endstationname: string (nullable = true)\n",
      "\n"
     ]
    }
   ],
   "source": [
    "data.printSchema()"
   ]
  },
  {
   "cell_type": "code",
   "execution_count": 12,
   "metadata": {},
   "outputs": [
    {
     "data": {
      "text/plain": [
       "54462016"
      ]
     },
     "execution_count": 12,
     "metadata": {},
     "output_type": "execute_result"
    }
   ],
   "source": [
    "data.count()"
   ]
  },
  {
   "cell_type": "code",
   "execution_count": 13,
   "metadata": {},
   "outputs": [
    {
     "name": "stdout",
     "output_type": "stream",
     "text": [
      "+------------+--------------------+--------------------+--------------+------------+------+----------+---------+------+-----+----------------+--------------+\n",
      "|tripduration|           starttime|            stoptime|startstationid|endstationid|bikeid|  usertype|birthyear|gender|month|startstationname|endstationname|\n",
      "+------------+--------------------+--------------------+--------------+------------+------+----------+---------+------+-----+----------------+--------------+\n",
      "|         897|2019-07-01 00:00:...|2019-07-01 00:14:...|           493|         454| 18340|Subscriber|     1966|     1|    7|        W 45 St |     6 Ave (1)|\n",
      "|         267|2019-07-01 00:00:...|2019-07-01 00:04:...|          3143|        3226| 21458|  Customer|     1996|     1|    7|          5 Ave |       E 78 St|\n",
      "|        2201|2019-07-01 00:00:...|2019-07-01 00:36:...|           317|        3469| 39874|Subscriber|     1986|     1|    7|         E 6 St |      Avenue B|\n",
      "|        1660|2019-07-01 00:00:...|2019-07-01 00:27:...|           249|         369| 38865|Subscriber|     1988|     1|    7|    Harrison St |     Hudson St|\n",
      "|         109|2019-07-01 00:00:...|2019-07-01 00:02:...|          3552|        3538| 30256|Subscriber|     1997|     1|    7|       W 113 St |      Broadway|\n",
      "|         106|2019-07-01 00:00:...|2019-07-01 00:01:...|          3593|        3592| 16875|Subscriber|     1988|     1|    7|          31 St |      Broadway|\n",
      "|         550|2019-07-01 00:00:...|2019-07-01 00:09:...|          3507|        3553| 34139|Subscriber|     1992|     1|    7|       Park Ave |      E 124 St|\n",
      "|         338|2019-07-01 00:00:...|2019-07-01 00:05:...|           478|         388| 39703|Subscriber|     1995|     1|    7|         11 Ave |       W 41 St|\n",
      "|         469|2019-07-01 00:00:...|2019-07-01 00:08:...|           514|         458| 28266|Subscriber|     1989|     1|    7|         12 Ave |       W 40 St|\n",
      "|         562|2019-07-01 00:00:...|2019-07-01 00:09:...|           116|         462| 26757|Subscriber|     1965|     1|    7|        W 17 St |         8 Ave|\n",
      "|        2420|2019-07-01 00:00:...|2019-07-01 00:40:...|          3054|        3054| 28840|Subscriber|     1986|     1|    7|     Greene Ave |    Throop Ave|\n",
      "|        1058|2019-07-01 00:00:...|2019-07-01 00:18:...|          3434|        3434| 21038|Subscriber|     1984|     1|    7|        W 88 St |  West End Ave|\n",
      "|         257|2019-07-01 00:00:...|2019-07-01 00:04:...|          3119|        3118| 25280|Subscriber|     1988|     1|    7|    Vernon Blvd |        50 Ave|\n",
      "|         305|2019-07-01 00:00:...|2019-07-01 00:05:...|           402|         461| 34925|Subscriber|     1965|     1|    7|       Broadway |       E 22 St|\n",
      "|         366|2019-07-01 00:01:...|2019-07-01 00:07:...|          3578|        3581| 38092|Subscriber|     1988|     2|    7|        Park Pl |  Franklin Ave|\n",
      "|        1006|2019-07-01 00:01:...|2019-07-01 00:17:...|           382|         545| 17972|  Customer|     1969|     0|    7|  University Pl |       E 14 St|\n",
      "|         936|2019-07-01 00:01:...|2019-07-01 00:16:...|          3674|        3795| 31672|Subscriber|     1965|     1|    7|         Jay St |       York St|\n",
      "|         584|2019-07-01 00:01:...|2019-07-01 00:11:...|           455|        3711| 38455|Subscriber|     1989|     1|    7|          1 Ave |       E 44 St|\n",
      "|        1147|2019-07-01 00:01:...|2019-07-01 00:20:...|          3619|        3118| 16115|Subscriber|     1994|     1|    7|    Newtown Ave |         23 St|\n",
      "|         980|2019-07-01 00:01:...|2019-07-01 00:17:...|           382|         545| 33945|  Customer|     1969|     0|    7|  University Pl |       E 14 St|\n",
      "+------------+--------------------+--------------------+--------------+------------+------+----------+---------+------+-----+----------------+--------------+\n",
      "only showing top 20 rows\n",
      "\n"
     ]
    }
   ],
   "source": [
    "data.show()"
   ]
  },
  {
   "cell_type": "code",
   "execution_count": null,
   "metadata": {},
   "outputs": [],
   "source": []
  }
 ],
 "metadata": {
  "kernelspec": {
   "display_name": "Pyspark 2",
   "language": "python",
   "name": "pyspark2"
  },
  "language_info": {
   "codemirror_mode": {
    "name": "ipython",
    "version": 3
   },
   "file_extension": ".py",
   "mimetype": "text/x-python",
   "name": "python",
   "nbconvert_exporter": "python",
   "pygments_lexer": "ipython3",
   "version": "3.6.12"
  }
 },
 "nbformat": 4,
 "nbformat_minor": 4
}
