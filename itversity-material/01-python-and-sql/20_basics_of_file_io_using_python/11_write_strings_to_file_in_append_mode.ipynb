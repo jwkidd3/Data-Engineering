{
 "cells": [
  {
   "cell_type": "markdown",
   "id": "4baf8b9d",
   "metadata": {},
   "source": [
    "## Write strings to file in append mode\n",
    "\n",
    "Let us see how we can write multiple strings from a list to file in append mode.\n",
    "* We cannot write the list of strings into file properly all at once."
   ]
  },
  {
   "cell_type": "code",
   "execution_count": 26,
   "id": "4d035ad9",
   "metadata": {},
   "outputs": [],
   "source": [
    "departments = [\n",
    "    '2,Fitness', \n",
    "    '3,Footwear', \n",
    "    '4,Apparel', \n",
    "    '5,Golf', \n",
    "    '6,Outdoors', \n",
    "    '7,Fan Shop'\n",
    "]"
   ]
  },
  {
   "cell_type": "code",
   "execution_count": 27,
   "id": "da47e449",
   "metadata": {},
   "outputs": [],
   "source": [
    "file = open('data/departments.txt', 'w')"
   ]
  },
  {
   "cell_type": "code",
   "execution_count": 34,
   "id": "a48b3b5f",
   "metadata": {},
   "outputs": [
    {
     "ename": "TypeError",
     "evalue": "write() argument must be str, not list",
     "output_type": "error",
     "traceback": [
      "\u001b[0;31m---------------------------------------------------------------------------\u001b[0m",
      "\u001b[0;31mTypeError\u001b[0m                                 Traceback (most recent call last)",
      "\u001b[0;32m<ipython-input-34-b1a55425097e>\u001b[0m in \u001b[0;36m<module>\u001b[0;34m\u001b[0m\n\u001b[0;32m----> 1\u001b[0;31m \u001b[0mfile\u001b[0m\u001b[0;34m.\u001b[0m\u001b[0mwrite\u001b[0m\u001b[0;34m(\u001b[0m\u001b[0mdepartments\u001b[0m\u001b[0;34m)\u001b[0m \u001b[0;31m# Fails\u001b[0m\u001b[0;34m\u001b[0m\u001b[0;34m\u001b[0m\u001b[0m\n\u001b[0m",
      "\u001b[0;31mTypeError\u001b[0m: write() argument must be str, not list"
     ]
    }
   ],
   "source": [
    "file.write(departments) # Fails"
   ]
  },
  {
   "cell_type": "code",
   "execution_count": 35,
   "id": "9440ee87",
   "metadata": {},
   "outputs": [],
   "source": [
    "file.close()"
   ]
  },
  {
   "cell_type": "markdown",
   "id": "bcffa97b",
   "metadata": {},
   "source": [
    "Here are the steps involved in writing list of strings in the form of CSV to a file.\n",
    "* Make sure that data in the list contains delimited strings.\n",
    "* Open the file in append mode.\n",
    "* Iterate through the list and write one element at a time into the file.\n",
    "* Close the file.\n",
    "\n",
    "Make sure to validate whether data is written properly or not in the file."
   ]
  },
  {
   "cell_type": "code",
   "execution_count": 37,
   "id": "1827878a",
   "metadata": {},
   "outputs": [],
   "source": [
    "departments = [\n",
    "    '2,Fitness', \n",
    "    '3,Footwear', \n",
    "    '4,Apparel', \n",
    "    '5,Golf', \n",
    "    '6,Outdoors', \n",
    "    '7,Fan Shop'\n",
    "]"
   ]
  },
  {
   "cell_type": "code",
   "execution_count": 38,
   "id": "fd7d8985",
   "metadata": {},
   "outputs": [],
   "source": [
    "file = open('data/departments.txt', 'a')"
   ]
  },
  {
   "cell_type": "code",
   "execution_count": 39,
   "id": "b934cfc3",
   "metadata": {},
   "outputs": [],
   "source": [
    "for department in departments:\n",
    "    file.write(department)"
   ]
  },
  {
   "cell_type": "code",
   "execution_count": 40,
   "id": "a632f177",
   "metadata": {},
   "outputs": [],
   "source": [
    "file.close()"
   ]
  },
  {
   "cell_type": "code",
   "execution_count": 41,
   "id": "95b65651",
   "metadata": {},
   "outputs": [
    {
     "name": "stdout",
     "output_type": "stream",
     "text": [
      "-rw-r--r-- 1 itv002480 students 118 Apr 26 14:15 data/departments.txt\n"
     ]
    }
   ],
   "source": [
    "!ls -ltr data/departments.txt"
   ]
  },
  {
   "cell_type": "code",
   "execution_count": 42,
   "id": "a7bf6611",
   "metadata": {},
   "outputs": [
    {
     "name": "stdout",
     "output_type": "stream",
     "text": [
      "2,Fitness3,Footwear4,Apparel5,Golf6,Outdoors7,Fan Shop7,Fan Shop2,Fitness3,Footwear4,Apparel5,Golf6,Outdoors7,Fan Shop"
     ]
    }
   ],
   "source": [
    "!cat data/departments.txt # No new line characters"
   ]
  },
  {
   "cell_type": "code",
   "execution_count": 43,
   "id": "6884efd4",
   "metadata": {},
   "outputs": [],
   "source": [
    "!rm data/departments.txt"
   ]
  },
  {
   "cell_type": "code",
   "execution_count": 44,
   "id": "c008cf90",
   "metadata": {},
   "outputs": [],
   "source": [
    "departments = [\n",
    "    '2,Fitness', \n",
    "    '3,Footwear', \n",
    "    '4,Apparel', \n",
    "    '5,Golf', \n",
    "    '6,Outdoors', \n",
    "    '7,Fan Shop'\n",
    "]"
   ]
  },
  {
   "cell_type": "code",
   "execution_count": 45,
   "id": "d075dbc3",
   "metadata": {},
   "outputs": [],
   "source": [
    "file = open('data/departments.txt', 'a')"
   ]
  },
  {
   "cell_type": "code",
   "execution_count": 46,
   "id": "edd699fe",
   "metadata": {},
   "outputs": [],
   "source": [
    "for department in departments:\n",
    "    file.write(f'{department}\\n')"
   ]
  },
  {
   "cell_type": "code",
   "execution_count": 47,
   "id": "9cb46a31",
   "metadata": {},
   "outputs": [],
   "source": [
    "file.close()"
   ]
  },
  {
   "cell_type": "code",
   "execution_count": 48,
   "id": "f8be63e9",
   "metadata": {},
   "outputs": [
    {
     "name": "stdout",
     "output_type": "stream",
     "text": [
      "-rw-r--r-- 1 itv002480 students 60 Apr 26 14:15 data/departments.txt\n"
     ]
    }
   ],
   "source": [
    "!ls -ltr data/departments.txt"
   ]
  },
  {
   "cell_type": "code",
   "execution_count": 49,
   "id": "d962c714",
   "metadata": {},
   "outputs": [
    {
     "name": "stdout",
     "output_type": "stream",
     "text": [
      "2,Fitness\n",
      "3,Footwear\n",
      "4,Apparel\n",
      "5,Golf\n",
      "6,Outdoors\n",
      "7,Fan Shop\n"
     ]
    }
   ],
   "source": [
    "!cat data/departments.txt # With new line characters"
   ]
  },
  {
   "cell_type": "code",
   "execution_count": 50,
   "id": "d06b3759",
   "metadata": {},
   "outputs": [
    {
     "name": "stdout",
     "output_type": "stream",
     "text": [
      "6 data/departments.txt\n"
     ]
    }
   ],
   "source": [
    "!wc -l data/departments.txt"
   ]
  },
  {
   "cell_type": "markdown",
   "id": "7b8d9e88",
   "metadata": {},
   "source": [
    "* You can also build one big string and write into the file in one shot. However you need to ensure that the line delimiter is placed between the elements."
   ]
  },
  {
   "cell_type": "code",
   "execution_count": 51,
   "id": "d23e13b8",
   "metadata": {},
   "outputs": [],
   "source": [
    "!rm data/departments.txt"
   ]
  },
  {
   "cell_type": "code",
   "execution_count": 52,
   "id": "cd94bd3d",
   "metadata": {},
   "outputs": [],
   "source": [
    "departments = [\n",
    "    '2,Fitness', \n",
    "    '3,Footwear', \n",
    "    '4,Apparel', \n",
    "    '5,Golf', \n",
    "    '6,Outdoors', \n",
    "    '7,Fan Shop'\n",
    "]"
   ]
  },
  {
   "cell_type": "code",
   "execution_count": 53,
   "id": "d0343497",
   "metadata": {},
   "outputs": [],
   "source": [
    "data = '\\n'.join(departments)"
   ]
  },
  {
   "cell_type": "code",
   "execution_count": 54,
   "id": "f6fce902",
   "metadata": {},
   "outputs": [
    {
     "data": {
      "text/plain": [
       "str"
      ]
     },
     "execution_count": 54,
     "metadata": {},
     "output_type": "execute_result"
    }
   ],
   "source": [
    "type(data)"
   ]
  },
  {
   "cell_type": "code",
   "execution_count": 55,
   "id": "37df1446",
   "metadata": {},
   "outputs": [
    {
     "data": {
      "text/plain": [
       "'2,Fitness\\n3,Footwear\\n4,Apparel\\n5,Golf\\n6,Outdoors\\n7,Fan Shop'"
      ]
     },
     "execution_count": 55,
     "metadata": {},
     "output_type": "execute_result"
    }
   ],
   "source": [
    "data"
   ]
  },
  {
   "cell_type": "code",
   "execution_count": 56,
   "id": "84f01434",
   "metadata": {},
   "outputs": [],
   "source": [
    "file = open('data/departments.txt', 'a')"
   ]
  },
  {
   "cell_type": "code",
   "execution_count": 57,
   "id": "663dffed",
   "metadata": {},
   "outputs": [
    {
     "data": {
      "text/plain": [
       "59"
      ]
     },
     "execution_count": 57,
     "metadata": {},
     "output_type": "execute_result"
    }
   ],
   "source": [
    "file.write(data)"
   ]
  },
  {
   "cell_type": "code",
   "execution_count": 58,
   "id": "698b2889",
   "metadata": {},
   "outputs": [],
   "source": [
    "file.close()"
   ]
  },
  {
   "cell_type": "code",
   "execution_count": 59,
   "id": "538e821d",
   "metadata": {},
   "outputs": [
    {
     "name": "stdout",
     "output_type": "stream",
     "text": [
      "-rw-r--r-- 1 itv002480 students 59 Apr 26 14:16 data/departments.txt\n"
     ]
    }
   ],
   "source": [
    "!ls -ltr data/departments.txt"
   ]
  },
  {
   "cell_type": "code",
   "execution_count": 60,
   "id": "f87c7801",
   "metadata": {},
   "outputs": [
    {
     "name": "stdout",
     "output_type": "stream",
     "text": [
      "2,Fitness\n",
      "3,Footwear\n",
      "4,Apparel\n",
      "5,Golf\n",
      "6,Outdoors\n",
      "7,Fan Shop"
     ]
    }
   ],
   "source": [
    "!cat data/departments.txt # With new line characters"
   ]
  },
  {
   "cell_type": "code",
   "execution_count": 61,
   "id": "10d6ed1a",
   "metadata": {},
   "outputs": [
    {
     "name": "stdout",
     "output_type": "stream",
     "text": [
      "5 data/departments.txt\n"
     ]
    }
   ],
   "source": [
    "!wc -l data/departments.txt"
   ]
  },
  {
   "cell_type": "code",
   "execution_count": null,
   "id": "dd9eabe3",
   "metadata": {},
   "outputs": [],
   "source": []
  }
 ],
 "metadata": {
  "kernelspec": {
   "display_name": "Python 3",
   "language": "python",
   "name": "python3"
  },
  "language_info": {
   "codemirror_mode": {
    "name": "ipython",
    "version": 3
   },
   "file_extension": ".py",
   "mimetype": "text/x-python",
   "name": "python",
   "nbconvert_exporter": "python",
   "pygments_lexer": "ipython3",
   "version": "3.6.12"
  }
 },
 "nbformat": 4,
 "nbformat_minor": 5
}
