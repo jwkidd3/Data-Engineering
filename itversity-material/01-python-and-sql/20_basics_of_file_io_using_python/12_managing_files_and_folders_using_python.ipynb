{
 "cells": [
  {
   "cell_type": "markdown",
   "id": "67c579e2",
   "metadata": {},
   "source": [
    "## Managing Folders and Files using Python\n",
    "\n",
    "Let us quickly recap details about folders and files, especially using Linux. You need to be comfortable with the following.\n",
    "* Differentiating Files and Folders. Keep in mind that Folders and Directories means the samething.\n",
    "* Understanding Absolute or Fully Qualified Path.\n",
    "* Understanding Relative Path.\n",
    "* Understanding File or Folder permissions.\n",
    "\n",
    "We will first see how we can leverage subprocess to run Linux commands to manage files and then we will go through the above topics."
   ]
  },
  {
   "cell_type": "markdown",
   "id": "a764cbdb",
   "metadata": {},
   "source": [
    "We will be running the following commands using Python `subprocess` module. That way, you will also pick up the relevance of `subprocess` as well.\n",
    "\n",
    "```shell\n",
    "# Listing files and folders under /data/retail_db\n",
    "ls -ltr /data/retail_db\n",
    "\n",
    "# Listing files in the present working directory\n",
    "ls -ltr\n",
    "\n",
    "# Listing files in the home directory. ~ represents home directory.\n",
    "# You can find the ~ key on the left side of 1 in most of the keyboards.\n",
    "ls -ltr ~\n",
    "```"
   ]
  },
  {
   "cell_type": "code",
   "execution_count": 1,
   "id": "d1350352",
   "metadata": {},
   "outputs": [],
   "source": [
    "import subprocess"
   ]
  },
  {
   "cell_type": "code",
   "execution_count": 2,
   "id": "fa5c99a9",
   "metadata": {},
   "outputs": [
    {
     "data": {
      "text/plain": [
       "b'total 20156\\n-rw-r--r-- 1 root root      806 Jan 21  2021 README.md\\ndrwxr-xr-x 2 root root     4096 Jan 21  2021 products\\ndrwxr-xr-x 2 root root     4096 Jan 21  2021 orders\\ndrwxr-xr-x 2 root root     4096 Jan 21  2021 order_items\\n-rw-r--r-- 1 root root 10297372 Jan 21  2021 load_db_tables_pg.sql\\ndrwxr-xr-x 2 root root     4096 Jan 21  2021 departments\\ndrwxr-xr-x 2 root root     4096 Jan 21  2021 customers\\n-rw-r--r-- 1 root root     1748 Jan 21  2021 create_db_tables_pg.sql\\n-rw-r--r-- 1 root root 10303297 Jan 21  2021 create_db.sql\\ndrwxr-xr-x 2 root root     4096 Jan 21  2021 categories\\n'"
      ]
     },
     "execution_count": 2,
     "metadata": {},
     "output_type": "execute_result"
    }
   ],
   "source": [
    "# Output is not reader friendly.\n",
    "# Output is of type bytes\n",
    "subprocess.check_output('ls -ltr /data/retail_db', shell=True)"
   ]
  },
  {
   "cell_type": "code",
   "execution_count": 3,
   "id": "3e2c42bb",
   "metadata": {},
   "outputs": [
    {
     "data": {
      "text/plain": [
       "'total 20156\\n-rw-r--r-- 1 root root      806 Jan 21  2021 README.md\\ndrwxr-xr-x 2 root root     4096 Jan 21  2021 products\\ndrwxr-xr-x 2 root root     4096 Jan 21  2021 orders\\ndrwxr-xr-x 2 root root     4096 Jan 21  2021 order_items\\n-rw-r--r-- 1 root root 10297372 Jan 21  2021 load_db_tables_pg.sql\\ndrwxr-xr-x 2 root root     4096 Jan 21  2021 departments\\ndrwxr-xr-x 2 root root     4096 Jan 21  2021 customers\\n-rw-r--r-- 1 root root     1748 Jan 21  2021 create_db_tables_pg.sql\\n-rw-r--r-- 1 root root 10303297 Jan 21  2021 create_db.sql\\ndrwxr-xr-x 2 root root     4096 Jan 21  2021 categories\\n'"
      ]
     },
     "execution_count": 3,
     "metadata": {},
     "output_type": "execute_result"
    }
   ],
   "source": [
    "# We can decode to string and apply string functions\n",
    "# Now the output is of type string\n",
    "subprocess.check_output('ls -ltr /data/retail_db', shell=True).decode('utf-8')"
   ]
  },
  {
   "cell_type": "code",
   "execution_count": 4,
   "id": "d969f71e",
   "metadata": {},
   "outputs": [
    {
     "data": {
      "text/plain": [
       "['total 20156',\n",
       " '-rw-r--r-- 1 root root      806 Jan 21  2021 README.md',\n",
       " 'drwxr-xr-x 2 root root     4096 Jan 21  2021 products',\n",
       " 'drwxr-xr-x 2 root root     4096 Jan 21  2021 orders',\n",
       " 'drwxr-xr-x 2 root root     4096 Jan 21  2021 order_items',\n",
       " '-rw-r--r-- 1 root root 10297372 Jan 21  2021 load_db_tables_pg.sql',\n",
       " 'drwxr-xr-x 2 root root     4096 Jan 21  2021 departments',\n",
       " 'drwxr-xr-x 2 root root     4096 Jan 21  2021 customers',\n",
       " '-rw-r--r-- 1 root root     1748 Jan 21  2021 create_db_tables_pg.sql',\n",
       " '-rw-r--r-- 1 root root 10303297 Jan 21  2021 create_db.sql',\n",
       " 'drwxr-xr-x 2 root root     4096 Jan 21  2021 categories']"
      ]
     },
     "execution_count": 4,
     "metadata": {},
     "output_type": "execute_result"
    }
   ],
   "source": [
    "# We can use splitlines to convert this big string into list of strings.\n",
    "# splitlines will use new line character as the delimiter.\n",
    "subprocess.check_output('ls -ltr /data/retail_db', shell=True).decode('utf-8').splitlines()"
   ]
  },
  {
   "cell_type": "code",
   "execution_count": 5,
   "id": "6c8c7bba",
   "metadata": {},
   "outputs": [
    {
     "name": "stdout",
     "output_type": "stream",
     "text": [
      "total 20156\n",
      "-rw-r--r-- 1 root root      806 Jan 21  2021 README.md\n",
      "drwxr-xr-x 2 root root     4096 Jan 21  2021 products\n",
      "drwxr-xr-x 2 root root     4096 Jan 21  2021 orders\n",
      "drwxr-xr-x 2 root root     4096 Jan 21  2021 order_items\n",
      "-rw-r--r-- 1 root root 10297372 Jan 21  2021 load_db_tables_pg.sql\n",
      "drwxr-xr-x 2 root root     4096 Jan 21  2021 departments\n",
      "drwxr-xr-x 2 root root     4096 Jan 21  2021 customers\n",
      "-rw-r--r-- 1 root root     1748 Jan 21  2021 create_db_tables_pg.sql\n",
      "-rw-r--r-- 1 root root 10303297 Jan 21  2021 create_db.sql\n",
      "drwxr-xr-x 2 root root     4096 Jan 21  2021 categories\n"
     ]
    }
   ],
   "source": [
    "# We can iterate through the list and print one item at a time.\n",
    "# Now the output will be reader friendly\n",
    "output = subprocess.check_output('ls -ltr /data/retail_db', shell=True).decode('utf-8').splitlines()\n",
    "for line in output: print(line)"
   ]
  },
  {
   "cell_type": "code",
   "execution_count": 6,
   "id": "48c929dd",
   "metadata": {},
   "outputs": [
    {
     "data": {
      "text/plain": [
       "['total 112',\n",
       " '-rw-r--r-- 1 itv002480 students  1307 Apr 26 09:43 01_basics_of_file_io_using_python.ipynb',\n",
       " '-rw-r--r-- 1 itv002480 students  1686 Apr 26 09:43 02_overview_of_file_io.ipynb',\n",
       " '-rw-r--r-- 1 itv002480 students  5521 Apr 26 09:43 03_folders_and_files.ipynb',\n",
       " '-rw-r--r-- 1 itv002480 students  3939 Apr 26 12:11 04_file_paths_and_names.ipynb',\n",
       " '-rw-r--r-- 1 itv002480 students  6351 Apr 26 12:17 05_overview_of_retail_data.ipynb',\n",
       " '-rw-r--r-- 1 itv002480 students 14046 Apr 26 12:29 06_read_text_file_into_string.ipynb',\n",
       " '-rw-r--r-- 1 itv002480 students  7371 Apr 26 13:17 07_write_string_to_text_file.ipynb',\n",
       " '-rw-r--r-- 1 itv002480 students 10534 Apr 26 14:00 08_overview_of_modes_to_write_into_files.ipynb',\n",
       " '-rw-r--r-- 1 itv002480 students  4236 Apr 26 14:02 09_overview_of_delimited_strings.ipynb',\n",
       " '-rw-r--r-- 1 itv002480 students 13130 Apr 26 14:07 10_read_csv_into_list_of_strings.ipynb',\n",
       " 'drwxr-xr-x 3 itv002480 students  4096 Apr 26 14:16 data',\n",
       " '-rw-r--r-- 1 itv002480 students 10161 Apr 26 14:17 11_write_strings_to_file_in_append_mode.ipynb',\n",
       " '-rw-r--r-- 1 itv002480 students  5326 Apr 26 14:19 12_managing_files_and_folders_using_python.ipynb']"
      ]
     },
     "execution_count": 6,
     "metadata": {},
     "output_type": "execute_result"
    }
   ],
   "source": [
    "subprocess.check_output('ls -ltr', shell=True).decode('utf-8').splitlines()"
   ]
  },
  {
   "cell_type": "code",
   "execution_count": 7,
   "id": "6ab2623d",
   "metadata": {},
   "outputs": [
    {
     "name": "stdout",
     "output_type": "stream",
     "text": [
      "/home/itv002480/data-engineering-spark/itversity-material/01-python-and-sql/20_basics_of_file_io_using_python\n"
     ]
    }
   ],
   "source": [
    "!pwd"
   ]
  },
  {
   "cell_type": "code",
   "execution_count": 8,
   "id": "c128e0e1",
   "metadata": {},
   "outputs": [
    {
     "data": {
      "text/plain": [
       "['total 112',\n",
       " '-rw-r--r-- 1 itv002480 students  1307 Apr 26 09:43 01_basics_of_file_io_using_python.ipynb',\n",
       " '-rw-r--r-- 1 itv002480 students  1686 Apr 26 09:43 02_overview_of_file_io.ipynb',\n",
       " '-rw-r--r-- 1 itv002480 students  5521 Apr 26 09:43 03_folders_and_files.ipynb',\n",
       " '-rw-r--r-- 1 itv002480 students  3939 Apr 26 12:11 04_file_paths_and_names.ipynb',\n",
       " '-rw-r--r-- 1 itv002480 students  6351 Apr 26 12:17 05_overview_of_retail_data.ipynb',\n",
       " '-rw-r--r-- 1 itv002480 students 14046 Apr 26 12:29 06_read_text_file_into_string.ipynb',\n",
       " '-rw-r--r-- 1 itv002480 students  7371 Apr 26 13:17 07_write_string_to_text_file.ipynb',\n",
       " '-rw-r--r-- 1 itv002480 students 10534 Apr 26 14:00 08_overview_of_modes_to_write_into_files.ipynb',\n",
       " '-rw-r--r-- 1 itv002480 students  4236 Apr 26 14:02 09_overview_of_delimited_strings.ipynb',\n",
       " '-rw-r--r-- 1 itv002480 students 13130 Apr 26 14:07 10_read_csv_into_list_of_strings.ipynb',\n",
       " '-rw-r--r-- 1 itv002480 students 10161 Apr 26 14:17 11_write_strings_to_file_in_append_mode.ipynb',\n",
       " '-rw-r--r-- 1 itv002480 students  5326 Apr 26 14:19 12_managing_files_and_folders_using_python.ipynb',\n",
       " 'drwxr-xr-x 3 itv002480 students  4096 Apr 26 14:16 data']"
      ]
     },
     "execution_count": 8,
     "metadata": {},
     "output_type": "execute_result"
    }
   ],
   "source": [
    "subprocess.check_output('ls -l', shell=True).decode('utf-8').splitlines()"
   ]
  },
  {
   "cell_type": "code",
   "execution_count": 9,
   "id": "1fec824e",
   "metadata": {},
   "outputs": [
    {
     "data": {
      "text/plain": [
       "['total 8',\n",
       " 'drwxr-xr-x 9 itv002480 students 4096 Apr  6 03:13 data-engineering-spark',\n",
       " '-rw-r--r-- 1 itv002480 students  577 Apr  6 04:06 Getting started.ipynb']"
      ]
     },
     "execution_count": 9,
     "metadata": {},
     "output_type": "execute_result"
    }
   ],
   "source": [
    "subprocess.check_output('ls -ltr ~', shell=True).decode('utf-8').splitlines()"
   ]
  },
  {
   "cell_type": "code",
   "execution_count": 10,
   "id": "92ebcadf",
   "metadata": {},
   "outputs": [
    {
     "data": {
      "text/plain": [
       "['total 20',\n",
       " '-rw-r--r-- 1 itv002480 students 41 Apr 26 13:16 sample_data.txt',\n",
       " '-rw-r--r-- 1 itv002480 students 27 Apr 26 13:55 overwrite.txt',\n",
       " '-rw-r--r-- 1 itv002480 students 54 Apr 26 13:57 append.txt',\n",
       " '-rw-r--r-- 1 itv002480 students 27 Apr 26 13:59 new_file.txt',\n",
       " '-rw-r--r-- 1 itv002480 students 59 Apr 26 14:16 departments.txt']"
      ]
     },
     "execution_count": 10,
     "metadata": {},
     "output_type": "execute_result"
    }
   ],
   "source": [
    "subprocess.check_output('ls -ltr data', shell=True).decode('utf-8').splitlines()"
   ]
  },
  {
   "cell_type": "code",
   "execution_count": null,
   "id": "4b949114",
   "metadata": {},
   "outputs": [],
   "source": []
  }
 ],
 "metadata": {
  "kernelspec": {
   "display_name": "Python 3",
   "language": "python",
   "name": "python3"
  },
  "language_info": {
   "codemirror_mode": {
    "name": "ipython",
    "version": 3
   },
   "file_extension": ".py",
   "mimetype": "text/x-python",
   "name": "python",
   "nbconvert_exporter": "python",
   "pygments_lexer": "ipython3",
   "version": "3.6.12"
  }
 },
 "nbformat": 4,
 "nbformat_minor": 5
}
