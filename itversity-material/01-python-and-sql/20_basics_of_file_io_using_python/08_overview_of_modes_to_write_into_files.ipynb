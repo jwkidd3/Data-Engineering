{
 "cells": [
  {
   "cell_type": "markdown",
   "id": "2f7737d9",
   "metadata": {},
   "source": [
    "## Overview of modes to write into files\n",
    "\n",
    "Let us go through the details related to the modes that are used to write data into files. Already we have seen `r` which is default as well as `w`. They are meant for read and write respectively.\n",
    "\n",
    "```\n",
    "========= ===============================================================\n",
    "Character Meaning\n",
    "--------- ---------------------------------------------------------------\n",
    "'r'       open for reading (default)\n",
    "'w'       open for writing, truncating the file first\n",
    "'x'       create a new file and open it for writing\n",
    "'a'       open for writing, appending to the end of the file if it exists\n",
    "'b'       binary mode\n",
    "'t'       text mode (default)\n",
    "'+'       open a disk file for updating (reading and writing)\n",
    "'U'       universal newline mode (deprecated)\n",
    "========= ===============================================================\n",
    "```\n",
    "\n",
    "* `r` is used for read and `w`, `a`, `x` are used for write.\n",
    "* We can read or write either in binary or text mode. Unless specified, operations are performed in text mode.\n",
    "* We need to combine `b` with read or write operations to perform read or write in binary mode."
   ]
  },
  {
   "cell_type": "markdown",
   "id": "97a91598",
   "metadata": {},
   "source": [
    "### Overwriting the existing file using w\n",
    "\n",
    "If the file does not exists, it will create otherwise it will overwrite."
   ]
  },
  {
   "cell_type": "code",
   "execution_count": 2,
   "id": "4679de41",
   "metadata": {},
   "outputs": [
    {
     "name": "stdout",
     "output_type": "stream",
     "text": [
      "rm: cannot remove ‘data/overwrite.txt’: No such file or directory\n"
     ]
    }
   ],
   "source": [
    "!rm data/overwrite.txt"
   ]
  },
  {
   "cell_type": "code",
   "execution_count": 3,
   "id": "805690ec",
   "metadata": {},
   "outputs": [],
   "source": [
    "file = open('data/overwrite.txt', 'w')"
   ]
  },
  {
   "cell_type": "code",
   "execution_count": 4,
   "id": "ce518db7",
   "metadata": {},
   "outputs": [],
   "source": [
    "data = 'Writing in file - attempt 1'"
   ]
  },
  {
   "cell_type": "code",
   "execution_count": 5,
   "id": "9a2f1168",
   "metadata": {},
   "outputs": [
    {
     "data": {
      "text/plain": [
       "27"
      ]
     },
     "execution_count": 5,
     "metadata": {},
     "output_type": "execute_result"
    }
   ],
   "source": [
    "len(data)"
   ]
  },
  {
   "cell_type": "code",
   "execution_count": 6,
   "id": "4469dee7",
   "metadata": {},
   "outputs": [
    {
     "data": {
      "text/plain": [
       "27"
      ]
     },
     "execution_count": 6,
     "metadata": {},
     "output_type": "execute_result"
    }
   ],
   "source": [
    "file.write(data)"
   ]
  },
  {
   "cell_type": "code",
   "execution_count": 7,
   "id": "11996f4e",
   "metadata": {},
   "outputs": [],
   "source": [
    "file.close()"
   ]
  },
  {
   "cell_type": "code",
   "execution_count": 8,
   "id": "ed62518a",
   "metadata": {},
   "outputs": [
    {
     "name": "stdout",
     "output_type": "stream",
     "text": [
      "Writing in file - attempt 1"
     ]
    }
   ],
   "source": [
    "!cat data/overwrite.txt"
   ]
  },
  {
   "cell_type": "code",
   "execution_count": 9,
   "id": "9a76f589",
   "metadata": {},
   "outputs": [],
   "source": [
    "file = open('data/overwrite.txt', 'w')"
   ]
  },
  {
   "cell_type": "code",
   "execution_count": 10,
   "id": "c43404fd",
   "metadata": {},
   "outputs": [],
   "source": [
    "data = 'Writing in file - attempt 2'"
   ]
  },
  {
   "cell_type": "code",
   "execution_count": 11,
   "id": "20a06dc7",
   "metadata": {},
   "outputs": [
    {
     "data": {
      "text/plain": [
       "27"
      ]
     },
     "execution_count": 11,
     "metadata": {},
     "output_type": "execute_result"
    }
   ],
   "source": [
    "file.write(data)"
   ]
  },
  {
   "cell_type": "code",
   "execution_count": 12,
   "id": "096f4f5e",
   "metadata": {},
   "outputs": [],
   "source": [
    "file.close()"
   ]
  },
  {
   "cell_type": "code",
   "execution_count": 13,
   "id": "68c9ebfa",
   "metadata": {},
   "outputs": [
    {
     "name": "stdout",
     "output_type": "stream",
     "text": [
      "Writing in file - attempt 2"
     ]
    }
   ],
   "source": [
    "!cat data/overwrite.txt # Data is overwritten"
   ]
  },
  {
   "cell_type": "markdown",
   "id": "b92c855f",
   "metadata": {},
   "source": [
    "### Appending into existing file using a\n",
    "\n",
    "If the file does not exists, it will create otherwise it will append."
   ]
  },
  {
   "cell_type": "code",
   "execution_count": 14,
   "id": "6a4ba549",
   "metadata": {},
   "outputs": [],
   "source": [
    "!rm data/append.txt"
   ]
  },
  {
   "cell_type": "code",
   "execution_count": 15,
   "id": "bcb1a61c",
   "metadata": {},
   "outputs": [],
   "source": [
    "file = open('data/append.txt', 'a')"
   ]
  },
  {
   "cell_type": "code",
   "execution_count": 16,
   "id": "5c0cbfa9",
   "metadata": {},
   "outputs": [],
   "source": [
    "data = 'Writing in file - attempt 1'"
   ]
  },
  {
   "cell_type": "code",
   "execution_count": 17,
   "id": "9157dcf2",
   "metadata": {},
   "outputs": [
    {
     "data": {
      "text/plain": [
       "27"
      ]
     },
     "execution_count": 17,
     "metadata": {},
     "output_type": "execute_result"
    }
   ],
   "source": [
    "file.write(data)"
   ]
  },
  {
   "cell_type": "code",
   "execution_count": 18,
   "id": "41331165",
   "metadata": {},
   "outputs": [],
   "source": [
    "file.close()"
   ]
  },
  {
   "cell_type": "code",
   "execution_count": 19,
   "id": "816ad4fc",
   "metadata": {},
   "outputs": [
    {
     "name": "stdout",
     "output_type": "stream",
     "text": [
      "Writing in file - attempt 1"
     ]
    }
   ],
   "source": [
    "!cat data/append.txt"
   ]
  },
  {
   "cell_type": "code",
   "execution_count": 20,
   "id": "10b19fd1",
   "metadata": {},
   "outputs": [],
   "source": [
    "file = open('data/append.txt', 'a')"
   ]
  },
  {
   "cell_type": "code",
   "execution_count": 21,
   "id": "5dfd4a7c",
   "metadata": {},
   "outputs": [],
   "source": [
    "data = 'Writing in file - attempt 2'"
   ]
  },
  {
   "cell_type": "code",
   "execution_count": 22,
   "id": "4ac5e76d",
   "metadata": {},
   "outputs": [
    {
     "data": {
      "text/plain": [
       "27"
      ]
     },
     "execution_count": 22,
     "metadata": {},
     "output_type": "execute_result"
    }
   ],
   "source": [
    "file.write(data)"
   ]
  },
  {
   "cell_type": "code",
   "execution_count": 23,
   "id": "9eac09aa",
   "metadata": {},
   "outputs": [],
   "source": [
    "file.close()"
   ]
  },
  {
   "cell_type": "code",
   "execution_count": 24,
   "id": "804f2f39",
   "metadata": {},
   "outputs": [
    {
     "name": "stdout",
     "output_type": "stream",
     "text": [
      "Writing in file - attempt 1Writing in file - attempt 2"
     ]
    }
   ],
   "source": [
    "!cat data/append.txt # Data is appended"
   ]
  },
  {
   "cell_type": "markdown",
   "id": "ad43ce9f",
   "metadata": {},
   "source": [
    "### Write into file using x\n",
    "\n",
    "If the file already exists, it will fail."
   ]
  },
  {
   "cell_type": "code",
   "execution_count": 25,
   "id": "e181599b",
   "metadata": {},
   "outputs": [],
   "source": [
    "!rm data/new_file.txt"
   ]
  },
  {
   "cell_type": "code",
   "execution_count": 26,
   "id": "3e96eb4b",
   "metadata": {},
   "outputs": [],
   "source": [
    "file = open('data/new_file.txt', 'x')"
   ]
  },
  {
   "cell_type": "code",
   "execution_count": 27,
   "id": "ce82a06a",
   "metadata": {},
   "outputs": [],
   "source": [
    "data = 'Writing in file - attempt 1'"
   ]
  },
  {
   "cell_type": "code",
   "execution_count": 28,
   "id": "c04e7fcd",
   "metadata": {},
   "outputs": [
    {
     "data": {
      "text/plain": [
       "27"
      ]
     },
     "execution_count": 28,
     "metadata": {},
     "output_type": "execute_result"
    }
   ],
   "source": [
    "file.write(data)"
   ]
  },
  {
   "cell_type": "code",
   "execution_count": 29,
   "id": "f31e08d5",
   "metadata": {},
   "outputs": [],
   "source": [
    "file.close()"
   ]
  },
  {
   "cell_type": "code",
   "execution_count": 30,
   "id": "17a783ed",
   "metadata": {},
   "outputs": [
    {
     "name": "stdout",
     "output_type": "stream",
     "text": [
      "Writing in file - attempt 1"
     ]
    }
   ],
   "source": [
    "!cat data/new_file.txt"
   ]
  },
  {
   "cell_type": "code",
   "execution_count": 31,
   "id": "ddd392e1",
   "metadata": {},
   "outputs": [
    {
     "ename": "FileExistsError",
     "evalue": "[Errno 17] File exists: 'data/new_file.txt'",
     "output_type": "error",
     "traceback": [
      "\u001b[0;31m---------------------------------------------------------------------------\u001b[0m",
      "\u001b[0;31mFileExistsError\u001b[0m                           Traceback (most recent call last)",
      "\u001b[0;32m<ipython-input-31-792d3664a7c7>\u001b[0m in \u001b[0;36m<module>\u001b[0;34m\u001b[0m\n\u001b[0;32m----> 1\u001b[0;31m \u001b[0mfile\u001b[0m \u001b[0;34m=\u001b[0m \u001b[0mopen\u001b[0m\u001b[0;34m(\u001b[0m\u001b[0;34m'data/new_file.txt'\u001b[0m\u001b[0;34m,\u001b[0m \u001b[0;34m'x'\u001b[0m\u001b[0;34m)\u001b[0m \u001b[0;31m# Fails, as the file already exists\u001b[0m\u001b[0;34m\u001b[0m\u001b[0;34m\u001b[0m\u001b[0m\n\u001b[0m",
      "\u001b[0;31mFileExistsError\u001b[0m: [Errno 17] File exists: 'data/new_file.txt'"
     ]
    }
   ],
   "source": [
    "file = open('data/new_file.txt', 'x') # Fails, as the file already exists"
   ]
  },
  {
   "cell_type": "code",
   "execution_count": null,
   "id": "b0663fcf",
   "metadata": {},
   "outputs": [],
   "source": []
  }
 ],
 "metadata": {
  "kernelspec": {
   "display_name": "Python 3",
   "language": "python",
   "name": "python3"
  },
  "language_info": {
   "codemirror_mode": {
    "name": "ipython",
    "version": 3
   },
   "file_extension": ".py",
   "mimetype": "text/x-python",
   "name": "python",
   "nbconvert_exporter": "python",
   "pygments_lexer": "ipython3",
   "version": "3.6.12"
  }
 },
 "nbformat": 4,
 "nbformat_minor": 5
}
