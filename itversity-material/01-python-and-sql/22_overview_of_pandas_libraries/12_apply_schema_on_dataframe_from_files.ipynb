{
 "cells": [
  {
   "cell_type": "markdown",
   "id": "c208ca09",
   "metadata": {},
   "source": [
    "## Apply Schema on the dataframe from files\n",
    "\n",
    "Let us understand how to apply schema while creating the data frame. \n",
    "* In many cases, data files might not contain the metadata such as column names, data types, etc.\n",
    "* We might get the data metadata in the form of separate files. Also, it is common that metadata is available via Database Tables or REST based schema registries.\n",
    "* We need to make sure that the metadata (schema) is applied on the data as part of data processing.\n",
    "\n",
    "In this case data files are available under **/data/retail_db**, the json file with metadata is available under **schemas/retail_db/retail.json**."
   ]
  },
  {
   "cell_type": "code",
   "execution_count": 1,
   "id": "243580b4",
   "metadata": {},
   "outputs": [
    {
     "name": "stdout",
     "output_type": "stream",
     "text": [
      "total 20156\n",
      "-rw-r--r-- 1 root root      806 Jan 21  2021 README.md\n",
      "drwxr-xr-x 2 root root     4096 Jan 21  2021 products\n",
      "drwxr-xr-x 2 root root     4096 Jan 21  2021 orders\n",
      "drwxr-xr-x 2 root root     4096 Jan 21  2021 order_items\n",
      "-rw-r--r-- 1 root root 10297372 Jan 21  2021 load_db_tables_pg.sql\n",
      "drwxr-xr-x 2 root root     4096 Jan 21  2021 departments\n",
      "drwxr-xr-x 2 root root     4096 Jan 21  2021 customers\n",
      "-rw-r--r-- 1 root root     1748 Jan 21  2021 create_db_tables_pg.sql\n",
      "-rw-r--r-- 1 root root 10303297 Jan 21  2021 create_db.sql\n",
      "drwxr-xr-x 2 root root     4096 Jan 21  2021 categories\n"
     ]
    }
   ],
   "source": [
    "!ls -ltr /data/retail_db"
   ]
  },
  {
   "cell_type": "code",
   "execution_count": 2,
   "id": "11908182",
   "metadata": {},
   "outputs": [
    {
     "name": "stdout",
     "output_type": "stream",
     "text": [
      "-rw-r--r-- 1 itv002480 students 2083 Apr  6 03:13 schemas/retail_db/retail.json\n"
     ]
    }
   ],
   "source": [
    "!ls -ltr schemas/retail_db/retail.json"
   ]
  },
  {
   "cell_type": "code",
   "execution_count": 3,
   "id": "71cc0b54",
   "metadata": {},
   "outputs": [
    {
     "name": "stdout",
     "output_type": "stream",
     "text": [
      "{\n",
      "    \"categories\": [\n",
      "        {\"column_name\": \"category_id\", \"data_type\": \"int\"},\n",
      "        {\"column_name\": \"category_department_id\", \"data_type\": \"int\"},\n",
      "        {\"column_name\": \"category_name\", \"data_type\": \"str\"}\n",
      "    ],\n",
      "    \"customers\": [\n",
      "        {\"column_name\": \"customer_id\", \"data_type\": \"int\"},\n",
      "        {\"column_name\": \"customer_fname\", \"data_type\": \"str\"},\n",
      "        {\"column_name\": \"customer_lname\", \"data_type\": \"str\"},\n",
      "        {\"column_name\": \"customer_email\", \"data_type\": \"str\"},\n",
      "        {\"column_name\": \"customer_password\", \"data_type\": \"str\"},\n",
      "        {\"column_name\": \"customer_street\", \"data_type\": \"str\"},\n",
      "        {\"column_name\": \"customer_city\", \"data_type\": \"str\"},\n",
      "        {\"column_name\": \"customer_state\", \"data_type\": \"str\"},\n",
      "        {\"column_name\": \"customer_zipcode\", \"data_type\": \"str\"}\n",
      "    ],\n",
      "    \"departments\": [\n",
      "        {\"column_name\": \"department_id\", \"data_type\": \"int\"},\n",
      "        {\"column_name\": \"department_name\", \"data_type\": \"str\"}\n",
      "    ],\n",
      "    \"order_items\": [\n",
      "        {\"column_name\": \"order_item_id\", \"data_type\": \"int\"},\n",
      "        {\"column_name\": \"order_item_order_id\", \"data_type\": \"int\"},\n",
      "        {\"column_name\": \"order_item_product_id\", \"data_type\": \"int\"},\n",
      "        {\"column_name\": \"order_item_quantity\", \"data_type\": \"int\"},\n",
      "        {\"column_name\": \"order_item_subtotal\", \"data_type\": \"float\"},\n",
      "        {\"column_name\": \"order_item_product_price\", \"data_type\": \"float\"}\n",
      "    ],\n",
      "    \"orders\": [\n",
      "        {\"column_name\": \"order_id\", \"data_type\": \"int\"},\n",
      "        {\"column_name\": \"order_date\", \"data_type\": \"str\"},\n",
      "        {\"column_name\": \"order_customer_id\", \"data_type\": \"int\"},\n",
      "        {\"column_name\": \"order_status\", \"data_type\": \"int\"}\n",
      "    ],\n",
      "    \"products\": [\n",
      "        {\"column_name\": \"product_id\", \"data_type\": \"int\"},\n",
      "        {\"column_name\": \"product_category_id\", \"data_type\": \"int\"},\n",
      "        {\"column_name\": \"product_name\", \"data_type\": \"str\"},\n",
      "        {\"column_name\": \"product_description\", \"data_type\": \"str\"},\n",
      "        {\"column_name\": \"product_price\", \"data_type\": \"float\"},\n",
      "        {\"column_name\": \"product_image\", \"data_type\": \"str\"}\n",
      "    ]    \n",
      "}"
     ]
    }
   ],
   "source": [
    "!cat schemas/retail_db/retail.json"
   ]
  },
  {
   "cell_type": "code",
   "execution_count": 4,
   "id": "43234af2",
   "metadata": {},
   "outputs": [
    {
     "name": "stdout",
     "output_type": "stream",
     "text": [
      "total 2932\n",
      "-rw-r--r-- 1 root root 2999944 Jan 21  2021 part-00000\n"
     ]
    }
   ],
   "source": [
    "!ls -ltr /data/retail_db/orders"
   ]
  },
  {
   "cell_type": "code",
   "execution_count": 5,
   "id": "e9429ef1",
   "metadata": {},
   "outputs": [],
   "source": [
    "# Read orders data into list of strings\n",
    "\n",
    "orders_path = '/data/retail_db/orders/part-00000'\n",
    "orders = open(orders_path). \\\n",
    "    read(). \\\n",
    "    splitlines()"
   ]
  },
  {
   "cell_type": "code",
   "execution_count": 6,
   "id": "f0592bc5",
   "metadata": {},
   "outputs": [
    {
     "data": {
      "text/plain": [
       "['1,2013-07-25 00:00:00.0,11599,CLOSED',\n",
       " '2,2013-07-25 00:00:00.0,256,PENDING_PAYMENT',\n",
       " '3,2013-07-25 00:00:00.0,12111,COMPLETE',\n",
       " '4,2013-07-25 00:00:00.0,8827,CLOSED',\n",
       " '5,2013-07-25 00:00:00.0,11318,COMPLETE',\n",
       " '6,2013-07-25 00:00:00.0,7130,COMPLETE',\n",
       " '7,2013-07-25 00:00:00.0,4530,COMPLETE',\n",
       " '8,2013-07-25 00:00:00.0,2911,PROCESSING',\n",
       " '9,2013-07-25 00:00:00.0,5657,PENDING_PAYMENT',\n",
       " '10,2013-07-25 00:00:00.0,5648,PENDING_PAYMENT']"
      ]
     },
     "execution_count": 6,
     "metadata": {},
     "output_type": "execute_result"
    }
   ],
   "source": [
    "orders[:10]"
   ]
  },
  {
   "cell_type": "code",
   "execution_count": 7,
   "id": "d6d709fc",
   "metadata": {},
   "outputs": [],
   "source": [
    "# Load schemas into dict using json\n",
    "\n",
    "import json\n",
    "retail_schemas = json.load(open('schemas/retail_db/retail.json'))"
   ]
  },
  {
   "cell_type": "code",
   "execution_count": 8,
   "id": "57c02e55",
   "metadata": {},
   "outputs": [
    {
     "data": {
      "text/plain": [
       "{'categories': [{'column_name': 'category_id', 'data_type': 'int'},\n",
       "  {'column_name': 'category_department_id', 'data_type': 'int'},\n",
       "  {'column_name': 'category_name', 'data_type': 'str'}],\n",
       " 'customers': [{'column_name': 'customer_id', 'data_type': 'int'},\n",
       "  {'column_name': 'customer_fname', 'data_type': 'str'},\n",
       "  {'column_name': 'customer_lname', 'data_type': 'str'},\n",
       "  {'column_name': 'customer_email', 'data_type': 'str'},\n",
       "  {'column_name': 'customer_password', 'data_type': 'str'},\n",
       "  {'column_name': 'customer_street', 'data_type': 'str'},\n",
       "  {'column_name': 'customer_city', 'data_type': 'str'},\n",
       "  {'column_name': 'customer_state', 'data_type': 'str'},\n",
       "  {'column_name': 'customer_zipcode', 'data_type': 'str'}],\n",
       " 'departments': [{'column_name': 'department_id', 'data_type': 'int'},\n",
       "  {'column_name': 'department_name', 'data_type': 'str'}],\n",
       " 'order_items': [{'column_name': 'order_item_id', 'data_type': 'int'},\n",
       "  {'column_name': 'order_item_order_id', 'data_type': 'int'},\n",
       "  {'column_name': 'order_item_product_id', 'data_type': 'int'},\n",
       "  {'column_name': 'order_item_quantity', 'data_type': 'int'},\n",
       "  {'column_name': 'order_item_subtotal', 'data_type': 'float'},\n",
       "  {'column_name': 'order_item_product_price', 'data_type': 'float'}],\n",
       " 'orders': [{'column_name': 'order_id', 'data_type': 'int'},\n",
       "  {'column_name': 'order_date', 'data_type': 'str'},\n",
       "  {'column_name': 'order_customer_id', 'data_type': 'int'},\n",
       "  {'column_name': 'order_status', 'data_type': 'int'}],\n",
       " 'products': [{'column_name': 'product_id', 'data_type': 'int'},\n",
       "  {'column_name': 'product_category_id', 'data_type': 'int'},\n",
       "  {'column_name': 'product_name', 'data_type': 'str'},\n",
       "  {'column_name': 'product_description', 'data_type': 'str'},\n",
       "  {'column_name': 'product_price', 'data_type': 'float'},\n",
       "  {'column_name': 'product_image', 'data_type': 'str'}]}"
      ]
     },
     "execution_count": 8,
     "metadata": {},
     "output_type": "execute_result"
    }
   ],
   "source": [
    "retail_schemas"
   ]
  },
  {
   "cell_type": "code",
   "execution_count": 9,
   "id": "4e4447df",
   "metadata": {},
   "outputs": [
    {
     "data": {
      "text/plain": [
       "[{'column_name': 'order_id', 'data_type': 'int'},\n",
       " {'column_name': 'order_date', 'data_type': 'str'},\n",
       " {'column_name': 'order_customer_id', 'data_type': 'int'},\n",
       " {'column_name': 'order_status', 'data_type': 'int'}]"
      ]
     },
     "execution_count": 9,
     "metadata": {},
     "output_type": "execute_result"
    }
   ],
   "source": [
    "# Get the schema for relevant data set\n",
    "\n",
    "retail_schemas['orders']"
   ]
  },
  {
   "cell_type": "code",
   "execution_count": 10,
   "id": "387d2f0d",
   "metadata": {},
   "outputs": [],
   "source": [
    "# Fetch the column names\n",
    "\n",
    "columns = list(map(lambda col: col['column_name'], retail_schemas['orders']))"
   ]
  },
  {
   "cell_type": "code",
   "execution_count": 11,
   "id": "58052963",
   "metadata": {},
   "outputs": [
    {
     "data": {
      "text/plain": [
       "['order_id', 'order_date', 'order_customer_id', 'order_status']"
      ]
     },
     "execution_count": 11,
     "metadata": {},
     "output_type": "execute_result"
    }
   ],
   "source": [
    "columns"
   ]
  },
  {
   "cell_type": "code",
   "execution_count": 12,
   "id": "9419f16c",
   "metadata": {},
   "outputs": [],
   "source": [
    "import pandas as pd"
   ]
  },
  {
   "cell_type": "code",
   "execution_count": 13,
   "id": "40ee9779",
   "metadata": {},
   "outputs": [
    {
     "data": {
      "text/html": [
       "<div>\n",
       "<style scoped>\n",
       "    .dataframe tbody tr th:only-of-type {\n",
       "        vertical-align: middle;\n",
       "    }\n",
       "\n",
       "    .dataframe tbody tr th {\n",
       "        vertical-align: top;\n",
       "    }\n",
       "\n",
       "    .dataframe thead th {\n",
       "        text-align: right;\n",
       "    }\n",
       "</style>\n",
       "<table border=\"1\" class=\"dataframe\">\n",
       "  <thead>\n",
       "    <tr style=\"text-align: right;\">\n",
       "      <th></th>\n",
       "      <th>order_id</th>\n",
       "      <th>order_date</th>\n",
       "      <th>order_customer_id</th>\n",
       "      <th>order_status</th>\n",
       "    </tr>\n",
       "  </thead>\n",
       "  <tbody>\n",
       "    <tr>\n",
       "      <th>0</th>\n",
       "      <td>1</td>\n",
       "      <td>2013-07-25 00:00:00.0</td>\n",
       "      <td>11599</td>\n",
       "      <td>CLOSED</td>\n",
       "    </tr>\n",
       "    <tr>\n",
       "      <th>1</th>\n",
       "      <td>2</td>\n",
       "      <td>2013-07-25 00:00:00.0</td>\n",
       "      <td>256</td>\n",
       "      <td>PENDING_PAYMENT</td>\n",
       "    </tr>\n",
       "    <tr>\n",
       "      <th>2</th>\n",
       "      <td>3</td>\n",
       "      <td>2013-07-25 00:00:00.0</td>\n",
       "      <td>12111</td>\n",
       "      <td>COMPLETE</td>\n",
       "    </tr>\n",
       "    <tr>\n",
       "      <th>3</th>\n",
       "      <td>4</td>\n",
       "      <td>2013-07-25 00:00:00.0</td>\n",
       "      <td>8827</td>\n",
       "      <td>CLOSED</td>\n",
       "    </tr>\n",
       "    <tr>\n",
       "      <th>4</th>\n",
       "      <td>5</td>\n",
       "      <td>2013-07-25 00:00:00.0</td>\n",
       "      <td>11318</td>\n",
       "      <td>COMPLETE</td>\n",
       "    </tr>\n",
       "    <tr>\n",
       "      <th>...</th>\n",
       "      <td>...</td>\n",
       "      <td>...</td>\n",
       "      <td>...</td>\n",
       "      <td>...</td>\n",
       "    </tr>\n",
       "    <tr>\n",
       "      <th>68878</th>\n",
       "      <td>68879</td>\n",
       "      <td>2014-07-09 00:00:00.0</td>\n",
       "      <td>778</td>\n",
       "      <td>COMPLETE</td>\n",
       "    </tr>\n",
       "    <tr>\n",
       "      <th>68879</th>\n",
       "      <td>68880</td>\n",
       "      <td>2014-07-13 00:00:00.0</td>\n",
       "      <td>1117</td>\n",
       "      <td>COMPLETE</td>\n",
       "    </tr>\n",
       "    <tr>\n",
       "      <th>68880</th>\n",
       "      <td>68881</td>\n",
       "      <td>2014-07-19 00:00:00.0</td>\n",
       "      <td>2518</td>\n",
       "      <td>PENDING_PAYMENT</td>\n",
       "    </tr>\n",
       "    <tr>\n",
       "      <th>68881</th>\n",
       "      <td>68882</td>\n",
       "      <td>2014-07-22 00:00:00.0</td>\n",
       "      <td>10000</td>\n",
       "      <td>ON_HOLD</td>\n",
       "    </tr>\n",
       "    <tr>\n",
       "      <th>68882</th>\n",
       "      <td>68883</td>\n",
       "      <td>2014-07-23 00:00:00.0</td>\n",
       "      <td>5533</td>\n",
       "      <td>COMPLETE</td>\n",
       "    </tr>\n",
       "  </tbody>\n",
       "</table>\n",
       "<p>68883 rows × 4 columns</p>\n",
       "</div>"
      ],
      "text/plain": [
       "       order_id             order_date  order_customer_id     order_status\n",
       "0             1  2013-07-25 00:00:00.0              11599           CLOSED\n",
       "1             2  2013-07-25 00:00:00.0                256  PENDING_PAYMENT\n",
       "2             3  2013-07-25 00:00:00.0              12111         COMPLETE\n",
       "3             4  2013-07-25 00:00:00.0               8827           CLOSED\n",
       "4             5  2013-07-25 00:00:00.0              11318         COMPLETE\n",
       "...         ...                    ...                ...              ...\n",
       "68878     68879  2014-07-09 00:00:00.0                778         COMPLETE\n",
       "68879     68880  2014-07-13 00:00:00.0               1117         COMPLETE\n",
       "68880     68881  2014-07-19 00:00:00.0               2518  PENDING_PAYMENT\n",
       "68881     68882  2014-07-22 00:00:00.0              10000          ON_HOLD\n",
       "68882     68883  2014-07-23 00:00:00.0               5533         COMPLETE\n",
       "\n",
       "[68883 rows x 4 columns]"
      ]
     },
     "execution_count": 13,
     "metadata": {},
     "output_type": "execute_result"
    }
   ],
   "source": [
    "pd.read_csv('/data/retail_db/orders/part-00000', names=columns)"
   ]
  },
  {
   "cell_type": "code",
   "execution_count": 14,
   "id": "571be22f",
   "metadata": {},
   "outputs": [
    {
     "data": {
      "text/html": [
       "<div>\n",
       "<style scoped>\n",
       "    .dataframe tbody tr th:only-of-type {\n",
       "        vertical-align: middle;\n",
       "    }\n",
       "\n",
       "    .dataframe tbody tr th {\n",
       "        vertical-align: top;\n",
       "    }\n",
       "\n",
       "    .dataframe thead th {\n",
       "        text-align: right;\n",
       "    }\n",
       "</style>\n",
       "<table border=\"1\" class=\"dataframe\">\n",
       "  <thead>\n",
       "    <tr style=\"text-align: right;\">\n",
       "      <th></th>\n",
       "      <th>order_id</th>\n",
       "      <th>order_date</th>\n",
       "      <th>order_customer_id</th>\n",
       "      <th>order_status</th>\n",
       "    </tr>\n",
       "  </thead>\n",
       "  <tbody>\n",
       "    <tr>\n",
       "      <th>0</th>\n",
       "      <td>1</td>\n",
       "      <td>2013-07-25 00:00:00.0</td>\n",
       "      <td>11599</td>\n",
       "      <td>CLOSED</td>\n",
       "    </tr>\n",
       "    <tr>\n",
       "      <th>1</th>\n",
       "      <td>2</td>\n",
       "      <td>2013-07-25 00:00:00.0</td>\n",
       "      <td>256</td>\n",
       "      <td>PENDING_PAYMENT</td>\n",
       "    </tr>\n",
       "    <tr>\n",
       "      <th>2</th>\n",
       "      <td>3</td>\n",
       "      <td>2013-07-25 00:00:00.0</td>\n",
       "      <td>12111</td>\n",
       "      <td>COMPLETE</td>\n",
       "    </tr>\n",
       "    <tr>\n",
       "      <th>3</th>\n",
       "      <td>4</td>\n",
       "      <td>2013-07-25 00:00:00.0</td>\n",
       "      <td>8827</td>\n",
       "      <td>CLOSED</td>\n",
       "    </tr>\n",
       "    <tr>\n",
       "      <th>4</th>\n",
       "      <td>5</td>\n",
       "      <td>2013-07-25 00:00:00.0</td>\n",
       "      <td>11318</td>\n",
       "      <td>COMPLETE</td>\n",
       "    </tr>\n",
       "    <tr>\n",
       "      <th>...</th>\n",
       "      <td>...</td>\n",
       "      <td>...</td>\n",
       "      <td>...</td>\n",
       "      <td>...</td>\n",
       "    </tr>\n",
       "    <tr>\n",
       "      <th>68878</th>\n",
       "      <td>68879</td>\n",
       "      <td>2014-07-09 00:00:00.0</td>\n",
       "      <td>778</td>\n",
       "      <td>COMPLETE</td>\n",
       "    </tr>\n",
       "    <tr>\n",
       "      <th>68879</th>\n",
       "      <td>68880</td>\n",
       "      <td>2014-07-13 00:00:00.0</td>\n",
       "      <td>1117</td>\n",
       "      <td>COMPLETE</td>\n",
       "    </tr>\n",
       "    <tr>\n",
       "      <th>68880</th>\n",
       "      <td>68881</td>\n",
       "      <td>2014-07-19 00:00:00.0</td>\n",
       "      <td>2518</td>\n",
       "      <td>PENDING_PAYMENT</td>\n",
       "    </tr>\n",
       "    <tr>\n",
       "      <th>68881</th>\n",
       "      <td>68882</td>\n",
       "      <td>2014-07-22 00:00:00.0</td>\n",
       "      <td>10000</td>\n",
       "      <td>ON_HOLD</td>\n",
       "    </tr>\n",
       "    <tr>\n",
       "      <th>68882</th>\n",
       "      <td>68883</td>\n",
       "      <td>2014-07-23 00:00:00.0</td>\n",
       "      <td>5533</td>\n",
       "      <td>COMPLETE</td>\n",
       "    </tr>\n",
       "  </tbody>\n",
       "</table>\n",
       "<p>68883 rows × 4 columns</p>\n",
       "</div>"
      ],
      "text/plain": [
       "      order_id             order_date order_customer_id     order_status\n",
       "0            1  2013-07-25 00:00:00.0             11599           CLOSED\n",
       "1            2  2013-07-25 00:00:00.0               256  PENDING_PAYMENT\n",
       "2            3  2013-07-25 00:00:00.0             12111         COMPLETE\n",
       "3            4  2013-07-25 00:00:00.0              8827           CLOSED\n",
       "4            5  2013-07-25 00:00:00.0             11318         COMPLETE\n",
       "...        ...                    ...               ...              ...\n",
       "68878    68879  2014-07-09 00:00:00.0               778         COMPLETE\n",
       "68879    68880  2014-07-13 00:00:00.0              1117         COMPLETE\n",
       "68880    68881  2014-07-19 00:00:00.0              2518  PENDING_PAYMENT\n",
       "68881    68882  2014-07-22 00:00:00.0             10000          ON_HOLD\n",
       "68882    68883  2014-07-23 00:00:00.0              5533         COMPLETE\n",
       "\n",
       "[68883 rows x 4 columns]"
      ]
     },
     "execution_count": 14,
     "metadata": {},
     "output_type": "execute_result"
    }
   ],
   "source": [
    "pd.DataFrame(map(lambda rec: rec.split(','), orders), columns=columns)"
   ]
  },
  {
   "cell_type": "code",
   "execution_count": 15,
   "id": "deba3db1",
   "metadata": {},
   "outputs": [],
   "source": [
    "import os\n",
    "import json\n",
    "import csv\n",
    "import pandas as pd\n",
    "\n",
    "def get_df(base_folder, data_set_name, schema_file):\n",
    "    file_names = os.listdir(f'{base_folder}/{data_set_name}')\n",
    "    retail_schemas = json.load(open(schema_file))\n",
    "    columns = list(map(lambda col: col['column_name'], retail_schemas[data_set_name]))\n",
    "    data = []\n",
    "    for file_name in file_names:\n",
    "        file_path = f'{base_folder}/{data_set_name}/{file_name}'\n",
    "        raw_data = open(file_path)\n",
    "        data += list(raw_data)\n",
    "    return pd.DataFrame(map(lambda rec: rec.split(','), data), columns=columns)"
   ]
  },
  {
   "cell_type": "code",
   "execution_count": 16,
   "id": "125d16fa",
   "metadata": {},
   "outputs": [],
   "source": [
    "orders = get_df('/data/retail_db', 'orders', 'schemas/retail_db/retail.json')"
   ]
  },
  {
   "cell_type": "code",
   "execution_count": 17,
   "id": "71a4ea34",
   "metadata": {},
   "outputs": [],
   "source": [
    "order_items = get_df('/data/retail_db', 'order_items', 'schemas/retail_db/retail.json')"
   ]
  },
  {
   "cell_type": "code",
   "execution_count": 18,
   "id": "887b9b27",
   "metadata": {},
   "outputs": [],
   "source": [
    "customers = get_df('/data/retail_db', 'customers', 'schemas/retail_db/retail.json')"
   ]
  },
  {
   "cell_type": "code",
   "execution_count": 19,
   "id": "a46ab220",
   "metadata": {},
   "outputs": [
    {
     "data": {
      "text/html": [
       "<div>\n",
       "<style scoped>\n",
       "    .dataframe tbody tr th:only-of-type {\n",
       "        vertical-align: middle;\n",
       "    }\n",
       "\n",
       "    .dataframe tbody tr th {\n",
       "        vertical-align: top;\n",
       "    }\n",
       "\n",
       "    .dataframe thead th {\n",
       "        text-align: right;\n",
       "    }\n",
       "</style>\n",
       "<table border=\"1\" class=\"dataframe\">\n",
       "  <thead>\n",
       "    <tr style=\"text-align: right;\">\n",
       "      <th></th>\n",
       "      <th>order_id</th>\n",
       "      <th>order_date</th>\n",
       "      <th>order_customer_id</th>\n",
       "      <th>order_status</th>\n",
       "    </tr>\n",
       "  </thead>\n",
       "  <tbody>\n",
       "    <tr>\n",
       "      <th>0</th>\n",
       "      <td>1</td>\n",
       "      <td>2013-07-25 00:00:00.0</td>\n",
       "      <td>11599</td>\n",
       "      <td>CLOSED\\n</td>\n",
       "    </tr>\n",
       "    <tr>\n",
       "      <th>1</th>\n",
       "      <td>2</td>\n",
       "      <td>2013-07-25 00:00:00.0</td>\n",
       "      <td>256</td>\n",
       "      <td>PENDING_PAYMENT\\n</td>\n",
       "    </tr>\n",
       "    <tr>\n",
       "      <th>2</th>\n",
       "      <td>3</td>\n",
       "      <td>2013-07-25 00:00:00.0</td>\n",
       "      <td>12111</td>\n",
       "      <td>COMPLETE\\n</td>\n",
       "    </tr>\n",
       "    <tr>\n",
       "      <th>3</th>\n",
       "      <td>4</td>\n",
       "      <td>2013-07-25 00:00:00.0</td>\n",
       "      <td>8827</td>\n",
       "      <td>CLOSED\\n</td>\n",
       "    </tr>\n",
       "    <tr>\n",
       "      <th>4</th>\n",
       "      <td>5</td>\n",
       "      <td>2013-07-25 00:00:00.0</td>\n",
       "      <td>11318</td>\n",
       "      <td>COMPLETE\\n</td>\n",
       "    </tr>\n",
       "    <tr>\n",
       "      <th>...</th>\n",
       "      <td>...</td>\n",
       "      <td>...</td>\n",
       "      <td>...</td>\n",
       "      <td>...</td>\n",
       "    </tr>\n",
       "    <tr>\n",
       "      <th>68878</th>\n",
       "      <td>68879</td>\n",
       "      <td>2014-07-09 00:00:00.0</td>\n",
       "      <td>778</td>\n",
       "      <td>COMPLETE\\n</td>\n",
       "    </tr>\n",
       "    <tr>\n",
       "      <th>68879</th>\n",
       "      <td>68880</td>\n",
       "      <td>2014-07-13 00:00:00.0</td>\n",
       "      <td>1117</td>\n",
       "      <td>COMPLETE\\n</td>\n",
       "    </tr>\n",
       "    <tr>\n",
       "      <th>68880</th>\n",
       "      <td>68881</td>\n",
       "      <td>2014-07-19 00:00:00.0</td>\n",
       "      <td>2518</td>\n",
       "      <td>PENDING_PAYMENT\\n</td>\n",
       "    </tr>\n",
       "    <tr>\n",
       "      <th>68881</th>\n",
       "      <td>68882</td>\n",
       "      <td>2014-07-22 00:00:00.0</td>\n",
       "      <td>10000</td>\n",
       "      <td>ON_HOLD\\n</td>\n",
       "    </tr>\n",
       "    <tr>\n",
       "      <th>68882</th>\n",
       "      <td>68883</td>\n",
       "      <td>2014-07-23 00:00:00.0</td>\n",
       "      <td>5533</td>\n",
       "      <td>COMPLETE\\n</td>\n",
       "    </tr>\n",
       "  </tbody>\n",
       "</table>\n",
       "<p>68883 rows × 4 columns</p>\n",
       "</div>"
      ],
      "text/plain": [
       "      order_id             order_date order_customer_id       order_status\n",
       "0            1  2013-07-25 00:00:00.0             11599           CLOSED\\n\n",
       "1            2  2013-07-25 00:00:00.0               256  PENDING_PAYMENT\\n\n",
       "2            3  2013-07-25 00:00:00.0             12111         COMPLETE\\n\n",
       "3            4  2013-07-25 00:00:00.0              8827           CLOSED\\n\n",
       "4            5  2013-07-25 00:00:00.0             11318         COMPLETE\\n\n",
       "...        ...                    ...               ...                ...\n",
       "68878    68879  2014-07-09 00:00:00.0               778         COMPLETE\\n\n",
       "68879    68880  2014-07-13 00:00:00.0              1117         COMPLETE\\n\n",
       "68880    68881  2014-07-19 00:00:00.0              2518  PENDING_PAYMENT\\n\n",
       "68881    68882  2014-07-22 00:00:00.0             10000          ON_HOLD\\n\n",
       "68882    68883  2014-07-23 00:00:00.0              5533         COMPLETE\\n\n",
       "\n",
       "[68883 rows x 4 columns]"
      ]
     },
     "execution_count": 19,
     "metadata": {},
     "output_type": "execute_result"
    }
   ],
   "source": [
    "orders"
   ]
  },
  {
   "cell_type": "code",
   "execution_count": null,
   "id": "1e713f2c",
   "metadata": {},
   "outputs": [],
   "source": []
  }
 ],
 "metadata": {
  "kernelspec": {
   "display_name": "Python 3",
   "language": "python",
   "name": "python3"
  },
  "language_info": {
   "codemirror_mode": {
    "name": "ipython",
    "version": 3
   },
   "file_extension": ".py",
   "mimetype": "text/x-python",
   "name": "python",
   "nbconvert_exporter": "python",
   "pygments_lexer": "ipython3",
   "version": "3.6.12"
  }
 },
 "nbformat": 4,
 "nbformat_minor": 5
}
