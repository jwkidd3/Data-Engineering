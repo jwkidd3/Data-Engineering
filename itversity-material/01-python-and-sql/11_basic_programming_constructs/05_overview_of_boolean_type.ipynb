{
 "cells": [
  {
   "cell_type": "markdown",
   "id": "0a2a8a45",
   "metadata": {},
   "source": [
    "## Overview of Boolean Type\n",
    "\n",
    "Let us get into the details related to Boolean.\n",
    "* Boolean typically will have `True` or `False`. In Python it is defined as `bool`.\n",
    "* You can assign boolean value by saying `a = True` or `a = False`.\n",
    "* All comparison operators which we will be seeing as part of the next topic will return bool type.\n",
    "* `not` can be used to get the negation of the `bool` value."
   ]
  },
  {
   "cell_type": "code",
   "execution_count": 1,
   "id": "b785d0b9",
   "metadata": {},
   "outputs": [],
   "source": [
    "a = True"
   ]
  },
  {
   "cell_type": "code",
   "execution_count": 2,
   "id": "14aba561",
   "metadata": {},
   "outputs": [
    {
     "data": {
      "text/plain": [
       "True"
      ]
     },
     "execution_count": 2,
     "metadata": {},
     "output_type": "execute_result"
    }
   ],
   "source": [
    "a"
   ]
  },
  {
   "cell_type": "code",
   "execution_count": 3,
   "id": "c27a1d70",
   "metadata": {},
   "outputs": [
    {
     "data": {
      "text/plain": [
       "bool"
      ]
     },
     "execution_count": 3,
     "metadata": {},
     "output_type": "execute_result"
    }
   ],
   "source": [
    "type(a)"
   ]
  },
  {
   "cell_type": "code",
   "execution_count": 4,
   "id": "697bb15d",
   "metadata": {},
   "outputs": [],
   "source": [
    "a = False"
   ]
  },
  {
   "cell_type": "code",
   "execution_count": 5,
   "id": "0ecd63d9",
   "metadata": {},
   "outputs": [
    {
     "data": {
      "text/plain": [
       "bool"
      ]
     },
     "execution_count": 5,
     "metadata": {},
     "output_type": "execute_result"
    }
   ],
   "source": [
    "type(a)"
   ]
  },
  {
   "cell_type": "code",
   "execution_count": 6,
   "id": "327f74f2",
   "metadata": {},
   "outputs": [
    {
     "data": {
      "text/plain": [
       "True"
      ]
     },
     "execution_count": 6,
     "metadata": {},
     "output_type": "execute_result"
    }
   ],
   "source": [
    "type(a) == bool"
   ]
  },
  {
   "cell_type": "code",
   "execution_count": 7,
   "id": "ab17d5c0",
   "metadata": {},
   "outputs": [],
   "source": [
    "# Assigning 10 to i\n",
    "i = 10"
   ]
  },
  {
   "cell_type": "code",
   "execution_count": 8,
   "id": "232fa0cc",
   "metadata": {},
   "outputs": [
    {
     "data": {
      "text/plain": [
       "True"
      ]
     },
     "execution_count": 8,
     "metadata": {},
     "output_type": "execute_result"
    }
   ],
   "source": [
    "# Comparing i with some number\n",
    "# Returns True\n",
    "i == 10"
   ]
  },
  {
   "cell_type": "code",
   "execution_count": 9,
   "id": "0a5389b8",
   "metadata": {},
   "outputs": [
    {
     "data": {
      "text/plain": [
       "False"
      ]
     },
     "execution_count": 9,
     "metadata": {},
     "output_type": "execute_result"
    }
   ],
   "source": [
    "# Comparing i with some value of type string\n",
    "# Returns False\n",
    "i == '10'"
   ]
  },
  {
   "cell_type": "code",
   "execution_count": 10,
   "id": "aad04320",
   "metadata": {},
   "outputs": [
    {
     "data": {
      "text/plain": [
       "bool"
      ]
     },
     "execution_count": 10,
     "metadata": {},
     "output_type": "execute_result"
    }
   ],
   "source": [
    "type(i == 10)"
   ]
  },
  {
   "cell_type": "code",
   "execution_count": 11,
   "id": "c90b95e0",
   "metadata": {},
   "outputs": [
    {
     "data": {
      "text/plain": [
       "bool"
      ]
     },
     "execution_count": 11,
     "metadata": {},
     "output_type": "execute_result"
    }
   ],
   "source": [
    "type(i == '10')"
   ]
  },
  {
   "cell_type": "code",
   "execution_count": 12,
   "id": "d909cae6",
   "metadata": {},
   "outputs": [],
   "source": [
    "i = 10"
   ]
  },
  {
   "cell_type": "code",
   "execution_count": 13,
   "id": "071e8d63",
   "metadata": {},
   "outputs": [
    {
     "data": {
      "text/plain": [
       "True"
      ]
     },
     "execution_count": 13,
     "metadata": {},
     "output_type": "execute_result"
    }
   ],
   "source": [
    "i == 10"
   ]
  },
  {
   "cell_type": "code",
   "execution_count": 14,
   "id": "bb4a77af",
   "metadata": {},
   "outputs": [
    {
     "data": {
      "text/plain": [
       "False"
      ]
     },
     "execution_count": 14,
     "metadata": {},
     "output_type": "execute_result"
    }
   ],
   "source": [
    "not i == 10"
   ]
  }
 ],
 "metadata": {
  "kernelspec": {
   "display_name": "Python 3",
   "language": "python",
   "name": "python3"
  },
  "language_info": {
   "codemirror_mode": {
    "name": "ipython",
    "version": 3
   },
   "file_extension": ".py",
   "mimetype": "text/x-python",
   "name": "python",
   "nbconvert_exporter": "python",
   "pygments_lexer": "ipython3",
   "version": "3.6.12"
  }
 },
 "nbformat": 4,
 "nbformat_minor": 5
}
