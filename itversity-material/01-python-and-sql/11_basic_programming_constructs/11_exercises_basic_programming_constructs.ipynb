{
 "cells": [
  {
   "cell_type": "markdown",
   "metadata": {},
   "source": [
    "## Exercises - Basic Programming Constructs\n",
    "\n",
    "Please take care of following exercises.\n",
    "\n",
    "* Get sum of integers for a given range."
   ]
  },
  {
   "cell_type": "code",
   "execution_count": 1,
   "metadata": {
    "collapsed": false,
    "jupyter": {
     "outputs_hidden": false
    },
    "pycharm": {
     "name": "#%%\n"
    }
   },
   "outputs": [
    {
     "name": "stdout",
     "output_type": "stream",
     "text": [
      "45\n"
     ]
    }
   ],
   "source": [
    "lb = 5\n",
    "ub = 10\n",
    "\n",
    "total = 0\n",
    "for i in range(lb, ub+1):\n",
    "    total += i\n",
    "    \n",
    "print(total)\n",
    "# Complexity: o(n)"
   ]
  },
  {
   "cell_type": "markdown",
   "metadata": {},
   "source": [
    "* If you recollect your high school mathematics, there is a formula to get sum of integers for 1 to n. It is nothing but **(n * (n + 1))/2**. Using that we should be able to get sum of integers with in a given range between lower bound (lb) and upper bound (ub). It is nothing but\n",
    "\n",
    "**((ub * (ub + 1)) / 2) - (((lb - 1) * lb) / 2)**"
   ]
  },
  {
   "cell_type": "code",
   "execution_count": 2,
   "metadata": {
    "collapsed": false,
    "jupyter": {
     "outputs_hidden": false
    },
    "pycharm": {
     "name": "#%%\n"
    }
   },
   "outputs": [
    {
     "name": "stdout",
     "output_type": "stream",
     "text": [
      "10\n"
     ]
    }
   ],
   "source": [
    "lb1 = lb - 1\n",
    "res1 = lb1 * (lb1 + 1) / 2\n",
    "print(int(res1))"
   ]
  },
  {
   "cell_type": "code",
   "execution_count": null,
   "metadata": {
    "collapsed": false,
    "jupyter": {
     "outputs_hidden": false
    },
    "pycharm": {
     "name": "#%%\n"
    }
   },
   "outputs": [],
   "source": [
    "res2 = ub * (ub + 1) / 2\n",
    "print(int(res2))"
   ]
  },
  {
   "cell_type": "code",
   "execution_count": null,
   "metadata": {},
   "outputs": [],
   "source": [
    "res2 - res1"
   ]
  },
  {
   "cell_type": "code",
   "execution_count": null,
   "metadata": {
    "collapsed": false,
    "jupyter": {
     "outputs_hidden": false
    },
    "pycharm": {
     "name": "#%%\n"
    }
   },
   "outputs": [],
   "source": [
    "print(int(res2 - res1))\n",
    "# Complexity: o(1)"
   ]
  },
  {
   "cell_type": "code",
   "execution_count": null,
   "metadata": {
    "collapsed": false,
    "jupyter": {
     "outputs_hidden": false
    },
    "pycharm": {
     "name": "#%%\n"
    }
   },
   "outputs": [],
   "source": [
    "# o(1) is much better solution when compared to o(n)"
   ]
  },
  {
   "cell_type": "markdown",
   "metadata": {},
   "source": [
    "### Exercise 2 - Get sum of squares of integers\n",
    "\n",
    "Get sum of squares of integers for a given range using **formula** - for 2 to 4, it should be 29. You can google around to get the formula for sum of squares of integers for 1 to n."
   ]
  },
  {
   "cell_type": "code",
   "execution_count": 4,
   "metadata": {},
   "outputs": [
    {
     "name": "stdout",
     "output_type": "stream",
     "text": [
      "sum of given range is : 29\n"
     ]
    }
   ],
   "source": [
    "    sum_of_sqrt = 0\n",
    "    for i in range(2, 4 + 1):\n",
    "        sum_of_sqrt += i * i\n",
    "    print(\"sum of given range is :\",sum_of_sqrt)"
   ]
  },
  {
   "cell_type": "markdown",
   "metadata": {},
   "source": [
    "### Exercise 3 - Get sum of even numbers\n",
    "\n",
    "Get sum of even numbers for a given range - for 5 to 10, it should 24."
   ]
  },
  {
   "cell_type": "code",
   "execution_count": 8,
   "metadata": {},
   "outputs": [
    {
     "name": "stdout",
     "output_type": "stream",
     "text": [
      "sum of even numbers for a given range is : 24\n"
     ]
    }
   ],
   "source": [
    "sum_of_even = 0\n",
    "for i in range(5,11):\n",
    "    if i % 2 == 0:\n",
    "        sum_of_even += i\n",
    "print(\"sum of even numbers for a given range is :\",sum_of_even)"
   ]
  },
  {
   "cell_type": "markdown",
   "metadata": {},
   "source": [
    "### Exercise 4 - Get sum of numbers in a list\n",
    "\n",
    "Create a collection using `[1, 6, 8, 3, 7, 2, 9]` and get sum of even numbers. Answer should be 16."
   ]
  },
  {
   "cell_type": "code",
   "execution_count": 15,
   "metadata": {},
   "outputs": [
    {
     "name": "stdout",
     "output_type": "stream",
     "text": [
      "sum of even numbers in given list : 16\n"
     ]
    }
   ],
   "source": [
    "l=[1, 6, 8, 3, 7, 2, 9]\n",
    "sum_of_even=0\n",
    "for i in l:\n",
    "    if i%2==0:\n",
    "        sum_of_even +=i\n",
    "print(\"sum of even numbers in given list :\",sum_of_even)"
   ]
  },
  {
   "cell_type": "markdown",
   "metadata": {},
   "source": [
    "### Exercise 5 - Get sum of numbers divisible by 3\n",
    "\n",
    "Using the same collection get sum of numbers divisible by 3. Answer should be 18."
   ]
  },
  {
   "cell_type": "code",
   "execution_count": 18,
   "metadata": {},
   "outputs": [
    {
     "name": "stdout",
     "output_type": "stream",
     "text": [
      "sum of numbers divisible by '3' = 18\n"
     ]
    }
   ],
   "source": [
    "l=[1, 6, 8, 3, 7, 2, 9]\n",
    "sum_of_nums=0\n",
    "for i in l:\n",
    "    if i%3 == 0:\n",
    "        sum_of_nums+=i\n",
    "print(\"sum of numbers divisible by '3' =\",sum_of_nums)"
   ]
  }
 ],
 "metadata": {
  "kernelspec": {
   "display_name": "Python 3",
   "language": "python",
   "name": "python3"
  },
  "language_info": {
   "codemirror_mode": {
    "name": "ipython",
    "version": 3
   },
   "file_extension": ".py",
   "mimetype": "text/x-python",
   "name": "python",
   "nbconvert_exporter": "python",
   "pygments_lexer": "ipython3",
   "version": "3.6.12"
  }
 },
 "nbformat": 4,
 "nbformat_minor": 4
}
