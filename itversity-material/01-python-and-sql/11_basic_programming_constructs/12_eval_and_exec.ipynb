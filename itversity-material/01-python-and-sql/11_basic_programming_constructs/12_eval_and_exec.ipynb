{
 "cells": [
  {
   "cell_type": "markdown",
   "id": "caaeb029",
   "metadata": {},
   "source": [
    "## eval and exec\n",
    "\n",
    "Let us understand how we can use `eval` and `exec` in Python.\n",
    "\n",
    "* Typically we perform arithmetic operations like this `a = b + c`.\n",
    "* We can also use `eval` and `exec` for the same.\n",
    "* `eval` typically evaluates the expression. We need to assign the value to some variable when we use `eval`.\n",
    "* `exec` executes the statement."
   ]
  },
  {
   "cell_type": "code",
   "execution_count": 1,
   "id": "74b28d5b",
   "metadata": {},
   "outputs": [],
   "source": [
    "b = 10"
   ]
  },
  {
   "cell_type": "code",
   "execution_count": 2,
   "id": "fc1651a7",
   "metadata": {},
   "outputs": [],
   "source": [
    "c = 20"
   ]
  },
  {
   "cell_type": "code",
   "execution_count": 3,
   "id": "f191db40",
   "metadata": {},
   "outputs": [],
   "source": [
    "a = b + c"
   ]
  },
  {
   "cell_type": "code",
   "execution_count": 4,
   "id": "2fcd9580",
   "metadata": {},
   "outputs": [
    {
     "data": {
      "text/plain": [
       "30"
      ]
     },
     "execution_count": 4,
     "metadata": {},
     "output_type": "execute_result"
    }
   ],
   "source": [
    "a"
   ]
  },
  {
   "cell_type": "code",
   "execution_count": 5,
   "id": "91939b6c",
   "metadata": {},
   "outputs": [
    {
     "data": {
      "text/plain": [
       "30"
      ]
     },
     "execution_count": 5,
     "metadata": {},
     "output_type": "execute_result"
    }
   ],
   "source": [
    "eval('b + c') # Typically we assign the result of eval to a variable or object"
   ]
  },
  {
   "cell_type": "code",
   "execution_count": 6,
   "id": "3e30a49e",
   "metadata": {},
   "outputs": [],
   "source": [
    "exec('d = b + c') # variable or object will be created when we use exec"
   ]
  },
  {
   "cell_type": "code",
   "execution_count": 7,
   "id": "2091aa71",
   "metadata": {},
   "outputs": [
    {
     "data": {
      "text/plain": [
       "30"
      ]
     },
     "execution_count": 7,
     "metadata": {},
     "output_type": "execute_result"
    }
   ],
   "source": [
    "d"
   ]
  },
  {
   "cell_type": "code",
   "execution_count": 8,
   "id": "e96dffcf",
   "metadata": {},
   "outputs": [],
   "source": [
    "def calc(a, b, op):\n",
    "    return eval(f'{a} {op} {b}')"
   ]
  },
  {
   "cell_type": "code",
   "execution_count": 9,
   "id": "573259e1",
   "metadata": {},
   "outputs": [
    {
     "data": {
      "text/plain": [
       "3"
      ]
     },
     "execution_count": 9,
     "metadata": {},
     "output_type": "execute_result"
    }
   ],
   "source": [
    "calc(1, 2, '+')"
   ]
  },
  {
   "cell_type": "code",
   "execution_count": 10,
   "id": "91fbdcfc",
   "metadata": {},
   "outputs": [
    {
     "data": {
      "text/plain": [
       "200"
      ]
     },
     "execution_count": 10,
     "metadata": {},
     "output_type": "execute_result"
    }
   ],
   "source": [
    "calc(10, 20, '*')"
   ]
  }
 ],
 "metadata": {
  "kernelspec": {
   "display_name": "Python 3",
   "language": "python",
   "name": "python3"
  },
  "language_info": {
   "codemirror_mode": {
    "name": "ipython",
    "version": 3
   },
   "file_extension": ".py",
   "mimetype": "text/x-python",
   "name": "python",
   "nbconvert_exporter": "python",
   "pygments_lexer": "ipython3",
   "version": "3.6.12"
  }
 },
 "nbformat": 4,
 "nbformat_minor": 5
}
