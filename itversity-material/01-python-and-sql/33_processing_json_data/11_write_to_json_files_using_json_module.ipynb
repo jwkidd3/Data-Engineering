{
 "cells": [
  {
   "cell_type": "markdown",
   "id": "97d2cacd",
   "metadata": {},
   "source": [
    "## Write to JSON files using json module\n",
    "\n",
    "Let us understand how to write to JSON files using `json` module.\n",
    "* We can use `dump` to save JSON data to files. We can also generate a JSON string from a `dict` using `dumps`."
   ]
  },
  {
   "cell_type": "markdown",
   "id": "f3905a0c",
   "metadata": {},
   "source": [
    "In the below example we will see how to dump a dict to a string. We will see a bit more advanced example of writing list of dicts into JSON file shortly."
   ]
  },
  {
   "cell_type": "code",
   "execution_count": 1,
   "id": "831608e3",
   "metadata": {},
   "outputs": [],
   "source": [
    "course = {'course_name': 'Programming using Python',\n",
    "  'course_author': 'Bob Dillon',\n",
    "  'course_status': 'published',\n",
    "  'course_published_dt': '2020-09-30'}"
   ]
  },
  {
   "cell_type": "code",
   "execution_count": 2,
   "id": "92c3ece3",
   "metadata": {},
   "outputs": [
    {
     "data": {
      "text/plain": [
       "dict"
      ]
     },
     "execution_count": 2,
     "metadata": {},
     "output_type": "execute_result"
    }
   ],
   "source": [
    "type(course)"
   ]
  },
  {
   "cell_type": "code",
   "execution_count": 3,
   "id": "f32f6c38",
   "metadata": {},
   "outputs": [],
   "source": [
    "import json"
   ]
  },
  {
   "cell_type": "code",
   "execution_count": 4,
   "id": "b679010b",
   "metadata": {},
   "outputs": [
    {
     "data": {
      "text/plain": [
       "'{\"course_name\": \"Programming using Python\", \"course_author\": \"Bob Dillon\", \"course_status\": \"published\", \"course_published_dt\": \"2020-09-30\"}'"
      ]
     },
     "execution_count": 4,
     "metadata": {},
     "output_type": "execute_result"
    }
   ],
   "source": [
    "json.dumps(course)"
   ]
  },
  {
   "cell_type": "code",
   "execution_count": 5,
   "id": "9b383d94",
   "metadata": {},
   "outputs": [
    {
     "data": {
      "text/plain": [
       "str"
      ]
     },
     "execution_count": 5,
     "metadata": {},
     "output_type": "execute_result"
    }
   ],
   "source": [
    "type(json.dumps(course))"
   ]
  },
  {
   "cell_type": "code",
   "execution_count": 6,
   "id": "50ce9733",
   "metadata": {},
   "outputs": [],
   "source": [
    "courses = [{'course_name': 'Programming using Python',\n",
    "  'course_author': 'Bob Dillon',\n",
    "  'course_status': 'published',\n",
    "  'course_published_dt': '2020-09-30'},\n",
    " {'course_name': 'Data Engineering using Python',\n",
    "  'course_author': 'Bob Dillon',\n",
    "  'course_status': 'published',\n",
    "  'course_published_dt': '2020-07-15'},\n",
    " {'course_name': 'Data Engineering using Scala',\n",
    "  'course_author': 'Elvis Presley',\n",
    "  'course_status': 'draft',\n",
    "  'course_published_dt': None},\n",
    " {'course_name': 'Programming using Scala',\n",
    "  'course_author': 'Elvis Presley',\n",
    "  'course_status': 'published',\n",
    "  'course_published_dt': '2020-05-12'},\n",
    " {'course_name': 'Programming using Java',\n",
    "  'course_author': 'Mike Jack',\n",
    "  'course_status': 'inactive',\n",
    "  'course_published_dt': '2020-08-10'},\n",
    " {'course_name': 'Web Applications - Python Flask',\n",
    "  'course_author': 'Bob Dillon',\n",
    "  'course_status': 'inactive',\n",
    "  'course_published_dt': '2020-07-20'},\n",
    " {'course_name': 'Web Applications - Java Spring',\n",
    "  'course_author': 'Mike Jack',\n",
    "  'course_status': 'draft',\n",
    "  'course_published_dt': None},\n",
    " {'course_name': 'Pipeline Orchestration - Python',\n",
    "  'course_author': 'Bob Dillon',\n",
    "  'course_status': 'draft',\n",
    "  'course_published_dt': None},\n",
    " {'course_name': 'Streaming Pipelines - Python',\n",
    "  'course_author': 'Bob Dillon',\n",
    "  'course_status': 'published',\n",
    "  'course_published_dt': '2020-10-05'},\n",
    " {'course_name': 'Web Applications - Scala Play',\n",
    "  'course_author': 'Elvis Presley',\n",
    "  'course_status': 'inactive',\n",
    "  'course_published_dt': '2020-09-30'},\n",
    " {'course_name': 'Web Applications - Python Django',\n",
    "  'course_author': 'Bob Dillon',\n",
    "  'course_status': 'published',\n",
    "  'course_published_dt': '2020-06-23'},\n",
    " {'course_name': 'Server Automation - Ansible',\n",
    "  'course_author': 'Uncle Sam',\n",
    "  'course_status': 'published',\n",
    "  'course_published_dt': '2020-07-05'}]"
   ]
  },
  {
   "cell_type": "code",
   "execution_count": 7,
   "id": "99a3dc7d",
   "metadata": {},
   "outputs": [
    {
     "data": {
      "text/plain": [
       "'[{\"course_name\": \"Programming using Python\", \"course_author\": \"Bob Dillon\", \"course_status\": \"published\", \"course_published_dt\": \"2020-09-30\"}, {\"course_name\": \"Data Engineering using Python\", \"course_author\": \"Bob Dillon\", \"course_status\": \"published\", \"course_published_dt\": \"2020-07-15\"}, {\"course_name\": \"Data Engineering using Scala\", \"course_author\": \"Elvis Presley\", \"course_status\": \"draft\", \"course_published_dt\": null}, {\"course_name\": \"Programming using Scala\", \"course_author\": \"Elvis Presley\", \"course_status\": \"published\", \"course_published_dt\": \"2020-05-12\"}, {\"course_name\": \"Programming using Java\", \"course_author\": \"Mike Jack\", \"course_status\": \"inactive\", \"course_published_dt\": \"2020-08-10\"}, {\"course_name\": \"Web Applications - Python Flask\", \"course_author\": \"Bob Dillon\", \"course_status\": \"inactive\", \"course_published_dt\": \"2020-07-20\"}, {\"course_name\": \"Web Applications - Java Spring\", \"course_author\": \"Mike Jack\", \"course_status\": \"draft\", \"course_published_dt\": null}, {\"course_name\": \"Pipeline Orchestration - Python\", \"course_author\": \"Bob Dillon\", \"course_status\": \"draft\", \"course_published_dt\": null}, {\"course_name\": \"Streaming Pipelines - Python\", \"course_author\": \"Bob Dillon\", \"course_status\": \"published\", \"course_published_dt\": \"2020-10-05\"}, {\"course_name\": \"Web Applications - Scala Play\", \"course_author\": \"Elvis Presley\", \"course_status\": \"inactive\", \"course_published_dt\": \"2020-09-30\"}, {\"course_name\": \"Web Applications - Python Django\", \"course_author\": \"Bob Dillon\", \"course_status\": \"published\", \"course_published_dt\": \"2020-06-23\"}, {\"course_name\": \"Server Automation - Ansible\", \"course_author\": \"Uncle Sam\", \"course_status\": \"published\", \"course_published_dt\": \"2020-07-05\"}]'"
      ]
     },
     "execution_count": 7,
     "metadata": {},
     "output_type": "execute_result"
    }
   ],
   "source": [
    "json.dumps(courses) # This will dump json as a string object (not to file)"
   ]
  },
  {
   "cell_type": "markdown",
   "id": "02a16527",
   "metadata": {},
   "source": [
    "Here are the steps involved in writing data in single JSON to JSON files using `json` module.\n",
    "* Make sure you have a dict or any other object which can be converted to single valid json.\n",
    "* Open the file in write mode.\n",
    "* Write the data into the file. You have to use `json.dump` to write to file.\n",
    "* Close the file."
   ]
  },
  {
   "cell_type": "code",
   "execution_count": 8,
   "id": "bea04d68",
   "metadata": {},
   "outputs": [],
   "source": [
    "# list of dicts\n",
    "\n",
    "courses = [{'course_name': 'Programming using Python',\n",
    "  'course_author': 'Bob Dillon',\n",
    "  'course_status': 'published',\n",
    "  'course_published_dt': '2020-09-30'},\n",
    " {'course_name': 'Data Engineering using Python',\n",
    "  'course_author': 'Bob Dillon',\n",
    "  'course_status': 'published',\n",
    "  'course_published_dt': '2020-07-15'},\n",
    " {'course_name': 'Data Engineering using Scala',\n",
    "  'course_author': 'Elvis Presley',\n",
    "  'course_status': 'draft',\n",
    "  'course_published_dt': None},\n",
    " {'course_name': 'Programming using Scala',\n",
    "  'course_author': 'Elvis Presley',\n",
    "  'course_status': 'published',\n",
    "  'course_published_dt': '2020-05-12'},\n",
    " {'course_name': 'Programming using Java',\n",
    "  'course_author': 'Mike Jack',\n",
    "  'course_status': 'inactive',\n",
    "  'course_published_dt': '2020-08-10'},\n",
    " {'course_name': 'Web Applications - Python Flask',\n",
    "  'course_author': 'Bob Dillon',\n",
    "  'course_status': 'inactive',\n",
    "  'course_published_dt': '2020-07-20'},\n",
    " {'course_name': 'Web Applications - Java Spring',\n",
    "  'course_author': 'Mike Jack',\n",
    "  'course_status': 'draft',\n",
    "  'course_published_dt': None},\n",
    " {'course_name': 'Pipeline Orchestration - Python',\n",
    "  'course_author': 'Bob Dillon',\n",
    "  'course_status': 'draft',\n",
    "  'course_published_dt': None},\n",
    " {'course_name': 'Streaming Pipelines - Python',\n",
    "  'course_author': 'Bob Dillon',\n",
    "  'course_status': 'published',\n",
    "  'course_published_dt': '2020-10-05'},\n",
    " {'course_name': 'Web Applications - Scala Play',\n",
    "  'course_author': 'Elvis Presley',\n",
    "  'course_status': 'inactive',\n",
    "  'course_published_dt': '2020-09-30'},\n",
    " {'course_name': 'Web Applications - Python Django',\n",
    "  'course_author': 'Bob Dillon',\n",
    "  'course_status': 'published',\n",
    "  'course_published_dt': '2020-06-23'},\n",
    " {'course_name': 'Server Automation - Ansible',\n",
    "  'course_author': 'Uncle Sam',\n",
    "  'course_status': 'published',\n",
    "  'course_published_dt': '2020-07-05'}]"
   ]
  },
  {
   "cell_type": "code",
   "execution_count": 9,
   "id": "3c785ad0",
   "metadata": {},
   "outputs": [
    {
     "data": {
      "text/plain": [
       "\u001b[0;31mSignature:\u001b[0m\n",
       "\u001b[0mjson\u001b[0m\u001b[0;34m.\u001b[0m\u001b[0mdump\u001b[0m\u001b[0;34m(\u001b[0m\u001b[0;34m\u001b[0m\n",
       "\u001b[0;34m\u001b[0m    \u001b[0mobj\u001b[0m\u001b[0;34m,\u001b[0m\u001b[0;34m\u001b[0m\n",
       "\u001b[0;34m\u001b[0m    \u001b[0mfp\u001b[0m\u001b[0;34m,\u001b[0m\u001b[0;34m\u001b[0m\n",
       "\u001b[0;34m\u001b[0m    \u001b[0;34m*\u001b[0m\u001b[0;34m,\u001b[0m\u001b[0;34m\u001b[0m\n",
       "\u001b[0;34m\u001b[0m    \u001b[0mskipkeys\u001b[0m\u001b[0;34m=\u001b[0m\u001b[0;32mFalse\u001b[0m\u001b[0;34m,\u001b[0m\u001b[0;34m\u001b[0m\n",
       "\u001b[0;34m\u001b[0m    \u001b[0mensure_ascii\u001b[0m\u001b[0;34m=\u001b[0m\u001b[0;32mTrue\u001b[0m\u001b[0;34m,\u001b[0m\u001b[0;34m\u001b[0m\n",
       "\u001b[0;34m\u001b[0m    \u001b[0mcheck_circular\u001b[0m\u001b[0;34m=\u001b[0m\u001b[0;32mTrue\u001b[0m\u001b[0;34m,\u001b[0m\u001b[0;34m\u001b[0m\n",
       "\u001b[0;34m\u001b[0m    \u001b[0mallow_nan\u001b[0m\u001b[0;34m=\u001b[0m\u001b[0;32mTrue\u001b[0m\u001b[0;34m,\u001b[0m\u001b[0;34m\u001b[0m\n",
       "\u001b[0;34m\u001b[0m    \u001b[0mcls\u001b[0m\u001b[0;34m=\u001b[0m\u001b[0;32mNone\u001b[0m\u001b[0;34m,\u001b[0m\u001b[0;34m\u001b[0m\n",
       "\u001b[0;34m\u001b[0m    \u001b[0mindent\u001b[0m\u001b[0;34m=\u001b[0m\u001b[0;32mNone\u001b[0m\u001b[0;34m,\u001b[0m\u001b[0;34m\u001b[0m\n",
       "\u001b[0;34m\u001b[0m    \u001b[0mseparators\u001b[0m\u001b[0;34m=\u001b[0m\u001b[0;32mNone\u001b[0m\u001b[0;34m,\u001b[0m\u001b[0;34m\u001b[0m\n",
       "\u001b[0;34m\u001b[0m    \u001b[0mdefault\u001b[0m\u001b[0;34m=\u001b[0m\u001b[0;32mNone\u001b[0m\u001b[0;34m,\u001b[0m\u001b[0;34m\u001b[0m\n",
       "\u001b[0;34m\u001b[0m    \u001b[0msort_keys\u001b[0m\u001b[0;34m=\u001b[0m\u001b[0;32mFalse\u001b[0m\u001b[0;34m,\u001b[0m\u001b[0;34m\u001b[0m\n",
       "\u001b[0;34m\u001b[0m    \u001b[0;34m**\u001b[0m\u001b[0mkw\u001b[0m\u001b[0;34m,\u001b[0m\u001b[0;34m\u001b[0m\n",
       "\u001b[0;34m\u001b[0m\u001b[0;34m)\u001b[0m\u001b[0;34m\u001b[0m\u001b[0;34m\u001b[0m\u001b[0m\n",
       "\u001b[0;31mDocstring:\u001b[0m\n",
       "Serialize ``obj`` as a JSON formatted stream to ``fp`` (a\n",
       "``.write()``-supporting file-like object).\n",
       "\n",
       "If ``skipkeys`` is true then ``dict`` keys that are not basic types\n",
       "(``str``, ``int``, ``float``, ``bool``, ``None``) will be skipped\n",
       "instead of raising a ``TypeError``.\n",
       "\n",
       "If ``ensure_ascii`` is false, then the strings written to ``fp`` can\n",
       "contain non-ASCII characters if they appear in strings contained in\n",
       "``obj``. Otherwise, all such characters are escaped in JSON strings.\n",
       "\n",
       "If ``check_circular`` is false, then the circular reference check\n",
       "for container types will be skipped and a circular reference will\n",
       "result in an ``OverflowError`` (or worse).\n",
       "\n",
       "If ``allow_nan`` is false, then it will be a ``ValueError`` to\n",
       "serialize out of range ``float`` values (``nan``, ``inf``, ``-inf``)\n",
       "in strict compliance of the JSON specification, instead of using the\n",
       "JavaScript equivalents (``NaN``, ``Infinity``, ``-Infinity``).\n",
       "\n",
       "If ``indent`` is a non-negative integer, then JSON array elements and\n",
       "object members will be pretty-printed with that indent level. An indent\n",
       "level of 0 will only insert newlines. ``None`` is the most compact\n",
       "representation.\n",
       "\n",
       "If specified, ``separators`` should be an ``(item_separator, key_separator)``\n",
       "tuple.  The default is ``(', ', ': ')`` if *indent* is ``None`` and\n",
       "``(',', ': ')`` otherwise.  To get the most compact JSON representation,\n",
       "you should specify ``(',', ':')`` to eliminate whitespace.\n",
       "\n",
       "``default(obj)`` is a function that should return a serializable version\n",
       "of obj or raise TypeError. The default simply raises TypeError.\n",
       "\n",
       "If *sort_keys* is true (default: ``False``), then the output of\n",
       "dictionaries will be sorted by key.\n",
       "\n",
       "To use a custom ``JSONEncoder`` subclass (e.g. one that overrides the\n",
       "``.default()`` method to serialize additional types), specify it with\n",
       "the ``cls`` kwarg; otherwise ``JSONEncoder`` is used.\n",
       "\u001b[0;31mFile:\u001b[0m      /opt/anaconda3/envs/beakerx/lib/python3.6/json/__init__.py\n",
       "\u001b[0;31mType:\u001b[0m      function\n"
      ]
     },
     "metadata": {},
     "output_type": "display_data"
    }
   ],
   "source": [
    "json.dump?"
   ]
  },
  {
   "cell_type": "code",
   "execution_count": null,
   "id": "c436bdf8",
   "metadata": {},
   "outputs": [],
   "source": [
    "open?"
   ]
  },
  {
   "cell_type": "code",
   "execution_count": 11,
   "id": "2bb3cec7",
   "metadata": {},
   "outputs": [],
   "source": [
    "!mkdir -p data/courses"
   ]
  },
  {
   "cell_type": "code",
   "execution_count": 12,
   "id": "3578f7b1",
   "metadata": {},
   "outputs": [],
   "source": [
    "# Opening the file in write mode\n",
    "courses_file = open('data/courses/courses.json', 'w')"
   ]
  },
  {
   "cell_type": "code",
   "execution_count": 13,
   "id": "7365837b",
   "metadata": {},
   "outputs": [],
   "source": [
    "# Dumpling the list of dicts as JSON array into the file\n",
    "json.dump(courses, courses_file)"
   ]
  },
  {
   "cell_type": "code",
   "execution_count": 14,
   "id": "8da0b149",
   "metadata": {},
   "outputs": [],
   "source": [
    "# Closing the file\n",
    "courses_file.close()"
   ]
  },
  {
   "cell_type": "code",
   "execution_count": 15,
   "id": "1805870f",
   "metadata": {},
   "outputs": [
    {
     "name": "stdout",
     "output_type": "stream",
     "text": [
      "-rw-r--r-- 1 itv002480 students 1729 May  3 05:18 data/courses/courses.json\n"
     ]
    }
   ],
   "source": [
    "!ls -ltr data/courses/courses.json"
   ]
  },
  {
   "cell_type": "code",
   "execution_count": 16,
   "id": "4ee2508e",
   "metadata": {},
   "outputs": [
    {
     "name": "stdout",
     "output_type": "stream",
     "text": [
      "[{\"course_name\": \"Programming using Python\", \"course_author\": \"Bob Dillon\", \"course_status\": \"published\", \"course_published_dt\": \"2020-09-30\"}, {\"course_name\": \"Data Engineering using Python\", \"course_author\": \"Bob Dillon\", \"course_status\": \"published\", \"course_published_dt\": \"2020-07-15\"}, {\"course_name\": \"Data Engineering using Scala\", \"course_author\": \"Elvis Presley\", \"course_status\": \"draft\", \"course_published_dt\": null}, {\"course_name\": \"Programming using Scala\", \"course_author\": \"Elvis Presley\", \"course_status\": \"published\", \"course_published_dt\": \"2020-05-12\"}, {\"course_name\": \"Programming using Java\", \"course_author\": \"Mike Jack\", \"course_status\": \"inactive\", \"course_published_dt\": \"2020-08-10\"}, {\"course_name\": \"Web Applications - Python Flask\", \"course_author\": \"Bob Dillon\", \"course_status\": \"inactive\", \"course_published_dt\": \"2020-07-20\"}, {\"course_name\": \"Web Applications - Java Spring\", \"course_author\": \"Mike Jack\", \"course_status\": \"draft\", \"course_published_dt\": null}, {\"course_name\": \"Pipeline Orchestration - Python\", \"course_author\": \"Bob Dillon\", \"course_status\": \"draft\", \"course_published_dt\": null}, {\"course_name\": \"Streaming Pipelines - Python\", \"course_author\": \"Bob Dillon\", \"course_status\": \"published\", \"course_published_dt\": \"2020-10-05\"}, {\"course_name\": \"Web Applications - Scala Play\", \"course_author\": \"Elvis Presley\", \"course_status\": \"inactive\", \"course_published_dt\": \"2020-09-30\"}, {\"course_name\": \"Web Applications - Python Django\", \"course_author\": \"Bob Dillon\", \"course_status\": \"published\", \"course_published_dt\": \"2020-06-23\"}, {\"course_name\": \"Server Automation - Ansible\", \"course_author\": \"Uncle Sam\", \"course_status\": \"published\", \"course_published_dt\": \"2020-07-05\"}]"
     ]
    }
   ],
   "source": [
    "!cat data/courses/courses.json"
   ]
  },
  {
   "cell_type": "markdown",
   "id": "6813c95d",
   "metadata": {},
   "source": [
    "Here are the steps involved in dumping a JSON array to the file.\n",
    "* Make sure you have list of dicts.\n",
    "* Open the file in write mode.\n",
    "* Write the data into the file. You have to use `json.dump` to write to file.\n",
    "* You have to dump one element at a time into the file until all the dicts are written to file.\n",
    "* Close the file."
   ]
  },
  {
   "cell_type": "code",
   "execution_count": 17,
   "id": "2fcb30ad",
   "metadata": {},
   "outputs": [],
   "source": [
    "!rm data/courses/courses.json"
   ]
  },
  {
   "cell_type": "code",
   "execution_count": 18,
   "id": "5ef25717",
   "metadata": {},
   "outputs": [],
   "source": [
    "# Opening the file in write mode\n",
    "courses_file = open('data/courses/courses.json', 'w')"
   ]
  },
  {
   "cell_type": "code",
   "execution_count": 19,
   "id": "8e87f657",
   "metadata": {},
   "outputs": [
    {
     "data": {
      "text/plain": [
       "12"
      ]
     },
     "execution_count": 19,
     "metadata": {},
     "output_type": "execute_result"
    }
   ],
   "source": [
    "len(courses)"
   ]
  },
  {
   "cell_type": "code",
   "execution_count": 20,
   "id": "25216ec6",
   "metadata": {},
   "outputs": [],
   "source": [
    "# Writing each dict as JSON document as line in the file\n",
    "for course in courses:\n",
    "    json.dump(course, courses_file) # Writing one JSON at a time.\n",
    "    courses_file.write('\\n') # we need to add new line character after each JSON document in the file."
   ]
  },
  {
   "cell_type": "code",
   "execution_count": 21,
   "id": "f70f653c",
   "metadata": {},
   "outputs": [],
   "source": [
    "# Closing the file\n",
    "courses_file.close()"
   ]
  },
  {
   "cell_type": "code",
   "execution_count": 22,
   "id": "052f900e",
   "metadata": {},
   "outputs": [
    {
     "name": "stdout",
     "output_type": "stream",
     "text": [
      "-rw-r--r-- 1 itv002480 students 1717 May  3 05:20 data/courses/courses.json\n"
     ]
    }
   ],
   "source": [
    "!ls -ltr data/courses/courses.json"
   ]
  },
  {
   "cell_type": "code",
   "execution_count": 23,
   "id": "70b82b9d",
   "metadata": {},
   "outputs": [
    {
     "name": "stdout",
     "output_type": "stream",
     "text": [
      "{\"course_name\": \"Programming using Python\", \"course_author\": \"Bob Dillon\", \"course_status\": \"published\", \"course_published_dt\": \"2020-09-30\"}\n",
      "{\"course_name\": \"Data Engineering using Python\", \"course_author\": \"Bob Dillon\", \"course_status\": \"published\", \"course_published_dt\": \"2020-07-15\"}\n",
      "{\"course_name\": \"Data Engineering using Scala\", \"course_author\": \"Elvis Presley\", \"course_status\": \"draft\", \"course_published_dt\": null}\n",
      "{\"course_name\": \"Programming using Scala\", \"course_author\": \"Elvis Presley\", \"course_status\": \"published\", \"course_published_dt\": \"2020-05-12\"}\n",
      "{\"course_name\": \"Programming using Java\", \"course_author\": \"Mike Jack\", \"course_status\": \"inactive\", \"course_published_dt\": \"2020-08-10\"}\n",
      "{\"course_name\": \"Web Applications - Python Flask\", \"course_author\": \"Bob Dillon\", \"course_status\": \"inactive\", \"course_published_dt\": \"2020-07-20\"}\n",
      "{\"course_name\": \"Web Applications - Java Spring\", \"course_author\": \"Mike Jack\", \"course_status\": \"draft\", \"course_published_dt\": null}\n",
      "{\"course_name\": \"Pipeline Orchestration - Python\", \"course_author\": \"Bob Dillon\", \"course_status\": \"draft\", \"course_published_dt\": null}\n",
      "{\"course_name\": \"Streaming Pipelines - Python\", \"course_author\": \"Bob Dillon\", \"course_status\": \"published\", \"course_published_dt\": \"2020-10-05\"}\n",
      "{\"course_name\": \"Web Applications - Scala Play\", \"course_author\": \"Elvis Presley\", \"course_status\": \"inactive\", \"course_published_dt\": \"2020-09-30\"}\n",
      "{\"course_name\": \"Web Applications - Python Django\", \"course_author\": \"Bob Dillon\", \"course_status\": \"published\", \"course_published_dt\": \"2020-06-23\"}\n",
      "{\"course_name\": \"Server Automation - Ansible\", \"course_author\": \"Uncle Sam\", \"course_status\": \"published\", \"course_published_dt\": \"2020-07-05\"}\n"
     ]
    }
   ],
   "source": [
    "!cat data/courses/courses.json"
   ]
  },
  {
   "cell_type": "code",
   "execution_count": 24,
   "id": "8e048f07",
   "metadata": {},
   "outputs": [],
   "source": [
    "import pandas as pd"
   ]
  },
  {
   "cell_type": "code",
   "execution_count": 25,
   "id": "d0ea5755",
   "metadata": {},
   "outputs": [
    {
     "data": {
      "text/html": [
       "<div>\n",
       "<style scoped>\n",
       "    .dataframe tbody tr th:only-of-type {\n",
       "        vertical-align: middle;\n",
       "    }\n",
       "\n",
       "    .dataframe tbody tr th {\n",
       "        vertical-align: top;\n",
       "    }\n",
       "\n",
       "    .dataframe thead th {\n",
       "        text-align: right;\n",
       "    }\n",
       "</style>\n",
       "<table border=\"1\" class=\"dataframe\">\n",
       "  <thead>\n",
       "    <tr style=\"text-align: right;\">\n",
       "      <th></th>\n",
       "      <th>course_name</th>\n",
       "      <th>course_author</th>\n",
       "      <th>course_status</th>\n",
       "      <th>course_published_dt</th>\n",
       "    </tr>\n",
       "  </thead>\n",
       "  <tbody>\n",
       "    <tr>\n",
       "      <th>0</th>\n",
       "      <td>Programming using Python</td>\n",
       "      <td>Bob Dillon</td>\n",
       "      <td>published</td>\n",
       "      <td>2020-09-30</td>\n",
       "    </tr>\n",
       "    <tr>\n",
       "      <th>1</th>\n",
       "      <td>Data Engineering using Python</td>\n",
       "      <td>Bob Dillon</td>\n",
       "      <td>published</td>\n",
       "      <td>2020-07-15</td>\n",
       "    </tr>\n",
       "    <tr>\n",
       "      <th>2</th>\n",
       "      <td>Data Engineering using Scala</td>\n",
       "      <td>Elvis Presley</td>\n",
       "      <td>draft</td>\n",
       "      <td>None</td>\n",
       "    </tr>\n",
       "    <tr>\n",
       "      <th>3</th>\n",
       "      <td>Programming using Scala</td>\n",
       "      <td>Elvis Presley</td>\n",
       "      <td>published</td>\n",
       "      <td>2020-05-12</td>\n",
       "    </tr>\n",
       "    <tr>\n",
       "      <th>4</th>\n",
       "      <td>Programming using Java</td>\n",
       "      <td>Mike Jack</td>\n",
       "      <td>inactive</td>\n",
       "      <td>2020-08-10</td>\n",
       "    </tr>\n",
       "    <tr>\n",
       "      <th>5</th>\n",
       "      <td>Web Applications - Python Flask</td>\n",
       "      <td>Bob Dillon</td>\n",
       "      <td>inactive</td>\n",
       "      <td>2020-07-20</td>\n",
       "    </tr>\n",
       "    <tr>\n",
       "      <th>6</th>\n",
       "      <td>Web Applications - Java Spring</td>\n",
       "      <td>Mike Jack</td>\n",
       "      <td>draft</td>\n",
       "      <td>None</td>\n",
       "    </tr>\n",
       "    <tr>\n",
       "      <th>7</th>\n",
       "      <td>Pipeline Orchestration - Python</td>\n",
       "      <td>Bob Dillon</td>\n",
       "      <td>draft</td>\n",
       "      <td>None</td>\n",
       "    </tr>\n",
       "    <tr>\n",
       "      <th>8</th>\n",
       "      <td>Streaming Pipelines - Python</td>\n",
       "      <td>Bob Dillon</td>\n",
       "      <td>published</td>\n",
       "      <td>2020-10-05</td>\n",
       "    </tr>\n",
       "    <tr>\n",
       "      <th>9</th>\n",
       "      <td>Web Applications - Scala Play</td>\n",
       "      <td>Elvis Presley</td>\n",
       "      <td>inactive</td>\n",
       "      <td>2020-09-30</td>\n",
       "    </tr>\n",
       "    <tr>\n",
       "      <th>10</th>\n",
       "      <td>Web Applications - Python Django</td>\n",
       "      <td>Bob Dillon</td>\n",
       "      <td>published</td>\n",
       "      <td>2020-06-23</td>\n",
       "    </tr>\n",
       "    <tr>\n",
       "      <th>11</th>\n",
       "      <td>Server Automation - Ansible</td>\n",
       "      <td>Uncle Sam</td>\n",
       "      <td>published</td>\n",
       "      <td>2020-07-05</td>\n",
       "    </tr>\n",
       "  </tbody>\n",
       "</table>\n",
       "</div>"
      ],
      "text/plain": [
       "                         course_name  course_author course_status  \\\n",
       "0           Programming using Python     Bob Dillon     published   \n",
       "1      Data Engineering using Python     Bob Dillon     published   \n",
       "2       Data Engineering using Scala  Elvis Presley         draft   \n",
       "3            Programming using Scala  Elvis Presley     published   \n",
       "4             Programming using Java      Mike Jack      inactive   \n",
       "5    Web Applications - Python Flask     Bob Dillon      inactive   \n",
       "6     Web Applications - Java Spring      Mike Jack         draft   \n",
       "7    Pipeline Orchestration - Python     Bob Dillon         draft   \n",
       "8       Streaming Pipelines - Python     Bob Dillon     published   \n",
       "9      Web Applications - Scala Play  Elvis Presley      inactive   \n",
       "10  Web Applications - Python Django     Bob Dillon     published   \n",
       "11       Server Automation - Ansible      Uncle Sam     published   \n",
       "\n",
       "   course_published_dt  \n",
       "0           2020-09-30  \n",
       "1           2020-07-15  \n",
       "2                 None  \n",
       "3           2020-05-12  \n",
       "4           2020-08-10  \n",
       "5           2020-07-20  \n",
       "6                 None  \n",
       "7                 None  \n",
       "8           2020-10-05  \n",
       "9           2020-09-30  \n",
       "10          2020-06-23  \n",
       "11          2020-07-05  "
      ]
     },
     "execution_count": 25,
     "metadata": {},
     "output_type": "execute_result"
    }
   ],
   "source": [
    "pd.read_json('data/courses/courses.json', lines=True)"
   ]
  },
  {
   "cell_type": "code",
   "execution_count": null,
   "id": "9c8f0acb",
   "metadata": {},
   "outputs": [],
   "source": []
  }
 ],
 "metadata": {
  "kernelspec": {
   "display_name": "Pyspark 3",
   "language": "python",
   "name": "pyspark3"
  },
  "language_info": {
   "codemirror_mode": {
    "name": "ipython",
    "version": 3
   },
   "file_extension": ".py",
   "mimetype": "text/x-python",
   "name": "python",
   "nbconvert_exporter": "python",
   "pygments_lexer": "ipython3",
   "version": "3.6.12"
  }
 },
 "nbformat": 4,
 "nbformat_minor": 5
}
