{
 "cells": [
  {
   "cell_type": "markdown",
   "id": "134e56b2",
   "metadata": {},
   "source": [
    "## Overview of CSV Module\n",
    "\n",
    "Let us get an overview of CSV Module. It provide some wrapper functions to provide structure to the delimited data in collections as well as to write the collections back in the form of delimited records.\n",
    "* You need to import `csv` module to use the functions that are part of it.\n",
    "* It exposes several APIs to deal with collections which contain delimited strings. Most of them are to read and write."
   ]
  },
  {
   "cell_type": "code",
   "execution_count": 1,
   "id": "ecabed2d",
   "metadata": {},
   "outputs": [],
   "source": [
    "import csv"
   ]
  },
  {
   "cell_type": "markdown",
   "id": "62c87573",
   "metadata": {},
   "source": [
    "* Let us see how we can read the list with delimited strings using `csv.reader`."
   ]
  },
  {
   "cell_type": "code",
   "execution_count": 2,
   "id": "67cbabac",
   "metadata": {},
   "outputs": [],
   "source": [
    "l = ['1,Scott,Tiger', '2,Donald,Duck']"
   ]
  },
  {
   "cell_type": "code",
   "execution_count": 5,
   "id": "5a91d52a",
   "metadata": {},
   "outputs": [
    {
     "data": {
      "text/plain": [
       "\u001b[0;31mDocstring:\u001b[0m\n",
       "csv_reader = reader(iterable [, dialect='excel']\n",
       "                        [optional keyword args])\n",
       "    for row in csv_reader:\n",
       "        process(row)\n",
       "\n",
       "The \"iterable\" argument can be any object that returns a line\n",
       "of input for each iteration, such as a file object or a list.  The\n",
       "optional \"dialect\" parameter is discussed below.  The function\n",
       "also accepts optional keyword arguments which override settings\n",
       "provided by the dialect.\n",
       "\n",
       "The returned object is an iterator.  Each iteration returns a row\n",
       "of the CSV file (which can span multiple input lines).\n",
       "\u001b[0;31mType:\u001b[0m      builtin_function_or_method\n"
      ]
     },
     "metadata": {},
     "output_type": "display_data"
    }
   ],
   "source": [
    "csv.reader?"
   ]
  },
  {
   "cell_type": "code",
   "execution_count": 6,
   "id": "dd5137c0",
   "metadata": {},
   "outputs": [
    {
     "data": {
      "text/plain": [
       "<_csv.reader at 0x7fa587fad278>"
      ]
     },
     "execution_count": 6,
     "metadata": {},
     "output_type": "execute_result"
    }
   ],
   "source": [
    "csv.reader(l)"
   ]
  },
  {
   "cell_type": "code",
   "execution_count": 7,
   "id": "f2967e47",
   "metadata": {},
   "outputs": [
    {
     "data": {
      "text/plain": [
       "[['1', 'Scott', 'Tiger'], ['2', 'Donald', 'Duck']]"
      ]
     },
     "execution_count": 7,
     "metadata": {},
     "output_type": "execute_result"
    }
   ],
   "source": [
    "list(csv.reader(l))"
   ]
  },
  {
   "cell_type": "code",
   "execution_count": 8,
   "id": "432f8e4e",
   "metadata": {},
   "outputs": [
    {
     "name": "stdout",
     "output_type": "stream",
     "text": [
      "['1', 'Scott', 'Tiger']\n",
      "['2', 'Donald', 'Duck']\n"
     ]
    }
   ],
   "source": [
    "for item in list(csv.reader(l)):\n",
    "    print(item)"
   ]
  },
  {
   "cell_type": "code",
   "execution_count": 12,
   "id": "6176ebbb",
   "metadata": {},
   "outputs": [],
   "source": [
    "l = ['1\\tScott\\tTiger', '2\\tDonald\\tDuck']"
   ]
  },
  {
   "cell_type": "code",
   "execution_count": 13,
   "id": "68c44cbf",
   "metadata": {},
   "outputs": [
    {
     "data": {
      "text/plain": [
       "[['1', 'Scott', 'Tiger'], ['2', 'Donald', 'Duck']]"
      ]
     },
     "execution_count": 13,
     "metadata": {},
     "output_type": "execute_result"
    }
   ],
   "source": [
    "list(csv.reader(l, delimiter='\\t'))"
   ]
  },
  {
   "cell_type": "code",
   "execution_count": 14,
   "id": "69907a16",
   "metadata": {},
   "outputs": [],
   "source": [
    "lt = [(1, 'Scott', 'Tiger'), (2, 'Donald', 'Duck')]"
   ]
  },
  {
   "cell_type": "markdown",
   "id": "576d2d92",
   "metadata": {},
   "source": [
    "Now let us see how we can write list of tuples to the file using `csv.writer`.\n",
    "* First we need to create file object in write mode.\n",
    "* We need to create csv writer object using `csv.writer`. By default, the object will be created with `,` as delimiter or separator.\n",
    "* We can pass key word argument `delimiter` along with the character using which we want the data to be separated by using specific character."
   ]
  },
  {
   "cell_type": "code",
   "execution_count": 15,
   "id": "42e95b16",
   "metadata": {},
   "outputs": [
    {
     "data": {
      "text/plain": [
       "\u001b[0;31mDocstring:\u001b[0m\n",
       "csv_writer = csv.writer(fileobj [, dialect='excel']\n",
       "                            [optional keyword args])\n",
       "    for row in sequence:\n",
       "        csv_writer.writerow(row)\n",
       "\n",
       "    [or]\n",
       "\n",
       "    csv_writer = csv.writer(fileobj [, dialect='excel']\n",
       "                            [optional keyword args])\n",
       "    csv_writer.writerows(rows)\n",
       "\n",
       "The \"fileobj\" argument can be any object that supports the file API.\n",
       "\u001b[0;31mType:\u001b[0m      builtin_function_or_method\n"
      ]
     },
     "metadata": {},
     "output_type": "display_data"
    }
   ],
   "source": [
    "csv.writer?"
   ]
  },
  {
   "cell_type": "code",
   "execution_count": 16,
   "id": "69a085c2",
   "metadata": {},
   "outputs": [],
   "source": [
    "!mkdir -p data/users"
   ]
  },
  {
   "cell_type": "code",
   "execution_count": 17,
   "id": "50b8f760",
   "metadata": {},
   "outputs": [],
   "source": [
    "!rm -f data/users/part-00000"
   ]
  },
  {
   "cell_type": "code",
   "execution_count": 18,
   "id": "a8357651",
   "metadata": {},
   "outputs": [],
   "source": [
    "users_file = open('data/users/part-00000', 'w')"
   ]
  },
  {
   "cell_type": "code",
   "execution_count": 19,
   "id": "25c08229",
   "metadata": {},
   "outputs": [],
   "source": [
    "csv_writer = csv.writer(users_file)"
   ]
  },
  {
   "cell_type": "code",
   "execution_count": 20,
   "id": "1a909ec5",
   "metadata": {},
   "outputs": [
    {
     "data": {
      "text/plain": [
       "<_csv.writer at 0x7fa587f9bbf8>"
      ]
     },
     "execution_count": 20,
     "metadata": {},
     "output_type": "execute_result"
    }
   ],
   "source": [
    "csv_writer"
   ]
  },
  {
   "cell_type": "code",
   "execution_count": 21,
   "id": "f4190a98",
   "metadata": {},
   "outputs": [],
   "source": [
    "csv_writer.writerows(lt)"
   ]
  },
  {
   "cell_type": "code",
   "execution_count": 22,
   "id": "45fa9425",
   "metadata": {},
   "outputs": [],
   "source": [
    "users_file.close()"
   ]
  },
  {
   "cell_type": "code",
   "execution_count": 23,
   "id": "553ea56a",
   "metadata": {},
   "outputs": [
    {
     "name": "stdout",
     "output_type": "stream",
     "text": [
      "-rw-r--r-- 1 itv002480 students 30 Apr 28 09:35 data/users/part-00000\n"
     ]
    }
   ],
   "source": [
    "!ls -ltr data/users/part-00000"
   ]
  },
  {
   "cell_type": "code",
   "execution_count": 24,
   "id": "f5cf53a3",
   "metadata": {},
   "outputs": [
    {
     "name": "stdout",
     "output_type": "stream",
     "text": [
      "1,Scott,Tiger\n",
      "2,Donald,Duck\n"
     ]
    }
   ],
   "source": [
    "!cat data/users/part-00000"
   ]
  },
  {
   "cell_type": "markdown",
   "id": "2cfde966",
   "metadata": {},
   "source": [
    "* Let us see an example to write the data to the file using `|` as delimiter."
   ]
  },
  {
   "cell_type": "code",
   "execution_count": 35,
   "id": "4ec367a9",
   "metadata": {},
   "outputs": [],
   "source": [
    "!mkdir -p data/users"
   ]
  },
  {
   "cell_type": "code",
   "execution_count": 36,
   "id": "75495161",
   "metadata": {},
   "outputs": [],
   "source": [
    "!rm -f data/users/part-00000"
   ]
  },
  {
   "cell_type": "code",
   "execution_count": 37,
   "id": "0f8e7fa8",
   "metadata": {},
   "outputs": [],
   "source": [
    "users_file = open('data/users/part-00000', 'w')"
   ]
  },
  {
   "cell_type": "code",
   "execution_count": 38,
   "id": "674538b1",
   "metadata": {},
   "outputs": [],
   "source": [
    "csv_writer = csv.writer(users_file, delimiter='|')"
   ]
  },
  {
   "cell_type": "code",
   "execution_count": 39,
   "id": "19e29d59",
   "metadata": {},
   "outputs": [],
   "source": [
    "csv_writer.writerows(lt)"
   ]
  },
  {
   "cell_type": "code",
   "execution_count": 40,
   "id": "3928b8e5",
   "metadata": {},
   "outputs": [],
   "source": [
    "users_file.close()"
   ]
  },
  {
   "cell_type": "code",
   "execution_count": 41,
   "id": "c251c0af",
   "metadata": {},
   "outputs": [
    {
     "name": "stdout",
     "output_type": "stream",
     "text": [
      "-rw-r--r-- 1 itv002480 students 30 Apr 28 09:41 data/users/part-00000\n"
     ]
    }
   ],
   "source": [
    "!ls -ltr data/users/part-00000"
   ]
  },
  {
   "cell_type": "code",
   "execution_count": 42,
   "id": "6fa4a915",
   "metadata": {},
   "outputs": [
    {
     "name": "stdout",
     "output_type": "stream",
     "text": [
      "1|Scott|Tiger\n",
      "2|Donald|Duck\n"
     ]
    }
   ],
   "source": [
    "!cat data/users/part-00000"
   ]
  },
  {
   "cell_type": "code",
   "execution_count": null,
   "id": "aa54cf4c",
   "metadata": {},
   "outputs": [],
   "source": []
  }
 ],
 "metadata": {
  "kernelspec": {
   "display_name": "Python 3",
   "language": "python",
   "name": "python3"
  },
  "language_info": {
   "codemirror_mode": {
    "name": "ipython",
    "version": 3
   },
   "file_extension": ".py",
   "mimetype": "text/x-python",
   "name": "python",
   "nbconvert_exporter": "python",
   "pygments_lexer": "ipython3",
   "version": "3.6.12"
  }
 },
 "nbformat": 4,
 "nbformat_minor": 5
}
