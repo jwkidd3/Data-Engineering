{
 "cells": [
  {
   "cell_type": "markdown",
   "id": "9b6c0ad7",
   "metadata": {},
   "source": [
    "## Read Delimited files into list of tuples\n",
    "\n",
    "Let us go through reading delimited files into list of tuples. Here are the steps involved.\n",
    "* Open the file in read mode (default).\n",
    "* Read the data in the file as string using `read` and then use `splitlines` to create a collection.\n",
    "* At this time, we will have a list where each element is a line from the file.\n",
    "* The data in each element is typically delimited. We have to read the data at each attribute level.\n",
    "* We typically process further to create list of tuples or list of dicts. Each string will be converted to tuple or a dict.\n",
    "* We can either use conventional loops or list comprehensions or functions like `map` to convert each element in the list to a tuple or dict. For now, we will focus on tuple."
   ]
  },
  {
   "cell_type": "code",
   "execution_count": 1,
   "id": "1124a23c",
   "metadata": {},
   "outputs": [
    {
     "name": "stdout",
     "output_type": "stream",
     "text": [
      "total 2932\n",
      "-rw-r--r-- 1 root root 2999944 Jan 21  2021 part-00000\n"
     ]
    }
   ],
   "source": [
    "!ls -ltr /data/retail_db/orders"
   ]
  },
  {
   "cell_type": "code",
   "execution_count": 2,
   "id": "cc45afd8",
   "metadata": {},
   "outputs": [
    {
     "name": "stdout",
     "output_type": "stream",
     "text": [
      "1,2013-07-25 00:00:00.0,11599,CLOSED\n",
      "2,2013-07-25 00:00:00.0,256,PENDING_PAYMENT\n",
      "3,2013-07-25 00:00:00.0,12111,COMPLETE\n",
      "4,2013-07-25 00:00:00.0,8827,CLOSED\n",
      "5,2013-07-25 00:00:00.0,11318,COMPLETE\n"
     ]
    }
   ],
   "source": [
    "!head -5 /data/retail_db/orders/part-00000"
   ]
  },
  {
   "cell_type": "code",
   "execution_count": 3,
   "id": "eed955b0",
   "metadata": {},
   "outputs": [
    {
     "name": "stdout",
     "output_type": "stream",
     "text": [
      "68883 /data/retail_db/orders/part-00000\n"
     ]
    }
   ],
   "source": [
    "!wc -l /data/retail_db/orders/part-00000"
   ]
  },
  {
   "cell_type": "markdown",
   "id": "10b72212",
   "metadata": {},
   "source": [
    "* Open the file in read mode."
   ]
  },
  {
   "cell_type": "code",
   "execution_count": 4,
   "id": "a5ff2725",
   "metadata": {},
   "outputs": [],
   "source": [
    "orders_file = open('/data/retail_db/orders/part-00000')"
   ]
  },
  {
   "cell_type": "markdown",
   "id": "1d7f21b8",
   "metadata": {},
   "source": [
    "* Read the data from the file into list of strings."
   ]
  },
  {
   "cell_type": "code",
   "execution_count": 5,
   "id": "21055ac6",
   "metadata": {},
   "outputs": [],
   "source": [
    "orders_list = orders_file.read().splitlines()"
   ]
  },
  {
   "cell_type": "code",
   "execution_count": 6,
   "id": "9be34bc7",
   "metadata": {},
   "outputs": [
    {
     "data": {
      "text/plain": [
       "list"
      ]
     },
     "execution_count": 6,
     "metadata": {},
     "output_type": "execute_result"
    }
   ],
   "source": [
    "type(orders_list)"
   ]
  },
  {
   "cell_type": "code",
   "execution_count": 7,
   "id": "7a39c771",
   "metadata": {},
   "outputs": [
    {
     "data": {
      "text/plain": [
       "['1,2013-07-25 00:00:00.0,11599,CLOSED',\n",
       " '2,2013-07-25 00:00:00.0,256,PENDING_PAYMENT',\n",
       " '3,2013-07-25 00:00:00.0,12111,COMPLETE',\n",
       " '4,2013-07-25 00:00:00.0,8827,CLOSED',\n",
       " '5,2013-07-25 00:00:00.0,11318,COMPLETE',\n",
       " '6,2013-07-25 00:00:00.0,7130,COMPLETE',\n",
       " '7,2013-07-25 00:00:00.0,4530,COMPLETE',\n",
       " '8,2013-07-25 00:00:00.0,2911,PROCESSING',\n",
       " '9,2013-07-25 00:00:00.0,5657,PENDING_PAYMENT',\n",
       " '10,2013-07-25 00:00:00.0,5648,PENDING_PAYMENT']"
      ]
     },
     "execution_count": 7,
     "metadata": {},
     "output_type": "execute_result"
    }
   ],
   "source": [
    "orders_list[:10]"
   ]
  },
  {
   "cell_type": "code",
   "execution_count": 8,
   "id": "8c5e17db",
   "metadata": {},
   "outputs": [
    {
     "data": {
      "text/plain": [
       "68883"
      ]
     },
     "execution_count": 8,
     "metadata": {},
     "output_type": "execute_result"
    }
   ],
   "source": [
    "len(orders_list)"
   ]
  },
  {
   "cell_type": "code",
   "execution_count": 9,
   "id": "14977d8d",
   "metadata": {},
   "outputs": [
    {
     "data": {
      "text/plain": [
       "'1,2013-07-25 00:00:00.0,11599,CLOSED'"
      ]
     },
     "execution_count": 9,
     "metadata": {},
     "output_type": "execute_result"
    }
   ],
   "source": [
    "orders_list[0]"
   ]
  },
  {
   "cell_type": "code",
   "execution_count": 10,
   "id": "b02be746",
   "metadata": {},
   "outputs": [
    {
     "data": {
      "text/plain": [
       "str"
      ]
     },
     "execution_count": 10,
     "metadata": {},
     "output_type": "execute_result"
    }
   ],
   "source": [
    "type(orders_list[0])"
   ]
  },
  {
   "cell_type": "markdown",
   "id": "25c6acd8",
   "metadata": {},
   "source": [
    "* Converting each string in **orders_list** into list of tuples using conventional `for` loop."
   ]
  },
  {
   "cell_type": "code",
   "execution_count": 11,
   "id": "3a9a30e6",
   "metadata": {},
   "outputs": [],
   "source": [
    "order = orders_list[0]"
   ]
  },
  {
   "cell_type": "code",
   "execution_count": 12,
   "id": "e0419fbf",
   "metadata": {},
   "outputs": [
    {
     "data": {
      "text/plain": [
       "['1', '2013-07-25 00:00:00.0', '11599', 'CLOSED']"
      ]
     },
     "execution_count": 12,
     "metadata": {},
     "output_type": "execute_result"
    }
   ],
   "source": [
    "order.split(',')"
   ]
  },
  {
   "cell_type": "code",
   "execution_count": 13,
   "id": "9e0d10ba",
   "metadata": {},
   "outputs": [
    {
     "data": {
      "text/plain": [
       "('1', '2013-07-25 00:00:00.0', '11599', 'CLOSED')"
      ]
     },
     "execution_count": 13,
     "metadata": {},
     "output_type": "execute_result"
    }
   ],
   "source": [
    "tuple(order.split(','))"
   ]
  },
  {
   "cell_type": "code",
   "execution_count": 14,
   "id": "12d825a1",
   "metadata": {},
   "outputs": [
    {
     "data": {
      "text/plain": [
       "(1, '2013-07-25 00:00:00.0', 11599, 'CLOSED')"
      ]
     },
     "execution_count": 14,
     "metadata": {},
     "output_type": "execute_result"
    }
   ],
   "source": [
    "tuple((int(order.split(',')[0]), order.split(',')[1], int(order.split(',')[2]), order.split(',')[3]))"
   ]
  },
  {
   "cell_type": "code",
   "execution_count": 15,
   "id": "812e26af",
   "metadata": {},
   "outputs": [],
   "source": [
    "orders_conventional_for = []\n",
    "\n",
    "for order in orders_list:\n",
    "    order_details = order.split(',')\n",
    "    orders_conventional_for.append((int(order_details[0]), order_details[1], int(order_details[2]), order_details[3]))"
   ]
  },
  {
   "cell_type": "code",
   "execution_count": 16,
   "id": "c700bc0f",
   "metadata": {},
   "outputs": [
    {
     "data": {
      "text/plain": [
       "[(1, '2013-07-25 00:00:00.0', 11599, 'CLOSED'),\n",
       " (2, '2013-07-25 00:00:00.0', 256, 'PENDING_PAYMENT'),\n",
       " (3, '2013-07-25 00:00:00.0', 12111, 'COMPLETE'),\n",
       " (4, '2013-07-25 00:00:00.0', 8827, 'CLOSED'),\n",
       " (5, '2013-07-25 00:00:00.0', 11318, 'COMPLETE'),\n",
       " (6, '2013-07-25 00:00:00.0', 7130, 'COMPLETE'),\n",
       " (7, '2013-07-25 00:00:00.0', 4530, 'COMPLETE'),\n",
       " (8, '2013-07-25 00:00:00.0', 2911, 'PROCESSING'),\n",
       " (9, '2013-07-25 00:00:00.0', 5657, 'PENDING_PAYMENT'),\n",
       " (10, '2013-07-25 00:00:00.0', 5648, 'PENDING_PAYMENT')]"
      ]
     },
     "execution_count": 16,
     "metadata": {},
     "output_type": "execute_result"
    }
   ],
   "source": [
    "orders_conventional_for[:10]"
   ]
  },
  {
   "cell_type": "code",
   "execution_count": 17,
   "id": "4749fb16",
   "metadata": {},
   "outputs": [
    {
     "data": {
      "text/plain": [
       "68883"
      ]
     },
     "execution_count": 17,
     "metadata": {},
     "output_type": "execute_result"
    }
   ],
   "source": [
    "len(orders_conventional_for)"
   ]
  },
  {
   "cell_type": "code",
   "execution_count": 18,
   "id": "dc646ad8",
   "metadata": {},
   "outputs": [
    {
     "data": {
      "text/plain": [
       "(1, '2013-07-25 00:00:00.0', 11599, 'CLOSED')"
      ]
     },
     "execution_count": 18,
     "metadata": {},
     "output_type": "execute_result"
    }
   ],
   "source": [
    "orders_conventional_for[0]"
   ]
  },
  {
   "cell_type": "code",
   "execution_count": 19,
   "id": "868f754b",
   "metadata": {},
   "outputs": [
    {
     "data": {
      "text/plain": [
       "tuple"
      ]
     },
     "execution_count": 19,
     "metadata": {},
     "output_type": "execute_result"
    }
   ],
   "source": [
    "type(orders_conventional_for[0])"
   ]
  },
  {
   "cell_type": "markdown",
   "id": "44a80b17",
   "metadata": {},
   "source": [
    "* Converting each string in **orders_list** into list of tuples using list comprehensions."
   ]
  },
  {
   "cell_type": "code",
   "execution_count": 20,
   "id": "3485c448",
   "metadata": {},
   "outputs": [],
   "source": [
    "orders_list_comprehension = [\n",
    "    (int(order.split(',')[0]), order.split(',')[1], int(order.split(',')[2]), order.split(',')[3]) for order in orders_list\n",
    "]"
   ]
  },
  {
   "cell_type": "code",
   "execution_count": 21,
   "id": "3bc3f78b",
   "metadata": {},
   "outputs": [
    {
     "data": {
      "text/plain": [
       "[(1, '2013-07-25 00:00:00.0', 11599, 'CLOSED'),\n",
       " (2, '2013-07-25 00:00:00.0', 256, 'PENDING_PAYMENT'),\n",
       " (3, '2013-07-25 00:00:00.0', 12111, 'COMPLETE'),\n",
       " (4, '2013-07-25 00:00:00.0', 8827, 'CLOSED'),\n",
       " (5, '2013-07-25 00:00:00.0', 11318, 'COMPLETE'),\n",
       " (6, '2013-07-25 00:00:00.0', 7130, 'COMPLETE'),\n",
       " (7, '2013-07-25 00:00:00.0', 4530, 'COMPLETE'),\n",
       " (8, '2013-07-25 00:00:00.0', 2911, 'PROCESSING'),\n",
       " (9, '2013-07-25 00:00:00.0', 5657, 'PENDING_PAYMENT'),\n",
       " (10, '2013-07-25 00:00:00.0', 5648, 'PENDING_PAYMENT')]"
      ]
     },
     "execution_count": 21,
     "metadata": {},
     "output_type": "execute_result"
    }
   ],
   "source": [
    "orders_list_comprehension[:10]"
   ]
  },
  {
   "cell_type": "code",
   "execution_count": 22,
   "id": "cf996594",
   "metadata": {},
   "outputs": [
    {
     "data": {
      "text/plain": [
       "68883"
      ]
     },
     "execution_count": 22,
     "metadata": {},
     "output_type": "execute_result"
    }
   ],
   "source": [
    "len(orders_list_comprehension)"
   ]
  },
  {
   "cell_type": "code",
   "execution_count": 23,
   "id": "e29fb34e",
   "metadata": {},
   "outputs": [
    {
     "data": {
      "text/plain": [
       "(1, '2013-07-25 00:00:00.0', 11599, 'CLOSED')"
      ]
     },
     "execution_count": 23,
     "metadata": {},
     "output_type": "execute_result"
    }
   ],
   "source": [
    "orders_list_comprehension[0]"
   ]
  },
  {
   "cell_type": "code",
   "execution_count": 24,
   "id": "7ad7fe74",
   "metadata": {},
   "outputs": [
    {
     "data": {
      "text/plain": [
       "tuple"
      ]
     },
     "execution_count": 24,
     "metadata": {},
     "output_type": "execute_result"
    }
   ],
   "source": [
    "type(orders_list_comprehension[0])"
   ]
  },
  {
   "cell_type": "markdown",
   "id": "e55f58fa",
   "metadata": {},
   "source": [
    "* Converting each string in **orders_list** into list of tuples using `map` function."
   ]
  },
  {
   "cell_type": "code",
   "execution_count": 25,
   "id": "0cde6e68",
   "metadata": {},
   "outputs": [],
   "source": [
    "orders_list_map = map(\n",
    "    lambda order: (\n",
    "        int(order.split(',')[0]), order.split(',')[1], int(order.split(',')[2]), order.split(',')[3]\n",
    "    ),\n",
    "    orders_list\n",
    ")"
   ]
  },
  {
   "cell_type": "code",
   "execution_count": 26,
   "id": "d5ed49f7",
   "metadata": {},
   "outputs": [
    {
     "data": {
      "text/plain": [
       "map"
      ]
     },
     "execution_count": 26,
     "metadata": {},
     "output_type": "execute_result"
    }
   ],
   "source": [
    "type(orders_list_map)"
   ]
  },
  {
   "cell_type": "code",
   "execution_count": 27,
   "id": "66ff82d3",
   "metadata": {},
   "outputs": [
    {
     "data": {
      "text/plain": [
       "[(1, '2013-07-25 00:00:00.0', 11599, 'CLOSED'),\n",
       " (2, '2013-07-25 00:00:00.0', 256, 'PENDING_PAYMENT'),\n",
       " (3, '2013-07-25 00:00:00.0', 12111, 'COMPLETE'),\n",
       " (4, '2013-07-25 00:00:00.0', 8827, 'CLOSED'),\n",
       " (5, '2013-07-25 00:00:00.0', 11318, 'COMPLETE'),\n",
       " (6, '2013-07-25 00:00:00.0', 7130, 'COMPLETE'),\n",
       " (7, '2013-07-25 00:00:00.0', 4530, 'COMPLETE'),\n",
       " (8, '2013-07-25 00:00:00.0', 2911, 'PROCESSING'),\n",
       " (9, '2013-07-25 00:00:00.0', 5657, 'PENDING_PAYMENT'),\n",
       " (10, '2013-07-25 00:00:00.0', 5648, 'PENDING_PAYMENT')]"
      ]
     },
     "execution_count": 27,
     "metadata": {},
     "output_type": "execute_result"
    }
   ],
   "source": [
    "list(orders_list_map)[:10]"
   ]
  },
  {
   "cell_type": "code",
   "execution_count": 28,
   "id": "a22fac7c",
   "metadata": {},
   "outputs": [
    {
     "data": {
      "text/plain": [
       "68883"
      ]
     },
     "execution_count": 28,
     "metadata": {},
     "output_type": "execute_result"
    }
   ],
   "source": [
    "orders_list_map = map(\n",
    "    lambda order: (\n",
    "        int(order.split(',')[0]), order.split(',')[1], int(order.split(',')[2]), order.split(',')[3]\n",
    "    ),\n",
    "    orders_list\n",
    ")\n",
    "len(list(orders_list_map))"
   ]
  },
  {
   "cell_type": "code",
   "execution_count": 29,
   "id": "56bafed0",
   "metadata": {},
   "outputs": [
    {
     "data": {
      "text/plain": [
       "(1, '2013-07-25 00:00:00.0', 11599, 'CLOSED')"
      ]
     },
     "execution_count": 29,
     "metadata": {},
     "output_type": "execute_result"
    }
   ],
   "source": [
    "orders_list_map = map(\n",
    "    lambda order: (\n",
    "        int(order.split(',')[0]), order.split(',')[1], int(order.split(',')[2]), order.split(',')[3]\n",
    "    ),\n",
    "    orders_list\n",
    ")\n",
    "\n",
    "list(orders_list_map)[0]"
   ]
  },
  {
   "cell_type": "code",
   "execution_count": 30,
   "id": "5b3eca75",
   "metadata": {},
   "outputs": [
    {
     "data": {
      "text/plain": [
       "tuple"
      ]
     },
     "execution_count": 30,
     "metadata": {},
     "output_type": "execute_result"
    }
   ],
   "source": [
    "orders_list_map = map(\n",
    "    lambda order: (\n",
    "        int(order.split(',')[0]), order.split(',')[1], int(order.split(',')[2]), order.split(',')[3]\n",
    "    ),\n",
    "    orders_list\n",
    ")\n",
    "\n",
    "type(list(orders_list_map)[0])"
   ]
  },
  {
   "cell_type": "code",
   "execution_count": 2,
   "id": "78043aa0",
   "metadata": {},
   "outputs": [],
   "source": [
    "d={1:'megha',2:'entu',3:'ritu'}"
   ]
  },
  {
   "cell_type": "code",
   "execution_count": 3,
   "id": "02b62eed",
   "metadata": {},
   "outputs": [
    {
     "data": {
      "text/plain": [
       "dict"
      ]
     },
     "execution_count": 3,
     "metadata": {},
     "output_type": "execute_result"
    }
   ],
   "source": [
    "type(d)"
   ]
  },
  {
   "cell_type": "code",
   "execution_count": 4,
   "id": "cc4a29cd",
   "metadata": {},
   "outputs": [
    {
     "data": {
      "text/plain": [
       "'megha'"
      ]
     },
     "execution_count": 4,
     "metadata": {},
     "output_type": "execute_result"
    }
   ],
   "source": [
    "d.pop(1)"
   ]
  },
  {
   "cell_type": "code",
   "execution_count": 46,
   "id": "36f9a176",
   "metadata": {},
   "outputs": [],
   "source": [
    "del d[1]"
   ]
  },
  {
   "cell_type": "code",
   "execution_count": 47,
   "id": "0e61ff96",
   "metadata": {},
   "outputs": [
    {
     "data": {
      "text/plain": [
       "{2: 'entu', 3: 'ritu'}"
      ]
     },
     "execution_count": 47,
     "metadata": {},
     "output_type": "execute_result"
    }
   ],
   "source": [
    "d"
   ]
  },
  {
   "cell_type": "code",
   "execution_count": null,
   "id": "d32ee7a6",
   "metadata": {},
   "outputs": [],
   "source": []
  }
 ],
 "metadata": {
  "kernelspec": {
   "display_name": "Python 3",
   "language": "python",
   "name": "python3"
  },
  "language_info": {
   "codemirror_mode": {
    "name": "ipython",
    "version": 3
   },
   "file_extension": ".py",
   "mimetype": "text/x-python",
   "name": "python",
   "nbconvert_exporter": "python",
   "pygments_lexer": "ipython3",
   "version": "3.6.12"
  }
 },
 "nbformat": 4,
 "nbformat_minor": 5
}
