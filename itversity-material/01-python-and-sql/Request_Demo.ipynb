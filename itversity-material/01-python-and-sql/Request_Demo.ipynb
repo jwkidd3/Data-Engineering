{
 "cells": [
  {
   "cell_type": "code",
   "execution_count": null,
   "id": "16dc5319",
   "metadata": {},
   "outputs": [],
   "source": [
    "%%sh\n",
    "curl -v --location --request GET 'https://labs.itversity.com/login/'"
   ]
  },
  {
   "cell_type": "code",
   "execution_count": null,
   "id": "8f85b8fd",
   "metadata": {},
   "outputs": [],
   "source": [
    "%%sh\n",
    "curl -v --location --request GET 'https://labs.itversity.com/login/' \\\n",
    "--header 'Cookie: csrftoken=aDTlTnQ3Qdiaqu7SYMnkLk2Z1D2gEmgm0P5gxpYHTmHuKyRMIueeeWNUpdZB7NqI'"
   ]
  },
  {
   "cell_type": "code",
   "execution_count": null,
   "id": "c2303ca9",
   "metadata": {},
   "outputs": [],
   "source": [
    "%%sh\n",
    "curl --location --request POST 'https://labs.itversity.com/login/' \\\n",
    "--header 'X-CSRFToken: aDTlTnQ3Qdiaqu7SYMnkLk2Z1D2gEmgm0P5gxpYHTmHuKyRMIueeeWNUpdZB7NqI' \\\n",
    "--header 'Referer: https://labs.itversity.com/login/' \\\n",
    "--header 'Cookie: csrftoken=aDTlTnQ3Qdiaqu7SYMnkLk2Z1D2gEmgm0P5gxpYHTmHuKyRMIueeeWNUpdZB7NqI; sessionid=kuox145e6fm4pjln81ugd3cv1sezhfpy' \\\n",
    "--form 'username=\"megha.mishra@impelsys.com\"' \\\n",
    "--form 'password=\"Huhahuha@1\"'"
   ]
  },
  {
   "cell_type": "code",
   "execution_count": null,
   "id": "19a4b04c",
   "metadata": {},
   "outputs": [],
   "source": [
    "%%sh\n",
    "curl --location --request GET 'https://labs.itversity.com/user/profile/user_details' \\\n",
    "--header 'Cookie: csrftoken=aDTlTnQ3Qdiaqu7SYMnkLk2Z1D2gEmgm0P5gxpYHTmHuKyRMIueeeWNUpdZB7NqI; sessionid=kuox145e6fm4pjln81ugd3cv1sezhfpy'"
   ]
  },
  {
   "cell_type": "code",
   "execution_count": null,
   "id": "c133efbf",
   "metadata": {},
   "outputs": [],
   "source": [
    "import requests\n",
    "\n",
    "url = \"https://labs.itversity.com/login/\"\n",
    "\n",
    "client= requests.Session()\n",
    "\n",
    "response= client.request(\"GET\", url)"
   ]
  },
  {
   "cell_type": "code",
   "execution_count": null,
   "id": "93d51ab2",
   "metadata": {},
   "outputs": [],
   "source": [
    "response.text"
   ]
  },
  {
   "cell_type": "code",
   "execution_count": null,
   "id": "8d8a9818",
   "metadata": {},
   "outputs": [],
   "source": [
    "client.cookies"
   ]
  },
  {
   "cell_type": "code",
   "execution_count": null,
   "id": "602cb745",
   "metadata": {},
   "outputs": [],
   "source": [
    "csrftoken= client.cookies['csrftoken']"
   ]
  },
  {
   "cell_type": "code",
   "execution_count": null,
   "id": "02442879",
   "metadata": {},
   "outputs": [],
   "source": [
    "import requests\n",
    "\n",
    "\n",
    "payload={'username': 'megha.mishra@impelsys.com',\n",
    "'password': 'Huhahuha@1'}\n",
    "files=[\n",
    "\n",
    "]\n",
    "headers = {\n",
    "  'X-CSRFToken': f'{csrftoken}',\n",
    "  'Referer': url,\n",
    "    'Cookie':f'csrftoken={csrftoken}'\n",
    "}\n",
    "\n",
    "response = client.request(\"POST\", url, headers=headers, data=payload)\n",
    "\n",
    "print(response.text)\n"
   ]
  },
  {
   "cell_type": "code",
   "execution_count": null,
   "id": "3ccee35b",
   "metadata": {},
   "outputs": [],
   "source": [
    "client.cookies"
   ]
  },
  {
   "cell_type": "code",
   "execution_count": null,
   "id": "28474cdc",
   "metadata": {},
   "outputs": [],
   "source": [
    "import requests\n",
    "\n",
    "userurl = \"https://labs.itversity.com/user/profile/user_details\"\n",
    "\n",
    "response = client.request(\"GET\", userurl)\n",
    "\n",
    "print(response.text)\n"
   ]
  },
  {
   "cell_type": "code",
   "execution_count": null,
   "id": "afce4d74",
   "metadata": {},
   "outputs": [],
   "source": []
  }
 ],
 "metadata": {
  "kernelspec": {
   "display_name": "Python 3",
   "language": "python",
   "name": "python3"
  },
  "language_info": {
   "codemirror_mode": {
    "name": "ipython",
    "version": 3
   },
   "file_extension": ".py",
   "mimetype": "text/x-python",
   "name": "python",
   "nbconvert_exporter": "python",
   "pygments_lexer": "ipython3",
   "version": "3.6.12"
  }
 },
 "nbformat": 4,
 "nbformat_minor": 5
}
