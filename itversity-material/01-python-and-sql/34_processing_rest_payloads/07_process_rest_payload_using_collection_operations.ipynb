{
 "cells": [
  {
   "cell_type": "markdown",
   "id": "b8200fef",
   "metadata": {},
   "source": [
    "## Process REST Payload using Collection Operations\n",
    "\n",
    "Let us understand how to process REST Payload using Collection Operations.\n",
    "* We can get details about all the public repositories using `GET /repositories` from **https://api.github.com**.\n",
    "* As it is getting or reading data from external application the details are available via `GET`. We will have JSON Array as part of the Payload.\n",
    "* We can convert this JSON Array to Python `list`. Each element in the list will be of type `dict`.\n",
    "* Let us understand how the data in this list of dicts can be processed using Python core collection operations."
   ]
  },
  {
   "cell_type": "markdown",
   "id": "726735fc",
   "metadata": {},
   "source": [
    "* Let us quickly review the output of the REST API using `curl`."
   ]
  },
  {
   "cell_type": "code",
   "execution_count": null,
   "id": "340eca80",
   "metadata": {},
   "outputs": [],
   "source": [
    "!curl https://api.github.com/repositories"
   ]
  },
  {
   "cell_type": "markdown",
   "id": "bc00a1fc",
   "metadata": {},
   "source": [
    "* We can get the payload of public repositories using `requests.get`.\n",
    "* We can convert to Python list using `json()`."
   ]
  },
  {
   "cell_type": "code",
   "execution_count": 21,
   "id": "bacb9b40",
   "metadata": {},
   "outputs": [],
   "source": [
    "import requests"
   ]
  },
  {
   "cell_type": "markdown",
   "id": "617961d9",
   "metadata": {},
   "source": [
    "* We can convert `payload` which is of string type and contains valid JSON to `dict` or `list` using `json` module."
   ]
  },
  {
   "cell_type": "code",
   "execution_count": 4,
   "id": "9186c165",
   "metadata": {},
   "outputs": [],
   "source": [
    "payload = requests.get('https://api.github.com/repositories', params={'since':369}).json()"
   ]
  },
  {
   "cell_type": "code",
   "execution_count": null,
   "id": "49b7dd2c",
   "metadata": {},
   "outputs": [],
   "source": [
    "payload"
   ]
  },
  {
   "cell_type": "code",
   "execution_count": 6,
   "id": "2c3abbd4",
   "metadata": {},
   "outputs": [
    {
     "name": "stdin",
     "output_type": "stream",
     "text": [
      "Enter the repo id from which you want to get repositories:  369\n"
     ]
    }
   ],
   "source": [
    "since = int(input('Enter the repo id from which you want to get repositories: '))"
   ]
  },
  {
   "cell_type": "code",
   "execution_count": 7,
   "id": "71a30956",
   "metadata": {},
   "outputs": [],
   "source": [
    "repos = requests.get(f'https://api.github.com/repositories?since={since}').json()"
   ]
  },
  {
   "cell_type": "code",
   "execution_count": 8,
   "id": "6dd404a0",
   "metadata": {},
   "outputs": [
    {
     "data": {
      "text/plain": [
       "list"
      ]
     },
     "execution_count": 8,
     "metadata": {},
     "output_type": "execute_result"
    }
   ],
   "source": [
    "type(repos)"
   ]
  },
  {
   "cell_type": "code",
   "execution_count": null,
   "id": "13fbc633",
   "metadata": {},
   "outputs": [],
   "source": [
    "repos # A string with valid json array converted to list of dicts"
   ]
  },
  {
   "cell_type": "code",
   "execution_count": 10,
   "id": "45fb3a11",
   "metadata": {},
   "outputs": [
    {
     "data": {
      "text/plain": [
       "100"
      ]
     },
     "execution_count": 10,
     "metadata": {},
     "output_type": "execute_result"
    }
   ],
   "source": [
    "len(repos)"
   ]
  },
  {
   "cell_type": "code",
   "execution_count": null,
   "id": "70485e82",
   "metadata": {},
   "outputs": [],
   "source": [
    "repos[0]"
   ]
  },
  {
   "cell_type": "code",
   "execution_count": 12,
   "id": "e8770c2f",
   "metadata": {},
   "outputs": [
    {
     "data": {
      "text/plain": [
       "dict"
      ]
     },
     "execution_count": 12,
     "metadata": {},
     "output_type": "execute_result"
    }
   ],
   "source": [
    "type(repos[0])"
   ]
  },
  {
   "cell_type": "markdown",
   "id": "434bfd27",
   "metadata": {},
   "source": [
    "* We can process the data further using appropriate Python modules based upon the requiements."
   ]
  },
  {
   "cell_type": "code",
   "execution_count": null,
   "id": "277e8863",
   "metadata": {},
   "outputs": [],
   "source": [
    "for repo in repos:\n",
    "    print(repo['id'])"
   ]
  },
  {
   "cell_type": "code",
   "execution_count": null,
   "id": "3b2a0a63",
   "metadata": {},
   "outputs": [],
   "source": [
    "for repo in repos:\n",
    "    print(repo['name'])"
   ]
  },
  {
   "cell_type": "code",
   "execution_count": null,
   "id": "64a4fda9",
   "metadata": {},
   "outputs": [],
   "source": [
    "# Getting repo name and urls\n",
    "for repo in repos:\n",
    "    print(f\"{repo['name']}:{repo['url']}\")"
   ]
  },
  {
   "cell_type": "code",
   "execution_count": 15,
   "id": "a1ba9ec5",
   "metadata": {},
   "outputs": [],
   "source": [
    "repo_urls = [{'name': repo['name'], 'repo_url': repo['url']} for repo in repos]"
   ]
  },
  {
   "cell_type": "code",
   "execution_count": 16,
   "id": "df730b00",
   "metadata": {},
   "outputs": [
    {
     "data": {
      "text/plain": [
       "{'name': 'imap_authenticatable',\n",
       " 'repo_url': 'https://api.github.com/repos/collectiveidea/imap_authenticatable'}"
      ]
     },
     "execution_count": 16,
     "metadata": {},
     "output_type": "execute_result"
    }
   ],
   "source": [
    "repo_urls[0]"
   ]
  },
  {
   "cell_type": "code",
   "execution_count": 18,
   "id": "4a8cf719",
   "metadata": {},
   "outputs": [],
   "source": [
    "repo_urls = list(map(lambda repo: {'name': repo['name'], 'repo_url': repo['url']}, repos))"
   ]
  },
  {
   "cell_type": "code",
   "execution_count": 19,
   "id": "4020e0b4",
   "metadata": {},
   "outputs": [
    {
     "data": {
      "text/plain": [
       "{'name': 'imap_authenticatable',\n",
       " 'repo_url': 'https://api.github.com/repos/collectiveidea/imap_authenticatable'}"
      ]
     },
     "execution_count": 19,
     "metadata": {},
     "output_type": "execute_result"
    }
   ],
   "source": [
    "repo_urls[0]"
   ]
  },
  {
   "cell_type": "markdown",
   "id": "5f9c1eff",
   "metadata": {},
   "source": [
    "Here are some of the tasks you can work on using `repos` data. We will explore the solutions using functions such as `map`, `filter`, `itertools.groupby`, etc."
   ]
  },
  {
   "cell_type": "code",
   "execution_count": 20,
   "id": "e57506e6",
   "metadata": {},
   "outputs": [],
   "source": [
    "repos = requests.get(f'https://api.github.com/repositories?since={since}').json()"
   ]
  },
  {
   "cell_type": "markdown",
   "id": "b8515eab",
   "metadata": {},
   "source": [
    "* Get number of repositories."
   ]
  },
  {
   "cell_type": "code",
   "execution_count": 21,
   "id": "aee98ba8",
   "metadata": {},
   "outputs": [
    {
     "data": {
      "text/plain": [
       "100"
      ]
     },
     "execution_count": 21,
     "metadata": {},
     "output_type": "execute_result"
    }
   ],
   "source": [
    "len(repos)"
   ]
  },
  {
   "cell_type": "markdown",
   "id": "85906e7e",
   "metadata": {},
   "source": [
    "* Get repository name, url and owner type of all repositories. Each element in the new list should be of type **tuple**."
   ]
  },
  {
   "cell_type": "code",
   "execution_count": 13,
   "id": "4a83af25",
   "metadata": {},
   "outputs": [],
   "source": [
    "repo = repos[0]"
   ]
  },
  {
   "cell_type": "code",
   "execution_count": null,
   "id": "88755721",
   "metadata": {},
   "outputs": [],
   "source": [
    "repo"
   ]
  },
  {
   "cell_type": "code",
   "execution_count": 15,
   "id": "b190bd18",
   "metadata": {},
   "outputs": [
    {
     "data": {
      "text/plain": [
       "'imap_authenticatable'"
      ]
     },
     "execution_count": 15,
     "metadata": {},
     "output_type": "execute_result"
    }
   ],
   "source": [
    "repo['name']"
   ]
  },
  {
   "cell_type": "code",
   "execution_count": 16,
   "id": "b7311659",
   "metadata": {},
   "outputs": [
    {
     "data": {
      "text/plain": [
       "'https://api.github.com/repos/collectiveidea/imap_authenticatable'"
      ]
     },
     "execution_count": 16,
     "metadata": {},
     "output_type": "execute_result"
    }
   ],
   "source": [
    "repo['url']"
   ]
  },
  {
   "cell_type": "code",
   "execution_count": 17,
   "id": "2f4f0465",
   "metadata": {},
   "outputs": [
    {
     "data": {
      "text/plain": [
       "'Organization'"
      ]
     },
     "execution_count": 17,
     "metadata": {},
     "output_type": "execute_result"
    }
   ],
   "source": [
    "repo['owner']['type']"
   ]
  },
  {
   "cell_type": "code",
   "execution_count": null,
   "id": "ac94390e",
   "metadata": {},
   "outputs": [],
   "source": [
    "list(map(lambda repo: (repo['name'], repo['url'], repo['owner']['type']), repos))"
   ]
  },
  {
   "cell_type": "markdown",
   "id": "0109204e",
   "metadata": {},
   "source": [
    "* Get all unique or distinct owner types of the repositories. The output should be of type **list**."
   ]
  },
  {
   "cell_type": "code",
   "execution_count": null,
   "id": "e52909da",
   "metadata": {},
   "outputs": [],
   "source": [
    "list(map(lambda repo: repo['owner']['type'], repos))"
   ]
  },
  {
   "cell_type": "code",
   "execution_count": 29,
   "id": "9e22ad97",
   "metadata": {},
   "outputs": [
    {
     "data": {
      "text/plain": [
       "{'Organization', 'User'}"
      ]
     },
     "execution_count": 29,
     "metadata": {},
     "output_type": "execute_result"
    }
   ],
   "source": [
    "set(map(lambda repo: repo['owner']['type'], repos))"
   ]
  },
  {
   "cell_type": "code",
   "execution_count": 30,
   "id": "9c1026e0",
   "metadata": {},
   "outputs": [
    {
     "data": {
      "text/plain": [
       "['User', 'Organization']"
      ]
     },
     "execution_count": 30,
     "metadata": {},
     "output_type": "execute_result"
    }
   ],
   "source": [
    "list(set(map(lambda repo: repo['owner']['type'], repos)))"
   ]
  },
  {
   "cell_type": "markdown",
   "id": "4043407c",
   "metadata": {},
   "source": [
    "* Get number of repositories where owner type is **User**."
   ]
  },
  {
   "cell_type": "code",
   "execution_count": 31,
   "id": "42995bb8",
   "metadata": {},
   "outputs": [
    {
     "data": {
      "text/plain": [
       "False"
      ]
     },
     "execution_count": 31,
     "metadata": {},
     "output_type": "execute_result"
    }
   ],
   "source": [
    "repo['owner']['type'] == 'User'"
   ]
  },
  {
   "cell_type": "code",
   "execution_count": null,
   "id": "aab07e56",
   "metadata": {},
   "outputs": [],
   "source": [
    "list(filter(lambda repo: repo['owner']['type'] == 'User', repos))"
   ]
  },
  {
   "cell_type": "code",
   "execution_count": 33,
   "id": "cf773b9c",
   "metadata": {},
   "outputs": [
    {
     "data": {
      "text/plain": [
       "93"
      ]
     },
     "execution_count": 33,
     "metadata": {},
     "output_type": "execute_result"
    }
   ],
   "source": [
    "len(list(filter(lambda repo: repo['owner']['type'] == 'User', repos)))"
   ]
  },
  {
   "cell_type": "markdown",
   "id": "c1f86f31",
   "metadata": {},
   "source": [
    "* Get number of repositories where owner type is **Organization**."
   ]
  },
  {
   "cell_type": "code",
   "execution_count": 34,
   "id": "f7d30b9b",
   "metadata": {},
   "outputs": [
    {
     "data": {
      "text/plain": [
       "7"
      ]
     },
     "execution_count": 34,
     "metadata": {},
     "output_type": "execute_result"
    }
   ],
   "source": [
    "len(list(filter(lambda repo: repo['owner']['type'] == 'Organization', repos)))"
   ]
  },
  {
   "cell_type": "markdown",
   "id": "b56ba851",
   "metadata": {},
   "source": [
    "* Get number of repositories by each owner type."
   ]
  },
  {
   "cell_type": "code",
   "execution_count": 22,
   "id": "a6c1c35e",
   "metadata": {},
   "outputs": [],
   "source": [
    "import itertools as iter"
   ]
  },
  {
   "cell_type": "code",
   "execution_count": null,
   "id": "bbf410e6",
   "metadata": {},
   "outputs": [],
   "source": [
    "list(map(lambda repo: repo['owner']['type'], repos))"
   ]
  },
  {
   "cell_type": "code",
   "execution_count": null,
   "id": "4ecc53a1",
   "metadata": {},
   "outputs": [],
   "source": [
    "sorted(map(lambda repo: repo['owner']['type'], repos))"
   ]
  },
  {
   "cell_type": "code",
   "execution_count": 25,
   "id": "bc461cbb",
   "metadata": {},
   "outputs": [],
   "source": [
    "repo_types = sorted(map(lambda repo: repo['owner']['type'], repos))"
   ]
  },
  {
   "cell_type": "code",
   "execution_count": null,
   "id": "f11faf2d",
   "metadata": {},
   "outputs": [],
   "source": [
    "repo_types"
   ]
  },
  {
   "cell_type": "code",
   "execution_count": 91,
   "id": "9d2a486c",
   "metadata": {},
   "outputs": [
    {
     "data": {
      "text/plain": [
       "<itertools.groupby at 0x7f59e5743548>"
      ]
     },
     "execution_count": 91,
     "metadata": {},
     "output_type": "execute_result"
    }
   ],
   "source": [
    "iter.groupby(repo_types)"
   ]
  },
  {
   "cell_type": "code",
   "execution_count": 92,
   "id": "31803237",
   "metadata": {},
   "outputs": [
    {
     "name": "stdout",
     "output_type": "stream",
     "text": [
      "('Organization', ['Organization', 'Organization', 'Organization', 'Organization', 'Organization', 'Organization', 'Organization'])\n",
      "('User', ['User', 'User', 'User', 'User', 'User', 'User', 'User', 'User', 'User', 'User', 'User', 'User', 'User', 'User', 'User', 'User', 'User', 'User', 'User', 'User', 'User', 'User', 'User', 'User', 'User', 'User', 'User', 'User', 'User', 'User', 'User', 'User', 'User', 'User', 'User', 'User', 'User', 'User', 'User', 'User', 'User', 'User', 'User', 'User', 'User', 'User', 'User', 'User', 'User', 'User', 'User', 'User', 'User', 'User', 'User', 'User', 'User', 'User', 'User', 'User', 'User', 'User', 'User', 'User', 'User', 'User', 'User', 'User', 'User', 'User', 'User', 'User', 'User', 'User', 'User', 'User', 'User', 'User', 'User', 'User', 'User', 'User', 'User', 'User', 'User', 'User', 'User', 'User', 'User', 'User', 'User', 'User', 'User'])\n",
      "('wsooubbcxxxcfgggvof', ['wsooubbcxxxcfgggvof', 'wsooubbcxxxcfgggvof', 'wsooubbcxxxcfgggvof', 'wsooubbcxxxcfgggvof'])\n"
     ]
    }
   ],
   "source": [
    "for item in iter.groupby(repo_types):\n",
    "    print((item[0], list(item[1])))"
   ]
  },
  {
   "cell_type": "code",
   "execution_count": 42,
   "id": "1eaf6f71",
   "metadata": {},
   "outputs": [
    {
     "data": {
      "text/plain": [
       "[('Organization', 7), ('User', 93)]"
      ]
     },
     "execution_count": 42,
     "metadata": {},
     "output_type": "execute_result"
    }
   ],
   "source": [
    "list(map(lambda item: (item[0], len(list(item[1]))), iter.groupby(repo_types)))"
   ]
  },
  {
   "cell_type": "markdown",
   "id": "3555f780",
   "metadata": {},
   "source": [
    "* Sort the data by owner type and then by id. Ensure that data is sorted by id as numeric."
   ]
  },
  {
   "cell_type": "code",
   "execution_count": 43,
   "id": "fe81c0e1",
   "metadata": {},
   "outputs": [
    {
     "data": {
      "text/plain": [
       "{'id': 370,\n",
       " 'node_id': 'MDEwOlJlcG9zaXRvcnkzNzA=',\n",
       " 'name': 'imap_authenticatable',\n",
       " 'full_name': 'collectiveidea/imap_authenticatable',\n",
       " 'private': False,\n",
       " 'owner': {'login': 'collectiveidea',\n",
       "  'id': 128,\n",
       "  'node_id': 'MDEyOk9yZ2FuaXphdGlvbjEyOA==',\n",
       "  'avatar_url': 'https://avatars.githubusercontent.com/u/128?v=4',\n",
       "  'gravatar_id': '',\n",
       "  'url': 'https://api.github.com/users/collectiveidea',\n",
       "  'html_url': 'https://github.com/collectiveidea',\n",
       "  'followers_url': 'https://api.github.com/users/collectiveidea/followers',\n",
       "  'following_url': 'https://api.github.com/users/collectiveidea/following{/other_user}',\n",
       "  'gists_url': 'https://api.github.com/users/collectiveidea/gists{/gist_id}',\n",
       "  'starred_url': 'https://api.github.com/users/collectiveidea/starred{/owner}{/repo}',\n",
       "  'subscriptions_url': 'https://api.github.com/users/collectiveidea/subscriptions',\n",
       "  'organizations_url': 'https://api.github.com/users/collectiveidea/orgs',\n",
       "  'repos_url': 'https://api.github.com/users/collectiveidea/repos',\n",
       "  'events_url': 'https://api.github.com/users/collectiveidea/events{/privacy}',\n",
       "  'received_events_url': 'https://api.github.com/users/collectiveidea/received_events',\n",
       "  'type': 'Organization',\n",
       "  'site_admin': False},\n",
       " 'html_url': 'https://github.com/collectiveidea/imap_authenticatable',\n",
       " 'description': 'Authenticate your Rails app using any IMAP server!',\n",
       " 'fork': False,\n",
       " 'url': 'https://api.github.com/repos/collectiveidea/imap_authenticatable',\n",
       " 'forks_url': 'https://api.github.com/repos/collectiveidea/imap_authenticatable/forks',\n",
       " 'keys_url': 'https://api.github.com/repos/collectiveidea/imap_authenticatable/keys{/key_id}',\n",
       " 'collaborators_url': 'https://api.github.com/repos/collectiveidea/imap_authenticatable/collaborators{/collaborator}',\n",
       " 'teams_url': 'https://api.github.com/repos/collectiveidea/imap_authenticatable/teams',\n",
       " 'hooks_url': 'https://api.github.com/repos/collectiveidea/imap_authenticatable/hooks',\n",
       " 'issue_events_url': 'https://api.github.com/repos/collectiveidea/imap_authenticatable/issues/events{/number}',\n",
       " 'events_url': 'https://api.github.com/repos/collectiveidea/imap_authenticatable/events',\n",
       " 'assignees_url': 'https://api.github.com/repos/collectiveidea/imap_authenticatable/assignees{/user}',\n",
       " 'branches_url': 'https://api.github.com/repos/collectiveidea/imap_authenticatable/branches{/branch}',\n",
       " 'tags_url': 'https://api.github.com/repos/collectiveidea/imap_authenticatable/tags',\n",
       " 'blobs_url': 'https://api.github.com/repos/collectiveidea/imap_authenticatable/git/blobs{/sha}',\n",
       " 'git_tags_url': 'https://api.github.com/repos/collectiveidea/imap_authenticatable/git/tags{/sha}',\n",
       " 'git_refs_url': 'https://api.github.com/repos/collectiveidea/imap_authenticatable/git/refs{/sha}',\n",
       " 'trees_url': 'https://api.github.com/repos/collectiveidea/imap_authenticatable/git/trees{/sha}',\n",
       " 'statuses_url': 'https://api.github.com/repos/collectiveidea/imap_authenticatable/statuses/{sha}',\n",
       " 'languages_url': 'https://api.github.com/repos/collectiveidea/imap_authenticatable/languages',\n",
       " 'stargazers_url': 'https://api.github.com/repos/collectiveidea/imap_authenticatable/stargazers',\n",
       " 'contributors_url': 'https://api.github.com/repos/collectiveidea/imap_authenticatable/contributors',\n",
       " 'subscribers_url': 'https://api.github.com/repos/collectiveidea/imap_authenticatable/subscribers',\n",
       " 'subscription_url': 'https://api.github.com/repos/collectiveidea/imap_authenticatable/subscription',\n",
       " 'commits_url': 'https://api.github.com/repos/collectiveidea/imap_authenticatable/commits{/sha}',\n",
       " 'git_commits_url': 'https://api.github.com/repos/collectiveidea/imap_authenticatable/git/commits{/sha}',\n",
       " 'comments_url': 'https://api.github.com/repos/collectiveidea/imap_authenticatable/comments{/number}',\n",
       " 'issue_comment_url': 'https://api.github.com/repos/collectiveidea/imap_authenticatable/issues/comments{/number}',\n",
       " 'contents_url': 'https://api.github.com/repos/collectiveidea/imap_authenticatable/contents/{+path}',\n",
       " 'compare_url': 'https://api.github.com/repos/collectiveidea/imap_authenticatable/compare/{base}...{head}',\n",
       " 'merges_url': 'https://api.github.com/repos/collectiveidea/imap_authenticatable/merges',\n",
       " 'archive_url': 'https://api.github.com/repos/collectiveidea/imap_authenticatable/{archive_format}{/ref}',\n",
       " 'downloads_url': 'https://api.github.com/repos/collectiveidea/imap_authenticatable/downloads',\n",
       " 'issues_url': 'https://api.github.com/repos/collectiveidea/imap_authenticatable/issues{/number}',\n",
       " 'pulls_url': 'https://api.github.com/repos/collectiveidea/imap_authenticatable/pulls{/number}',\n",
       " 'milestones_url': 'https://api.github.com/repos/collectiveidea/imap_authenticatable/milestones{/number}',\n",
       " 'notifications_url': 'https://api.github.com/repos/collectiveidea/imap_authenticatable/notifications{?since,all,participating}',\n",
       " 'labels_url': 'https://api.github.com/repos/collectiveidea/imap_authenticatable/labels{/name}',\n",
       " 'releases_url': 'https://api.github.com/repos/collectiveidea/imap_authenticatable/releases{/id}',\n",
       " 'deployments_url': 'https://api.github.com/repos/collectiveidea/imap_authenticatable/deployments'}"
      ]
     },
     "execution_count": 43,
     "metadata": {},
     "output_type": "execute_result"
    }
   ],
   "source": [
    "repo"
   ]
  },
  {
   "cell_type": "code",
   "execution_count": 44,
   "id": "b6e28724",
   "metadata": {},
   "outputs": [
    {
     "data": {
      "text/plain": [
       "int"
      ]
     },
     "execution_count": 44,
     "metadata": {},
     "output_type": "execute_result"
    }
   ],
   "source": [
    "type(repo['id'])"
   ]
  },
  {
   "cell_type": "code",
   "execution_count": null,
   "id": "7679b6e1",
   "metadata": {},
   "outputs": [],
   "source": [
    "sorted(repos, key=lambda repo: (repo['owner']['type'], repo['id']))"
   ]
  },
  {
   "cell_type": "code",
   "execution_count": null,
   "id": "b66ce98d",
   "metadata": {},
   "outputs": [],
   "source": []
  }
 ],
 "metadata": {
  "kernelspec": {
   "display_name": "Python 3",
   "language": "python",
   "name": "python3"
  },
  "language_info": {
   "codemirror_mode": {
    "name": "ipython",
    "version": 3
   },
   "file_extension": ".py",
   "mimetype": "text/x-python",
   "name": "python",
   "nbconvert_exporter": "python",
   "pygments_lexer": "ipython3",
   "version": "3.6.12"
  }
 },
 "nbformat": 4,
 "nbformat_minor": 5
}
