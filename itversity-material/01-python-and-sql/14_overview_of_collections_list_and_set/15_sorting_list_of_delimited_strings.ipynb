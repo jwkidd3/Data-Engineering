{
 "cells": [
  {
   "cell_type": "markdown",
   "id": "be83a4d9",
   "metadata": {},
   "source": [
    "## Sorting list of delimited strings\n",
    "\n",
    "Let us perform a task to sort employees based upon their salary using employees list.\n",
    "* We will create employee list in the form of comma separated or delimited strings.\n",
    "* Employee list will contain employee id, email and salary."
   ]
  },
  {
   "cell_type": "code",
   "execution_count": 1,
   "id": "f1290c37",
   "metadata": {},
   "outputs": [],
   "source": [
    "employees = [\n",
    "    '1,ktrett0@independent.co.uk,6998.95',\n",
    "    '2,khaddock1@deviantart.com,10572.4',\n",
    "    '3,ecraft2@dell.com,3967.35',\n",
    "    '4,drussam3@t-online.de,17672.44',\n",
    "    '5,graigatt4@github.io,11660.67',\n",
    "    '6,bjaxon5@salon.com,18614.93',\n",
    "    '7,araulston6@list-manage.com,11550.75',\n",
    "    '8,mcobb7@mozilla.com,17016.15',\n",
    "    '9,grobardley8@unesco.org,14141.25',\n",
    "    '10,bbuye9@vkontakte.ru,12193.2'\n",
    "]"
   ]
  },
  {
   "cell_type": "code",
   "execution_count": 2,
   "id": "03ca4f08",
   "metadata": {},
   "outputs": [
    {
     "data": {
      "text/plain": [
       "list"
      ]
     },
     "execution_count": 2,
     "metadata": {},
     "output_type": "execute_result"
    }
   ],
   "source": [
    "type(employees)"
   ]
  },
  {
   "cell_type": "code",
   "execution_count": 3,
   "id": "7eaa0633",
   "metadata": {},
   "outputs": [
    {
     "data": {
      "text/plain": [
       "'1,ktrett0@independent.co.uk,6998.95'"
      ]
     },
     "execution_count": 3,
     "metadata": {},
     "output_type": "execute_result"
    }
   ],
   "source": [
    "employees[0]"
   ]
  },
  {
   "cell_type": "markdown",
   "id": "9f9b477c",
   "metadata": {},
   "source": [
    "* We need to sort the data by comparing salaries between employees.\n",
    "* We can define custom comparison logic using `key` argument.\n",
    "* Each element or record in the list is comma seperated.\n",
    "* We need to extract the salary as float for right comparison.\n",
    "* Here is how we can extract the salary."
   ]
  },
  {
   "cell_type": "code",
   "execution_count": 4,
   "id": "d53246d4",
   "metadata": {},
   "outputs": [
    {
     "data": {
      "text/plain": [
       "'1,ktrett0@independent.co.uk,6998.95'"
      ]
     },
     "execution_count": 4,
     "metadata": {},
     "output_type": "execute_result"
    }
   ],
   "source": [
    "# Reading first element\n",
    "employees[0]"
   ]
  },
  {
   "cell_type": "code",
   "execution_count": 5,
   "id": "1b671574",
   "metadata": {},
   "outputs": [],
   "source": [
    "emp = employees[0]"
   ]
  },
  {
   "cell_type": "code",
   "execution_count": 6,
   "id": "ff7f36a7",
   "metadata": {},
   "outputs": [
    {
     "data": {
      "text/plain": [
       "str"
      ]
     },
     "execution_count": 6,
     "metadata": {},
     "output_type": "execute_result"
    }
   ],
   "source": [
    "type(emp)"
   ]
  },
  {
   "cell_type": "code",
   "execution_count": 7,
   "id": "ffb605aa",
   "metadata": {},
   "outputs": [
    {
     "data": {
      "text/plain": [
       "'1,ktrett0@independent.co.uk,6998.95'"
      ]
     },
     "execution_count": 7,
     "metadata": {},
     "output_type": "execute_result"
    }
   ],
   "source": [
    "emp"
   ]
  },
  {
   "cell_type": "code",
   "execution_count": 8,
   "id": "7fc92da7",
   "metadata": {},
   "outputs": [
    {
     "data": {
      "text/plain": [
       "['1', 'ktrett0@independent.co.uk', '6998.95']"
      ]
     },
     "execution_count": 8,
     "metadata": {},
     "output_type": "execute_result"
    }
   ],
   "source": [
    "# We can use split with ',' as delimiter.\n",
    "# It will create a list of strings.\n",
    "# The list contains 3 elements - id, email and salary\n",
    "# All 3 will be of type string\n",
    "emp.split(',')"
   ]
  },
  {
   "cell_type": "code",
   "execution_count": 9,
   "id": "83de59a7",
   "metadata": {},
   "outputs": [],
   "source": [
    "emp_list = emp.split(',')"
   ]
  },
  {
   "cell_type": "code",
   "execution_count": 10,
   "id": "f0bb58ea",
   "metadata": {},
   "outputs": [
    {
     "data": {
      "text/plain": [
       "list"
      ]
     },
     "execution_count": 10,
     "metadata": {},
     "output_type": "execute_result"
    }
   ],
   "source": [
    "type(emp_list)"
   ]
  },
  {
   "cell_type": "code",
   "execution_count": 11,
   "id": "e19c3ef8",
   "metadata": {},
   "outputs": [
    {
     "data": {
      "text/plain": [
       "['1', 'ktrett0@independent.co.uk', '6998.95']"
      ]
     },
     "execution_count": 11,
     "metadata": {},
     "output_type": "execute_result"
    }
   ],
   "source": [
    "emp_list"
   ]
  },
  {
   "cell_type": "code",
   "execution_count": 12,
   "id": "35c14d8f",
   "metadata": {},
   "outputs": [
    {
     "name": "stdout",
     "output_type": "stream",
     "text": [
      "Data type of 1 is <class 'str'>\n",
      "Data type of ktrett0@independent.co.uk is <class 'str'>\n",
      "Data type of 6998.95 is <class 'str'>\n"
     ]
    }
   ],
   "source": [
    "for e in emp_list:\n",
    "    print(f'Data type of {e} is {type(e)}')"
   ]
  },
  {
   "cell_type": "code",
   "execution_count": 13,
   "id": "b89e0066",
   "metadata": {},
   "outputs": [
    {
     "data": {
      "text/plain": [
       "'6998.95'"
      ]
     },
     "execution_count": 13,
     "metadata": {},
     "output_type": "execute_result"
    }
   ],
   "source": [
    "# Getting salary\n",
    "emp_list[2]"
   ]
  },
  {
   "cell_type": "code",
   "execution_count": 14,
   "id": "7d99d0de",
   "metadata": {},
   "outputs": [
    {
     "data": {
      "text/plain": [
       "'6998.95'"
      ]
     },
     "execution_count": 14,
     "metadata": {},
     "output_type": "execute_result"
    }
   ],
   "source": [
    "# We can also -1 to read from the last\n",
    "emp_list[-1]"
   ]
  },
  {
   "cell_type": "code",
   "execution_count": 15,
   "id": "c79cc8c3",
   "metadata": {},
   "outputs": [
    {
     "data": {
      "text/plain": [
       "6998.95"
      ]
     },
     "execution_count": 15,
     "metadata": {},
     "output_type": "execute_result"
    }
   ],
   "source": [
    "# We need to change the data type to float or decimal for right comparison.\n",
    "float(emp_list[-1])"
   ]
  },
  {
   "cell_type": "code",
   "execution_count": 16,
   "id": "7c27bf24",
   "metadata": {},
   "outputs": [
    {
     "data": {
      "text/plain": [
       "6998.95"
      ]
     },
     "execution_count": 16,
     "metadata": {},
     "output_type": "execute_result"
    }
   ],
   "source": [
    "# Complete logic\n",
    "float(emp.split(',')[-1])"
   ]
  },
  {
   "cell_type": "code",
   "execution_count": 17,
   "id": "f21836c2",
   "metadata": {},
   "outputs": [
    {
     "data": {
      "text/plain": [
       "['3,ecraft2@dell.com,3967.35',\n",
       " '1,ktrett0@independent.co.uk,6998.95',\n",
       " '2,khaddock1@deviantart.com,10572.4',\n",
       " '7,araulston6@list-manage.com,11550.75',\n",
       " '5,graigatt4@github.io,11660.67',\n",
       " '10,bbuye9@vkontakte.ru,12193.2',\n",
       " '9,grobardley8@unesco.org,14141.25',\n",
       " '8,mcobb7@mozilla.com,17016.15',\n",
       " '4,drussam3@t-online.de,17672.44',\n",
       " '6,bjaxon5@salon.com,18614.93']"
      ]
     },
     "execution_count": 17,
     "metadata": {},
     "output_type": "execute_result"
    }
   ],
   "source": [
    "# We can pass the comparison logic to key function in sorted\n",
    "# You can see the output. It is sorted in ascending order by salary.\n",
    "sorted(employees, key=lambda emp: float(emp.split(',')[-1]))"
   ]
  },
  {
   "cell_type": "code",
   "execution_count": 18,
   "id": "ed76cfde",
   "metadata": {},
   "outputs": [
    {
     "data": {
      "text/plain": [
       "['6,bjaxon5@salon.com,18614.93',\n",
       " '4,drussam3@t-online.de,17672.44',\n",
       " '8,mcobb7@mozilla.com,17016.15',\n",
       " '9,grobardley8@unesco.org,14141.25',\n",
       " '10,bbuye9@vkontakte.ru,12193.2',\n",
       " '5,graigatt4@github.io,11660.67',\n",
       " '7,araulston6@list-manage.com,11550.75',\n",
       " '2,khaddock1@deviantart.com,10572.4',\n",
       " '1,ktrett0@independent.co.uk,6998.95',\n",
       " '3,ecraft2@dell.com,3967.35']"
      ]
     },
     "execution_count": 18,
     "metadata": {},
     "output_type": "execute_result"
    }
   ],
   "source": [
    "# You can reverse by using reverse keywork argument\n",
    "# reverse will be applied on custom comparison passed as part of key\n",
    "sorted(employees, key=lambda emp: float(emp.split(',')[-1]), reverse=True)"
   ]
  },
  {
   "cell_type": "code",
   "execution_count": 19,
   "id": "a4f98199",
   "metadata": {},
   "outputs": [],
   "source": [
    "employees.sort(key=lambda emp: float(emp.split(',')[-1]))"
   ]
  },
  {
   "cell_type": "code",
   "execution_count": 20,
   "id": "b2554048",
   "metadata": {},
   "outputs": [
    {
     "data": {
      "text/plain": [
       "['3,ecraft2@dell.com,3967.35',\n",
       " '1,ktrett0@independent.co.uk,6998.95',\n",
       " '2,khaddock1@deviantart.com,10572.4',\n",
       " '7,araulston6@list-manage.com,11550.75',\n",
       " '5,graigatt4@github.io,11660.67',\n",
       " '10,bbuye9@vkontakte.ru,12193.2',\n",
       " '9,grobardley8@unesco.org,14141.25',\n",
       " '8,mcobb7@mozilla.com,17016.15',\n",
       " '4,drussam3@t-online.de,17672.44',\n",
       " '6,bjaxon5@salon.com,18614.93']"
      ]
     },
     "execution_count": 20,
     "metadata": {},
     "output_type": "execute_result"
    }
   ],
   "source": [
    "employees"
   ]
  },
  {
   "cell_type": "code",
   "execution_count": 21,
   "id": "444e8099",
   "metadata": {},
   "outputs": [],
   "source": [
    "employees.sort(key=lambda emp: float(emp.split(',')[-1]), reverse=True)"
   ]
  },
  {
   "cell_type": "code",
   "execution_count": 22,
   "id": "b20cdd49",
   "metadata": {},
   "outputs": [
    {
     "data": {
      "text/plain": [
       "['6,bjaxon5@salon.com,18614.93',\n",
       " '4,drussam3@t-online.de,17672.44',\n",
       " '8,mcobb7@mozilla.com,17016.15',\n",
       " '9,grobardley8@unesco.org,14141.25',\n",
       " '10,bbuye9@vkontakte.ru,12193.2',\n",
       " '5,graigatt4@github.io,11660.67',\n",
       " '7,araulston6@list-manage.com,11550.75',\n",
       " '2,khaddock1@deviantart.com,10572.4',\n",
       " '1,ktrett0@independent.co.uk,6998.95',\n",
       " '3,ecraft2@dell.com,3967.35']"
      ]
     },
     "execution_count": 22,
     "metadata": {},
     "output_type": "execute_result"
    }
   ],
   "source": [
    "employees"
   ]
  },
  {
   "cell_type": "code",
   "execution_count": 23,
   "id": "ce7a7cca",
   "metadata": {},
   "outputs": [],
   "source": [
    "employees = [\n",
    "    '1,ktrett0@independent.co.uk,6998.95',\n",
    "    '2,khaddock1@deviantart.com,10572.4',\n",
    "    '3,ecraft2@dell.com,3967.35',\n",
    "    '4,drussam3@t-online.de,17672.44',\n",
    "    '5,graigatt4@github.io,11660.67',\n",
    "    '6,bjaxon5@salon.com,18614.93',\n",
    "    '7,araulston6@list-manage.com,11550.75',\n",
    "    '8,mcobb7@mozilla.com,17016.15',\n",
    "    '9,grobardley8@unesco.org,14141.25',\n",
    "    '10,bbuye9@vkontakte.ru,12193.2'\n",
    "]"
   ]
  },
  {
   "cell_type": "code",
   "execution_count": 24,
   "id": "2df8222f",
   "metadata": {},
   "outputs": [
    {
     "data": {
      "text/plain": [
       "['1,ktrett0@independent.co.uk,6998.95',\n",
       " '3,ecraft2@dell.com,3967.35',\n",
       " '6,bjaxon5@salon.com,18614.93',\n",
       " '4,drussam3@t-online.de,17672.44',\n",
       " '8,mcobb7@mozilla.com,17016.15',\n",
       " '9,grobardley8@unesco.org,14141.25',\n",
       " '10,bbuye9@vkontakte.ru,12193.2',\n",
       " '5,graigatt4@github.io,11660.67',\n",
       " '7,araulston6@list-manage.com,11550.75',\n",
       " '2,khaddock1@deviantart.com,10572.4']"
      ]
     },
     "execution_count": 24,
     "metadata": {},
     "output_type": "execute_result"
    }
   ],
   "source": [
    "sorted(employees, key=lambda emp: emp.split(',')[-1], reverse=True)"
   ]
  },
  {
   "cell_type": "code",
   "execution_count": 25,
   "id": "1bff1629",
   "metadata": {},
   "outputs": [
    {
     "data": {
      "text/plain": [
       "True"
      ]
     },
     "execution_count": 25,
     "metadata": {},
     "output_type": "execute_result"
    }
   ],
   "source": [
    "'6' > '18614'"
   ]
  },
  {
   "cell_type": "code",
   "execution_count": null,
   "id": "2f31f429",
   "metadata": {},
   "outputs": [],
   "source": []
  }
 ],
 "metadata": {
  "kernelspec": {
   "display_name": "Python 3",
   "language": "python",
   "name": "python3"
  },
  "language_info": {
   "codemirror_mode": {
    "name": "ipython",
    "version": 3
   },
   "file_extension": ".py",
   "mimetype": "text/x-python",
   "name": "python",
   "nbconvert_exporter": "python",
   "pygments_lexer": "ipython3",
   "version": "3.6.12"
  }
 },
 "nbformat": 4,
 "nbformat_minor": 5
}
