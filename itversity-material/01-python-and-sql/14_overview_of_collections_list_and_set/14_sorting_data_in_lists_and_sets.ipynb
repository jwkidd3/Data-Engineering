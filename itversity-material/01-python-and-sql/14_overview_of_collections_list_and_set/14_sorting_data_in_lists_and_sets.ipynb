{
 "cells": [
  {
   "cell_type": "markdown",
   "id": "a2d3d3f7",
   "metadata": {},
   "source": [
    "## Sorting Data in lists and sets\n",
    "\n",
    "Let us go through the details about sorting data in lists and sets.\n",
    "* We can use `sorted` function to sort any collection - list, set, dict or tuple. For now, let's focus on list and set.\n",
    "* `sorted` always returns a new list. We typically assign it to a new variable to process the newly created sorted list further.\n",
    "* On top of `list`, we can also invoke `sort` function. While `sorted` creates new list, `sort` will update the existing list. The sorting done by `sort` is also known as **inplace** sorting.\n",
    "* While `sorted` returns a new list, `sort` on top of list returns nothing.\n",
    "* Both `sorted` and `sort` takes same arguments.\n",
    "* We can use `reverse` to sort in reverse order.\n",
    "* We can also sort the data based upon comparison logic passed using `key` argument.\n",
    "* We use `sorted` more often than `list.sort` for following reasons.\n",
    "  * `sorted` can be used on all types of collections - list, set, dict, tuple or any other collection type.\n",
    "  * The original collection will not be touched.\n",
    "  * We can pass `sorted` function to other functions as part of chained calling. For example if we would like to get unique records after sorting, we can say `set(sorted(l))`. It is not possible with `list.sort`"
   ]
  },
  {
   "cell_type": "code",
   "execution_count": 1,
   "id": "cb890c8e",
   "metadata": {},
   "outputs": [
    {
     "data": {
      "text/plain": [
       "\u001b[0;31mSignature:\u001b[0m \u001b[0msorted\u001b[0m\u001b[0;34m(\u001b[0m\u001b[0miterable\u001b[0m\u001b[0;34m,\u001b[0m \u001b[0;34m/\u001b[0m\u001b[0;34m,\u001b[0m \u001b[0;34m*\u001b[0m\u001b[0;34m,\u001b[0m \u001b[0mkey\u001b[0m\u001b[0;34m=\u001b[0m\u001b[0;32mNone\u001b[0m\u001b[0;34m,\u001b[0m \u001b[0mreverse\u001b[0m\u001b[0;34m=\u001b[0m\u001b[0;32mFalse\u001b[0m\u001b[0;34m)\u001b[0m\u001b[0;34m\u001b[0m\u001b[0;34m\u001b[0m\u001b[0m\n",
       "\u001b[0;31mDocstring:\u001b[0m\n",
       "Return a new list containing all items from the iterable in ascending order.\n",
       "\n",
       "A custom key function can be supplied to customize the sort order, and the\n",
       "reverse flag can be set to request the result in descending order.\n",
       "\u001b[0;31mType:\u001b[0m      builtin_function_or_method\n"
      ]
     },
     "metadata": {},
     "output_type": "display_data"
    }
   ],
   "source": [
    "# Run this to see the syntax of sorted\n",
    "sorted?"
   ]
  },
  {
   "cell_type": "code",
   "execution_count": 2,
   "id": "3ea5f212",
   "metadata": {},
   "outputs": [
    {
     "data": {
      "text/plain": [
       "\u001b[0;31mDocstring:\u001b[0m L.sort(key=None, reverse=False) -> None -- stable sort *IN PLACE*\n",
       "\u001b[0;31mType:\u001b[0m      method_descriptor\n"
      ]
     },
     "metadata": {},
     "output_type": "display_data"
    }
   ],
   "source": [
    "# Run this to see the syntax of sort function\n",
    "list.sort?"
   ]
  },
  {
   "cell_type": "markdown",
   "id": "419944b3",
   "metadata": {},
   "source": [
    "* Sorting a simple list using `sorted`"
   ]
  },
  {
   "cell_type": "code",
   "execution_count": 4,
   "id": "572f72cd",
   "metadata": {},
   "outputs": [],
   "source": [
    "l = [1, 3, 2, 6, 4]"
   ]
  },
  {
   "cell_type": "code",
   "execution_count": 5,
   "id": "37caeb44",
   "metadata": {},
   "outputs": [
    {
     "data": {
      "text/plain": [
       "[1, 2, 3, 4, 6]"
      ]
     },
     "execution_count": 5,
     "metadata": {},
     "output_type": "execute_result"
    }
   ],
   "source": [
    "sorted(l)"
   ]
  },
  {
   "cell_type": "code",
   "execution_count": 6,
   "id": "56d35f3d",
   "metadata": {},
   "outputs": [
    {
     "data": {
      "text/plain": [
       "list"
      ]
     },
     "execution_count": 6,
     "metadata": {},
     "output_type": "execute_result"
    }
   ],
   "source": [
    "type(sorted(l))"
   ]
  },
  {
   "cell_type": "code",
   "execution_count": 7,
   "id": "0ea07fb0",
   "metadata": {},
   "outputs": [
    {
     "data": {
      "text/plain": [
       "[1, 3, 2, 6, 4]"
      ]
     },
     "execution_count": 7,
     "metadata": {},
     "output_type": "execute_result"
    }
   ],
   "source": [
    "# l did not change\n",
    "l"
   ]
  },
  {
   "cell_type": "code",
   "execution_count": 8,
   "id": "3cb16ba3",
   "metadata": {},
   "outputs": [],
   "source": [
    "# Typical usage for further processing\n",
    "l_sorted = sorted(l)"
   ]
  },
  {
   "cell_type": "code",
   "execution_count": 9,
   "id": "89f4eee0",
   "metadata": {},
   "outputs": [
    {
     "data": {
      "text/plain": [
       "list"
      ]
     },
     "execution_count": 9,
     "metadata": {},
     "output_type": "execute_result"
    }
   ],
   "source": [
    "type(l_sorted)"
   ]
  },
  {
   "cell_type": "code",
   "execution_count": 10,
   "id": "8f4b2243",
   "metadata": {},
   "outputs": [
    {
     "data": {
      "text/plain": [
       "[1, 2, 3, 4, 6]"
      ]
     },
     "execution_count": 10,
     "metadata": {},
     "output_type": "execute_result"
    }
   ],
   "source": [
    "l_sorted"
   ]
  },
  {
   "cell_type": "code",
   "execution_count": 11,
   "id": "f269f908",
   "metadata": {},
   "outputs": [
    {
     "data": {
      "text/plain": [
       "[6, 4, 3, 2, 1]"
      ]
     },
     "execution_count": 11,
     "metadata": {},
     "output_type": "execute_result"
    }
   ],
   "source": [
    "sorted(l, reverse=True)"
   ]
  },
  {
   "cell_type": "markdown",
   "id": "2cff75b9",
   "metadata": {},
   "source": [
    "* Sorting a simple list using `sort`"
   ]
  },
  {
   "cell_type": "code",
   "execution_count": 12,
   "id": "a5d2eeee",
   "metadata": {},
   "outputs": [],
   "source": [
    "l = [1, 3, 2, 6, 4]"
   ]
  },
  {
   "cell_type": "code",
   "execution_count": 13,
   "id": "f3c9c292",
   "metadata": {},
   "outputs": [
    {
     "data": {
      "text/plain": [
       "[1, 3, 2, 6, 4]"
      ]
     },
     "execution_count": 13,
     "metadata": {},
     "output_type": "execute_result"
    }
   ],
   "source": [
    "l"
   ]
  },
  {
   "cell_type": "code",
   "execution_count": 14,
   "id": "caafd3cd",
   "metadata": {},
   "outputs": [],
   "source": [
    "# We typically don't assign to another variable.\n",
    "l.sort()"
   ]
  },
  {
   "cell_type": "code",
   "execution_count": 15,
   "id": "fd2c2da2",
   "metadata": {},
   "outputs": [
    {
     "data": {
      "text/plain": [
       "NoneType"
      ]
     },
     "execution_count": 15,
     "metadata": {},
     "output_type": "execute_result"
    }
   ],
   "source": [
    "type(l.sort())"
   ]
  },
  {
   "cell_type": "code",
   "execution_count": 16,
   "id": "84988a97",
   "metadata": {},
   "outputs": [
    {
     "data": {
      "text/plain": [
       "[1, 2, 3, 4, 6]"
      ]
     },
     "execution_count": 16,
     "metadata": {},
     "output_type": "execute_result"
    }
   ],
   "source": [
    "l"
   ]
  },
  {
   "cell_type": "markdown",
   "id": "e5d95da9",
   "metadata": {},
   "source": [
    "* Sorting a set using `sort`"
   ]
  },
  {
   "cell_type": "code",
   "execution_count": 17,
   "id": "c8a2cf75",
   "metadata": {},
   "outputs": [],
   "source": [
    "s = {1, 4, 2}"
   ]
  },
  {
   "cell_type": "code",
   "execution_count": 18,
   "id": "d2bc1407",
   "metadata": {},
   "outputs": [
    {
     "data": {
      "text/plain": [
       "{1, 2, 4}"
      ]
     },
     "execution_count": 18,
     "metadata": {},
     "output_type": "execute_result"
    }
   ],
   "source": [
    "s"
   ]
  },
  {
   "cell_type": "code",
   "execution_count": 19,
   "id": "6fdf8db3",
   "metadata": {},
   "outputs": [
    {
     "ename": "AttributeError",
     "evalue": "'set' object has no attribute 'sort'",
     "output_type": "error",
     "traceback": [
      "\u001b[0;31m---------------------------------------------------------------------------\u001b[0m",
      "\u001b[0;31mAttributeError\u001b[0m                            Traceback (most recent call last)",
      "\u001b[0;32m<ipython-input-19-8c19ca0fcce4>\u001b[0m in \u001b[0;36m<module>\u001b[0;34m\u001b[0m\n\u001b[1;32m      1\u001b[0m \u001b[0;31m# This will fail as sort is available only on top of list but not set\u001b[0m\u001b[0;34m\u001b[0m\u001b[0;34m\u001b[0m\u001b[0;34m\u001b[0m\u001b[0m\n\u001b[0;32m----> 2\u001b[0;31m \u001b[0ms\u001b[0m\u001b[0;34m.\u001b[0m\u001b[0msort\u001b[0m\u001b[0;34m(\u001b[0m\u001b[0;34m)\u001b[0m\u001b[0;34m\u001b[0m\u001b[0;34m\u001b[0m\u001b[0m\n\u001b[0m",
      "\u001b[0;31mAttributeError\u001b[0m: 'set' object has no attribute 'sort'"
     ]
    }
   ],
   "source": [
    "# This will fail as sort is available only on top of list but not set\n",
    "s.sort()"
   ]
  },
  {
   "cell_type": "code",
   "execution_count": 20,
   "id": "f185fa5a",
   "metadata": {},
   "outputs": [
    {
     "data": {
      "text/plain": [
       "[1, 2, 4]"
      ]
     },
     "execution_count": 20,
     "metadata": {},
     "output_type": "execute_result"
    }
   ],
   "source": [
    "sorted(s)"
   ]
  },
  {
   "cell_type": "code",
   "execution_count": 21,
   "id": "2ab38b45",
   "metadata": {},
   "outputs": [
    {
     "data": {
      "text/plain": [
       "[4, 2, 1]"
      ]
     },
     "execution_count": 21,
     "metadata": {},
     "output_type": "execute_result"
    }
   ],
   "source": [
    "sorted(s, reverse=True)"
   ]
  },
  {
   "cell_type": "code",
   "execution_count": 22,
   "id": "6b3b0b10",
   "metadata": {},
   "outputs": [
    {
     "data": {
      "text/plain": [
       "list"
      ]
     },
     "execution_count": 22,
     "metadata": {},
     "output_type": "execute_result"
    }
   ],
   "source": [
    "type(sorted(s))"
   ]
  },
  {
   "cell_type": "markdown",
   "id": "280a3f87",
   "metadata": {},
   "source": [
    "* Reverse sorting of a list or a set using `sorted`. Similar process can be followed for `list.sort` as well."
   ]
  },
  {
   "cell_type": "code",
   "execution_count": 23,
   "id": "453bd48e",
   "metadata": {},
   "outputs": [],
   "source": [
    "l = [1, 3, 2, 6, 4]"
   ]
  },
  {
   "cell_type": "code",
   "execution_count": 24,
   "id": "9e597647",
   "metadata": {},
   "outputs": [
    {
     "data": {
      "text/plain": [
       "[6, 4, 3, 2, 1]"
      ]
     },
     "execution_count": 24,
     "metadata": {},
     "output_type": "execute_result"
    }
   ],
   "source": [
    "sorted(l, reverse=True)"
   ]
  },
  {
   "cell_type": "code",
   "execution_count": 25,
   "id": "0b4a4180",
   "metadata": {},
   "outputs": [],
   "source": [
    "l.sort(reverse=True)"
   ]
  },
  {
   "cell_type": "code",
   "execution_count": 26,
   "id": "de65323e",
   "metadata": {},
   "outputs": [
    {
     "data": {
      "text/plain": [
       "[6, 4, 3, 2, 1]"
      ]
     },
     "execution_count": 26,
     "metadata": {},
     "output_type": "execute_result"
    }
   ],
   "source": [
    "l"
   ]
  },
  {
   "cell_type": "code",
   "execution_count": 27,
   "id": "d30e50b2",
   "metadata": {},
   "outputs": [],
   "source": [
    "employees = [\n",
    "    '1,ktrett0@independent.co.uk,6998.95',\n",
    "    '2,khaddock1@deviantart.com,10572.4',\n",
    "    '3,ecraft2@dell.com,3967.35',\n",
    "    '4,drussam3@t-online.de,17672.44',\n",
    "    '5,graigatt4@github.io,11660.67',\n",
    "    '6,bjaxon5@salon.com,18614.93',\n",
    "    '7,araulston6@list-manage.com,11550.75',\n",
    "    '8,mcobb7@mozilla.com,17016.15',\n",
    "    '9,grobardley8@unesco.org,14141.25',\n",
    "    '10,bbuye9@vkontakte.ru,12193.2'\n",
    "]"
   ]
  },
  {
   "cell_type": "markdown",
   "id": "7aa3a588",
   "metadata": {},
   "source": [
    "* We need to sort the data by comparing salaries between employees.\n",
    "* We can define custom comparitor using `key` argument.\n",
    "* Each element or record in the list is comma seperated.\n",
    "* We need to extract the salary as float for right comparison.\n",
    "* Here is how we can extract the salary."
   ]
  },
  {
   "cell_type": "code",
   "execution_count": 28,
   "id": "a5a1f5fc",
   "metadata": {},
   "outputs": [
    {
     "data": {
      "text/plain": [
       "'1,ktrett0@independent.co.uk,6998.95'"
      ]
     },
     "execution_count": 28,
     "metadata": {},
     "output_type": "execute_result"
    }
   ],
   "source": [
    "# Reading first element\n",
    "employees[0]"
   ]
  },
  {
   "cell_type": "code",
   "execution_count": 29,
   "id": "013a4949",
   "metadata": {},
   "outputs": [],
   "source": [
    "emp = employees[0]"
   ]
  },
  {
   "cell_type": "code",
   "execution_count": 30,
   "id": "83c39d49",
   "metadata": {},
   "outputs": [
    {
     "data": {
      "text/plain": [
       "str"
      ]
     },
     "execution_count": 30,
     "metadata": {},
     "output_type": "execute_result"
    }
   ],
   "source": [
    "type(emp)"
   ]
  },
  {
   "cell_type": "code",
   "execution_count": 31,
   "id": "479bad13",
   "metadata": {},
   "outputs": [
    {
     "data": {
      "text/plain": [
       "['1', 'ktrett0@independent.co.uk', '6998.95']"
      ]
     },
     "execution_count": 31,
     "metadata": {},
     "output_type": "execute_result"
    }
   ],
   "source": [
    "# We can use split with ',' as delimiter.\n",
    "# It will create a list of strings.\n",
    "# The list contains 3 elements - id, email and salary\n",
    "# All 3 will be of type string\n",
    "emp.split(',')"
   ]
  },
  {
   "cell_type": "code",
   "execution_count": 32,
   "id": "7d2183be",
   "metadata": {},
   "outputs": [],
   "source": [
    "emp_list = emp.split(',')"
   ]
  },
  {
   "cell_type": "code",
   "execution_count": 33,
   "id": "0ce862be",
   "metadata": {},
   "outputs": [
    {
     "data": {
      "text/plain": [
       "list"
      ]
     },
     "execution_count": 33,
     "metadata": {},
     "output_type": "execute_result"
    }
   ],
   "source": [
    "type(emp_list)"
   ]
  },
  {
   "cell_type": "code",
   "execution_count": 34,
   "id": "f12013ea",
   "metadata": {},
   "outputs": [
    {
     "name": "stdout",
     "output_type": "stream",
     "text": [
      "Data type of 1 is <class 'str'>\n",
      "Data type of ktrett0@independent.co.uk is <class 'str'>\n",
      "Data type of 6998.95 is <class 'str'>\n"
     ]
    }
   ],
   "source": [
    "for e in emp_list:\n",
    "    print(f'Data type of {e} is {type(e)}')"
   ]
  },
  {
   "cell_type": "code",
   "execution_count": 35,
   "id": "7448d6cd",
   "metadata": {},
   "outputs": [
    {
     "data": {
      "text/plain": [
       "'6998.95'"
      ]
     },
     "execution_count": 35,
     "metadata": {},
     "output_type": "execute_result"
    }
   ],
   "source": [
    "# Getting salary\n",
    "emp_list[2]"
   ]
  },
  {
   "cell_type": "code",
   "execution_count": 36,
   "id": "64b5582f",
   "metadata": {},
   "outputs": [
    {
     "data": {
      "text/plain": [
       "'6998.95'"
      ]
     },
     "execution_count": 36,
     "metadata": {},
     "output_type": "execute_result"
    }
   ],
   "source": [
    "# We can also -1 to read from the last\n",
    "emp_list[-1]"
   ]
  },
  {
   "cell_type": "code",
   "execution_count": 37,
   "id": "7404e9b0",
   "metadata": {},
   "outputs": [
    {
     "data": {
      "text/plain": [
       "6998.95"
      ]
     },
     "execution_count": 37,
     "metadata": {},
     "output_type": "execute_result"
    }
   ],
   "source": [
    "# We need to change the data type to float or decimal for right comparison.\n",
    "float(emp_list[-1])"
   ]
  },
  {
   "cell_type": "code",
   "execution_count": 38,
   "id": "f1acb5ca",
   "metadata": {},
   "outputs": [
    {
     "data": {
      "text/plain": [
       "6998.95"
      ]
     },
     "execution_count": 38,
     "metadata": {},
     "output_type": "execute_result"
    }
   ],
   "source": [
    "# Complete logic\n",
    "float(emp.split(',')[-1])"
   ]
  },
  {
   "cell_type": "code",
   "execution_count": null,
   "id": "834d0f68",
   "metadata": {},
   "outputs": [],
   "source": [
    "# We can pass the comparison logic to key function in sorted\n",
    "# You can see the output. It is sorted in ascending order by salary.\n",
    "sorted(employees, key=lambda emp: float(emp.split(',')[-1]))"
   ]
  },
  {
   "cell_type": "code",
   "execution_count": null,
   "id": "6bc5e2d4",
   "metadata": {},
   "outputs": [],
   "source": [
    "# You can reverse by using reverse keywork argument\n",
    "# reverse will be applied on custom comparison passed as part of key\n",
    "sorted(employees, key=lambda emp: float(emp.split(',')[-1]), reverse=True)"
   ]
  }
 ],
 "metadata": {
  "kernelspec": {
   "display_name": "Python 3",
   "language": "python",
   "name": "python3"
  },
  "language_info": {
   "codemirror_mode": {
    "name": "ipython",
    "version": 3
   },
   "file_extension": ".py",
   "mimetype": "text/x-python",
   "name": "python",
   "nbconvert_exporter": "python",
   "pygments_lexer": "ipython3",
   "version": "3.6.12"
  }
 },
 "nbformat": 4,
 "nbformat_minor": 5
}
