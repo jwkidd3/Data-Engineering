{
 "cells": [
  {
   "cell_type": "markdown",
   "id": "4f566f3c",
   "metadata": {
    "tags": []
   },
   "source": [
    "## Exercises - Dicts and Tuples\n",
    "\n",
    "Let us go through some exercises related to dict and tuple."
   ]
  },
  {
   "cell_type": "markdown",
   "id": "bff96599",
   "metadata": {
    "tags": []
   },
   "source": [
    "### Exercise 1 - Access all the values\n",
    "\n",
    "Get the values from the below dict in the form of a list."
   ]
  },
  {
   "cell_type": "code",
   "execution_count": 104,
   "id": "44e4a04a",
   "metadata": {},
   "outputs": [],
   "source": [
    "d = {\n",
    "    'order_id': 1,\n",
    "    'order_date': '2013-07-25',\n",
    "    'order_customer_id': 100,\n",
    "    'order_status': 'COMPLETE'\n",
    "}"
   ]
  },
  {
   "cell_type": "code",
   "execution_count": 105,
   "id": "b23a1354",
   "metadata": {},
   "outputs": [],
   "source": [
    "def get_values(d):\n",
    "    l=list(d.values())\n",
    "    return l"
   ]
  },
  {
   "cell_type": "code",
   "execution_count": 26,
   "id": "0458e410",
   "metadata": {},
   "outputs": [
    {
     "name": "stdout",
     "output_type": "stream",
     "text": [
      "[1, '2013-07-25', 100, 'COMPLETE']\n"
     ]
    }
   ],
   "source": [
    "b=get_values(d) # Desired output: [1, '2013-07-25', 100, 'COMPLETE']\n",
    "print(b)"
   ]
  },
  {
   "cell_type": "code",
   "execution_count": 27,
   "id": "afcf7fca",
   "metadata": {},
   "outputs": [
    {
     "data": {
      "text/plain": [
       "list"
      ]
     },
     "execution_count": 27,
     "metadata": {},
     "output_type": "execute_result"
    }
   ],
   "source": [
    "type(get_values(d)) # list"
   ]
  },
  {
   "cell_type": "markdown",
   "id": "3a40cef1",
   "metadata": {},
   "source": [
    "### Exercise 2 - Get Data types of values\n",
    "\n",
    "Continue on previous exercise and print data type of each value returned by get_values."
   ]
  },
  {
   "cell_type": "code",
   "execution_count": 106,
   "id": "73c08d17",
   "metadata": {},
   "outputs": [
    {
     "name": "stdout",
     "output_type": "stream",
     "text": [
      "<class 'int'>\n",
      "<class 'str'>\n",
      "<class 'int'>\n",
      "<class 'str'>\n"
     ]
    }
   ],
   "source": [
    "l = get_values(d)\n",
    "for dict in l:\n",
    "    print(type(dict))"
   ]
  },
  {
   "cell_type": "markdown",
   "id": "8e206ee4",
   "metadata": {},
   "source": [
    "* As l is list, you will be able to use `for` loop to access the elements from l. Here is the desired output.\n",
    "\n",
    "```\n",
    "<class 'int'>\n",
    "<class 'str'>\n",
    "<class 'int'>\n",
    "<class 'str'>\n",
    "```"
   ]
  },
  {
   "cell_type": "code",
   "execution_count": 37,
   "id": "39c0d4d9",
   "metadata": {},
   "outputs": [
    {
     "name": "stdout",
     "output_type": "stream",
     "text": [
      "1\n",
      "2013-07-25\n",
      "100\n",
      "COMPLETE\n"
     ]
    }
   ],
   "source": [
    "for e in l: print(e)"
   ]
  },
  {
   "cell_type": "markdown",
   "id": "3f682d8c",
   "metadata": {},
   "source": [
    "### Exercise 3 - Data Type Conversion\n",
    "\n",
    "As part of the below dict object, order_date is of type string. You need to convert the data type of **order_date** to date type."
   ]
  },
  {
   "cell_type": "code",
   "execution_count": 19,
   "id": "c2d29f54",
   "metadata": {},
   "outputs": [],
   "source": [
    "d = {\n",
    "    'order_id': 1,\n",
    "    'order_date': '2013-07-25',\n",
    "    'order_customer_id': 100,\n",
    "    'order_status': 'COMPLETE'\n",
    "}"
   ]
  },
  {
   "cell_type": "code",
   "execution_count": 20,
   "id": "e83b55de",
   "metadata": {},
   "outputs": [],
   "source": [
    "from datetime import datetime as dt\n",
    "\n",
    "def convert_date_type(d):\n",
    "    order_date_str=d['order_date']\n",
    "    order_date_datetype=dt.strptime(order_date_str,'%Y-%m-%d')\n",
    "    d['order_date']=order_date_datetype\n",
    "    return d"
   ]
  },
  {
   "cell_type": "markdown",
   "id": "96224b36",
   "metadata": {},
   "source": [
    "* Run below cell to validate the output. Here is the desired output.\n",
    "\n",
    "```python\n",
    "{'order_id': 1,\n",
    " 'order_date': datetime.datetime(2013, 7, 25, 0, 0),\n",
    " 'order_customer_id': 100,\n",
    " 'order_status': 'COMPLETE'}\n",
    "```"
   ]
  },
  {
   "cell_type": "code",
   "execution_count": 21,
   "id": "97ab6e5d",
   "metadata": {},
   "outputs": [
    {
     "data": {
      "text/plain": [
       "{'order_id': 1,\n",
       " 'order_date': datetime.datetime(2013, 7, 25, 0, 0),\n",
       " 'order_customer_id': 100,\n",
       " 'order_status': 'COMPLETE'}"
      ]
     },
     "execution_count": 21,
     "metadata": {},
     "output_type": "execute_result"
    }
   ],
   "source": [
    "d_converted = convert_date_type(d)\n",
    "d_converted"
   ]
  },
  {
   "cell_type": "code",
   "execution_count": 22,
   "id": "933fcbd7",
   "metadata": {},
   "outputs": [
    {
     "data": {
      "text/plain": [
       "datetime.datetime"
      ]
     },
     "execution_count": 22,
     "metadata": {},
     "output_type": "execute_result"
    }
   ],
   "source": [
    "type(d_converted['order_date']) # Output: datetime.datetime"
   ]
  },
  {
   "cell_type": "markdown",
   "id": "36e860d3",
   "metadata": {},
   "source": [
    "### Exercise 4 - Create list of dicts\n",
    "\n",
    "Create list of dicts for the following data.\n",
    "* Each element in the list should be of type dict.\n",
    "* The dict should contain **order_item_order_id** and **order_item_subtotal** as keys.\n",
    "\n",
    "|order_item_order_id|order_item_subtotal|\n",
    "|---|---|\n",
    "|1|299.98|\n",
    "|2|199.99|\n",
    "|2|250.0|\n",
    "|2|129.99|\n",
    "|4|49.98|\n",
    "|4|299.95|\n",
    "|4|150.0|\n",
    "|4|199.92|"
   ]
  },
  {
   "cell_type": "code",
   "execution_count": 7,
   "id": "ab410a2a",
   "metadata": {},
   "outputs": [],
   "source": [
    "create_list=[{'order_item_order_id':1,'order_item_subtotal' :299.98},\n",
    "             {'order_item_order_id':2,'order_item_subtotal' :199.99},\n",
    "             {'order_item_order_id':2,'order_item_subtotal' :250.0},\n",
    "             {'order_item_order_id':2,'order_item_subtotal' :129.99},\n",
    "             {'order_item_order_id':4,'order_item_subtotal' :49.98},\n",
    "             {'order_item_order_id':4,'order_item_subtotal' :299.95},\n",
    "             {'order_item_order_id':4,'order_item_subtotal' :150.0},\n",
    "             {'order_item_order_id':4,'order_item_subtotal' :199.92}]"
   ]
  },
  {
   "cell_type": "code",
   "execution_count": 8,
   "id": "e9603aed",
   "metadata": {},
   "outputs": [
    {
     "data": {
      "text/plain": [
       "[{'order_item_order_id': 1, 'order_item_subtotal': 299.98},\n",
       " {'order_item_order_id': 2, 'order_item_subtotal': 199.99},\n",
       " {'order_item_order_id': 2, 'order_item_subtotal': 250.0},\n",
       " {'order_item_order_id': 2, 'order_item_subtotal': 129.99},\n",
       " {'order_item_order_id': 4, 'order_item_subtotal': 49.98},\n",
       " {'order_item_order_id': 4, 'order_item_subtotal': 299.95},\n",
       " {'order_item_order_id': 4, 'order_item_subtotal': 150.0},\n",
       " {'order_item_order_id': 4, 'order_item_subtotal': 199.92}]"
      ]
     },
     "execution_count": 8,
     "metadata": {},
     "output_type": "execute_result"
    }
   ],
   "source": [
    "create_list"
   ]
  },
  {
   "cell_type": "markdown",
   "id": "379b44c1",
   "metadata": {},
   "source": [
    "### Exercise 5: Dict with max value\n",
    "\n",
    "Create a dict with order id and max order item subtotal using the below dict. The below dict contains order id as key and order item subtotals list as corresponding value."
   ]
  },
  {
   "cell_type": "code",
   "execution_count": 4,
   "id": "8c3633c4",
   "metadata": {},
   "outputs": [],
   "source": [
    "order_item_subtotals = {\n",
    "    1: [299.98],\n",
    "    2: [199.99, 250.0, 129.99],\n",
    "    4: [49.98, 150.0, 199.92],\n",
    "    5: [299.98, 299.95, 99.96, 299.98, 129.99],\n",
    "    7: [199.99, 299.98, 79.95],\n",
    "    8: [179.97, 299.95, 199.92, 50.0]\n",
    "}"
   ]
  },
  {
   "cell_type": "code",
   "execution_count": 18,
   "id": "980207a6",
   "metadata": {},
   "outputs": [],
   "source": [
    "orders = []\n",
    "for oi in order_item_subtotals.items():\n",
    "    l= orders.append((oi[0], max(oi[1])))"
   ]
  },
  {
   "cell_type": "code",
   "execution_count": 33,
   "id": "3f66f6b3",
   "metadata": {},
   "outputs": [
    {
     "data": {
      "text/plain": [
       "{1: 299.98, 2: 250.0, 4: 199.92, 5: 299.98, 7: 299.98, 8: 299.95}"
      ]
     },
     "execution_count": 33,
     "metadata": {},
     "output_type": "execute_result"
    }
   ],
   "source": [
    "dict(orders)"
   ]
  },
  {
   "cell_type": "markdown",
   "id": "5b9e3d35",
   "metadata": {},
   "source": [
    "* Here is the desired output.\n",
    "\n",
    "```python\n",
    "{1: 299.98, 2: 250.0, 4: 199.92, 5: 299.98, 7: 299.98, 8: 299.95}\n",
    "```"
   ]
  },
  {
   "cell_type": "markdown",
   "id": "3586ac27",
   "metadata": {},
   "source": [
    "### Exercise 6: Dict with order revenue\n",
    "\n",
    "Create a dict with order item id and order item subtotal. The input dict will contain order item id as key and quantity along with price as value. **order item subtotal** is product of quantity and price."
   ]
  },
  {
   "cell_type": "code",
   "execution_count": 21,
   "id": "e1101390",
   "metadata": {},
   "outputs": [],
   "source": [
    "order_items = {1: (1, 299.98),\n",
    " 2: (1, 199.99),\n",
    " 3: (5, 50.0),\n",
    " 4: (1, 129.99),\n",
    " 5: (2, 24.99),\n",
    " 6: (5, 59.99),\n",
    " 7: (3, 50.0),\n",
    " 8: (4, 49.98),\n",
    " 9: (1, 299.98),\n",
    " 10: (5, 59.99)}"
   ]
  },
  {
   "cell_type": "code",
   "execution_count": 30,
   "id": "24670184",
   "metadata": {},
   "outputs": [],
   "source": [
    "orders_itm=[]\n",
    "for oi in order_items.items():\n",
    "    l=orders_itm.append((oi[0],oi[1][0]*oi[1][1]))"
   ]
  },
  {
   "cell_type": "code",
   "execution_count": 32,
   "id": "a9da23a8",
   "metadata": {},
   "outputs": [
    {
     "data": {
      "text/plain": [
       "{1: 299.98,\n",
       " 2: 199.99,\n",
       " 3: 250.0,\n",
       " 4: 129.99,\n",
       " 5: 49.98,\n",
       " 6: 299.95,\n",
       " 7: 150.0,\n",
       " 8: 199.92,\n",
       " 9: 299.98,\n",
       " 10: 299.95}"
      ]
     },
     "execution_count": 32,
     "metadata": {},
     "output_type": "execute_result"
    }
   ],
   "source": [
    "dict(orders_itm)"
   ]
  },
  {
   "cell_type": "markdown",
   "id": "ef6d3610",
   "metadata": {},
   "source": [
    "* Here is the expected output.\n",
    "\n",
    "```python\n",
    "{1: 299.98,\n",
    " 2: 199.99,\n",
    " 3: 250.0,\n",
    " 4: 129.99,\n",
    " 5: 49.98,\n",
    " 6: 299.95,\n",
    " 7: 150.0,\n",
    " 8: 199.92,\n",
    " 9: 299.98,\n",
    " 10: 299.95}\n",
    "```"
   ]
  },
  {
   "cell_type": "code",
   "execution_count": null,
   "id": "b1b66691",
   "metadata": {},
   "outputs": [],
   "source": []
  }
 ],
 "metadata": {
  "kernelspec": {
   "display_name": "Python 3",
   "language": "python",
   "name": "python3"
  },
  "language_info": {
   "codemirror_mode": {
    "name": "ipython",
    "version": 3
   },
   "file_extension": ".py",
   "mimetype": "text/x-python",
   "name": "python",
   "nbconvert_exporter": "python",
   "pygments_lexer": "ipython3",
   "version": "3.6.12"
  }
 },
 "nbformat": 4,
 "nbformat_minor": 5
}
